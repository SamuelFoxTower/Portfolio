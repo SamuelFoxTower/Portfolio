{
  "cells": [
    {
      "cell_type": "markdown",
      "metadata": {},
      "source": [
        "# Базовые алгоритмы\n",
        "\n",
        "---"
      ]
    },
    {
      "cell_type": "markdown",
      "metadata": {
        "id": "17hha2dumik9"
      },
      "source": [
        "### Бинарный поиск\n",
        "\n",
        "\n",
        "+ Сложность: О ( $\\log{_n}$ )\n",
        "\n",
        "+ Критерии: необходим отсортированный массив\n",
        "\n",
        "В случае массива из 100 элементов в цикле проходим по каждому и получаем сложность O(n), то есть 100 итераций, тогда как для бинарного поиска количество итераций будет $\\log{_2}100$ ≈ 7, отсекая на каждой итерации половину массива\n",
        "\n",
        "\n",
        "$$[0, 1, . . . 100] \\rightarrow 50 \\rightarrow 25 \\rightarrow 13 \\rightarrow 7 \\rightarrow 4 \\rightarrow 2 \\rightarrow 1$$"
      ]
    },
    {
      "cell_type": "code",
      "execution_count": 1,
      "metadata": {
        "id": "kgW_K-bftCIm"
      },
      "outputs": [],
      "source": [
        "def bin_search(arr: list, item: int) -> int:\n",
        "    \"\"\"Функция для поиска элемента бинарным поиском\"\"\"\n",
        "    low = 0\n",
        "    high = len(arr) -1\n",
        "    count = 0\n",
        "\n",
        "    while low <= high:\n",
        "        mid = (high + low) // 2\n",
        "        guess = arr[mid]\n",
        "        count += 1\n",
        "\n",
        "        if guess == item:\n",
        "            return f\"Количество итераций: {count}, элемент: {mid}\"\n",
        "\n",
        "        if guess > item:\n",
        "            high = mid - 1\n",
        "        else:\n",
        "            low = mid + 1\n",
        "\n",
        "    return None"
      ]
    },
    {
      "cell_type": "code",
      "execution_count": 2,
      "metadata": {
        "id": "y-KlLJteyjAK"
      },
      "outputs": [],
      "source": [
        "import random\n",
        "\n",
        "random.seed(1)\n",
        "lst = sorted([random.randint(0, 100) for _  in range(100)])"
      ]
    },
    {
      "cell_type": "code",
      "execution_count": 3,
      "metadata": {
        "colab": {
          "base_uri": "https://localhost:8080/",
          "height": 36
        },
        "id": "ngyNZP7-yw8H",
        "outputId": "85a08076-5e36-4e88-ff0d-b76481289b63"
      },
      "outputs": [
        {
          "data": {
            "text/plain": [
              "'Количество итераций: 4, элемент: 93'"
            ]
          },
          "execution_count": 3,
          "metadata": {},
          "output_type": "execute_result"
        }
      ],
      "source": [
        "bin_search(lst, 97)"
      ]
    },
    {
      "cell_type": "code",
      "execution_count": 4,
      "metadata": {
        "colab": {
          "base_uri": "https://localhost:8080/"
        },
        "id": "90PMBut34nA5",
        "outputId": "4112d7ca-5891-4dca-9135-a908d5b83c9a"
      },
      "outputs": [
        {
          "data": {
            "text/plain": [
              "[95, 95, 97, 97, 97, 97, 97, 98, 99, 100]"
            ]
          },
          "execution_count": 4,
          "metadata": {},
          "output_type": "execute_result"
        }
      ],
      "source": [
        "lst[90:100]"
      ]
    },
    {
      "cell_type": "markdown",
      "metadata": {},
      "source": []
    },
    {
      "cell_type": "markdown",
      "metadata": {},
      "source": [
        "---\n",
        "# LeetCode"
      ]
    },
    {
      "cell_type": "markdown",
      "metadata": {},
      "source": [
        "## Task 1"
      ]
    },
    {
      "cell_type": "markdown",
      "metadata": {},
      "source": [
        "#### 13. Roman to Integer\n",
        "\n",
        "Companies\n",
        "Roman numerals are represented by seven different symbols: I, V, X, L, C, D and M.\n",
        "\n",
        "Symbol       Value\n",
        "I             1\n",
        "V             5\n",
        "X             10\n",
        "L             50\n",
        "C             100\n",
        "D             500\n",
        "M             1000\n",
        "\n",
        "For example, 2 is written as II in Roman numeral, just two ones added together. 12 is written as XII, which is simply X + II. The number 27 is written as XXVII, which is XX + V + II.\n",
        "\n",
        "Roman numerals are usually written largest to smallest from left to right. However, the numeral for four is not IIII. Instead, the number four is written as IV. Because the one is before the five we subtract it making four. The same principle applies to the number nine, which is written as IX. There are six instances where subtraction is used:\n",
        "\n",
        "+ I can be placed before V (5) and X (10) to make 4 and 9.\n",
        "+ X can be placed before L (50) and C (100) to make 40 and 90.\n",
        "+ C can be placed before D (500) and M (1000) to make 400 and 900.\n",
        "Given a roman numeral, convert it to an integer.\n",
        "\n",
        "\n",
        "\n",
        "Example 1:\n",
        "\n",
        "+ Input: s = \"III\"\n",
        "+ Output: 3\n",
        "+ Explanation: III = 3.\n",
        "+ Example 2:\n",
        "\n",
        "+ Input: s = \"LVIII\"\n",
        "+ Output: 58\n",
        "+ Explanation: L = 50, V= 5, III = 3.\n",
        "+ Example 3:\n",
        "\n",
        "+ Input: s = \"MCMXCIV\"\n",
        "+ Output: 1994\n",
        "+ Explanation: M = 1000, CM = 900, XC = 90 and IV = 4.\n",
        "\n",
        "\n",
        "Constraints:\n",
        "\n",
        "1 <= s.length <= 15\n",
        "s contains only the characters ('I', 'V', 'X', 'L', 'C', 'D', 'M').\n",
        "It is guaranteed that s is a valid roman numeral in the range [1, 3999]."
      ]
    },
    {
      "cell_type": "code",
      "execution_count": 5,
      "metadata": {},
      "outputs": [],
      "source": [
        "class Solution(object):\n",
        "    def romanToInt(self, s):\n",
        "\n",
        "        \"\"\"\n",
        "        :type s: str\n",
        "        :rtype: int\n",
        "        \"\"\"\n",
        "        self.roman = {\n",
        "            'M': 1000,\n",
        "            'D': 500,\n",
        "            'C': 100,\n",
        "            'L': 50,\n",
        "            'X': 10,\n",
        "            'V': 5,\n",
        "            'I': 1,\n",
        "          }\n",
        "\n",
        "        if isinstance(s, int):\n",
        "\n",
        "          if s in self.roman.values():\n",
        "            return self.roman[s]\n",
        "\n",
        "\n",
        "        if isinstance(s, str):\n",
        "          roman_cifr = ''\n",
        "          for k, v in self.roman.items():\n",
        "              while s >= k:\n",
        "                if s in self.roman:\n",
        "                  return self.roman[s]"
      ]
    },
    {
      "cell_type": "code",
      "execution_count": 6,
      "metadata": {},
      "outputs": [],
      "source": [
        "def russka_roma(s):\n",
        "\n",
        "  roman = {\n",
        "         'M': 1000,\n",
        "        'CM': 900,\n",
        "         'D': 500,\n",
        "        'CD': 400,\n",
        "         'C': 100,\n",
        "        'XC': 90,\n",
        "         'L': 50,\n",
        "        'XL': 40,\n",
        "         'X': 10,\n",
        "        'IX': 9,\n",
        "         'V': 5,\n",
        "        'IV': 4,\n",
        "         'I': 1\n",
        "    }\n",
        "  roma_str = ''\n",
        "  for k, v in roman.items():\n",
        "    print(f'Ключ: {k}, значение: {v}')\n",
        "    while s >= v:\n",
        "      roma_str += k\n",
        "      s -= v\n",
        "      print(f'Входная цифра {s}')\n",
        "  return roma_str"
      ]
    },
    {
      "cell_type": "code",
      "execution_count": 7,
      "metadata": {},
      "outputs": [
        {
          "name": "stdout",
          "output_type": "stream",
          "text": [
            "Ключ: M, значение: 1000\n",
            "Ключ: CM, значение: 900\n",
            "Ключ: D, значение: 500\n",
            "Ключ: CD, значение: 400\n",
            "Ключ: C, значение: 100\n",
            "Ключ: XC, значение: 90\n",
            "Ключ: L, значение: 50\n",
            "Ключ: XL, значение: 40\n",
            "Ключ: X, значение: 10\n",
            "Входная сифра 1\n",
            "Ключ: IX, значение: 9\n",
            "Ключ: V, значение: 5\n",
            "Ключ: IV, значение: 4\n",
            "Ключ: I, значение: 1\n",
            "Входная сифра 0\n"
          ]
        },
        {
          "data": {
            "text/plain": [
              "'XI'"
            ]
          },
          "execution_count": 7,
          "metadata": {},
          "output_type": "execute_result"
        }
      ],
      "source": [
        "russka_roma(11)"
      ]
    },
    {
      "cell_type": "code",
      "execution_count": 8,
      "metadata": {},
      "outputs": [],
      "source": [
        "def intToRoman(num):\n",
        "    roman_numerals = {\n",
        "        1000: 'M',\n",
        "        900: 'CM',\n",
        "        500: 'D',\n",
        "        400: 'CD',\n",
        "        100: 'C',\n",
        "        90: 'XC',\n",
        "        50: 'L',\n",
        "        40: 'XL',\n",
        "        10: 'X',\n",
        "        9: 'IX',\n",
        "        5: 'V',\n",
        "        4: 'IV',\n",
        "        1: 'I'\n",
        "    }\n",
        "\n",
        "    roman_numeral = ''\n",
        "    for k, v in roman_numerals.items():\n",
        "        while num >= k:\n",
        "            roman_numeral += v\n",
        "            num -= k\n",
        "\n",
        "    return roman_numeral"
      ]
    },
    {
      "cell_type": "code",
      "execution_count": 9,
      "metadata": {},
      "outputs": [
        {
          "data": {
            "text/plain": [
              "'XVII'"
            ]
          },
          "execution_count": 9,
          "metadata": {},
          "output_type": "execute_result"
        }
      ],
      "source": [
        "intToRoman(17)"
      ]
    },
    {
      "cell_type": "code",
      "execution_count": null,
      "metadata": {},
      "outputs": [],
      "source": []
    },
    {
      "cell_type": "markdown",
      "metadata": {},
      "source": [
        "---"
      ]
    }
  ],
  "metadata": {
    "colab": {
      "provenance": []
    },
    "kernelspec": {
      "display_name": "Python 3",
      "name": "python3"
    },
    "language_info": {
      "codemirror_mode": {
        "name": "ipython",
        "version": 3
      },
      "file_extension": ".py",
      "mimetype": "text/x-python",
      "name": "python",
      "nbconvert_exporter": "python",
      "pygments_lexer": "ipython3",
      "version": "3.10.2"
    }
  },
  "nbformat": 4,
  "nbformat_minor": 0
}
