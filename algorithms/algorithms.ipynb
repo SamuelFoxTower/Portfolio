{
  "cells": [
    {
      "cell_type": "markdown",
      "metadata": {
        "id": "17hha2dumik9"
      },
      "source": [
        "### Бинарный поиск\n",
        "\n",
        "\n",
        "+ Сложность: О ( $\\log{_n}$ )\n",
        "\n",
        "+ Критерии: необходим отсортированный массив\n",
        "\n",
        "В случае массива из 100 элементов в цикле проходим по каждому и получаем сложность O(n), то есть 100 итераций, тогда как для бинарного поиска количество итераций будет $\\log{_2}100$ ≈ 7, отсекая на каждой итерации половину массива\n",
        "\n",
        "\n",
        "$$[0, 1, . . . 100] \\rightarrow 50 \\rightarrow 25 \\rightarrow 13 \\rightarrow 7 \\rightarrow 4 \\rightarrow 2 \\rightarrow 1$$"
      ]
    },
    {
      "cell_type": "code",
      "execution_count": null,
      "metadata": {
        "id": "kgW_K-bftCIm"
      },
      "outputs": [],
      "source": [
        "def bin_search(arr: list, item: int) -> int:\n",
        "    \"\"\"Функция для поиска элемента бинарным поиском\"\"\"\n",
        "    low = 0\n",
        "    high = len(arr) -1\n",
        "    count = 0\n",
        "\n",
        "    while low <= high:\n",
        "        mid = (high + low) // 2\n",
        "        guess = arr[mid]\n",
        "        count += 1\n",
        "\n",
        "        if guess == item:\n",
        "            return f\"Количество итераций: {count}, элемент: {mid}\"\n",
        "\n",
        "        if guess > item:\n",
        "            high = mid - 1\n",
        "        else:\n",
        "            low = mid + 1\n",
        "\n",
        "    return None"
      ]
    },
    {
      "cell_type": "code",
      "execution_count": null,
      "metadata": {
        "id": "y-KlLJteyjAK"
      },
      "outputs": [],
      "source": [
        "import random\n",
        "\n",
        "random.seed(1)\n",
        "lst = sorted([random.randint(0, 100) for _  in range(100)])"
      ]
    },
    {
      "cell_type": "code",
      "execution_count": null,
      "metadata": {
        "colab": {
          "base_uri": "https://localhost:8080/",
          "height": 36
        },
        "id": "ngyNZP7-yw8H",
        "outputId": "85a08076-5e36-4e88-ff0d-b76481289b63"
      },
      "outputs": [
        {
          "data": {
            "application/vnd.google.colaboratory.intrinsic+json": {
              "type": "string"
            },
            "text/plain": [
              "'Количество итераций: 4, элемент: 93'"
            ]
          },
          "execution_count": 118,
          "metadata": {},
          "output_type": "execute_result"
        }
      ],
      "source": [
        "bin_search(lst, 97)"
      ]
    },
    {
      "cell_type": "code",
      "execution_count": null,
      "metadata": {
        "colab": {
          "base_uri": "https://localhost:8080/"
        },
        "id": "90PMBut34nA5",
        "outputId": "4112d7ca-5891-4dca-9135-a908d5b83c9a"
      },
      "outputs": [
        {
          "data": {
            "text/plain": [
              "[95, 95, 97, 97, 97, 97, 97, 98, 99, 100]"
            ]
          },
          "execution_count": 119,
          "metadata": {},
          "output_type": "execute_result"
        }
      ],
      "source": [
        "lst[90:100]"
      ]
    },
    {
      "cell_type": "code",
      "execution_count": null,
      "metadata": {
        "id": "7WA619lUy3qP"
      },
      "outputs": [],
      "source": []
    }
  ],
  "metadata": {
    "colab": {
      "provenance": []
    },
    "kernelspec": {
      "display_name": "Python 3",
      "name": "python3"
    },
    "language_info": {
      "name": "python"
    }
  },
  "nbformat": 4,
  "nbformat_minor": 0
}
