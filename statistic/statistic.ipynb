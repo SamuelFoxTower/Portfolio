{
  "cells": [
    {
      "cell_type": "markdown",
      "metadata": {
        "id": "K5l4wVsPqTnE"
      },
      "source": [
        "# Основы статистики\n",
        "\n",
        "---"
      ]
    },
    {
      "cell_type": "markdown",
      "metadata": {
        "id": "w1vUYh7JVXst"
      },
      "source": [
        "## Математическое ожидание\n",
        "Наиболее ожидаемое значение при многократном повторении испытаний\n",
        "\n",
        "$$\\mu = \\frac{\\sum x}{n}$$\n",
        "\n"
      ]
    },
    {
      "cell_type": "markdown",
      "metadata": {
        "id": "xD5S8UYDV7tY"
      },
      "source": [
        "## Дисперсия\n",
        "Показывает рассеивание данных\n",
        "\n",
        "Позволяет численно определить как далеко расходятся или рассеиваются значения от математического ожидания\n",
        "\n",
        "$$D = \\frac{\\sum(x-\\mu)^2}{n}$$\n",
        "\n"
      ]
    },
    {
      "cell_type": "markdown",
      "metadata": {
        "id": "hg2urwfSXLVS"
      },
      "source": [
        "## Стандартное отклонение\n",
        "\n",
        "Интерпретация дисперсии (приведение к масштабу исходных данных)\n",
        "\n",
        "$$\\sigma = \\sqrt{D} = \\sqrt\\frac{\\sum(x-\\mu)^2}{n}$$"
      ]
    },
    {
      "cell_type": "markdown",
      "metadata": {
        "id": "ZfkaTx2VXewO"
      },
      "source": [
        "## Правило трех сигм (3-sigma rule)\n",
        "\n",
        "Правило, утверждающее, что для любой случайной величины $\\epsilon$\n",
        " с конечной дисперсией вероятность того, что случайная величина отклонится от своего математического ожидания не менее, чем на три среднеквадратических отклонения $\\sigma$, не более  $\\frac{1}{9}$\n",
        "\n",
        "$$P (|\\epsilon - M[\\epsilon]|\\ge3\\sigma)\\le\\frac{1}{9}$$\n",
        "\n",
        "\n",
        "https://wiki.loginom.ru/articles/3-sigma-rule.html\n"
      ]
    },
    {
      "cell_type": "markdown",
      "metadata": {
        "id": "B8b2s20u6LUL"
      },
      "source": [
        "![](https://wiki.loginom.ru/images/3-sigma.svg)"
      ]
    },
    {
      "cell_type": "markdown",
      "metadata": {
        "id": "W6APEy_S6eAE"
      },
      "source": [
        "На рисунке видно, что в пределах одного среднеквадратического отклонения лежит 68,26% значений, принимаемых нормально распределенной случайной величиной (соответствует доли площади под кривой распределения). В пределах двух среднеквадратических отклонений — уже 95,44%, а в пределах трех — 99,72%. Это означает, что вероятность того, что случайная величина примет значение, отклоняющееся от математического ожидания больше чем на три среднеквадратических отклонения, не превышает 0,28%, т.е. пренебрежимо мала."
      ]
    },
    {
      "cell_type": "markdown",
      "metadata": {
        "id": "qRU_WT9J82g8"
      },
      "source": [
        "### ЗБЧ\n",
        "\n",
        "Закон больших чисел (ЗБЧ) в теории вероятностей — принцип, описывающий результат выполнения одного и того же эксперимента много раз. Согласно закону, среднее значение конечной выборки из фиксированного распределения близко к математическому ожиданию этого распределения.\n",
        "\n",
        "Другими словами, чем больше объём выборки / чем чаще проводятся измерения какого-либо параметра, тем выше вероятность, что результаты окажутся близки к ожидаемым.\n",
        "\n",
        "Закон больших чисел важен, поскольку он гарантирует устойчивость для средних значений некоторых случайных событий при достаточно длинной серии экспериментов.\n",
        "\n",
        "Важно помнить, что закон применим только тогда, когда рассматривается большое количество испытаний."
      ]
    },
    {
      "cell_type": "markdown",
      "metadata": {
        "id": "3_OYvlk89JFu"
      },
      "source": [
        "### Стандартная ошибка среднего\n",
        "\n",
        "Стандартная ошибка среднего – позволяет оценить степень доверия расчёта среднего по\n",
        "выборке. А ещё дальше – позволяет оценивать степень доверия к выводам при проверке гипотез.\n",
        "Например, при сравнении средних значений у двух групп\n",
        "\n",
        "$$S_\\bar x = \\frac {S}{\\sqrt n}$$"
      ]
    },
    {
      "cell_type": "markdown",
      "metadata": {
        "id": "jtyh1bC1995-"
      },
      "source": [
        "$\\frac {p}{\\sigma}$ – стандарт отклонения/ уровень дисперсии (разброса), который\n",
        "мы ожидаем от собранной информации.  \n",
        "\n",
        "$H$ - предел погрешности. Определяет, сколько места для ошибки мы\n",
        "готовы допустить. Другими словами, какую разницу допускаем между\n",
        "средним значением выборки и средним значением генеральной\n",
        "совокупности. Т.е. для первой задач - это не что иное, как «стандартная\n",
        "ошибка среднего».\n",
        "\n",
        "Формулы для расчёта выборок\n",
        "\n",
        "$z$ – доверительный уровень. Он показывает, насколько вы уверены, что\n",
        "фактическое среднее значение будет находиться в пределах выбранной\n",
        "вами погрешности. Большинство исследователей выбирают уровни\n",
        "уверенности 90%, 95% или 99%. Заданный вами уровень доверия затем\n",
        "соответствует $Z$-score, или постоянному значению, которое необходимо\n",
        "для уравнения размера выборки. Вот $Z$-коэффициенты для этих трех\n",
        "наиболее распространенных уровней доверия:"
      ]
    },
    {
      "cell_type": "markdown",
      "metadata": {
        "id": "Bez4xHkuqaZr"
      },
      "source": [
        "# Метрики машинного обучения\n",
        "---"
      ]
    },
    {
      "cell_type": "code",
      "execution_count": null,
      "metadata": {
        "id": "KHOWKosQfJBu"
      },
      "outputs": [],
      "source": [
        "# @title\n",
        "# Import labraries\n",
        "import pandas as pd\n",
        "import numpy as np\n",
        "import seaborn as sns\n",
        "import matplotlib.pyplot as plt\n",
        "\n",
        "from sklearn.linear_model import LinearRegression, Lasso, Ridge\n",
        "from sklearn.metrics import mean_squared_error\n",
        "from sklearn.model_selection import train_test_split\n",
        "from sklearn.datasets import make_regression\n",
        "\n",
        "plt.style.use('dark_background')\n",
        "cm = sns.dark_palette(\"purple\", as_cmap=True)"
      ]
    },
    {
      "cell_type": "code",
      "execution_count": null,
      "metadata": {
        "id": "tWxCcjxkpm6d"
      },
      "outputs": [],
      "source": [
        "# @title\n",
        "# Fixed random / the answer to everything\n",
        "RANDOM_STATE = 42"
      ]
    },
    {
      "cell_type": "markdown",
      "metadata": {
        "id": "6LhyeJFTig7y"
      },
      "source": [
        "## Регрессия\n",
        "\n",
        "---"
      ]
    },
    {
      "cell_type": "markdown",
      "metadata": {
        "id": "1CCZeZzTi3pv"
      },
      "source": [
        "### MSE - Mean Squared Error\n",
        "\n",
        "Cообщает нам среднеквадратичную разницу между прогнозируемыми значениями и фактическими значениями в наборе данных. Чем ниже $MSE$, тем лучше модель соответствует набору данных.\n",
        "\n",
        "$$MSE(y^{true}, y^{pred}) = \\frac{1}{N} \\sum_{i=1}^N (y_{i} - f(x_{i}))^2$$\n",
        "\n",
        "### RMSE - Root Squared Error\n",
        "\n",
        "чтобы показатель эффективности $MSE$ имел размерность исходных данных, из него извлекают квадратный корень и получают показатель эффективности $RMSE$ (Root Mean Squared Error).\n",
        "  \n",
        "$$RMSE = \\sqrt {MSE}$$\n",
        "\n",
        "  \n",
        "Имеется небольшая разница между этими двумя ошибками при оптимизации с использованием градиента.\n",
        "Перемещение по градиенту $MSE$ эквивалентно перемещению по градиенту $RMSE$, но с другой скоростью, и скорость зависит от самой оценки $MSE$.\n",
        "Таким образом, хотя $RMSE$ и $MSE$ близки с точки зрения оценки моделей, они не являются взаимозаменяемыми при использовании градиента для оптимизации.\n",
        "Влияние каждой ошибки на $RMSE$ пропорционально величине квадрата ошибки. Поэтому большие ошибки оказывают непропорционально большое влияние на $RMSE$.\n",
        "Следовательно, $RMSE$ можно считать чувствительной к аномальным значениям.\n",
        "\n"
      ]
    },
    {
      "cell_type": "markdown",
      "metadata": {
        "id": "OoCCkET8neEg"
      },
      "source": [
        "Реализуем расчет метрики на синтетических данных и посмотрим на готовую функцию библиотеки scikit-learn"
      ]
    },
    {
      "cell_type": "code",
      "execution_count": null,
      "metadata": {
        "id": "xqmuWcpLi-Ke"
      },
      "outputs": [],
      "source": [
        "# Set parameters for generating random data\n",
        "mean_target = 300  # Mean value for the target feature\n",
        "std_target = 4   # Standard deviation for the target feature\n",
        "\n",
        "mean_prediction = 250  # Mean value for predictions\n",
        "std_prediction = 33    # Standard deviation for predictions\n",
        "\n",
        "# Generate random data\n",
        "np.random.seed(RANDOM_STATE)  # Set seed for result reproducibility\n",
        "num_samples = 5      # Number of data samples\n",
        "\n",
        "# Generate random values for the target feature and predictions\n",
        "target_values = np.random.normal(mean_target, std_target, num_samples)\n",
        "predicted_values = np.random.normal(mean_prediction, std_prediction, num_samples)\n",
        "\n",
        "data = pd.DataFrame({'name': ['Sasha', 'Kosmos', 'Pchela', 'Phill', 'Pharhad'],\n",
        "                     'kickbacks_business': target_values,\n",
        "                     'kickbacks_pred': predicted_values})"
      ]
    },
    {
      "cell_type": "code",
      "execution_count": null,
      "metadata": {
        "colab": {
          "base_uri": "https://localhost:8080/",
          "height": 206
        },
        "id": "xyWJggdMuEyl",
        "outputId": "3d7f1d57-f494-41ff-e7eb-ca1aa93d4d7e"
      },
      "outputs": [
        {
          "data": {
            "text/html": [
              "\n",
              "\n",
              "  <div id=\"df-3c6e24df-5f4b-4b52-9ed8-0da30c08d125\">\n",
              "    <div class=\"colab-df-container\">\n",
              "      <div>\n",
              "<style scoped>\n",
              "    .dataframe tbody tr th:only-of-type {\n",
              "        vertical-align: middle;\n",
              "    }\n",
              "\n",
              "    .dataframe tbody tr th {\n",
              "        vertical-align: top;\n",
              "    }\n",
              "\n",
              "    .dataframe thead th {\n",
              "        text-align: right;\n",
              "    }\n",
              "</style>\n",
              "<table border=\"1\" class=\"dataframe\">\n",
              "  <thead>\n",
              "    <tr style=\"text-align: right;\">\n",
              "      <th></th>\n",
              "      <th>name</th>\n",
              "      <th>kickbacks_business</th>\n",
              "      <th>kickbacks_pred</th>\n",
              "    </tr>\n",
              "  </thead>\n",
              "  <tbody>\n",
              "    <tr>\n",
              "      <th>0</th>\n",
              "      <td>Sasha</td>\n",
              "      <td>301.986857</td>\n",
              "      <td>242.273480</td>\n",
              "    </tr>\n",
              "    <tr>\n",
              "      <th>1</th>\n",
              "      <td>Kosmos</td>\n",
              "      <td>299.446943</td>\n",
              "      <td>302.114023</td>\n",
              "    </tr>\n",
              "    <tr>\n",
              "      <th>2</th>\n",
              "      <td>Pchela</td>\n",
              "      <td>302.590754</td>\n",
              "      <td>275.325346</td>\n",
              "    </tr>\n",
              "    <tr>\n",
              "      <th>3</th>\n",
              "      <td>Phill</td>\n",
              "      <td>306.092119</td>\n",
              "      <td>234.507345</td>\n",
              "    </tr>\n",
              "    <tr>\n",
              "      <th>4</th>\n",
              "      <td>Pharhad</td>\n",
              "      <td>299.063387</td>\n",
              "      <td>267.904481</td>\n",
              "    </tr>\n",
              "  </tbody>\n",
              "</table>\n",
              "</div>\n",
              "      <button class=\"colab-df-convert\" onclick=\"convertToInteractive('df-3c6e24df-5f4b-4b52-9ed8-0da30c08d125')\"\n",
              "              title=\"Convert this dataframe to an interactive table.\"\n",
              "              style=\"display:none;\">\n",
              "\n",
              "  <svg xmlns=\"http://www.w3.org/2000/svg\" height=\"24px\"viewBox=\"0 0 24 24\"\n",
              "       width=\"24px\">\n",
              "    <path d=\"M0 0h24v24H0V0z\" fill=\"none\"/>\n",
              "    <path d=\"M18.56 5.44l.94 2.06.94-2.06 2.06-.94-2.06-.94-.94-2.06-.94 2.06-2.06.94zm-11 1L8.5 8.5l.94-2.06 2.06-.94-2.06-.94L8.5 2.5l-.94 2.06-2.06.94zm10 10l.94 2.06.94-2.06 2.06-.94-2.06-.94-.94-2.06-.94 2.06-2.06.94z\"/><path d=\"M17.41 7.96l-1.37-1.37c-.4-.4-.92-.59-1.43-.59-.52 0-1.04.2-1.43.59L10.3 9.45l-7.72 7.72c-.78.78-.78 2.05 0 2.83L4 21.41c.39.39.9.59 1.41.59.51 0 1.02-.2 1.41-.59l7.78-7.78 2.81-2.81c.8-.78.8-2.07 0-2.86zM5.41 20L4 18.59l7.72-7.72 1.47 1.35L5.41 20z\"/>\n",
              "  </svg>\n",
              "      </button>\n",
              "\n",
              "\n",
              "\n",
              "    <div id=\"df-bd028a68-e018-4241-b352-6a4c740e42c4\">\n",
              "      <button class=\"colab-df-quickchart\" onclick=\"quickchart('df-bd028a68-e018-4241-b352-6a4c740e42c4')\"\n",
              "              title=\"Suggest charts.\"\n",
              "              style=\"display:none;\">\n",
              "\n",
              "<svg xmlns=\"http://www.w3.org/2000/svg\" height=\"24px\"viewBox=\"0 0 24 24\"\n",
              "     width=\"24px\">\n",
              "    <g>\n",
              "        <path d=\"M19 3H5c-1.1 0-2 .9-2 2v14c0 1.1.9 2 2 2h14c1.1 0 2-.9 2-2V5c0-1.1-.9-2-2-2zM9 17H7v-7h2v7zm4 0h-2V7h2v10zm4 0h-2v-4h2v4z\"/>\n",
              "    </g>\n",
              "</svg>\n",
              "      </button>\n",
              "    </div>\n",
              "\n",
              "<style>\n",
              "  .colab-df-quickchart {\n",
              "    background-color: #E8F0FE;\n",
              "    border: none;\n",
              "    border-radius: 50%;\n",
              "    cursor: pointer;\n",
              "    display: none;\n",
              "    fill: #1967D2;\n",
              "    height: 32px;\n",
              "    padding: 0 0 0 0;\n",
              "    width: 32px;\n",
              "  }\n",
              "\n",
              "  .colab-df-quickchart:hover {\n",
              "    background-color: #E2EBFA;\n",
              "    box-shadow: 0px 1px 2px rgba(60, 64, 67, 0.3), 0px 1px 3px 1px rgba(60, 64, 67, 0.15);\n",
              "    fill: #174EA6;\n",
              "  }\n",
              "\n",
              "  [theme=dark] .colab-df-quickchart {\n",
              "    background-color: #3B4455;\n",
              "    fill: #D2E3FC;\n",
              "  }\n",
              "\n",
              "  [theme=dark] .colab-df-quickchart:hover {\n",
              "    background-color: #434B5C;\n",
              "    box-shadow: 0px 1px 3px 1px rgba(0, 0, 0, 0.15);\n",
              "    filter: drop-shadow(0px 1px 2px rgba(0, 0, 0, 0.3));\n",
              "    fill: #FFFFFF;\n",
              "  }\n",
              "</style>\n",
              "\n",
              "    <script>\n",
              "      async function quickchart(key) {\n",
              "        const containerElement = document.querySelector('#' + key);\n",
              "        const charts = await google.colab.kernel.invokeFunction(\n",
              "            'suggestCharts', [key], {});\n",
              "      }\n",
              "    </script>\n",
              "\n",
              "      <script>\n",
              "\n",
              "function displayQuickchartButton(domScope) {\n",
              "  let quickchartButtonEl =\n",
              "    domScope.querySelector('#df-bd028a68-e018-4241-b352-6a4c740e42c4 button.colab-df-quickchart');\n",
              "  quickchartButtonEl.style.display =\n",
              "    google.colab.kernel.accessAllowed ? 'block' : 'none';\n",
              "}\n",
              "\n",
              "        displayQuickchartButton(document);\n",
              "      </script>\n",
              "      <style>\n",
              "    .colab-df-container {\n",
              "      display:flex;\n",
              "      flex-wrap:wrap;\n",
              "      gap: 12px;\n",
              "    }\n",
              "\n",
              "    .colab-df-convert {\n",
              "      background-color: #E8F0FE;\n",
              "      border: none;\n",
              "      border-radius: 50%;\n",
              "      cursor: pointer;\n",
              "      display: none;\n",
              "      fill: #1967D2;\n",
              "      height: 32px;\n",
              "      padding: 0 0 0 0;\n",
              "      width: 32px;\n",
              "    }\n",
              "\n",
              "    .colab-df-convert:hover {\n",
              "      background-color: #E2EBFA;\n",
              "      box-shadow: 0px 1px 2px rgba(60, 64, 67, 0.3), 0px 1px 3px 1px rgba(60, 64, 67, 0.15);\n",
              "      fill: #174EA6;\n",
              "    }\n",
              "\n",
              "    [theme=dark] .colab-df-convert {\n",
              "      background-color: #3B4455;\n",
              "      fill: #D2E3FC;\n",
              "    }\n",
              "\n",
              "    [theme=dark] .colab-df-convert:hover {\n",
              "      background-color: #434B5C;\n",
              "      box-shadow: 0px 1px 3px 1px rgba(0, 0, 0, 0.15);\n",
              "      filter: drop-shadow(0px 1px 2px rgba(0, 0, 0, 0.3));\n",
              "      fill: #FFFFFF;\n",
              "    }\n",
              "  </style>\n",
              "\n",
              "      <script>\n",
              "        const buttonEl =\n",
              "          document.querySelector('#df-3c6e24df-5f4b-4b52-9ed8-0da30c08d125 button.colab-df-convert');\n",
              "        buttonEl.style.display =\n",
              "          google.colab.kernel.accessAllowed ? 'block' : 'none';\n",
              "\n",
              "        async function convertToInteractive(key) {\n",
              "          const element = document.querySelector('#df-3c6e24df-5f4b-4b52-9ed8-0da30c08d125');\n",
              "          const dataTable =\n",
              "            await google.colab.kernel.invokeFunction('convertToInteractive',\n",
              "                                                     [key], {});\n",
              "          if (!dataTable) return;\n",
              "\n",
              "          const docLinkHtml = 'Like what you see? Visit the ' +\n",
              "            '<a target=\"_blank\" href=https://colab.research.google.com/notebooks/data_table.ipynb>data table notebook</a>'\n",
              "            + ' to learn more about interactive tables.';\n",
              "          element.innerHTML = '';\n",
              "          dataTable['output_type'] = 'display_data';\n",
              "          await google.colab.output.renderOutput(dataTable, element);\n",
              "          const docLink = document.createElement('div');\n",
              "          docLink.innerHTML = docLinkHtml;\n",
              "          element.appendChild(docLink);\n",
              "        }\n",
              "      </script>\n",
              "    </div>\n",
              "  </div>\n"
            ],
            "text/plain": [
              "      name  kickbacks_business  kickbacks_pred\n",
              "0    Sasha          301.986857      242.273480\n",
              "1   Kosmos          299.446943      302.114023\n",
              "2   Pchela          302.590754      275.325346\n",
              "3    Phill          306.092119      234.507345\n",
              "4  Pharhad          299.063387      267.904481"
            ]
          },
          "execution_count": 4,
          "metadata": {},
          "output_type": "execute_result"
        }
      ],
      "source": [
        "data"
      ]
    },
    {
      "cell_type": "code",
      "execution_count": null,
      "metadata": {
        "id": "cesn3JaCrgCl"
      },
      "outputs": [],
      "source": [
        "# Implementation of Mean Squared Error (MSE)\n",
        "def mean_squared_error_manual(y_true, y_pred):\n",
        "    \"\"\"\n",
        "    Calculation of Mean Squared Error (MSE)\n",
        "\n",
        "    Args:\n",
        "        y_true (array-like): The true values.\n",
        "        y_pred (array-like): The predicted values.\n",
        "\n",
        "    Returns:\n",
        "        float: The mean squared error between y_true and y_pred.\n",
        "    \"\"\"\n",
        "    # Calculate the difference between the true values and the predicted values\n",
        "    error = y_true - y_pred\n",
        "\n",
        "    # Square the differences\n",
        "    squared_error = error ** 2\n",
        "\n",
        "    # Sum the squared errors\n",
        "    mse = np.sum(squared_error)\n",
        "\n",
        "    # Divide the sum by the number of data samples (length of the array)\n",
        "    mse /= len(y_true)\n",
        "\n",
        "    return mse"
      ]
    },
    {
      "cell_type": "code",
      "execution_count": null,
      "metadata": {
        "colab": {
          "base_uri": "https://localhost:8080/"
        },
        "id": "hnsNwikEsF9J",
        "outputId": "61f902e5-acfa-4403-b7c9-eb074dcc85d8"
      },
      "outputs": [
        {
          "name": "stdout",
          "output_type": "stream",
          "text": [
            "2082.29206946291\n"
          ]
        }
      ],
      "source": [
        "# Our function to calculate MSE\n",
        "mse_value = mean_squared_error_manual(\n",
        "    data['kickbacks_business'],\n",
        "    data['kickbacks_pred']\n",
        ")\n",
        "print(mse_value)"
      ]
    },
    {
      "cell_type": "code",
      "execution_count": null,
      "metadata": {
        "colab": {
          "base_uri": "https://localhost:8080/"
        },
        "id": "HHNzFYMfA1KI",
        "outputId": "0cc2c1ef-a645-4353-d2a9-6a0cdc469d4b"
      },
      "outputs": [
        {
          "data": {
            "text/plain": [
              "45.6321385589467"
            ]
          },
          "execution_count": 7,
          "metadata": {},
          "output_type": "execute_result"
        }
      ],
      "source": [
        "# RMSE\n",
        "np.sqrt(mse_value)"
      ]
    },
    {
      "cell_type": "code",
      "execution_count": null,
      "metadata": {
        "colab": {
          "base_uri": "https://localhost:8080/"
        },
        "id": "73mWyPbPsYGF",
        "outputId": "ff1a54fc-caaf-4e88-e61a-03313d245df9"
      },
      "outputs": [
        {
          "data": {
            "text/plain": [
              "2082.29206946291"
            ]
          },
          "execution_count": 8,
          "metadata": {},
          "output_type": "execute_result"
        }
      ],
      "source": [
        "# Mean squared error in scikit-learn\n",
        "from sklearn.metrics import mean_squared_error\n",
        "\n",
        "mean_squared_error(data['kickbacks_business'], data['kickbacks_pred'])"
      ]
    },
    {
      "cell_type": "code",
      "execution_count": null,
      "metadata": {
        "colab": {
          "base_uri": "https://localhost:8080/"
        },
        "id": "bKMIvKveBCA1",
        "outputId": "f6b0c928-818b-4aa8-e347-5fade18e73fd"
      },
      "outputs": [
        {
          "name": "stdout",
          "output_type": "stream",
          "text": [
            "45.6321385589467\n"
          ]
        }
      ],
      "source": [
        "# RMSE in scikit-learn\n",
        "rmse = mean_squared_error(data['kickbacks_business'],\n",
        "                          data['kickbacks_pred'],\n",
        "                          squared=False)\n",
        "print(rmse)"
      ]
    },
    {
      "cell_type": "markdown",
      "metadata": {
        "id": "jPxUwVVO-6aB"
      },
      "source": [
        "### MSPE - Mean Squared Percentage Error\n",
        "\n",
        "Также можно вывести значение в процентах, в случае слишком большого разброса значений"
      ]
    },
    {
      "cell_type": "code",
      "execution_count": null,
      "metadata": {
        "id": "ZG18ARM1_Dak"
      },
      "outputs": [],
      "source": [
        "# Implementation of Mean Squared Percentage Error (MSPE)\n",
        "def mspe_manual(y_true, y_pred):\n",
        "    \"\"\"\n",
        "    Calculation of Mean Squared Percentage Error (MSPE)\n",
        "\n",
        "    Args:\n",
        "        y_true (array-like): The true values.\n",
        "        y_pred (array-like): The predicted values.\n",
        "\n",
        "    Returns:\n",
        "        float: Value of MSPE.\n",
        "    \"\"\"\n",
        "    mspe = np.sum(((y_true - y_pred) ** 2) / (y_true ** 2)) / len(y_true)\n",
        "    return mspe"
      ]
    },
    {
      "cell_type": "code",
      "execution_count": null,
      "metadata": {
        "colab": {
          "base_uri": "https://localhost:8080/"
        },
        "id": "l0g7-oT5Aa6h",
        "outputId": "d85c8826-2c29-4a4d-cdcc-d7f2d8e4c330"
      },
      "outputs": [
        {
          "data": {
            "text/plain": [
              "0.022569304306818812"
            ]
          },
          "execution_count": 11,
          "metadata": {},
          "output_type": "execute_result"
        }
      ],
      "source": [
        "mspe_manual(data['kickbacks_business'], data['kickbacks_pred'])"
      ]
    },
    {
      "cell_type": "markdown",
      "metadata": {
        "id": "vJGZpkN1jY8c"
      },
      "source": [
        "Проблемой при использовании $MSPE$ является то, что, если наблюдаемое значение выходной переменной равно 0, значение ошибки становится неопределённым.\n",
        "\n",
        "$MSPE$ можно рассматривать как взвешенную версию $MSE$, где вес обратно пропорционален квадрату наблюдаемого значения. Таким образом, при возрастании наблюдаемых значений ошибка имеет тенденцию уменьшаться."
      ]
    },
    {
      "cell_type": "markdown",
      "metadata": {
        "id": "GI9ctHUPfe8c"
      },
      "source": [
        "# Регуляризация\n",
        "\n",
        "---"
      ]
    },
    {
      "cell_type": "markdown",
      "metadata": {
        "id": "L2eplQTVN9JF"
      },
      "source": [
        "Регуляризация - техника для контроля переобучения модели.  \n",
        "Она представляет собой добавление дополнительного члена (штрафа) к функции потерь, который зависит от параметров модели. Целью регуляризации является уменьшение сложности модели и улучшение ее обобщающей способности.\n",
        "\n",
        "Одним из ключевых элементов регуляризации является использование нормы вектора, которая измеряет длину вектора в пространстве параметров модели. Для этого обычно используют L1 и L2 нормы, которые являются двумя наиболее распространенными типами норм.\n",
        "\n",
        "---"
      ]
    },
    {
      "cell_type": "markdown",
      "metadata": {
        "id": "fsIwNEj1hVfa"
      },
      "source": [
        "Норма вектора $||x||$ - мера длины вектора, любая функция $f:\\mathbb{R} n \\rightarrow \\mathbb{R}$, которая удовлетворяет условиям:\n",
        "\n",
        "\n",
        "+ Неотрицательность: Для всех векторов $x \\in \\mathbb{R}^n$, значение нормы $f(x)$ всегда неотрицательно или равно нулю. То есть $f(x) \\ge 0$.\n",
        "\n",
        "+ Положительная определенность: Значение нормы равно нулю только тогда, когда вектор $x$ является нулевым вектором (вектором с нулевыми элементами). То есть $f(x) = 0$ тогда и только тогда, когда $x = 0$.\n",
        "\n",
        "+ Однородность: Значение нормы функции от скалярного произведения вектора $x$ и числа $t$ равно модулю числа $t$ умноженному на значение нормы $f(x)$. Формально: $f(tx) = |t|f(x)$ для любого вектора $x \\in \\mathbb{R}^n$ и числа $t \\in \\mathbb{R}$.\n",
        "\n",
        "+ Неравенство треугольника: Для любых векторов $x, y \\in \\mathbb{R}^n$, значение нормы суммы векторов не превосходит суммы значений норм отдельных векторов. Формально: $f(x + y) \\leq f(x) + f(y)$."
      ]
    },
    {
      "cell_type": "markdown",
      "metadata": {
        "id": "SOCKt5Zgfm9V"
      },
      "source": [
        "## L2 - норма\n",
        "\n",
        "---"
      ]
    },
    {
      "cell_type": "markdown",
      "metadata": {
        "id": "ManGCfBtf0k3"
      },
      "source": [
        "L2 норма измеряет квадратный корень из суммы квадратов элементов вектора.  \n",
        "Она часто применяется в Ridge регрессии и называется также Евклидовой нормой."
      ]
    },
    {
      "cell_type": "code",
      "execution_count": null,
      "metadata": {
        "id": "rK6mndjpfefq"
      },
      "outputs": [],
      "source": []
    },
    {
      "cell_type": "markdown",
      "metadata": {
        "id": "o5xCwGyJf5bo"
      },
      "source": [
        "---"
      ]
    },
    {
      "cell_type": "markdown",
      "metadata": {
        "id": "tIjCa6LXf4xI"
      },
      "source": [
        "## L1\n",
        "\n",
        "---"
      ]
    },
    {
      "cell_type": "markdown",
      "metadata": {
        "id": "1TwTw4bFOpZA"
      },
      "source": [
        "L1 норма (манхэттенская норма, абсолютная норма) измеряет сумму абсолютных значений элементов вектора  \n",
        "Позволяет измерить \"расстояние\" от начала координат до точки, заданной вектором x\n",
        "  $$||x||_{L_1} = \\sum_{i=1}^n |x_i|$$\n",
        "\n",
        "\n"
      ]
    },
    {
      "cell_type": "markdown",
      "metadata": {
        "id": "OcGvxn5TfrFH"
      },
      "source": [
        "L1 регуляризация (также известная как LASSO регуляризация) - это техника для контроля переобучения моделей путем добавления штрафа на сумму абсолютных значений весов модели к функции потерь.  \n",
        "Для линейных моделей, L1 регуляризация представляет собой добавление L1 нормы вектора весов умноженных на коэффициент регуляризации ($\\alpha$ или $\\lambda$) к функции потерь.   \n",
        "Чем больше значение $\\alpha$, тем сильнее регуляризация и больше весов модели будет установлено точно равными нулю, то есть устанавливает малые коэффициенты равными нулю и добавляет штрафы для больших.\n",
        "\n",
        "$$J(w) = \\frac{1}{2n||y - X_w||^2} + \\alpha||w||_1$$\n",
        "\n",
        "+ $J(w)$ - целевая функция\n",
        "+ n - количество объектов в датасете\n",
        "+ X, y - матрица признаков и целевой признак\n",
        "+ $w$ - весовые коэффициенты\n",
        "+ $X_w$ = матрица полученная умножением матрицы признаков на вектор параметров $w$\n",
        "+ $\\alpha$ - штраф контролирующий силу регуляризации"
      ]
    },
    {
      "cell_type": "code",
      "execution_count": null,
      "metadata": {
        "colab": {
          "base_uri": "https://localhost:8080/",
          "height": 472
        },
        "id": "aXFaxDKUf9mc",
        "outputId": "d7e5fa44-61b7-4a28-c056-e44efce2413e"
      },
      "outputs": [
        {
          "data": {
            "image/png": "[encoded data removed]",
            "text/plain": [
              "<Figure size 640x480 with 1 Axes>"
            ]
          },
          "metadata": {},
          "output_type": "display_data"
        }
      ],
      "source": [
        "# Creating synthetic data\n",
        "X, y = make_regression(\n",
        "    n_samples=100,\n",
        "    n_features=1,\n",
        "    n_informative=1,\n",
        "    noise=13,\n",
        "    random_state=RANDOM_STATE\n",
        ")\n",
        "\n",
        "# Divide the data into training and test samples\n",
        "X_train, X_test, y_train, y_test = train_test_split(\n",
        "                                                    X, y,\n",
        "                                                    test_size=0.1,\n",
        "                                                    random_state=42)\n",
        "\n",
        "# Creating a Lasso model with alpha=0.01\n",
        "lasso_model = Lasso(alpha=0.01)\n",
        "\n",
        "# Training the model on a training sample\n",
        "lasso_model.fit(X_train, y_train)\n",
        "\n",
        "# We get predictions on the test sample\n",
        "y_pred = lasso_model.predict(X_test)\n",
        "\n",
        "# Calculate the standard deviation (MSE)\n",
        "mse = mean_squared_error(y_test, y_pred)\n",
        "\n",
        "# Visualization of the data and the result of the model\n",
        "plt.scatter(X, y, label='Data')\n",
        "plt.plot(X_test, y_pred, color='red', label=f'Lasso model (MSE={mse:.2f})')\n",
        "plt.xlabel('Feature X')\n",
        "plt.ylabel('Target variable y')\n",
        "plt.title('Lasso model based on synthetic data')\n",
        "plt.legend()\n",
        "plt.show()"
      ]
    },
    {
      "cell_type": "code",
      "execution_count": null,
      "metadata": {
        "colab": {
          "base_uri": "https://localhost:8080/"
        },
        "id": "PmoPblU7Hc6V",
        "outputId": "e0adeae3-1263-4d83-a9cf-af40a57f6427"
      },
      "outputs": [
        {
          "data": {
            "text/plain": [
              "14.756434520382223"
            ]
          },
          "execution_count": 4,
          "metadata": {},
          "output_type": "execute_result"
        }
      ],
      "source": [
        "np.sqrt(mse)"
      ]
    },
    {
      "cell_type": "code",
      "execution_count": null,
      "metadata": {
        "id": "zQ66eXr_BdVE"
      },
      "outputs": [],
      "source": [
        "results = pd.DataFrame({\n",
        "     'target': y_test,\n",
        "     'predict': y_pred,\n",
        "     'loss': np.abs(y_test - y_pred)\n",
        "})"
      ]
    },
    {
      "cell_type": "code",
      "execution_count": null,
      "metadata": {
        "colab": {
          "base_uri": "https://localhost:8080/",
          "height": 363
        },
        "id": "a9KNsSmjDncD",
        "outputId": "55779adc-751b-4f16-ebfa-8dc2db656ed9"
      },
      "outputs": [
        {
          "data": {
            "text/html": [
              "<style type=\"text/css\">\n",
              "#T_f7971_row0_col0, #T_f7971_row0_col1, #T_f7971_row0_col2 {\n",
              "  background-color: #800080;\n",
              "  color: #f1f1f1;\n",
              "}\n",
              "#T_f7971_row1_col0 {\n",
              "  background-color: #511451;\n",
              "  color: #f1f1f1;\n",
              "}\n",
              "#T_f7971_row1_col1 {\n",
              "  background-color: #521352;\n",
              "  color: #f1f1f1;\n",
              "}\n",
              "#T_f7971_row1_col2 {\n",
              "  background-color: #5d0e5d;\n",
              "  color: #f1f1f1;\n",
              "}\n",
              "#T_f7971_row2_col0 {\n",
              "  background-color: #4c164c;\n",
              "  color: #f1f1f1;\n",
              "}\n",
              "#T_f7971_row2_col1 {\n",
              "  background-color: #4f144f;\n",
              "  color: #f1f1f1;\n",
              "}\n",
              "#T_f7971_row2_col2 {\n",
              "  background-color: #511351;\n",
              "  color: #f1f1f1;\n",
              "}\n",
              "#T_f7971_row3_col0 {\n",
              "  background-color: #6a096a;\n",
              "  color: #f1f1f1;\n",
              "}\n",
              "#T_f7971_row3_col1 {\n",
              "  background-color: #720672;\n",
              "  color: #f1f1f1;\n",
              "}\n",
              "#T_f7971_row3_col2, #T_f7971_row4_col2 {\n",
              "  background-color: #4b164b;\n",
              "  color: #f1f1f1;\n",
              "}\n",
              "#T_f7971_row4_col0 {\n",
              "  background-color: #351f35;\n",
              "  color: #f1f1f1;\n",
              "}\n",
              "#T_f7971_row4_col1 {\n",
              "  background-color: #371f37;\n",
              "  color: #f1f1f1;\n",
              "}\n",
              "#T_f7971_row5_col0 {\n",
              "  background-color: #3d1c3d;\n",
              "  color: #f1f1f1;\n",
              "}\n",
              "#T_f7971_row5_col1 {\n",
              "  background-color: #4d154d;\n",
              "  color: #f1f1f1;\n",
              "}\n",
              "#T_f7971_row5_col2, #T_f7971_row6_col2, #T_f7971_row8_col0 {\n",
              "  background-color: #4a164a;\n",
              "  color: #f1f1f1;\n",
              "}\n",
              "#T_f7971_row6_col0, #T_f7971_row6_col1, #T_f7971_row9_col2 {\n",
              "  background-color: #2b232b;\n",
              "  color: #f1f1f1;\n",
              "}\n",
              "#T_f7971_row7_col0 {\n",
              "  background-color: #660b66;\n",
              "  color: #f1f1f1;\n",
              "}\n",
              "#T_f7971_row7_col1, #T_f7971_row9_col1 {\n",
              "  background-color: #6f076f;\n",
              "  color: #f1f1f1;\n",
              "}\n",
              "#T_f7971_row7_col2 {\n",
              "  background-color: #461846;\n",
              "  color: #f1f1f1;\n",
              "}\n",
              "#T_f7971_row8_col1 {\n",
              "  background-color: #531353;\n",
              "  color: #f1f1f1;\n",
              "}\n",
              "#T_f7971_row8_col2 {\n",
              "  background-color: #312131;\n",
              "  color: #f1f1f1;\n",
              "}\n",
              "#T_f7971_row9_col0 {\n",
              "  background-color: #600d60;\n",
              "  color: #f1f1f1;\n",
              "}\n",
              "</style>\n",
              "<table id=\"T_f7971\" class=\"dataframe\">\n",
              "  <thead>\n",
              "    <tr>\n",
              "      <th class=\"blank level0\" >&nbsp;</th>\n",
              "      <th id=\"T_f7971_level0_col0\" class=\"col_heading level0 col0\" >target</th>\n",
              "      <th id=\"T_f7971_level0_col1\" class=\"col_heading level0 col1\" >predict</th>\n",
              "      <th id=\"T_f7971_level0_col2\" class=\"col_heading level0 col2\" >loss</th>\n",
              "    </tr>\n",
              "  </thead>\n",
              "  <tbody>\n",
              "    <tr>\n",
              "      <th id=\"T_f7971_level0_row0\" class=\"row_heading level0 row0\" >1</th>\n",
              "      <td id=\"T_f7971_row0_col0\" class=\"data row0 col0\" >97.236412</td>\n",
              "      <td id=\"T_f7971_row0_col1\" class=\"data row0 col1\" >66.759971</td>\n",
              "      <td id=\"T_f7971_row0_col2\" class=\"data row0 col2\" >30.476441</td>\n",
              "    </tr>\n",
              "    <tr>\n",
              "      <th id=\"T_f7971_level0_row1\" class=\"row_heading level0 row1\" >5</th>\n",
              "      <td id=\"T_f7971_row1_col0\" class=\"data row1 col0\" >5.924617</td>\n",
              "      <td id=\"T_f7971_row1_col1\" class=\"data row1 col1\" >-12.609706</td>\n",
              "      <td id=\"T_f7971_row1_col2\" class=\"data row1 col2\" >18.534323</td>\n",
              "    </tr>\n",
              "    <tr>\n",
              "      <th id=\"T_f7971_level0_row2\" class=\"row_heading level0 row2\" >3</th>\n",
              "      <td id=\"T_f7971_row2_col0\" class=\"data row2 col0\" >-2.774601</td>\n",
              "      <td id=\"T_f7971_row2_col1\" class=\"data row2 col1\" >-17.113500</td>\n",
              "      <td id=\"T_f7971_row2_col2\" class=\"data row2 col2\" >14.338900</td>\n",
              "    </tr>\n",
              "    <tr>\n",
              "      <th id=\"T_f7971_level0_row3\" class=\"row_heading level0 row3\" >9</th>\n",
              "      <td id=\"T_f7971_row3_col0\" class=\"data row3 col0\" >54.352111</td>\n",
              "      <td id=\"T_f7971_row3_col1\" class=\"data row3 col1\" >42.243204</td>\n",
              "      <td id=\"T_f7971_row3_col2\" class=\"data row3 col2\" >12.108907</td>\n",
              "    </tr>\n",
              "    <tr>\n",
              "      <th id=\"T_f7971_level0_row4\" class=\"row_heading level0 row4\" >0</th>\n",
              "      <td id=\"T_f7971_row4_col0\" class=\"data row4 col0\" >-47.001820</td>\n",
              "      <td id=\"T_f7971_row4_col1\" class=\"data row4 col1\" >-59.098532</td>\n",
              "      <td id=\"T_f7971_row4_col2\" class=\"data row4 col2\" >12.096713</td>\n",
              "    </tr>\n",
              "    <tr>\n",
              "      <th id=\"T_f7971_level0_row5\" class=\"row_heading level0 row5\" >6</th>\n",
              "      <td id=\"T_f7971_row5_col0\" class=\"data row5 col0\" >-32.343693</td>\n",
              "      <td id=\"T_f7971_row5_col1\" class=\"data row5 col1\" >-20.415581</td>\n",
              "      <td id=\"T_f7971_row5_col2\" class=\"data row5 col2\" >11.928111</td>\n",
              "    </tr>\n",
              "    <tr>\n",
              "      <th id=\"T_f7971_level0_row6\" class=\"row_heading level0 row6\" >7</th>\n",
              "      <td id=\"T_f7971_row6_col0\" class=\"data row6 col0\" >-66.747410</td>\n",
              "      <td id=\"T_f7971_row6_col1\" class=\"data row6 col1\" >-78.602640</td>\n",
              "      <td id=\"T_f7971_row6_col2\" class=\"data row6 col2\" >11.855230</td>\n",
              "    </tr>\n",
              "    <tr>\n",
              "      <th id=\"T_f7971_level0_row7\" class=\"row_heading level0 row7\" >2</th>\n",
              "      <td id=\"T_f7971_row7_col0\" class=\"data row7 col0\" >47.557238</td>\n",
              "      <td id=\"T_f7971_row7_col1\" class=\"data row7 col1\" >36.916828</td>\n",
              "      <td id=\"T_f7971_row7_col2\" class=\"data row7 col2\" >10.640410</td>\n",
              "    </tr>\n",
              "    <tr>\n",
              "      <th id=\"T_f7971_level0_row8\" class=\"row_heading level0 row8\" >4</th>\n",
              "      <td id=\"T_f7971_row8_col0\" class=\"data row8 col0\" >-6.979615</td>\n",
              "      <td id=\"T_f7971_row8_col1\" class=\"data row8 col1\" >-10.028901</td>\n",
              "      <td id=\"T_f7971_row8_col2\" class=\"data row8 col2\" >3.049287</td>\n",
              "    </tr>\n",
              "    <tr>\n",
              "      <th id=\"T_f7971_level0_row9\" class=\"row_heading level0 row9\" >8</th>\n",
              "      <td id=\"T_f7971_row9_col0\" class=\"data row9 col0\" >36.203319</td>\n",
              "      <td id=\"T_f7971_row9_col1\" class=\"data row9 col1\" >37.337392</td>\n",
              "      <td id=\"T_f7971_row9_col2\" class=\"data row9 col2\" >1.134073</td>\n",
              "    </tr>\n",
              "  </tbody>\n",
              "</table>\n"
            ],
            "text/plain": [
              "<pandas.io.formats.style.Styler at 0x7dfd91fd7ca0>"
            ]
          },
          "execution_count": 6,
          "metadata": {},
          "output_type": "execute_result"
        }
      ],
      "source": [
        "(\n",
        "    results.sort_values(\n",
        "                        by=['loss'],\n",
        "                        ascending=False)\n",
        "           .style.background_gradient(cmap=cm))"
      ]
    },
    {
      "cell_type": "markdown",
      "metadata": {
        "id": "RZ-HkbgFtWPd"
      },
      "source": [
        "Также с помощью модели Lasso можно отобрать важные признаки\n",
        "\n",
        "Посмотрим реализацию feature_importance с помощью модели Lasso"
      ]
    },
    {
      "cell_type": "code",
      "execution_count": null,
      "metadata": {
        "colab": {
          "base_uri": "https://localhost:8080/"
        },
        "id": "WZvkpAgysEBo",
        "outputId": "3562ff38-441e-40b3-e51e-2984c137a84a"
      },
      "outputs": [
        {
          "name": "stdout",
          "output_type": "stream",
          "text": [
            "Feature 1: 2.841097165969177\n",
            "Feature 2: 1.7794518695655288\n",
            "Feature 3: -3.7950950740833815\n",
            "Feature 4: 0.0\n",
            "Feature 5: -0.0\n"
          ]
        }
      ],
      "source": [
        "# Creating synthetic data\n",
        "np.random.seed(RANDOM_STATE)\n",
        "X = np.random.rand(100, 5)  # Feature matrix (100 examples, 5 features)\n",
        "y = 3 * X[:, 0] + 2 * X[:, 1] - 4 * X[:, 2] + np.random.normal(0, 0.2, 100)  # Target variable with noise\n",
        "\n",
        "# Creating a Lasso model with alpha=0.01\n",
        "lasso_model = Lasso(alpha=0.01)\n",
        "\n",
        "# Training the model on data\n",
        "lasso_model.fit(X, y)\n",
        "\n",
        "# We get the values of weights (coefficients) for each attribute\n",
        "feature_importance = lasso_model.coef_\n",
        "\n",
        "# Output \"feature importance\" for each attribute\n",
        "for i, importance in enumerate(feature_importance):\n",
        "    print(f\"Feature {i+1}: {importance}\")"
      ]
    },
    {
      "cell_type": "markdown",
      "metadata": {
        "id": "hEJ993LqtjSY"
      },
      "source": [
        "Как мы можем наблюдать:\n",
        "+ первые два признака положительно влияют на предсказание модели, чем больше значение признака, тем большее значение целевой переменной предсказывает модель\n",
        "+ Третий признак отрицательно влияет на предсказание модели, большие значения признака приводят к уменьшению предсказанных значений\n",
        "+ Последние два признака имеют коэффициенты 0.0 и это указывает на то, что они были обнулены и исключены из модели\n",
        "\n",
        "Таким образом мы можем исключать \"не важные\" признаки, если нам необходимо отобрать влияющие на предсказание модели признаки"
      ]
    },
    {
      "cell_type": "markdown",
      "metadata": {
        "id": "pBmVXILQgsAp"
      },
      "source": [
        "## $R^2$ - коэффициент детерминации\n",
        "\n",
        "---"
      ]
    },
    {
      "cell_type": "markdown",
      "metadata": {
        "id": "tA-KHZWag8A9"
      },
      "source": [
        "R-squared измеряет насколько хорошо модель соответствует данным и объясняет изменчивость зависимой переменной\n",
        "\n",
        "Значение $R^2$ находятся в диапазоне 0 до 1 (в некоторых случаях -$\\infty$) и может быть интерпретировано следующим образом:\n",
        "\n",
        "+ $R^2 = 0$: Модель не объясняет никакой изменчивости в данных и предсказанные значения не лучше, чем просто среднее значение целевой переменной\n",
        "+ $R^2 = 1$: Модель идеально соответствует данным и объясняет всю изменчивость в зависимой переменной\n",
        "+ $R^2 < 0:$ Ответы модели не идут в соответствии с дисперсией выборки, сильное отклонение от истинных значений  \n",
        "\n",
        "Формально $R^2$ определляется как отношение объясненной дисперсии (или $MSE$) к общей дисперсии(или $MSE$ константной модели):\n",
        "\n",
        "$$R^2 = 1 - \\frac{\\frac{1}{n}\\sum_{i}^n (y_i - \\hat{y_i})^2}{\\frac{1}{n}\\sum_{i}^{n} (y_i - \\bar{y})^2}$$\n",
        "\n",
        "Где:\n",
        "+ $y_i$ - реальное значение целевой переменной для $i$-ного наблюдения\n",
        "+ $\\hat{y_i}$ - предсказанное значение целевой переменной для i-го наблюдения\n",
        "+ $\\bar{y}$ - среднее значение целевой переменной для всех наблюдений ($\\mu$ мат. ожидание)\n",
        "+ $n$ - общее количество наблюдений"
      ]
    },
    {
      "cell_type": "markdown",
      "metadata": {
        "id": "0ji_i9mty2rC"
      },
      "source": [
        "# Доработать пример для наглядности регуляризации"
      ]
    },
    {
      "cell_type": "code",
      "execution_count": null,
      "metadata": {
        "colab": {
          "base_uri": "https://localhost:8080/",
          "height": 472
        },
        "id": "CmGgKQkIbohw",
        "outputId": "52691636-e1dc-4255-dd08-0046f3ac4ffa"
      },
      "outputs": [
        {
          "data": {
            "image/png": "[encoded data removed]",
            "text/plain": [
              "<Figure size 640x480 with 1 Axes>"
            ]
          },
          "metadata": {},
          "output_type": "display_data"
        }
      ],
      "source": [
        "# Генерируем случайные данные для примера\n",
        "np.random.seed(42)\n",
        "X, y = make_regression(n_samples=100, n_features=1, noise=10, random_state=42)\n",
        "\n",
        "# Создаем модель линейной регрессии\n",
        "linear_model = LinearRegression()\n",
        "linear_model.fit(X, y)\n",
        "\n",
        "# Создаем модель L1 регуляризации (Lasso)\n",
        "lasso_model = Lasso(alpha=1.0)\n",
        "lasso_model.fit(X, y)\n",
        "\n",
        "# Создаем модель L2 регуляризации (Ridge)\n",
        "ridge_model = Ridge(alpha=1.0)\n",
        "ridge_model.fit(X, y)\n",
        "\n",
        "# Генерируем значения для предсказания моделей\n",
        "X_fit = np.linspace(X.min(), X.max(), 100).reshape(-1, 1)\n",
        "y_linear = linear_model.predict(X_fit)\n",
        "y_lasso = lasso_model.predict(X_fit)\n",
        "y_ridge = ridge_model.predict(X_fit)\n",
        "\n",
        "# Визуализация результатов\n",
        "plt.scatter(X, y, label=\"Данные\")\n",
        "plt.plot(X_fit, y_linear, label=\"Линейная регрессия\", color='r')\n",
        "plt.plot(X_fit, y_lasso, label=\"L1 регуляризация (Lasso)\", color='g')\n",
        "plt.plot(X_fit, y_ridge, label=\"L2 регуляризация (Ridge)\", color='b')\n",
        "plt.legend()\n",
        "plt.xlabel(\"Признак X\")\n",
        "plt.ylabel(\"Целевой признак y\")\n",
        "plt.title(\"Пример регуляризации\")\n",
        "plt.show()"
      ]
    }
  ],
  "metadata": {
    "colab": {
      "provenance": []
    },
    "kernelspec": {
      "display_name": "Python 3",
      "name": "python3"
    },
    "language_info": {
      "name": "python"
    }
  },
  "nbformat": 4,
  "nbformat_minor": 0
}
