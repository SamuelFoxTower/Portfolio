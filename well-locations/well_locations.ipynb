{
  "cells": [
    {
      "cell_type": "markdown",
      "metadata": {
        "id": "m-CS-2avYSjq"
      },
      "source": [
        "# Выбор локации для скважины"
      ]
    },
    {
      "cell_type": "markdown",
      "metadata": {
        "id": "1TUkxioiYSjq"
      },
      "source": [
        "Мы работаем в добывающей компании. Нужно решить, где бурить новую скважину.\n",
        "\n",
        "Нам предоставлены пробы нефти в трёх регионах: в каждом измерили качество нефти и объём её запасов. Построим модель машинного обучения, которая поможет определить регион, где добыча принесёт наибольшую прибыль. Проанализируем возможную прибыль и риски техникой *Bootstrap.*\n",
        "\n",
        "Шаги для выбора локации:\n",
        "\n",
        "- В избранном регионе ищем месторождения, для каждого определяем значения признаков;\n",
        "- Строим модель и оценивают объём запасов;\n",
        "- Выбираем месторождения с самым высокими оценками значений. Количество месторождений зависит от бюджета компании и стоимости разработки одной скважины;\n",
        "- Прибыль равна суммарной прибыли отобранных месторождений."
      ]
    },
    {
      "cell_type": "markdown",
      "metadata": {
        "id": "VCcoZQlvYSjr"
      },
      "source": [
        "## Загрузка и подготовка данных"
      ]
    },
    {
      "cell_type": "code",
      "execution_count": null,
      "metadata": {
        "id": "V7YYzpu0YSjr"
      },
      "outputs": [],
      "source": [
        "# импортируем библиотеки\n",
        "import pandas as pd\n",
        "import numpy as np\n",
        "import seaborn as sns\n",
        "import matplotlib.pyplot as plt\n",
        "\n",
        "from sklearn.model_selection import train_test_split\n",
        "from sklearn.linear_model import LinearRegression\n",
        "from sklearn.pipeline import make_pipeline\n",
        "from sklearn.preprocessing import StandardScaler\n",
        "from sklearn.metrics import mean_squared_error\n",
        "\n",
        "plt.style.use('dark_background')"
      ]
    },
    {
      "cell_type": "code",
      "execution_count": null,
      "metadata": {
        "id": "ww5ljXkfYSjt"
      },
      "outputs": [],
      "source": [
        "# переменные с датасетами\n",
        "try:\n",
        "    geo0 = pd.read_csv('/datasets/geo_data_0.csv')\n",
        "    geo1 = pd.read_csv('/datasets/geo_data_1.csv')\n",
        "    geo2 = pd.read_csv('/datasets/geo_data_2.csv')\n",
        "except:\n",
        "    geo0 = pd.read_csv('geo_data_0.csv')\n",
        "    geo1 = pd.read_csv('geo_data_1.csv')\n",
        "    geo2 = pd.read_csv('geo_data_2.csv')"
      ]
    },
    {
      "cell_type": "code",
      "execution_count": null,
      "metadata": {
        "id": "mcaN20jwYSjt"
      },
      "outputs": [],
      "source": [
        "#переменная для фиксирования случайности (иметь бы такую в жизни)\n",
        "RANDOM_STATE = 42\n",
        "state = np.random.RandomState(42)"
      ]
    },
    {
      "cell_type": "code",
      "execution_count": null,
      "metadata": {
        "id": "85Zb54lCYSjt",
        "outputId": "3d7ea39b-498e-4b0d-9d0e-a1c4af46e6b5"
      },
      "outputs": [
        {
          "data": {
            "text/html": [
              "<div>\n",
              "<style scoped>\n",
              "    .dataframe tbody tr th:only-of-type {\n",
              "        vertical-align: middle;\n",
              "    }\n",
              "\n",
              "    .dataframe tbody tr th {\n",
              "        vertical-align: top;\n",
              "    }\n",
              "\n",
              "    .dataframe thead th {\n",
              "        text-align: right;\n",
              "    }\n",
              "</style>\n",
              "<table border=\"1\" class=\"dataframe\">\n",
              "  <thead>\n",
              "    <tr style=\"text-align: right;\">\n",
              "      <th></th>\n",
              "      <th>id</th>\n",
              "      <th>f0</th>\n",
              "      <th>f1</th>\n",
              "      <th>f2</th>\n",
              "      <th>product</th>\n",
              "    </tr>\n",
              "  </thead>\n",
              "  <tbody>\n",
              "    <tr>\n",
              "      <th>0</th>\n",
              "      <td>txEyH</td>\n",
              "      <td>0.705745</td>\n",
              "      <td>-0.497823</td>\n",
              "      <td>1.221170</td>\n",
              "      <td>105.280062</td>\n",
              "    </tr>\n",
              "    <tr>\n",
              "      <th>1</th>\n",
              "      <td>2acmU</td>\n",
              "      <td>1.334711</td>\n",
              "      <td>-0.340164</td>\n",
              "      <td>4.365080</td>\n",
              "      <td>73.037750</td>\n",
              "    </tr>\n",
              "    <tr>\n",
              "      <th>2</th>\n",
              "      <td>409Wp</td>\n",
              "      <td>1.022732</td>\n",
              "      <td>0.151990</td>\n",
              "      <td>1.419926</td>\n",
              "      <td>85.265647</td>\n",
              "    </tr>\n",
              "    <tr>\n",
              "      <th>3</th>\n",
              "      <td>iJLyR</td>\n",
              "      <td>-0.032172</td>\n",
              "      <td>0.139033</td>\n",
              "      <td>2.978566</td>\n",
              "      <td>168.620776</td>\n",
              "    </tr>\n",
              "    <tr>\n",
              "      <th>4</th>\n",
              "      <td>Xdl7t</td>\n",
              "      <td>1.988431</td>\n",
              "      <td>0.155413</td>\n",
              "      <td>4.751769</td>\n",
              "      <td>154.036647</td>\n",
              "    </tr>\n",
              "  </tbody>\n",
              "</table>\n",
              "</div>"
            ],
            "text/plain": [
              "      id        f0        f1        f2     product\n",
              "0  txEyH  0.705745 -0.497823  1.221170  105.280062\n",
              "1  2acmU  1.334711 -0.340164  4.365080   73.037750\n",
              "2  409Wp  1.022732  0.151990  1.419926   85.265647\n",
              "3  iJLyR -0.032172  0.139033  2.978566  168.620776\n",
              "4  Xdl7t  1.988431  0.155413  4.751769  154.036647"
            ]
          },
          "execution_count": 4,
          "metadata": {},
          "output_type": "execute_result"
        }
      ],
      "source": [
        "# смотрим на первый датасет\n",
        "geo0.head()"
      ]
    },
    {
      "cell_type": "code",
      "execution_count": null,
      "metadata": {
        "id": "YBut7bA6YSju",
        "outputId": "13ff7032-db70-4ad4-92ce-3198d3e6f519"
      },
      "outputs": [
        {
          "data": {
            "text/html": [
              "<div>\n",
              "<style scoped>\n",
              "    .dataframe tbody tr th:only-of-type {\n",
              "        vertical-align: middle;\n",
              "    }\n",
              "\n",
              "    .dataframe tbody tr th {\n",
              "        vertical-align: top;\n",
              "    }\n",
              "\n",
              "    .dataframe thead th {\n",
              "        text-align: right;\n",
              "    }\n",
              "</style>\n",
              "<table border=\"1\" class=\"dataframe\">\n",
              "  <thead>\n",
              "    <tr style=\"text-align: right;\">\n",
              "      <th></th>\n",
              "      <th>id</th>\n",
              "      <th>f0</th>\n",
              "      <th>f1</th>\n",
              "      <th>f2</th>\n",
              "      <th>product</th>\n",
              "    </tr>\n",
              "  </thead>\n",
              "  <tbody>\n",
              "    <tr>\n",
              "      <th>0</th>\n",
              "      <td>kBEdx</td>\n",
              "      <td>-15.001348</td>\n",
              "      <td>-8.276000</td>\n",
              "      <td>-0.005876</td>\n",
              "      <td>3.179103</td>\n",
              "    </tr>\n",
              "    <tr>\n",
              "      <th>1</th>\n",
              "      <td>62mP7</td>\n",
              "      <td>14.272088</td>\n",
              "      <td>-3.475083</td>\n",
              "      <td>0.999183</td>\n",
              "      <td>26.953261</td>\n",
              "    </tr>\n",
              "    <tr>\n",
              "      <th>2</th>\n",
              "      <td>vyE1P</td>\n",
              "      <td>6.263187</td>\n",
              "      <td>-5.948386</td>\n",
              "      <td>5.001160</td>\n",
              "      <td>134.766305</td>\n",
              "    </tr>\n",
              "    <tr>\n",
              "      <th>3</th>\n",
              "      <td>KcrkZ</td>\n",
              "      <td>-13.081196</td>\n",
              "      <td>-11.506057</td>\n",
              "      <td>4.999415</td>\n",
              "      <td>137.945408</td>\n",
              "    </tr>\n",
              "    <tr>\n",
              "      <th>4</th>\n",
              "      <td>AHL4O</td>\n",
              "      <td>12.702195</td>\n",
              "      <td>-8.147433</td>\n",
              "      <td>5.004363</td>\n",
              "      <td>134.766305</td>\n",
              "    </tr>\n",
              "  </tbody>\n",
              "</table>\n",
              "</div>"
            ],
            "text/plain": [
              "      id         f0         f1        f2     product\n",
              "0  kBEdx -15.001348  -8.276000 -0.005876    3.179103\n",
              "1  62mP7  14.272088  -3.475083  0.999183   26.953261\n",
              "2  vyE1P   6.263187  -5.948386  5.001160  134.766305\n",
              "3  KcrkZ -13.081196 -11.506057  4.999415  137.945408\n",
              "4  AHL4O  12.702195  -8.147433  5.004363  134.766305"
            ]
          },
          "execution_count": 5,
          "metadata": {},
          "output_type": "execute_result"
        }
      ],
      "source": [
        "# второй датасет\n",
        "geo1.head()"
      ]
    },
    {
      "cell_type": "code",
      "execution_count": null,
      "metadata": {
        "id": "L9-yNWuEYSju",
        "outputId": "22825a83-9dee-4d0e-8a3b-487d432a1c29"
      },
      "outputs": [
        {
          "data": {
            "text/html": [
              "<div>\n",
              "<style scoped>\n",
              "    .dataframe tbody tr th:only-of-type {\n",
              "        vertical-align: middle;\n",
              "    }\n",
              "\n",
              "    .dataframe tbody tr th {\n",
              "        vertical-align: top;\n",
              "    }\n",
              "\n",
              "    .dataframe thead th {\n",
              "        text-align: right;\n",
              "    }\n",
              "</style>\n",
              "<table border=\"1\" class=\"dataframe\">\n",
              "  <thead>\n",
              "    <tr style=\"text-align: right;\">\n",
              "      <th></th>\n",
              "      <th>id</th>\n",
              "      <th>f0</th>\n",
              "      <th>f1</th>\n",
              "      <th>f2</th>\n",
              "      <th>product</th>\n",
              "    </tr>\n",
              "  </thead>\n",
              "  <tbody>\n",
              "    <tr>\n",
              "      <th>0</th>\n",
              "      <td>fwXo0</td>\n",
              "      <td>-1.146987</td>\n",
              "      <td>0.963328</td>\n",
              "      <td>-0.828965</td>\n",
              "      <td>27.758673</td>\n",
              "    </tr>\n",
              "    <tr>\n",
              "      <th>1</th>\n",
              "      <td>WJtFt</td>\n",
              "      <td>0.262778</td>\n",
              "      <td>0.269839</td>\n",
              "      <td>-2.530187</td>\n",
              "      <td>56.069697</td>\n",
              "    </tr>\n",
              "    <tr>\n",
              "      <th>2</th>\n",
              "      <td>ovLUW</td>\n",
              "      <td>0.194587</td>\n",
              "      <td>0.289035</td>\n",
              "      <td>-5.586433</td>\n",
              "      <td>62.871910</td>\n",
              "    </tr>\n",
              "    <tr>\n",
              "      <th>3</th>\n",
              "      <td>q6cA6</td>\n",
              "      <td>2.236060</td>\n",
              "      <td>-0.553760</td>\n",
              "      <td>0.930038</td>\n",
              "      <td>114.572842</td>\n",
              "    </tr>\n",
              "    <tr>\n",
              "      <th>4</th>\n",
              "      <td>WPMUX</td>\n",
              "      <td>-0.515993</td>\n",
              "      <td>1.716266</td>\n",
              "      <td>5.899011</td>\n",
              "      <td>149.600746</td>\n",
              "    </tr>\n",
              "  </tbody>\n",
              "</table>\n",
              "</div>"
            ],
            "text/plain": [
              "      id        f0        f1        f2     product\n",
              "0  fwXo0 -1.146987  0.963328 -0.828965   27.758673\n",
              "1  WJtFt  0.262778  0.269839 -2.530187   56.069697\n",
              "2  ovLUW  0.194587  0.289035 -5.586433   62.871910\n",
              "3  q6cA6  2.236060 -0.553760  0.930038  114.572842\n",
              "4  WPMUX -0.515993  1.716266  5.899011  149.600746"
            ]
          },
          "execution_count": 6,
          "metadata": {},
          "output_type": "execute_result"
        }
      ],
      "source": [
        "# третий датасет\n",
        "geo2.head()"
      ]
    },
    {
      "cell_type": "code",
      "execution_count": null,
      "metadata": {
        "id": "5GaIKaUvYSjv",
        "outputId": "dda699e6-b3ca-4750-f79b-fcd45dd3ad80"
      },
      "outputs": [
        {
          "name": "stdout",
          "output_type": "stream",
          "text": [
            "Первый регион: \n",
            "id         0.0\n",
            "f0         0.0\n",
            "f1         0.0\n",
            "f2         0.0\n",
            "product    0.0\n",
            "dtype: float64\n",
            "---------------\n",
            "Второй регион: \n",
            "id         0.0\n",
            "f0         0.0\n",
            "f1         0.0\n",
            "f2         0.0\n",
            "product    0.0\n",
            "dtype: float64\n",
            "---------------\n",
            "Третий регион: \n",
            "id         0.0\n",
            "f0         0.0\n",
            "f1         0.0\n",
            "f2         0.0\n",
            "product    0.0\n",
            "dtype: float64\n"
          ]
        }
      ],
      "source": [
        "# пропуски в данных\n",
        "print(f'Первый регион: \\n{geo0.isna().mean()}')\n",
        "print('-'*15)\n",
        "print(f'Второй регион: \\n{geo1.isna().mean()}')\n",
        "print('-'*15)\n",
        "print(f'Третий регион: \\n{geo2.isna().mean()}')"
      ]
    },
    {
      "cell_type": "code",
      "execution_count": null,
      "metadata": {
        "id": "ZfdubXMaYSjv",
        "outputId": "4dbe1580-02b6-49e3-995a-87c68f5b59cc"
      },
      "outputs": [
        {
          "data": {
            "text/plain": [
              "0.0001"
            ]
          },
          "execution_count": 8,
          "metadata": {},
          "output_type": "execute_result"
        }
      ],
      "source": [
        "# дубликаты по скважинам первого региона\n",
        "geo0.duplicated(subset=['id']).mean()"
      ]
    },
    {
      "cell_type": "code",
      "execution_count": null,
      "metadata": {
        "id": "GNCyzWqXYSjv",
        "outputId": "2fee7b48-a21a-4377-d101-77bbc31e38ea"
      },
      "outputs": [
        {
          "data": {
            "text/html": [
              "<div>\n",
              "<style scoped>\n",
              "    .dataframe tbody tr th:only-of-type {\n",
              "        vertical-align: middle;\n",
              "    }\n",
              "\n",
              "    .dataframe tbody tr th {\n",
              "        vertical-align: top;\n",
              "    }\n",
              "\n",
              "    .dataframe thead th {\n",
              "        text-align: right;\n",
              "    }\n",
              "</style>\n",
              "<table border=\"1\" class=\"dataframe\">\n",
              "  <thead>\n",
              "    <tr style=\"text-align: right;\">\n",
              "      <th></th>\n",
              "      <th>id</th>\n",
              "      <th>f0</th>\n",
              "      <th>f1</th>\n",
              "      <th>f2</th>\n",
              "      <th>product</th>\n",
              "    </tr>\n",
              "  </thead>\n",
              "  <tbody>\n",
              "    <tr>\n",
              "      <th>89582</th>\n",
              "      <td>bsk9y</td>\n",
              "      <td>0.398908</td>\n",
              "      <td>-0.400253</td>\n",
              "      <td>10.122376</td>\n",
              "      <td>163.433078</td>\n",
              "    </tr>\n",
              "    <tr>\n",
              "      <th>97785</th>\n",
              "      <td>bsk9y</td>\n",
              "      <td>0.378429</td>\n",
              "      <td>0.005837</td>\n",
              "      <td>0.160827</td>\n",
              "      <td>160.637302</td>\n",
              "    </tr>\n",
              "    <tr>\n",
              "      <th>7530</th>\n",
              "      <td>HZww2</td>\n",
              "      <td>1.061194</td>\n",
              "      <td>-0.373969</td>\n",
              "      <td>10.430210</td>\n",
              "      <td>158.828695</td>\n",
              "    </tr>\n",
              "    <tr>\n",
              "      <th>64022</th>\n",
              "      <td>74z30</td>\n",
              "      <td>0.741456</td>\n",
              "      <td>0.459229</td>\n",
              "      <td>5.153109</td>\n",
              "      <td>140.771492</td>\n",
              "    </tr>\n",
              "    <tr>\n",
              "      <th>90815</th>\n",
              "      <td>fiKDv</td>\n",
              "      <td>0.049883</td>\n",
              "      <td>0.841313</td>\n",
              "      <td>6.394613</td>\n",
              "      <td>137.346586</td>\n",
              "    </tr>\n",
              "    <tr>\n",
              "      <th>66136</th>\n",
              "      <td>74z30</td>\n",
              "      <td>1.084962</td>\n",
              "      <td>-0.312358</td>\n",
              "      <td>6.990771</td>\n",
              "      <td>127.643327</td>\n",
              "    </tr>\n",
              "    <tr>\n",
              "      <th>42529</th>\n",
              "      <td>AGS9W</td>\n",
              "      <td>1.454747</td>\n",
              "      <td>-0.479651</td>\n",
              "      <td>0.683380</td>\n",
              "      <td>126.370504</td>\n",
              "    </tr>\n",
              "    <tr>\n",
              "      <th>92341</th>\n",
              "      <td>TtcGQ</td>\n",
              "      <td>0.110711</td>\n",
              "      <td>1.022689</td>\n",
              "      <td>0.911381</td>\n",
              "      <td>101.318008</td>\n",
              "    </tr>\n",
              "    <tr>\n",
              "      <th>21426</th>\n",
              "      <td>Tdehs</td>\n",
              "      <td>0.829407</td>\n",
              "      <td>0.298807</td>\n",
              "      <td>-0.049563</td>\n",
              "      <td>96.035308</td>\n",
              "    </tr>\n",
              "    <tr>\n",
              "      <th>16633</th>\n",
              "      <td>fiKDv</td>\n",
              "      <td>0.157341</td>\n",
              "      <td>1.028359</td>\n",
              "      <td>5.585586</td>\n",
              "      <td>95.817889</td>\n",
              "    </tr>\n",
              "    <tr>\n",
              "      <th>41724</th>\n",
              "      <td>bxg6G</td>\n",
              "      <td>-0.823752</td>\n",
              "      <td>0.546319</td>\n",
              "      <td>3.630479</td>\n",
              "      <td>93.007798</td>\n",
              "    </tr>\n",
              "    <tr>\n",
              "      <th>3389</th>\n",
              "      <td>A5aEY</td>\n",
              "      <td>-0.039949</td>\n",
              "      <td>0.156872</td>\n",
              "      <td>0.209861</td>\n",
              "      <td>89.249364</td>\n",
              "    </tr>\n",
              "    <tr>\n",
              "      <th>60140</th>\n",
              "      <td>TtcGQ</td>\n",
              "      <td>0.569276</td>\n",
              "      <td>-0.104876</td>\n",
              "      <td>6.440215</td>\n",
              "      <td>85.350186</td>\n",
              "    </tr>\n",
              "    <tr>\n",
              "      <th>1949</th>\n",
              "      <td>QcMuo</td>\n",
              "      <td>0.506563</td>\n",
              "      <td>-0.323775</td>\n",
              "      <td>-2.215583</td>\n",
              "      <td>75.496502</td>\n",
              "    </tr>\n",
              "    <tr>\n",
              "      <th>1364</th>\n",
              "      <td>bxg6G</td>\n",
              "      <td>0.411645</td>\n",
              "      <td>0.856830</td>\n",
              "      <td>-3.653440</td>\n",
              "      <td>73.604260</td>\n",
              "    </tr>\n",
              "    <tr>\n",
              "      <th>63593</th>\n",
              "      <td>QcMuo</td>\n",
              "      <td>0.635635</td>\n",
              "      <td>-0.473422</td>\n",
              "      <td>0.862670</td>\n",
              "      <td>64.578675</td>\n",
              "    </tr>\n",
              "    <tr>\n",
              "      <th>75715</th>\n",
              "      <td>Tdehs</td>\n",
              "      <td>0.112079</td>\n",
              "      <td>0.430296</td>\n",
              "      <td>3.218993</td>\n",
              "      <td>60.964018</td>\n",
              "    </tr>\n",
              "    <tr>\n",
              "      <th>51970</th>\n",
              "      <td>A5aEY</td>\n",
              "      <td>-0.180335</td>\n",
              "      <td>0.935548</td>\n",
              "      <td>-2.094773</td>\n",
              "      <td>33.020205</td>\n",
              "    </tr>\n",
              "    <tr>\n",
              "      <th>931</th>\n",
              "      <td>HZww2</td>\n",
              "      <td>0.755284</td>\n",
              "      <td>0.368511</td>\n",
              "      <td>1.863211</td>\n",
              "      <td>30.681774</td>\n",
              "    </tr>\n",
              "    <tr>\n",
              "      <th>69163</th>\n",
              "      <td>AGS9W</td>\n",
              "      <td>-0.933795</td>\n",
              "      <td>0.116194</td>\n",
              "      <td>-3.655896</td>\n",
              "      <td>19.230453</td>\n",
              "    </tr>\n",
              "  </tbody>\n",
              "</table>\n",
              "</div>"
            ],
            "text/plain": [
              "          id        f0        f1         f2     product\n",
              "89582  bsk9y  0.398908 -0.400253  10.122376  163.433078\n",
              "97785  bsk9y  0.378429  0.005837   0.160827  160.637302\n",
              "7530   HZww2  1.061194 -0.373969  10.430210  158.828695\n",
              "64022  74z30  0.741456  0.459229   5.153109  140.771492\n",
              "90815  fiKDv  0.049883  0.841313   6.394613  137.346586\n",
              "66136  74z30  1.084962 -0.312358   6.990771  127.643327\n",
              "42529  AGS9W  1.454747 -0.479651   0.683380  126.370504\n",
              "92341  TtcGQ  0.110711  1.022689   0.911381  101.318008\n",
              "21426  Tdehs  0.829407  0.298807  -0.049563   96.035308\n",
              "16633  fiKDv  0.157341  1.028359   5.585586   95.817889\n",
              "41724  bxg6G -0.823752  0.546319   3.630479   93.007798\n",
              "3389   A5aEY -0.039949  0.156872   0.209861   89.249364\n",
              "60140  TtcGQ  0.569276 -0.104876   6.440215   85.350186\n",
              "1949   QcMuo  0.506563 -0.323775  -2.215583   75.496502\n",
              "1364   bxg6G  0.411645  0.856830  -3.653440   73.604260\n",
              "63593  QcMuo  0.635635 -0.473422   0.862670   64.578675\n",
              "75715  Tdehs  0.112079  0.430296   3.218993   60.964018\n",
              "51970  A5aEY -0.180335  0.935548  -2.094773   33.020205\n",
              "931    HZww2  0.755284  0.368511   1.863211   30.681774\n",
              "69163  AGS9W -0.933795  0.116194  -3.655896   19.230453"
            ]
          },
          "execution_count": 9,
          "metadata": {},
          "output_type": "execute_result"
        }
      ],
      "source": [
        "# дубликаты по скважинам первого региона\n",
        "geo0[geo0.duplicated(subset=['id'], keep=False)].sort_values(by='product', ascending=False)"
      ]
    },
    {
      "cell_type": "markdown",
      "metadata": {
        "id": "nT-OqTmDYSjw"
      },
      "source": [
        "Видим, что у одной и той же скважины разные ресурсы, такого быть не может - очищаем данные, неизвестно какая из скважин актуальная"
      ]
    },
    {
      "cell_type": "code",
      "execution_count": null,
      "metadata": {
        "id": "fNc4bGePYSjw",
        "outputId": "57ce3df6-74ee-4226-abcb-217f26d3e03d"
      },
      "outputs": [
        {
          "data": {
            "text/plain": [
              "4e-05"
            ]
          },
          "execution_count": 10,
          "metadata": {},
          "output_type": "execute_result"
        }
      ],
      "source": [
        "# дубликаты по скважинам второго региона\n",
        "geo1.duplicated(subset=['id']).mean()"
      ]
    },
    {
      "cell_type": "code",
      "execution_count": null,
      "metadata": {
        "id": "peA7IL2jYSjw",
        "outputId": "217b95fa-7692-470b-cbfc-d6aeeab1a280"
      },
      "outputs": [
        {
          "data": {
            "text/html": [
              "<div>\n",
              "<style scoped>\n",
              "    .dataframe tbody tr th:only-of-type {\n",
              "        vertical-align: middle;\n",
              "    }\n",
              "\n",
              "    .dataframe tbody tr th {\n",
              "        vertical-align: top;\n",
              "    }\n",
              "\n",
              "    .dataframe thead th {\n",
              "        text-align: right;\n",
              "    }\n",
              "</style>\n",
              "<table border=\"1\" class=\"dataframe\">\n",
              "  <thead>\n",
              "    <tr style=\"text-align: right;\">\n",
              "      <th></th>\n",
              "      <th>id</th>\n",
              "      <th>f0</th>\n",
              "      <th>f1</th>\n",
              "      <th>f2</th>\n",
              "      <th>product</th>\n",
              "    </tr>\n",
              "  </thead>\n",
              "  <tbody>\n",
              "    <tr>\n",
              "      <th>82873</th>\n",
              "      <td>wt4Uk</td>\n",
              "      <td>10.259972</td>\n",
              "      <td>-9.376355</td>\n",
              "      <td>4.994297</td>\n",
              "      <td>134.766305</td>\n",
              "    </tr>\n",
              "    <tr>\n",
              "      <th>2721</th>\n",
              "      <td>bfPNe</td>\n",
              "      <td>-9.494442</td>\n",
              "      <td>-5.463692</td>\n",
              "      <td>4.006042</td>\n",
              "      <td>110.992147</td>\n",
              "    </tr>\n",
              "    <tr>\n",
              "      <th>84461</th>\n",
              "      <td>5ltQ6</td>\n",
              "      <td>18.213839</td>\n",
              "      <td>2.191999</td>\n",
              "      <td>3.993869</td>\n",
              "      <td>107.813044</td>\n",
              "    </tr>\n",
              "    <tr>\n",
              "      <th>82178</th>\n",
              "      <td>bfPNe</td>\n",
              "      <td>-6.202799</td>\n",
              "      <td>-4.820045</td>\n",
              "      <td>2.995107</td>\n",
              "      <td>84.038886</td>\n",
              "    </tr>\n",
              "    <tr>\n",
              "      <th>1305</th>\n",
              "      <td>LHZR0</td>\n",
              "      <td>11.170835</td>\n",
              "      <td>-1.945066</td>\n",
              "      <td>3.002872</td>\n",
              "      <td>80.859783</td>\n",
              "    </tr>\n",
              "    <tr>\n",
              "      <th>5849</th>\n",
              "      <td>5ltQ6</td>\n",
              "      <td>-3.435401</td>\n",
              "      <td>-12.296043</td>\n",
              "      <td>1.999796</td>\n",
              "      <td>57.085625</td>\n",
              "    </tr>\n",
              "    <tr>\n",
              "      <th>41906</th>\n",
              "      <td>LHZR0</td>\n",
              "      <td>-8.989672</td>\n",
              "      <td>-4.286607</td>\n",
              "      <td>2.009139</td>\n",
              "      <td>57.085625</td>\n",
              "    </tr>\n",
              "    <tr>\n",
              "      <th>47591</th>\n",
              "      <td>wt4Uk</td>\n",
              "      <td>-9.091098</td>\n",
              "      <td>-8.109279</td>\n",
              "      <td>-0.002314</td>\n",
              "      <td>3.179103</td>\n",
              "    </tr>\n",
              "  </tbody>\n",
              "</table>\n",
              "</div>"
            ],
            "text/plain": [
              "          id         f0         f1        f2     product\n",
              "82873  wt4Uk  10.259972  -9.376355  4.994297  134.766305\n",
              "2721   bfPNe  -9.494442  -5.463692  4.006042  110.992147\n",
              "84461  5ltQ6  18.213839   2.191999  3.993869  107.813044\n",
              "82178  bfPNe  -6.202799  -4.820045  2.995107   84.038886\n",
              "1305   LHZR0  11.170835  -1.945066  3.002872   80.859783\n",
              "5849   5ltQ6  -3.435401 -12.296043  1.999796   57.085625\n",
              "41906  LHZR0  -8.989672  -4.286607  2.009139   57.085625\n",
              "47591  wt4Uk  -9.091098  -8.109279 -0.002314    3.179103"
            ]
          },
          "execution_count": 11,
          "metadata": {},
          "output_type": "execute_result"
        }
      ],
      "source": [
        "# дубликаты по скважинам\n",
        "geo1[geo1.duplicated(subset=['id'], keep=False)].sort_values(by='product', ascending=False)"
      ]
    },
    {
      "cell_type": "code",
      "execution_count": null,
      "metadata": {
        "id": "Dh9cMgguYSjw",
        "outputId": "d7248248-e923-4416-b592-c24410d82b1b"
      },
      "outputs": [
        {
          "data": {
            "text/plain": [
              "4e-05"
            ]
          },
          "execution_count": 12,
          "metadata": {},
          "output_type": "execute_result"
        }
      ],
      "source": [
        "# дубликаты по скважинам третьего региона\n",
        "geo2.duplicated(subset=['id']).mean()"
      ]
    },
    {
      "cell_type": "code",
      "execution_count": null,
      "metadata": {
        "id": "E1YAqlu7YSjw",
        "outputId": "fecd8aa5-5a28-4593-c1dd-abd09685556f"
      },
      "outputs": [
        {
          "data": {
            "text/html": [
              "<div>\n",
              "<style scoped>\n",
              "    .dataframe tbody tr th:only-of-type {\n",
              "        vertical-align: middle;\n",
              "    }\n",
              "\n",
              "    .dataframe tbody tr th {\n",
              "        vertical-align: top;\n",
              "    }\n",
              "\n",
              "    .dataframe thead th {\n",
              "        text-align: right;\n",
              "    }\n",
              "</style>\n",
              "<table border=\"1\" class=\"dataframe\">\n",
              "  <thead>\n",
              "    <tr style=\"text-align: right;\">\n",
              "      <th></th>\n",
              "      <th>id</th>\n",
              "      <th>f0</th>\n",
              "      <th>f1</th>\n",
              "      <th>f2</th>\n",
              "      <th>product</th>\n",
              "    </tr>\n",
              "  </thead>\n",
              "  <tbody>\n",
              "    <tr>\n",
              "      <th>43233</th>\n",
              "      <td>xCHr8</td>\n",
              "      <td>-0.847066</td>\n",
              "      <td>2.101796</td>\n",
              "      <td>5.597130</td>\n",
              "      <td>184.388641</td>\n",
              "    </tr>\n",
              "    <tr>\n",
              "      <th>11449</th>\n",
              "      <td>VF7Jo</td>\n",
              "      <td>2.122656</td>\n",
              "      <td>-0.858275</td>\n",
              "      <td>5.746001</td>\n",
              "      <td>181.716817</td>\n",
              "    </tr>\n",
              "    <tr>\n",
              "      <th>44378</th>\n",
              "      <td>Vcm5J</td>\n",
              "      <td>-1.229484</td>\n",
              "      <td>-2.439204</td>\n",
              "      <td>1.222909</td>\n",
              "      <td>137.968290</td>\n",
              "    </tr>\n",
              "    <tr>\n",
              "      <th>49564</th>\n",
              "      <td>VF7Jo</td>\n",
              "      <td>-0.883115</td>\n",
              "      <td>0.560537</td>\n",
              "      <td>0.723601</td>\n",
              "      <td>136.233420</td>\n",
              "    </tr>\n",
              "    <tr>\n",
              "      <th>55967</th>\n",
              "      <td>KUPhW</td>\n",
              "      <td>1.211150</td>\n",
              "      <td>3.176408</td>\n",
              "      <td>5.543540</td>\n",
              "      <td>132.831802</td>\n",
              "    </tr>\n",
              "    <tr>\n",
              "      <th>95090</th>\n",
              "      <td>Vcm5J</td>\n",
              "      <td>2.587702</td>\n",
              "      <td>1.986875</td>\n",
              "      <td>2.482245</td>\n",
              "      <td>92.327572</td>\n",
              "    </tr>\n",
              "    <tr>\n",
              "      <th>45404</th>\n",
              "      <td>KUPhW</td>\n",
              "      <td>0.231846</td>\n",
              "      <td>-1.698941</td>\n",
              "      <td>4.990775</td>\n",
              "      <td>11.716299</td>\n",
              "    </tr>\n",
              "    <tr>\n",
              "      <th>28039</th>\n",
              "      <td>xCHr8</td>\n",
              "      <td>1.633027</td>\n",
              "      <td>0.368135</td>\n",
              "      <td>-2.378367</td>\n",
              "      <td>6.120525</td>\n",
              "    </tr>\n",
              "  </tbody>\n",
              "</table>\n",
              "</div>"
            ],
            "text/plain": [
              "          id        f0        f1        f2     product\n",
              "43233  xCHr8 -0.847066  2.101796  5.597130  184.388641\n",
              "11449  VF7Jo  2.122656 -0.858275  5.746001  181.716817\n",
              "44378  Vcm5J -1.229484 -2.439204  1.222909  137.968290\n",
              "49564  VF7Jo -0.883115  0.560537  0.723601  136.233420\n",
              "55967  KUPhW  1.211150  3.176408  5.543540  132.831802\n",
              "95090  Vcm5J  2.587702  1.986875  2.482245   92.327572\n",
              "45404  KUPhW  0.231846 -1.698941  4.990775   11.716299\n",
              "28039  xCHr8  1.633027  0.368135 -2.378367    6.120525"
            ]
          },
          "execution_count": 13,
          "metadata": {},
          "output_type": "execute_result"
        }
      ],
      "source": [
        "# дубликаты по скважинам\n",
        "geo2[geo2.duplicated(subset=['id'], keep=False)].sort_values(by='product', ascending=False)"
      ]
    },
    {
      "cell_type": "markdown",
      "metadata": {
        "id": "pUvqPFWsYSjw"
      },
      "source": [
        "Такая же ситуация и по двум другим регионам - удаляем эти дубликаты, необходимо сообщить разработчикам о найденом, чтобы они нашли причину появления дубликатов"
      ]
    },
    {
      "cell_type": "code",
      "execution_count": null,
      "metadata": {
        "id": "dEcYiI_WYSjx"
      },
      "outputs": [],
      "source": [
        "# очищаем данные от мусора\n",
        "for data in [geo0, geo1, geo2]:\n",
        "    data = data.drop_duplicates(subset='id', keep=False)"
      ]
    },
    {
      "cell_type": "code",
      "execution_count": null,
      "metadata": {
        "id": "K4wRq_eZYSjx",
        "outputId": "cb36e218-44ed-4f20-ac7d-71fcd1dd42f3"
      },
      "outputs": [
        {
          "data": {
            "image/png": "[encoded data removed]",
            "text/plain": [
              "<Figure size 1080x504 with 4 Axes>"
            ]
          },
          "metadata": {},
          "output_type": "display_data"
        }
      ],
      "source": [
        "# распределение признаков первого региона\n",
        "geo0.hist(figsize=(15, 7), bins=100);"
      ]
    },
    {
      "cell_type": "markdown",
      "metadata": {
        "id": "usUosh_6YSjx"
      },
      "source": [
        "Похоже признакам f0 и f1 не хватает \\ОоО/ глаз"
      ]
    },
    {
      "cell_type": "code",
      "execution_count": null,
      "metadata": {
        "id": "qsJKtBOUYSjy",
        "outputId": "9994a9cd-0cc7-4f7a-986c-a5d0ca7a7ffc"
      },
      "outputs": [
        {
          "data": {
            "image/png": "[encoded data removed]",
            "text/plain": [
              "<Figure size 1080x504 with 4 Axes>"
            ]
          },
          "metadata": {},
          "output_type": "display_data"
        }
      ],
      "source": [
        "# распределение признаков второго региона\n",
        "geo1.hist(figsize=(15, 7), bins=100);"
      ]
    },
    {
      "cell_type": "markdown",
      "metadata": {
        "id": "MoFMNnAuYSjy"
      },
      "source": [
        "Похоже, что данные разрежжены"
      ]
    },
    {
      "cell_type": "code",
      "execution_count": null,
      "metadata": {
        "id": "-HYO4BWsYSjy",
        "outputId": "4b8a72d2-2a70-428c-ebb6-a03df3040def"
      },
      "outputs": [
        {
          "data": {
            "image/png": "[encoded data removed]",
            "text/plain": [
              "<Figure size 1080x504 with 4 Axes>"
            ]
          },
          "metadata": {},
          "output_type": "display_data"
        }
      ],
      "source": [
        "# распределение признаков второго региона\n",
        "geo2.hist(figsize=(15, 7), bins=100);"
      ]
    },
    {
      "cell_type": "markdown",
      "metadata": {
        "id": "rrjeuvs_YSjy"
      },
      "source": [
        "Теперь посмотрим мнение метода Пирсона"
      ]
    },
    {
      "cell_type": "code",
      "execution_count": null,
      "metadata": {
        "id": "M7nzqboTYSjz",
        "outputId": "81e97ae1-323b-4fe5-81f9-9d148a5c5453"
      },
      "outputs": [
        {
          "data": {
            "image/png": "[encoded data removed]",
            "text/plain": [
              "<Figure size 432x288 with 2 Axes>"
            ]
          },
          "metadata": {},
          "output_type": "display_data"
        },
        {
          "data": {
            "image/png": "[encoded data removed]",
            "text/plain": [
              "<Figure size 432x288 with 2 Axes>"
            ]
          },
          "metadata": {},
          "output_type": "display_data"
        },
        {
          "data": {
            "image/png": "[encoded data removed]",
            "text/plain": [
              "<Figure size 432x288 with 2 Axes>"
            ]
          },
          "metadata": {},
          "output_type": "display_data"
        }
      ],
      "source": [
        "count = 1\n",
        "data_list = [geo0, geo1, geo2]\n",
        "for correl in data_list:\n",
        "    geo_corr = correl.corr()\n",
        "    sns.heatmap(geo_corr, annot=True);\n",
        "    plt.title('Регион ' + str(count))\n",
        "    plt.xlabel('Correlation')\n",
        "    plt.ylabel('Feature')\n",
        "    plt.show()\n",
        "    count += 1"
      ]
    },
    {
      "cell_type": "markdown",
      "metadata": {
        "id": "LAws1eExYSjz"
      },
      "source": [
        "Видим, что присутствует отрицательная слабая зависимость в первом регионе между признаками f0 и f1, во втором регионе очень сильная зависимость между целевым признаком и признаком f2"
      ]
    },
    {
      "cell_type": "markdown",
      "metadata": {
        "id": "w4U2-KGLYSj0"
      },
      "source": [
        "\n",
        "\n",
        "Данные готовы к исследованию\n",
        "\n",
        "#### Промежуточный вывод:\n",
        "Мы имеем 100.000 объектов и 5 признаков по каждому из трех регионов,   \n",
        "очистили данные и посмотрели распределения, теперь готовы перейти к исследованию\n",
        "\n",
        "\n",
        "---"
      ]
    },
    {
      "cell_type": "markdown",
      "metadata": {
        "id": "URX_OsAWYSj1"
      },
      "source": [
        "## Обучение и проверка модели"
      ]
    },
    {
      "cell_type": "code",
      "execution_count": null,
      "metadata": {
        "id": "5S27wIKLYSj1",
        "outputId": "c97e2e38-3c94-4a72-c73f-751d2525cad6"
      },
      "outputs": [
        {
          "data": {
            "text/html": [
              "<div>\n",
              "<style scoped>\n",
              "    .dataframe tbody tr th:only-of-type {\n",
              "        vertical-align: middle;\n",
              "    }\n",
              "\n",
              "    .dataframe tbody tr th {\n",
              "        vertical-align: top;\n",
              "    }\n",
              "\n",
              "    .dataframe thead th {\n",
              "        text-align: right;\n",
              "    }\n",
              "</style>\n",
              "<table border=\"1\" class=\"dataframe\">\n",
              "  <thead>\n",
              "    <tr style=\"text-align: right;\">\n",
              "      <th></th>\n",
              "      <th>id</th>\n",
              "      <th>f0</th>\n",
              "      <th>f1</th>\n",
              "      <th>f2</th>\n",
              "      <th>product</th>\n",
              "    </tr>\n",
              "  </thead>\n",
              "  <tbody>\n",
              "    <tr>\n",
              "      <th>0</th>\n",
              "      <td>txEyH</td>\n",
              "      <td>0.705745</td>\n",
              "      <td>-0.497823</td>\n",
              "      <td>1.221170</td>\n",
              "      <td>105.280062</td>\n",
              "    </tr>\n",
              "    <tr>\n",
              "      <th>1</th>\n",
              "      <td>2acmU</td>\n",
              "      <td>1.334711</td>\n",
              "      <td>-0.340164</td>\n",
              "      <td>4.365080</td>\n",
              "      <td>73.037750</td>\n",
              "    </tr>\n",
              "    <tr>\n",
              "      <th>2</th>\n",
              "      <td>409Wp</td>\n",
              "      <td>1.022732</td>\n",
              "      <td>0.151990</td>\n",
              "      <td>1.419926</td>\n",
              "      <td>85.265647</td>\n",
              "    </tr>\n",
              "    <tr>\n",
              "      <th>3</th>\n",
              "      <td>iJLyR</td>\n",
              "      <td>-0.032172</td>\n",
              "      <td>0.139033</td>\n",
              "      <td>2.978566</td>\n",
              "      <td>168.620776</td>\n",
              "    </tr>\n",
              "    <tr>\n",
              "      <th>4</th>\n",
              "      <td>Xdl7t</td>\n",
              "      <td>1.988431</td>\n",
              "      <td>0.155413</td>\n",
              "      <td>4.751769</td>\n",
              "      <td>154.036647</td>\n",
              "    </tr>\n",
              "  </tbody>\n",
              "</table>\n",
              "</div>"
            ],
            "text/plain": [
              "      id        f0        f1        f2     product\n",
              "0  txEyH  0.705745 -0.497823  1.221170  105.280062\n",
              "1  2acmU  1.334711 -0.340164  4.365080   73.037750\n",
              "2  409Wp  1.022732  0.151990  1.419926   85.265647\n",
              "3  iJLyR -0.032172  0.139033  2.978566  168.620776\n",
              "4  Xdl7t  1.988431  0.155413  4.751769  154.036647"
            ]
          },
          "execution_count": 19,
          "metadata": {},
          "output_type": "execute_result"
        }
      ],
      "source": [
        "# выведем для удобства\n",
        "geo0.head()"
      ]
    },
    {
      "cell_type": "code",
      "execution_count": null,
      "metadata": {
        "id": "ZZS_VQ90YSj1"
      },
      "outputs": [],
      "source": [
        "#фичи и таргет\n",
        "X = geo0.columns.drop(['id', 'product'])\n",
        "y= ['product']\n",
        "\n",
        "# функция для обучения модели и получения метрики и датафрейма с таргетом и предскзанием\n",
        "def model_predict(data: pd.DataFrame):\n",
        "    ''' Получение датафрейма с таргетом и предсказанием тестовой выборки и скора(RMSE)\n",
        "\n",
        "    :param data: данные по региону, представленные в виде pandas.DataFrame\n",
        "\n",
        "    Переменные модели:\n",
        "    - pipline: создаем конвейер с масштабированием данных и моделью линейной регрессии\n",
        "    - model: обученная модель на тренировочной выборке\n",
        "    - y_pred:  предсказание модели переформатированное в Series\n",
        "    - score:  RMSE предсказания\n",
        "    - target_pred_data: объединение таргета тестовой выборки и предсказания\n",
        "\n",
        "    # выводим средний запас региона по тестовой выборке и метрику\n",
        "    - return:  на выход получаем датафрейм с объединенными таргетом и предсказанием и скор модели\n",
        "    '''\n",
        "\n",
        "    pipeline = make_pipeline(StandardScaler(), LinearRegression())\n",
        "\n",
        "    train, test = train_test_split(data, test_size=0.25, random_state=RANDOM_STATE)\n",
        "\n",
        "    model = pipeline.fit(train[X], train[y])\n",
        "\n",
        "    y_pred = model.predict(test[X])\n",
        "    y_pred = pd.Series(y_pred.flatten())\n",
        "\n",
        "    score = mean_squared_error(test[y], y_pred, squared=False)\n",
        "\n",
        "    target_pred_data = pd.concat([test[y].reset_index(drop=True), y_pred], axis=1)\n",
        "\n",
        "    target_pred_data = target_pred_data.rename(columns={\"product\": \"target\", 0: \"pred\"})\n",
        "\n",
        "    print(f'Средний запас региона по предсказанному на тестовой выборке {y_pred.mean():.2f}')\n",
        "\n",
        "    print(f'RMSE региона: {score:.2f}')\n",
        "\n",
        "    return target_pred_data, score"
      ]
    },
    {
      "cell_type": "code",
      "execution_count": null,
      "metadata": {
        "id": "3UoYKnolYSj2",
        "outputId": "ad7ffe4b-7b32-48b1-af87-359d9761f63b"
      },
      "outputs": [
        {
          "name": "stdout",
          "output_type": "stream",
          "text": [
            "Средний запас региона по предсказанному на тестовой выборке 92.40\n",
            "RMSE региона: 37.76\n"
          ]
        }
      ],
      "source": [
        "# получаем тестовую выборку первого региона\n",
        "test0, rmse0 = model_predict(geo0)"
      ]
    },
    {
      "cell_type": "code",
      "execution_count": null,
      "metadata": {
        "id": "PuQmfJghYSj2",
        "outputId": "4992fe39-4ab3-418f-c447-7d1fd57088b2"
      },
      "outputs": [
        {
          "data": {
            "text/plain": [
              "target    0.0\n",
              "pred      0.0\n",
              "dtype: float64"
            ]
          },
          "execution_count": 22,
          "metadata": {},
          "output_type": "execute_result"
        }
      ],
      "source": [
        "# смотрим все ли нормально записалось\n",
        "test0.isna().mean()"
      ]
    },
    {
      "cell_type": "code",
      "execution_count": null,
      "metadata": {
        "id": "xk52ps9oYSj2",
        "outputId": "ced033b3-cf2c-4a37-f432-719e27dc3e77"
      },
      "outputs": [
        {
          "name": "stdout",
          "output_type": "stream",
          "text": [
            "Средний запас региона по предсказанному на тестовой выборке 68.71\n",
            "RMSE региона: 0.89\n"
          ]
        }
      ],
      "source": [
        "# получаем тестовую выборку второго региона\n",
        "test1, rmse1 = model_predict(geo1)"
      ]
    },
    {
      "cell_type": "code",
      "execution_count": null,
      "metadata": {
        "id": "BL3TAqHoYSj2",
        "outputId": "e8d3dd7f-a2d7-4287-b1aa-666809a036c4"
      },
      "outputs": [
        {
          "data": {
            "text/plain": [
              "target    0.0\n",
              "pred      0.0\n",
              "dtype: float64"
            ]
          },
          "execution_count": 24,
          "metadata": {},
          "output_type": "execute_result"
        }
      ],
      "source": [
        "# смотрим все ли нормально записалось\n",
        "test1.isna().mean()"
      ]
    },
    {
      "cell_type": "markdown",
      "metadata": {
        "id": "Pb88E-3jYSj3"
      },
      "source": [
        "Видим, что очень высокая корреляция свела ошибку к минимуму"
      ]
    },
    {
      "cell_type": "markdown",
      "metadata": {
        "id": "fIvIgngoYSj3"
      },
      "source": [
        "Теперь все отлично  \n",
        "  \n",
        "Теперь получим данные о третьем регионе"
      ]
    },
    {
      "cell_type": "code",
      "execution_count": null,
      "metadata": {
        "id": "XSkIM9ZFYSj3",
        "outputId": "043c8f8e-1a48-4bda-b53b-a6f7dba5bbbe"
      },
      "outputs": [
        {
          "name": "stdout",
          "output_type": "stream",
          "text": [
            "Средний запас региона по предсказанному на тестовой выборке 94.77\n",
            "RMSE региона: 40.15\n"
          ]
        }
      ],
      "source": [
        "X = geo0.columns.drop(['id', 'product'])\n",
        "test2, rmse2 = model_predict(geo2)"
      ]
    },
    {
      "cell_type": "code",
      "execution_count": null,
      "metadata": {
        "id": "SKhyL3_tYSj3",
        "outputId": "973d88f0-3f4e-49a9-bab1-c1eaac1b43b6"
      },
      "outputs": [
        {
          "data": {
            "text/plain": [
              "target    0.0\n",
              "pred      0.0\n",
              "dtype: float64"
            ]
          },
          "execution_count": 26,
          "metadata": {},
          "output_type": "execute_result"
        }
      ],
      "source": [
        "# смотрим все ли нормально записалось\n",
        "test2.isna().mean()"
      ]
    },
    {
      "cell_type": "markdown",
      "metadata": {
        "id": "1TJzOSR4YSj3"
      },
      "source": [
        "Теперь мы видим, что у второго региона идеальная для нас RMSE и довольно маленький запас, в отличии от остальных двух регионов, у третьего региона самые большие запасы, но ошибка выше, чем у первого\n",
        "\n",
        "---"
      ]
    },
    {
      "cell_type": "markdown",
      "metadata": {
        "id": "xtTVmHuxYSj4"
      },
      "source": [
        "## Подготовка к расчёту прибыли"
      ]
    },
    {
      "cell_type": "markdown",
      "metadata": {
        "id": "xMEO6r7KYSj4"
      },
      "source": [
        "### Наши вводные данные:  \n",
        "+ Для обучения модели подходит только линейная регрессия (остальные — недостаточно предсказуемые).  \n",
        "\n",
        "+ При разведке региона исследуем 500 точек, из которых с помощью машинного обучения выбираем 200 лучших для разработки.  \n",
        "+ Бюджет на разработку скважин в регионе — 10 млрд рублей.  \n",
        "+ При нынешних ценах один баррель сырья приносит 450 рублей дохода. Доход с каждой единицы продукта составляет 450 тыс. рублей, поскольку объём указан в тысячах баррелей.  \n",
        "+ После оценки рисков нужно оставить лишь те регионы, в которых вероятность убытков меньше 2.5%. Среди них выбираем регион с наибольшей средней прибылью.  \n",
        "  \n",
        "\n",
        "---\n",
        "\n",
        "  \n",
        "Занесем эти данные в переменные:"
      ]
    },
    {
      "cell_type": "code",
      "execution_count": null,
      "metadata": {
        "id": "VL9z6GJgYSj4"
      },
      "outputs": [],
      "source": [
        "# исследование 500 точек\n",
        "EXPLORE_POINTS = 500\n",
        "\n",
        "# финальная выборка лучшие 200 точек\n",
        "TOP_POINTS = 200\n",
        "\n",
        "# бюджет на разработку скважин\n",
        "BUDGET = 1e10\n",
        "\n",
        "# 1 баррель 450 рублей, единица продукта - 450 тысяч рублей, объем указан в тысячах баррелей\n",
        "PROD_UNIT = 450 * 10**3\n",
        "\n",
        "# безубыточный объем сырья\n",
        "LOSS_FREE = BUDGET / PROD_UNIT\n",
        "\n",
        "# средний объем региона для безубыточной разработки\n",
        "MEAN_LOSS_FREE = LOSS_FREE / TOP_POINTS"
      ]
    },
    {
      "cell_type": "code",
      "execution_count": null,
      "metadata": {
        "id": "A_hNgxCHYSj4",
        "outputId": "7b73507e-92c5-43c1-9ed3-225f48290527"
      },
      "outputs": [
        {
          "name": "stdout",
          "output_type": "stream",
          "text": [
            "Достаточный объём сырья в регионе для безубыточной разработки новых скважин: 22222.22\n",
            "Средний объем, который необходим для прохождения точки безубыточности: 111.11\n",
            "---------------------------------------------------------------------------\n",
            "Средний объем сырья в первом регионе тестовой выборки: 92.40\n",
            "\n",
            "Средний объем сырья вo втором регионе тестовой выборки: 68.71\n",
            "\n",
            "Средний объем сырья в третьем регионе тестовой выборки: 94.77\n",
            "\n"
          ]
        }
      ],
      "source": [
        "# посмотрим на всю информацию по средним запасам регионов\n",
        "#для сравнения с безубыточной границей объема\n",
        "\n",
        "print(f'Достаточный объём сырья в регионе для безубыточной разработки новых скважин: {LOSS_FREE:.2f}')\n",
        "print(f'Средний объем, который необходим для прохождения точки безубыточности: {MEAN_LOSS_FREE:.2f}')\n",
        "print('-' * 75)\n",
        "print(f'Средний объем сырья в первом регионе тестовой выборки: {test0[\"pred\"].mean():.2f}\\n')\n",
        "print(f'Средний объем сырья вo втором регионе тестовой выборки: {test1[\"pred\"].mean():.2f}\\n')\n",
        "print(f'Средний объем сырья в третьем регионе тестовой выборки: {test2[\"pred\"].mean():.2f}\\n')\n"
      ]
    },
    {
      "cell_type": "code",
      "execution_count": null,
      "metadata": {
        "id": "qa95g7u9YSj4",
        "outputId": "55c4fab0-49f0-45e4-f3af-2665c808b603"
      },
      "outputs": [
        {
          "name": "stdout",
          "output_type": "stream",
          "text": [
            "Среднее всей совокупности первого региона: 92.50\n",
            "\n",
            "Среднее всей совокупности второго региона: 68.83\n",
            "\n",
            "Среднее всей совокупности третьего региона: 95.00\n",
            "\n"
          ]
        }
      ],
      "source": [
        "# средние запасы генеральных совокупностей по регионам\n",
        "print(f'Среднее всей совокупности первого региона: {geo0.describe().iloc[1, 3]:.2f}\\n')\n",
        "print(f'Среднее всей совокупности второго региона: {geo1.describe().iloc[1, 3]:.2f}\\n')\n",
        "print(f'Среднее всей совокупности третьего региона: {geo2.describe().iloc[1, 3]:.2f}\\n')"
      ]
    },
    {
      "cell_type": "markdown",
      "metadata": {
        "id": "LqlxezILYSj4"
      },
      "source": [
        "Видим, что ни один регион пока не может дать нам необходимый объем для безубыточной разработки"
      ]
    },
    {
      "cell_type": "markdown",
      "metadata": {
        "id": "Uty1qMN9YSj5"
      },
      "source": [
        "Но все же первый и третий регион лидируют по среднему количеству объема сырья"
      ]
    },
    {
      "cell_type": "markdown",
      "metadata": {
        "id": "QkzrPuSpYSj5"
      },
      "source": [
        "## Расчёт прибыли и рисков"
      ]
    },
    {
      "cell_type": "code",
      "execution_count": null,
      "metadata": {
        "id": "O6RprP9XYSj5"
      },
      "outputs": [],
      "source": [
        "# функция для подсчета прибыли\n",
        "def calculate_profit(data: pd.DataFrame):\n",
        "    \"\"\"Рассчитывает прибыль по выбранным на предсказании скважинам и целевому признаку\n",
        "    \"\"\"\n",
        "    selected = data.sort_values(by='pred', ascending=False)[:TOP_POINTS]\n",
        "    return (selected['target'] * PROD_UNIT).sum() - BUDGET"
      ]
    },
    {
      "cell_type": "code",
      "execution_count": null,
      "metadata": {
        "id": "e4kLscEYYSj5"
      },
      "outputs": [],
      "source": [
        "# функция для иследования методом бутстреп по датасету региона\n",
        "def bootstrap_calc(data: pd.DataFrame):\n",
        "    ''' С помощью метода бутстреп получаем статистики по региону\n",
        "\n",
        "    :param data: тестовая выборка полученная с помощью функции model_pred\n",
        "\n",
        "    - values: -> list, в который сохраняются значения прибыли семпла\n",
        "    - prob_loss: -> int, счетчик для расчета процента риска\n",
        "\n",
        "    - target_sample: сэмпл взятый по датафрейму полученному на входе функции\n",
        "    - profit: расчет прибыли функцией calculate_profit\n",
        "    - mean_profit: среднее значение прибыли\n",
        "    - loss: расчет процента риска\n",
        "    - lower: нижняя граница доверительного 95% интервала\n",
        "    - upper: верхняя граница доверительного 95% интервала\n",
        "\n",
        "    '''\n",
        "\n",
        "    values=[]\n",
        "    prob_loss = 0\n",
        "    for i in range(1000):\n",
        "        target_sample = data.sample(replace=True, random_state=state, n=EXPLORE_POINTS)\n",
        "        profit = calculate_profit(target_sample)\n",
        "        if profit < 0:\n",
        "            prob_loss +=1\n",
        "        values.append(profit)\n",
        "\n",
        "    values = pd.Series(values)\n",
        "    lower = values.quantile(0.025)\n",
        "    upper = values.quantile(0.975)\n",
        "    mean_profit = values.mean()\n",
        "    loss = prob_loss / 1000\n",
        "\n",
        "\n",
        "    print(f'Средняя прибыль региона:  {mean_profit:.2f}')\n",
        "    print(f'95% доверительный интервал в промежутке между: {(lower, upper)}')\n",
        "    print(f'Процент риска потерь: {loss:.2%}')\n",
        "\n",
        "    return mean_profit, (lower, upper), loss"
      ]
    },
    {
      "cell_type": "code",
      "execution_count": null,
      "metadata": {
        "id": "FcPtcdPaYSj5",
        "outputId": "af343cd6-5a70-4e1a-b8bf-6562fc3f5124"
      },
      "outputs": [
        {
          "name": "stdout",
          "output_type": "stream",
          "text": [
            "Статистика по первому региону\n",
            "Средняя прибыль региона:  399575478.05\n",
            "95% доверительный интервал в промежутке между: (-110467895.33197045, 897460327.7178774)\n",
            "Процент риска потерь: 6.00%\n"
          ]
        }
      ],
      "source": [
        "print('Статистика по первому региону')\n",
        "mean_profit0, interval0, loss0 = bootstrap_calc(test0)"
      ]
    },
    {
      "cell_type": "code",
      "execution_count": null,
      "metadata": {
        "id": "La09uHfrYSj5",
        "outputId": "e0d37c6b-38ab-40af-eaad-253e9d7f3d0e"
      },
      "outputs": [
        {
          "name": "stdout",
          "output_type": "stream",
          "text": [
            "Статистика по второму региону\n",
            "Средняя прибыль региона:  452576594.29\n",
            "95% доверительный интервал в промежутке между: (52309409.80273653, 830146313.2647407)\n",
            "Процент риска потерь: 0.90%\n"
          ]
        }
      ],
      "source": [
        "print('Статистика по второму региону')\n",
        "mean_profit1, interval1, loss1 = bootstrap_calc(test1)"
      ]
    },
    {
      "cell_type": "code",
      "execution_count": null,
      "metadata": {
        "id": "I0gBo0OxYSj6",
        "outputId": "2f774097-29ed-4855-a0a0-f269b7a9c1c2"
      },
      "outputs": [
        {
          "name": "stdout",
          "output_type": "stream",
          "text": [
            "Статистика по третьему региону\n",
            "Средняя прибыль региона:  378705903.66\n",
            "95% доверительный интервал в промежутке между: (-127779434.98830605, 907923483.221061)\n",
            "Процент риска потерь: 7.50%\n"
          ]
        }
      ],
      "source": [
        "print('Статистика по третьему региону')\n",
        "mean_profit2, interval2, loss2 = bootstrap_calc(test2)"
      ]
    },
    {
      "cell_type": "markdown",
      "metadata": {
        "id": "I-5KexuvYSj6"
      },
      "source": [
        "Как мы видим, только один регион смог преодолеть порог в 2.5%, с достаточно хорошей прибылью"
      ]
    },
    {
      "cell_type": "markdown",
      "metadata": {
        "id": "Q4wTuEfnYSj6"
      },
      "source": [
        "---\n",
        "\n",
        "## Вывод:\n",
        "  \n",
        "\n",
        "Мы провели небольшое, но интересное исследование:\n",
        "  \n",
        "- нашли ошибку перезаписи данных с дубликатами одних и тех же скважин с разными объемами сырья,  \n",
        "- посмотри на интересные распределения синтетических данных,  \n",
        "- нашли очень большую корреляцию признака и целевого признака во втором регионе,   \n",
        "- предсказали моделью линейной регрессии запасы в регионах,   \n",
        "- рассчитали минимальный средний объем сырья на регион, для прохождения точки безубыточности - 111.11, ни в одном регионе не оказалось средних запасов достаточно\n",
        "- рассчитали статистики для каждого региона методом нескольких случайных выборок и выяснили, второй регион нам полностью подходит так как риск потерь не превышает наш порог в 2.5% и с ним мы получаем прибыль выше, чем у остальных двух   \n",
        "- Наш выбор Регион номер два!"
      ]
    }
  ],
  "metadata": {
    "ExecuteTimeLog": [
      {
        "duration": 50,
        "start_time": "2023-04-06T15:48:26.780Z"
      },
      {
        "duration": 1714,
        "start_time": "2023-04-06T15:48:36.529Z"
      },
      {
        "duration": 1536,
        "start_time": "2023-04-06T15:48:38.246Z"
      },
      {
        "duration": 3,
        "start_time": "2023-04-06T15:48:39.784Z"
      },
      {
        "duration": 21,
        "start_time": "2023-04-06T15:48:39.790Z"
      },
      {
        "duration": 12,
        "start_time": "2023-04-06T15:48:39.813Z"
      },
      {
        "duration": 16,
        "start_time": "2023-04-06T15:48:39.827Z"
      },
      {
        "duration": 28,
        "start_time": "2023-04-06T15:48:39.845Z"
      },
      {
        "duration": 25,
        "start_time": "2023-04-06T15:48:39.874Z"
      },
      {
        "duration": 66,
        "start_time": "2023-04-06T15:48:39.901Z"
      },
      {
        "duration": 25,
        "start_time": "2023-04-06T15:48:39.969Z"
      },
      {
        "duration": 66,
        "start_time": "2023-04-06T15:48:39.996Z"
      },
      {
        "duration": 26,
        "start_time": "2023-04-06T15:48:40.064Z"
      },
      {
        "duration": 62,
        "start_time": "2023-04-06T15:48:40.092Z"
      },
      {
        "duration": 88,
        "start_time": "2023-04-06T15:48:40.156Z"
      },
      {
        "duration": 1072,
        "start_time": "2023-04-06T15:48:40.246Z"
      },
      {
        "duration": 977,
        "start_time": "2023-04-06T15:48:41.320Z"
      },
      {
        "duration": 1175,
        "start_time": "2023-04-06T15:48:42.300Z"
      },
      {
        "duration": 1081,
        "start_time": "2023-04-06T15:48:43.478Z"
      },
      {
        "duration": 11,
        "start_time": "2023-04-06T15:48:44.561Z"
      },
      {
        "duration": 9,
        "start_time": "2023-04-06T15:48:44.575Z"
      },
      {
        "duration": 263,
        "start_time": "2023-04-06T15:48:44.586Z"
      },
      {
        "duration": 82,
        "start_time": "2023-04-06T15:48:44.851Z"
      },
      {
        "duration": 199,
        "start_time": "2023-04-06T15:48:44.935Z"
      },
      {
        "duration": 8,
        "start_time": "2023-04-06T15:48:45.136Z"
      },
      {
        "duration": 93,
        "start_time": "2023-04-06T15:48:45.145Z"
      },
      {
        "duration": 94,
        "start_time": "2023-04-06T15:48:45.241Z"
      },
      {
        "duration": 196,
        "start_time": "2023-04-06T15:48:45.338Z"
      },
      {
        "duration": 7,
        "start_time": "2023-04-06T15:48:45.538Z"
      },
      {
        "duration": 12,
        "start_time": "2023-04-06T15:48:45.547Z"
      },
      {
        "duration": 9,
        "start_time": "2023-04-06T15:48:45.561Z"
      },
      {
        "duration": 120,
        "start_time": "2023-04-06T15:48:45.572Z"
      },
      {
        "duration": 3,
        "start_time": "2023-04-06T15:48:45.694Z"
      },
      {
        "duration": 8,
        "start_time": "2023-04-06T15:48:45.699Z"
      },
      {
        "duration": 954,
        "start_time": "2023-04-06T15:48:45.709Z"
      },
      {
        "duration": 963,
        "start_time": "2023-04-06T15:48:46.665Z"
      },
      {
        "duration": 930,
        "start_time": "2023-04-06T15:48:47.631Z"
      },
      {
        "duration": 7,
        "start_time": "2023-04-06T15:49:18.913Z"
      },
      {
        "duration": 122,
        "start_time": "2023-04-06T15:49:20.019Z"
      },
      {
        "duration": 7,
        "start_time": "2023-04-06T15:49:21.783Z"
      },
      {
        "duration": 142,
        "start_time": "2023-04-06T15:49:22.093Z"
      },
      {
        "duration": 7,
        "start_time": "2023-04-06T15:49:23.712Z"
      },
      {
        "duration": 48,
        "start_time": "2023-04-06T15:49:29.888Z"
      },
      {
        "duration": 7,
        "start_time": "2023-04-06T15:49:41.542Z"
      },
      {
        "duration": 109,
        "start_time": "2023-04-06T15:49:42.026Z"
      },
      {
        "duration": 8,
        "start_time": "2023-04-06T15:49:42.346Z"
      },
      {
        "duration": 77,
        "start_time": "2023-04-06T15:49:42.861Z"
      },
      {
        "duration": 6,
        "start_time": "2023-04-06T15:49:43.560Z"
      },
      {
        "duration": 79,
        "start_time": "2023-04-06T15:49:44.863Z"
      },
      {
        "duration": 6,
        "start_time": "2023-04-06T15:49:47.061Z"
      },
      {
        "duration": 141,
        "start_time": "2023-04-06T15:49:49.192Z"
      },
      {
        "duration": 7,
        "start_time": "2023-04-06T15:49:50.499Z"
      },
      {
        "duration": 8,
        "start_time": "2023-04-06T15:50:45.446Z"
      },
      {
        "duration": 2184,
        "start_time": "2023-04-07T05:57:40.521Z"
      },
      {
        "duration": 411,
        "start_time": "2023-04-07T05:57:42.707Z"
      },
      {
        "duration": 3,
        "start_time": "2023-04-07T05:57:43.119Z"
      },
      {
        "duration": 31,
        "start_time": "2023-04-07T05:57:43.123Z"
      },
      {
        "duration": 17,
        "start_time": "2023-04-07T05:57:43.156Z"
      },
      {
        "duration": 20,
        "start_time": "2023-04-07T05:57:43.186Z"
      },
      {
        "duration": 21,
        "start_time": "2023-04-07T05:57:43.207Z"
      },
      {
        "duration": 18,
        "start_time": "2023-04-07T05:57:43.230Z"
      },
      {
        "duration": 55,
        "start_time": "2023-04-07T05:57:43.249Z"
      },
      {
        "duration": 27,
        "start_time": "2023-04-07T05:57:43.306Z"
      },
      {
        "duration": 55,
        "start_time": "2023-04-07T05:57:43.335Z"
      },
      {
        "duration": 21,
        "start_time": "2023-04-07T05:57:43.398Z"
      },
      {
        "duration": 23,
        "start_time": "2023-04-07T05:57:43.420Z"
      },
      {
        "duration": 70,
        "start_time": "2023-04-07T05:57:43.446Z"
      },
      {
        "duration": 1045,
        "start_time": "2023-04-07T05:57:43.517Z"
      },
      {
        "duration": 1053,
        "start_time": "2023-04-07T05:57:44.569Z"
      },
      {
        "duration": 1171,
        "start_time": "2023-04-07T05:57:45.624Z"
      },
      {
        "duration": 914,
        "start_time": "2023-04-07T05:57:46.797Z"
      },
      {
        "duration": 9,
        "start_time": "2023-04-07T05:57:47.712Z"
      },
      {
        "duration": 21,
        "start_time": "2023-04-07T05:57:47.723Z"
      },
      {
        "duration": 74,
        "start_time": "2023-04-07T05:57:47.745Z"
      },
      {
        "duration": 53,
        "start_time": "2023-04-07T05:57:47.821Z"
      },
      {
        "duration": 204,
        "start_time": "2023-04-07T05:57:47.876Z"
      },
      {
        "duration": 84,
        "start_time": "2023-04-07T05:57:48.089Z"
      },
      {
        "duration": 103,
        "start_time": "2023-04-07T05:57:48.182Z"
      },
      {
        "duration": 9,
        "start_time": "2023-04-07T05:57:48.287Z"
      },
      {
        "duration": 195,
        "start_time": "2023-04-07T05:57:48.298Z"
      },
      {
        "duration": 76,
        "start_time": "2023-04-07T05:57:48.501Z"
      },
      {
        "duration": 7,
        "start_time": "2023-04-07T05:57:48.582Z"
      },
      {
        "duration": 21,
        "start_time": "2023-04-07T05:57:48.593Z"
      },
      {
        "duration": 98,
        "start_time": "2023-04-07T05:57:48.615Z"
      },
      {
        "duration": 4,
        "start_time": "2023-04-07T05:57:48.714Z"
      },
      {
        "duration": 6,
        "start_time": "2023-04-07T05:57:48.719Z"
      },
      {
        "duration": 1036,
        "start_time": "2023-04-07T05:57:48.726Z"
      },
      {
        "duration": 990,
        "start_time": "2023-04-07T05:57:49.765Z"
      },
      {
        "duration": 940,
        "start_time": "2023-04-07T05:57:50.757Z"
      },
      {
        "duration": 24,
        "start_time": "2023-04-07T05:58:10.865Z"
      },
      {
        "duration": 123,
        "start_time": "2023-04-07T07:46:18.093Z"
      },
      {
        "duration": 82,
        "start_time": "2023-04-07T07:50:28.297Z"
      },
      {
        "duration": 82,
        "start_time": "2023-04-07T07:52:12.647Z"
      },
      {
        "duration": 488,
        "start_time": "2023-04-07T07:58:34.735Z"
      },
      {
        "duration": 1576,
        "start_time": "2023-04-07T08:02:19.054Z"
      },
      {
        "duration": 1447,
        "start_time": "2023-04-07T08:02:20.631Z"
      },
      {
        "duration": 4,
        "start_time": "2023-04-07T08:02:22.080Z"
      },
      {
        "duration": 35,
        "start_time": "2023-04-07T08:02:22.087Z"
      },
      {
        "duration": 9,
        "start_time": "2023-04-07T08:02:22.123Z"
      },
      {
        "duration": 11,
        "start_time": "2023-04-07T08:02:22.134Z"
      },
      {
        "duration": 25,
        "start_time": "2023-04-07T08:02:22.147Z"
      },
      {
        "duration": 21,
        "start_time": "2023-04-07T08:02:22.173Z"
      },
      {
        "duration": 28,
        "start_time": "2023-04-07T08:02:22.195Z"
      },
      {
        "duration": 39,
        "start_time": "2023-04-07T08:02:22.225Z"
      },
      {
        "duration": 27,
        "start_time": "2023-04-07T08:02:22.266Z"
      },
      {
        "duration": 22,
        "start_time": "2023-04-07T08:02:22.294Z"
      },
      {
        "duration": 57,
        "start_time": "2023-04-07T08:02:22.317Z"
      },
      {
        "duration": 79,
        "start_time": "2023-04-07T08:02:22.376Z"
      },
      {
        "duration": 902,
        "start_time": "2023-04-07T08:02:22.457Z"
      },
      {
        "duration": 787,
        "start_time": "2023-04-07T08:02:23.360Z"
      },
      {
        "duration": 1098,
        "start_time": "2023-04-07T08:02:24.149Z"
      },
      {
        "duration": 930,
        "start_time": "2023-04-07T08:02:25.249Z"
      },
      {
        "duration": 12,
        "start_time": "2023-04-07T08:02:26.181Z"
      },
      {
        "duration": 7,
        "start_time": "2023-04-07T08:02:26.195Z"
      },
      {
        "duration": 147,
        "start_time": "2023-04-07T08:02:26.204Z"
      },
      {
        "duration": 92,
        "start_time": "2023-04-07T08:02:26.357Z"
      },
      {
        "duration": 99,
        "start_time": "2023-04-07T08:02:26.451Z"
      },
      {
        "duration": 8,
        "start_time": "2023-04-07T08:02:26.551Z"
      },
      {
        "duration": 131,
        "start_time": "2023-04-07T08:02:26.561Z"
      },
      {
        "duration": 61,
        "start_time": "2023-04-07T08:02:26.693Z"
      },
      {
        "duration": 217,
        "start_time": "2023-04-07T08:02:26.756Z"
      },
      {
        "duration": 0,
        "start_time": "2023-04-07T08:02:26.976Z"
      },
      {
        "duration": 0,
        "start_time": "2023-04-07T08:02:26.977Z"
      },
      {
        "duration": 0,
        "start_time": "2023-04-07T08:02:26.978Z"
      },
      {
        "duration": 0,
        "start_time": "2023-04-07T08:02:26.979Z"
      },
      {
        "duration": 0,
        "start_time": "2023-04-07T08:02:26.980Z"
      },
      {
        "duration": 0,
        "start_time": "2023-04-07T08:02:26.981Z"
      },
      {
        "duration": 0,
        "start_time": "2023-04-07T08:02:26.982Z"
      },
      {
        "duration": 3,
        "start_time": "2023-04-07T08:06:06.329Z"
      },
      {
        "duration": 8,
        "start_time": "2023-04-07T08:06:21.100Z"
      },
      {
        "duration": 108,
        "start_time": "2023-04-07T08:06:27.446Z"
      },
      {
        "duration": 4,
        "start_time": "2023-04-07T08:07:19.603Z"
      },
      {
        "duration": 9,
        "start_time": "2023-04-07T08:07:22.503Z"
      },
      {
        "duration": 807,
        "start_time": "2023-04-07T08:07:53.010Z"
      },
      {
        "duration": 807,
        "start_time": "2023-04-07T08:07:53.819Z"
      },
      {
        "duration": 965,
        "start_time": "2023-04-07T08:07:54.901Z"
      },
      {
        "duration": 1618,
        "start_time": "2023-04-07T08:11:09.597Z"
      },
      {
        "duration": 378,
        "start_time": "2023-04-07T08:11:11.217Z"
      },
      {
        "duration": 4,
        "start_time": "2023-04-07T08:11:11.597Z"
      },
      {
        "duration": 23,
        "start_time": "2023-04-07T08:11:11.604Z"
      },
      {
        "duration": 22,
        "start_time": "2023-04-07T08:11:11.630Z"
      },
      {
        "duration": 23,
        "start_time": "2023-04-07T08:11:11.654Z"
      },
      {
        "duration": 41,
        "start_time": "2023-04-07T08:11:11.679Z"
      },
      {
        "duration": 33,
        "start_time": "2023-04-07T08:11:11.722Z"
      },
      {
        "duration": 28,
        "start_time": "2023-04-07T08:11:11.757Z"
      },
      {
        "duration": 21,
        "start_time": "2023-04-07T08:11:11.787Z"
      },
      {
        "duration": 55,
        "start_time": "2023-04-07T08:11:11.810Z"
      },
      {
        "duration": 24,
        "start_time": "2023-04-07T08:11:11.868Z"
      },
      {
        "duration": 56,
        "start_time": "2023-04-07T08:11:11.893Z"
      },
      {
        "duration": 64,
        "start_time": "2023-04-07T08:11:11.953Z"
      },
      {
        "duration": 937,
        "start_time": "2023-04-07T08:11:12.018Z"
      },
      {
        "duration": 860,
        "start_time": "2023-04-07T08:11:12.958Z"
      },
      {
        "duration": 1140,
        "start_time": "2023-04-07T08:11:13.820Z"
      },
      {
        "duration": 931,
        "start_time": "2023-04-07T08:11:14.962Z"
      },
      {
        "duration": 13,
        "start_time": "2023-04-07T08:11:15.895Z"
      },
      {
        "duration": 35,
        "start_time": "2023-04-07T08:11:15.910Z"
      },
      {
        "duration": 203,
        "start_time": "2023-04-07T08:11:15.947Z"
      },
      {
        "duration": 9,
        "start_time": "2023-04-07T08:11:16.152Z"
      },
      {
        "duration": 286,
        "start_time": "2023-04-07T08:11:16.163Z"
      },
      {
        "duration": 8,
        "start_time": "2023-04-07T08:11:16.451Z"
      },
      {
        "duration": 189,
        "start_time": "2023-04-07T08:11:16.461Z"
      },
      {
        "duration": 7,
        "start_time": "2023-04-07T08:11:16.651Z"
      },
      {
        "duration": 8,
        "start_time": "2023-04-07T08:11:16.659Z"
      },
      {
        "duration": 14,
        "start_time": "2023-04-07T08:11:16.669Z"
      },
      {
        "duration": 113,
        "start_time": "2023-04-07T08:11:16.685Z"
      },
      {
        "duration": 5,
        "start_time": "2023-04-07T08:11:16.800Z"
      },
      {
        "duration": 20,
        "start_time": "2023-04-07T08:11:16.807Z"
      },
      {
        "duration": 760,
        "start_time": "2023-04-07T08:11:16.829Z"
      },
      {
        "duration": 677,
        "start_time": "2023-04-07T08:11:17.591Z"
      },
      {
        "duration": 723,
        "start_time": "2023-04-07T08:11:18.269Z"
      },
      {
        "duration": 1437,
        "start_time": "2023-04-07T08:17:06.967Z"
      },
      {
        "duration": 401,
        "start_time": "2023-04-07T08:17:08.406Z"
      },
      {
        "duration": 3,
        "start_time": "2023-04-07T08:17:08.809Z"
      },
      {
        "duration": 38,
        "start_time": "2023-04-07T08:17:08.813Z"
      },
      {
        "duration": 20,
        "start_time": "2023-04-07T08:17:08.854Z"
      },
      {
        "duration": 11,
        "start_time": "2023-04-07T08:17:08.876Z"
      },
      {
        "duration": 27,
        "start_time": "2023-04-07T08:17:08.888Z"
      },
      {
        "duration": 33,
        "start_time": "2023-04-07T08:17:08.917Z"
      },
      {
        "duration": 35,
        "start_time": "2023-04-07T08:17:08.952Z"
      },
      {
        "duration": 20,
        "start_time": "2023-04-07T08:17:08.989Z"
      },
      {
        "duration": 71,
        "start_time": "2023-04-07T08:17:09.011Z"
      },
      {
        "duration": 32,
        "start_time": "2023-04-07T08:17:09.084Z"
      },
      {
        "duration": 64,
        "start_time": "2023-04-07T08:17:09.118Z"
      },
      {
        "duration": 81,
        "start_time": "2023-04-07T08:17:09.186Z"
      },
      {
        "duration": 1019,
        "start_time": "2023-04-07T08:17:09.269Z"
      },
      {
        "duration": 906,
        "start_time": "2023-04-07T08:17:10.290Z"
      },
      {
        "duration": 988,
        "start_time": "2023-04-07T08:17:11.198Z"
      },
      {
        "duration": 902,
        "start_time": "2023-04-07T08:17:12.187Z"
      },
      {
        "duration": 10,
        "start_time": "2023-04-07T08:17:13.091Z"
      },
      {
        "duration": 9,
        "start_time": "2023-04-07T08:17:13.103Z"
      },
      {
        "duration": 142,
        "start_time": "2023-04-07T08:17:13.114Z"
      },
      {
        "duration": 91,
        "start_time": "2023-04-07T08:17:13.259Z"
      },
      {
        "duration": 98,
        "start_time": "2023-04-07T08:17:13.352Z"
      },
      {
        "duration": 12,
        "start_time": "2023-04-07T08:17:13.452Z"
      },
      {
        "duration": 183,
        "start_time": "2023-04-07T08:17:13.467Z"
      },
      {
        "duration": 19,
        "start_time": "2023-04-07T08:17:13.654Z"
      },
      {
        "duration": 97,
        "start_time": "2023-04-07T08:17:13.678Z"
      },
      {
        "duration": 8,
        "start_time": "2023-04-07T08:17:13.777Z"
      },
      {
        "duration": 113,
        "start_time": "2023-04-07T08:17:13.787Z"
      },
      {
        "duration": 4,
        "start_time": "2023-04-07T08:17:13.902Z"
      },
      {
        "duration": 10,
        "start_time": "2023-04-07T08:17:13.908Z"
      },
      {
        "duration": 807,
        "start_time": "2023-04-07T08:17:13.919Z"
      },
      {
        "duration": 748,
        "start_time": "2023-04-07T08:17:14.728Z"
      },
      {
        "duration": 744,
        "start_time": "2023-04-07T08:17:15.478Z"
      },
      {
        "duration": 735,
        "start_time": "2023-04-07T08:19:36.594Z"
      },
      {
        "duration": 2542,
        "start_time": "2023-04-07T11:22:51.902Z"
      },
      {
        "duration": 885,
        "start_time": "2023-04-07T11:22:54.447Z"
      },
      {
        "duration": 3,
        "start_time": "2023-04-07T11:22:55.334Z"
      },
      {
        "duration": 37,
        "start_time": "2023-04-07T11:22:55.339Z"
      },
      {
        "duration": 11,
        "start_time": "2023-04-07T11:22:55.378Z"
      },
      {
        "duration": 30,
        "start_time": "2023-04-07T11:22:55.391Z"
      },
      {
        "duration": 38,
        "start_time": "2023-04-07T11:22:55.423Z"
      },
      {
        "duration": 23,
        "start_time": "2023-04-07T11:22:55.463Z"
      },
      {
        "duration": 31,
        "start_time": "2023-04-07T11:22:55.488Z"
      },
      {
        "duration": 38,
        "start_time": "2023-04-07T11:22:55.521Z"
      },
      {
        "duration": 29,
        "start_time": "2023-04-07T11:22:55.560Z"
      },
      {
        "duration": 25,
        "start_time": "2023-04-07T11:22:55.591Z"
      },
      {
        "duration": 36,
        "start_time": "2023-04-07T11:22:55.617Z"
      },
      {
        "duration": 95,
        "start_time": "2023-04-07T11:22:55.656Z"
      },
      {
        "duration": 1063,
        "start_time": "2023-04-07T11:22:55.753Z"
      },
      {
        "duration": 987,
        "start_time": "2023-04-07T11:22:56.817Z"
      },
      {
        "duration": 1133,
        "start_time": "2023-04-07T11:22:57.805Z"
      },
      {
        "duration": 1100,
        "start_time": "2023-04-07T11:22:58.940Z"
      },
      {
        "duration": 11,
        "start_time": "2023-04-07T11:23:00.042Z"
      },
      {
        "duration": 14,
        "start_time": "2023-04-07T11:23:00.055Z"
      },
      {
        "duration": 235,
        "start_time": "2023-04-07T11:23:00.071Z"
      },
      {
        "duration": 8,
        "start_time": "2023-04-07T11:23:00.308Z"
      },
      {
        "duration": 285,
        "start_time": "2023-04-07T11:23:00.318Z"
      },
      {
        "duration": 8,
        "start_time": "2023-04-07T11:23:00.605Z"
      },
      {
        "duration": 192,
        "start_time": "2023-04-07T11:23:00.615Z"
      },
      {
        "duration": 95,
        "start_time": "2023-04-07T11:23:00.809Z"
      },
      {
        "duration": 35,
        "start_time": "2023-04-07T11:23:00.906Z"
      },
      {
        "duration": 33,
        "start_time": "2023-04-07T11:23:00.943Z"
      },
      {
        "duration": 109,
        "start_time": "2023-04-07T11:23:00.978Z"
      },
      {
        "duration": 4,
        "start_time": "2023-04-07T11:23:01.090Z"
      },
      {
        "duration": 33,
        "start_time": "2023-04-07T11:23:01.096Z"
      },
      {
        "duration": 999,
        "start_time": "2023-04-07T11:23:01.131Z"
      },
      {
        "duration": 995,
        "start_time": "2023-04-07T11:23:02.132Z"
      },
      {
        "duration": 937,
        "start_time": "2023-04-07T11:23:03.129Z"
      }
    ],
    "colab": {
      "provenance": []
    },
    "kernelspec": {
      "display_name": "Python 3 (ipykernel)",
      "language": "python",
      "name": "python3"
    },
    "language_info": {
      "codemirror_mode": {
        "name": "ipython",
        "version": 3
      },
      "file_extension": ".py",
      "mimetype": "text/x-python",
      "name": "python",
      "nbconvert_exporter": "python",
      "pygments_lexer": "ipython3",
      "version": "3.9.5"
    },
    "toc": {
      "base_numbering": 1,
      "nav_menu": {},
      "number_sections": true,
      "sideBar": true,
      "skip_h1_title": true,
      "title_cell": "Table of Contents",
      "title_sidebar": "Contents",
      "toc_cell": true,
      "toc_position": {},
      "toc_section_display": true,
      "toc_window_display": true
    },
    "vscode": {
      "interpreter": {
        "hash": "5effef116852805c2aac328878da275b755623f26b66907b2efa39216367b218"
      }
    }
  },
  "nbformat": 4,
  "nbformat_minor": 0
}
