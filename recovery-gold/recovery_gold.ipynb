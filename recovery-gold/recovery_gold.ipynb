{
  "cells": [
    {
      "cell_type": "markdown",
      "metadata": {
        "id": "AhAgUel5Sv2A"
      },
      "source": [
        "# Восстановление золота из руды"
      ]
    },
    {
      "cell_type": "markdown",
      "metadata": {
        "id": "h2mJy_AmSv2A"
      },
      "source": [
        "Компания разрабатывает решения для эффективной работы промышленных предприятий.\n",
        "\n",
        "Модель должна предсказать коэффициент восстановления золота из золотосодержащей руды. Используем данные с параметрами добычи и очистки.\n",
        "\n",
        "Модель поможет оптимизировать производство, чтобы не запускать предприятие с убыточными характеристиками.\n",
        "\n",
        "Нам нужно:\n",
        "\n",
        "1. Подготовить данные;\n",
        "2. Провести исследовательский анализ данных;\n",
        "3. Построить и обучить модель."
      ]
    },
    {
      "cell_type": "markdown",
      "metadata": {
        "id": "KvPilWfqSv2B"
      },
      "source": [
        "## Подготовка данных"
      ]
    },
    {
      "cell_type": "code",
      "execution_count": null,
      "metadata": {
        "id": "D8tjJTq1I9lD"
      },
      "outputs": [],
      "source": [
        "# !pip install tabulate"
      ]
    },
    {
      "cell_type": "code",
      "execution_count": null,
      "metadata": {
        "id": "gh0v87xbSv2B",
        "outputId": "eac51d9f-fa3e-44ca-9cdb-b4b623b1bb1e"
      },
      "outputs": [
        {
          "name": "stdout",
          "output_type": "stream",
          "text": [
            "Requirement already satisfied: tabulate in /opt/conda/lib/python3.9/site-packages (0.9.0)\r\n"
          ]
        }
      ],
      "source": [
        "# Importing libraries\n",
        "import statistics\n",
        "from tabulate import tabulate\n",
        "from typing import List\n",
        "\n",
        "import matplotlib.pyplot as plt\n",
        "import numpy as np\n",
        "import pandas as pd\n",
        "import seaborn as sns\n",
        "from sklearn.dummy import DummyRegressor\n",
        "from sklearn.ensemble import RandomForestRegressor\n",
        "from sklearn.impute import KNNImputer\n",
        "from sklearn.linear_model import (\n",
        "    ElasticNetCV,\n",
        "    LinearRegression,\n",
        "    Ridge,\n",
        ")\n",
        "from sklearn.metrics import mean_absolute_error, make_scorer\n",
        "from sklearn.model_selection import RandomizedSearchCV, KFold\n",
        "from sklearn.pipeline import make_pipeline\n",
        "from sklearn.preprocessing import StandardScaler\n",
        "import warnings\n",
        "\n",
        "warnings.filterwarnings('ignore')\n",
        "\n",
        "plt.style.use('dark_background')\n",
        "pd.set_option('display.max_rows', 100)\n",
        "cm = sns.dark_palette(\"purple\", as_cmap=True)"
      ]
    },
    {
      "cell_type": "code",
      "execution_count": null,
      "metadata": {
        "id": "Sc5VeECRFSra"
      },
      "outputs": [],
      "source": [
        "# Variable for fixing randomness\n",
        "RANDOM_STATE = 42"
      ]
    },
    {
      "cell_type": "code",
      "execution_count": null,
      "metadata": {
        "id": "Ca3FwG0uTCQs"
      },
      "outputs": [],
      "source": [
        "# Save data\n",
        "try:\n",
        "  gold_train = pd.read_csv('/datasets/gold_recovery_train_new.csv')\n",
        "  gold_test = pd.read_csv('/datasets/gold_recovery_test_new.csv')\n",
        "  gold_full = pd.read_csv('/datasets/gold_recovery_full_new.csv')\n",
        "except:\n",
        "  gold_train = pd.read_csv('/content/gold_recovery_train_new.csv')\n",
        "  gold_test = pd.read_csv('/content/gold_recovery_test_new.csv')\n",
        "  gold_full = pd.read_csv('/content/gold_recovery_full_new.csv')"
      ]
    },
    {
      "cell_type": "code",
      "execution_count": null,
      "metadata": {
        "id": "wg-ei86-zIGP"
      },
      "outputs": [],
      "source": [
        "def out_g(text):\n",
        "    '''Function for printing colored text.\n",
        "\n",
        "    Args:\n",
        "    text (str): The text to be printed in green color.\n",
        "\n",
        "    Returns:\n",
        "    None\n",
        "    '''\n",
        "    print(f\"\\033[32m\\033[2m {text}\\033[0m\")"
      ]
    },
    {
      "cell_type": "code",
      "execution_count": null,
      "metadata": {
        "id": "kfu1RNgguQQJ"
      },
      "outputs": [],
      "source": [
        "def init_inspect(data: pd.DataFrame):\n",
        "    '''Function for displaying initial data information.\n",
        "\n",
        "    - Checks the data type, and if it's of type TextFileReader,\n",
        "      reads it into a DataFrame.\n",
        "    - Creates a variable 'cols' for later output of features using tabulate.\n",
        "\n",
        "    Displays:\n",
        "    - The first 5 rows of data\n",
        "    - Data types of the first 20 features\n",
        "    - Data size\n",
        "    - In tabular form, the 20 largest values:\n",
        "      - Sorted by missing value proportions\n",
        "      - Number of missing values per feature\n",
        "      - Number of unique values per column\n",
        "    - The total number of complete duplicates in the entire dataset\n",
        "\n",
        "    Args:\n",
        "    data (pd.DataFrame or TextFileReader): The data to be analyzed. If the data type is TextFileReader, it will be\n",
        "                                          read into a DataFrame.\n",
        "\n",
        "    Returns:\n",
        "    None\n",
        "    '''\n",
        "\n",
        "    # Attempt to work with a DataFrame\n",
        "    try:\n",
        "\n",
        "        # If data is a TextFileReader object,\n",
        "        # read the data into a DataFrame\n",
        "        if isinstance(data, pd.io.parsers.TextFileReader):\n",
        "            data = data.read()\n",
        "\n",
        "        cols = {'Columns': data.columns}\n",
        "\n",
        "        # Display the first rows of the DataFrame\n",
        "        out_g(f'Data:')\n",
        "        display(data.head())\n",
        "        print()\n",
        "\n",
        "        # Display statistical metrics\n",
        "        display(data.describe())\n",
        "\n",
        "        # Display data types of the first 20 features\n",
        "        out_g('Type of features:\\n')\n",
        "        display(data.dtypes.head())\n",
        "        print()\n",
        "\n",
        "        # Display the length of the DataFrame\n",
        "        print(out_g('Length:\\n'), data.shape)\n",
        "        print()\n",
        "\n",
        "        # Use tabulate to create a table of missing value percentages for features\n",
        "        out_g('Share of missing values:\\n')\n",
        "        print(tabulate(pd.DataFrame(cols | {'Missing values': data.isna().mean().values})\n",
        "                                .sort_values(by='Missing values', ascending=False)\n",
        "                                .head(20), headers='keys', tablefmt='github',\n",
        "                                showindex=False, numalign=\"center\", stralign='center',\n",
        "                                colalign=(\"left\", \"left\")))\n",
        "        print()\n",
        "\n",
        "        # Use tabulate to create a table of total missing values for features\n",
        "        out_g('Total number of missing values: \\n')\n",
        "        print(tabulate(pd.DataFrame(cols | {'Missing values': data.isna().sum().values})\n",
        "                                .sort_values(by='Missing values', ascending=False)\n",
        "                                .head(20), headers='keys', tablefmt='github',\n",
        "                                showindex=False, numalign=\"center\", stralign='center',\n",
        "                                colalign=(\"left\", \"left\")))\n",
        "        print()\n",
        "\n",
        "        out_g('Unique values for each column:\\n')\n",
        "\n",
        "        # Use tabulate to create a table of the number of unique values in each column\n",
        "        print(tabulate(pd.DataFrame(cols | {'Unique values': data.nunique().values})\n",
        "                                      .head(20), headers='keys', tablefmt='github',\n",
        "                                showindex=False, numalign=\"center\", stralign='center',\n",
        "                                colalign=(\"left\", \"left\")))\n",
        "        print()\n",
        "\n",
        "        # Check for duplicates\n",
        "        out_g(f'Number of complete duplicates: {data.duplicated().sum()}')\n",
        "\n",
        "    except:\n",
        "        print(\"\\033[31m\\033[2m🚨 ALARM 🚨\\n\\n Invalid argument. Expected pd.DataFrame or TextFileReader.\\033[0m\")\n"
      ]
    },
    {
      "cell_type": "code",
      "execution_count": null,
      "metadata": {
        "colab": {
          "base_uri": "https://localhost:8080/",
          "height": 1000
        },
        "id": "_vK8LZ6gulcF",
        "outputId": "36d683c2-c2d7-46b0-82ca-e3a83dc37255",
        "scrolled": true
      },
      "outputs": [
        {
          "name": "stdout",
          "output_type": "stream",
          "text": [
            "\u001b[32m\u001b[2m Data:\u001b[0m\n"
          ]
        },
        {
          "data": {
            "text/html": [
              "<div>\n",
              "<style scoped>\n",
              "    .dataframe tbody tr th:only-of-type {\n",
              "        vertical-align: middle;\n",
              "    }\n",
              "\n",
              "    .dataframe tbody tr th {\n",
              "        vertical-align: top;\n",
              "    }\n",
              "\n",
              "    .dataframe thead th {\n",
              "        text-align: right;\n",
              "    }\n",
              "</style>\n",
              "<table border=\"1\" class=\"dataframe\">\n",
              "  <thead>\n",
              "    <tr style=\"text-align: right;\">\n",
              "      <th></th>\n",
              "      <th>date</th>\n",
              "      <th>final.output.concentrate_ag</th>\n",
              "      <th>final.output.concentrate_pb</th>\n",
              "      <th>final.output.concentrate_sol</th>\n",
              "      <th>final.output.concentrate_au</th>\n",
              "      <th>final.output.recovery</th>\n",
              "      <th>final.output.tail_ag</th>\n",
              "      <th>final.output.tail_pb</th>\n",
              "      <th>final.output.tail_sol</th>\n",
              "      <th>final.output.tail_au</th>\n",
              "      <th>...</th>\n",
              "      <th>secondary_cleaner.state.floatbank4_a_air</th>\n",
              "      <th>secondary_cleaner.state.floatbank4_a_level</th>\n",
              "      <th>secondary_cleaner.state.floatbank4_b_air</th>\n",
              "      <th>secondary_cleaner.state.floatbank4_b_level</th>\n",
              "      <th>secondary_cleaner.state.floatbank5_a_air</th>\n",
              "      <th>secondary_cleaner.state.floatbank5_a_level</th>\n",
              "      <th>secondary_cleaner.state.floatbank5_b_air</th>\n",
              "      <th>secondary_cleaner.state.floatbank5_b_level</th>\n",
              "      <th>secondary_cleaner.state.floatbank6_a_air</th>\n",
              "      <th>secondary_cleaner.state.floatbank6_a_level</th>\n",
              "    </tr>\n",
              "  </thead>\n",
              "  <tbody>\n",
              "    <tr>\n",
              "      <th>0</th>\n",
              "      <td>2016-01-15 00:00:00</td>\n",
              "      <td>6.055403</td>\n",
              "      <td>9.889648</td>\n",
              "      <td>5.507324</td>\n",
              "      <td>42.192020</td>\n",
              "      <td>70.541216</td>\n",
              "      <td>10.411962</td>\n",
              "      <td>0.895447</td>\n",
              "      <td>16.904297</td>\n",
              "      <td>2.143149</td>\n",
              "      <td>...</td>\n",
              "      <td>14.016835</td>\n",
              "      <td>-502.488007</td>\n",
              "      <td>12.099931</td>\n",
              "      <td>-504.715942</td>\n",
              "      <td>9.925633</td>\n",
              "      <td>-498.310211</td>\n",
              "      <td>8.079666</td>\n",
              "      <td>-500.470978</td>\n",
              "      <td>14.151341</td>\n",
              "      <td>-605.841980</td>\n",
              "    </tr>\n",
              "    <tr>\n",
              "      <th>1</th>\n",
              "      <td>2016-01-15 01:00:00</td>\n",
              "      <td>6.029369</td>\n",
              "      <td>9.968944</td>\n",
              "      <td>5.257781</td>\n",
              "      <td>42.701629</td>\n",
              "      <td>69.266198</td>\n",
              "      <td>10.462676</td>\n",
              "      <td>0.927452</td>\n",
              "      <td>16.634514</td>\n",
              "      <td>2.224930</td>\n",
              "      <td>...</td>\n",
              "      <td>13.992281</td>\n",
              "      <td>-505.503262</td>\n",
              "      <td>11.950531</td>\n",
              "      <td>-501.331529</td>\n",
              "      <td>10.039245</td>\n",
              "      <td>-500.169983</td>\n",
              "      <td>7.984757</td>\n",
              "      <td>-500.582168</td>\n",
              "      <td>13.998353</td>\n",
              "      <td>-599.787184</td>\n",
              "    </tr>\n",
              "    <tr>\n",
              "      <th>2</th>\n",
              "      <td>2016-01-15 02:00:00</td>\n",
              "      <td>6.055926</td>\n",
              "      <td>10.213995</td>\n",
              "      <td>5.383759</td>\n",
              "      <td>42.657501</td>\n",
              "      <td>68.116445</td>\n",
              "      <td>10.507046</td>\n",
              "      <td>0.953716</td>\n",
              "      <td>16.208849</td>\n",
              "      <td>2.257889</td>\n",
              "      <td>...</td>\n",
              "      <td>14.015015</td>\n",
              "      <td>-502.520901</td>\n",
              "      <td>11.912783</td>\n",
              "      <td>-501.133383</td>\n",
              "      <td>10.070913</td>\n",
              "      <td>-500.129135</td>\n",
              "      <td>8.013877</td>\n",
              "      <td>-500.517572</td>\n",
              "      <td>14.028663</td>\n",
              "      <td>-601.427363</td>\n",
              "    </tr>\n",
              "    <tr>\n",
              "      <th>3</th>\n",
              "      <td>2016-01-15 03:00:00</td>\n",
              "      <td>6.047977</td>\n",
              "      <td>9.977019</td>\n",
              "      <td>4.858634</td>\n",
              "      <td>42.689819</td>\n",
              "      <td>68.347543</td>\n",
              "      <td>10.422762</td>\n",
              "      <td>0.883763</td>\n",
              "      <td>16.532835</td>\n",
              "      <td>2.146849</td>\n",
              "      <td>...</td>\n",
              "      <td>14.036510</td>\n",
              "      <td>-500.857308</td>\n",
              "      <td>11.999550</td>\n",
              "      <td>-501.193686</td>\n",
              "      <td>9.970366</td>\n",
              "      <td>-499.201640</td>\n",
              "      <td>7.977324</td>\n",
              "      <td>-500.255908</td>\n",
              "      <td>14.005551</td>\n",
              "      <td>-599.996129</td>\n",
              "    </tr>\n",
              "    <tr>\n",
              "      <th>4</th>\n",
              "      <td>2016-01-15 04:00:00</td>\n",
              "      <td>6.148599</td>\n",
              "      <td>10.142511</td>\n",
              "      <td>4.939416</td>\n",
              "      <td>42.774141</td>\n",
              "      <td>66.927016</td>\n",
              "      <td>10.360302</td>\n",
              "      <td>0.792826</td>\n",
              "      <td>16.525686</td>\n",
              "      <td>2.055292</td>\n",
              "      <td>...</td>\n",
              "      <td>14.027298</td>\n",
              "      <td>-499.838632</td>\n",
              "      <td>11.953070</td>\n",
              "      <td>-501.053894</td>\n",
              "      <td>9.925709</td>\n",
              "      <td>-501.686727</td>\n",
              "      <td>7.894242</td>\n",
              "      <td>-500.356035</td>\n",
              "      <td>13.996647</td>\n",
              "      <td>-601.496691</td>\n",
              "    </tr>\n",
              "  </tbody>\n",
              "</table>\n",
              "<p>5 rows × 87 columns</p>\n",
              "</div>"
            ],
            "text/plain": [
              "                  date  final.output.concentrate_ag  \\\n",
              "0  2016-01-15 00:00:00                     6.055403   \n",
              "1  2016-01-15 01:00:00                     6.029369   \n",
              "2  2016-01-15 02:00:00                     6.055926   \n",
              "3  2016-01-15 03:00:00                     6.047977   \n",
              "4  2016-01-15 04:00:00                     6.148599   \n",
              "\n",
              "   final.output.concentrate_pb  final.output.concentrate_sol  \\\n",
              "0                     9.889648                      5.507324   \n",
              "1                     9.968944                      5.257781   \n",
              "2                    10.213995                      5.383759   \n",
              "3                     9.977019                      4.858634   \n",
              "4                    10.142511                      4.939416   \n",
              "\n",
              "   final.output.concentrate_au  final.output.recovery  final.output.tail_ag  \\\n",
              "0                    42.192020              70.541216             10.411962   \n",
              "1                    42.701629              69.266198             10.462676   \n",
              "2                    42.657501              68.116445             10.507046   \n",
              "3                    42.689819              68.347543             10.422762   \n",
              "4                    42.774141              66.927016             10.360302   \n",
              "\n",
              "   final.output.tail_pb  final.output.tail_sol  final.output.tail_au  ...  \\\n",
              "0              0.895447              16.904297              2.143149  ...   \n",
              "1              0.927452              16.634514              2.224930  ...   \n",
              "2              0.953716              16.208849              2.257889  ...   \n",
              "3              0.883763              16.532835              2.146849  ...   \n",
              "4              0.792826              16.525686              2.055292  ...   \n",
              "\n",
              "   secondary_cleaner.state.floatbank4_a_air  \\\n",
              "0                                 14.016835   \n",
              "1                                 13.992281   \n",
              "2                                 14.015015   \n",
              "3                                 14.036510   \n",
              "4                                 14.027298   \n",
              "\n",
              "   secondary_cleaner.state.floatbank4_a_level  \\\n",
              "0                                 -502.488007   \n",
              "1                                 -505.503262   \n",
              "2                                 -502.520901   \n",
              "3                                 -500.857308   \n",
              "4                                 -499.838632   \n",
              "\n",
              "   secondary_cleaner.state.floatbank4_b_air  \\\n",
              "0                                 12.099931   \n",
              "1                                 11.950531   \n",
              "2                                 11.912783   \n",
              "3                                 11.999550   \n",
              "4                                 11.953070   \n",
              "\n",
              "   secondary_cleaner.state.floatbank4_b_level  \\\n",
              "0                                 -504.715942   \n",
              "1                                 -501.331529   \n",
              "2                                 -501.133383   \n",
              "3                                 -501.193686   \n",
              "4                                 -501.053894   \n",
              "\n",
              "   secondary_cleaner.state.floatbank5_a_air  \\\n",
              "0                                  9.925633   \n",
              "1                                 10.039245   \n",
              "2                                 10.070913   \n",
              "3                                  9.970366   \n",
              "4                                  9.925709   \n",
              "\n",
              "   secondary_cleaner.state.floatbank5_a_level  \\\n",
              "0                                 -498.310211   \n",
              "1                                 -500.169983   \n",
              "2                                 -500.129135   \n",
              "3                                 -499.201640   \n",
              "4                                 -501.686727   \n",
              "\n",
              "   secondary_cleaner.state.floatbank5_b_air  \\\n",
              "0                                  8.079666   \n",
              "1                                  7.984757   \n",
              "2                                  8.013877   \n",
              "3                                  7.977324   \n",
              "4                                  7.894242   \n",
              "\n",
              "   secondary_cleaner.state.floatbank5_b_level  \\\n",
              "0                                 -500.470978   \n",
              "1                                 -500.582168   \n",
              "2                                 -500.517572   \n",
              "3                                 -500.255908   \n",
              "4                                 -500.356035   \n",
              "\n",
              "   secondary_cleaner.state.floatbank6_a_air  \\\n",
              "0                                 14.151341   \n",
              "1                                 13.998353   \n",
              "2                                 14.028663   \n",
              "3                                 14.005551   \n",
              "4                                 13.996647   \n",
              "\n",
              "   secondary_cleaner.state.floatbank6_a_level  \n",
              "0                                 -605.841980  \n",
              "1                                 -599.787184  \n",
              "2                                 -601.427363  \n",
              "3                                 -599.996129  \n",
              "4                                 -601.496691  \n",
              "\n",
              "[5 rows x 87 columns]"
            ]
          },
          "metadata": {},
          "output_type": "display_data"
        },
        {
          "name": "stdout",
          "output_type": "stream",
          "text": [
            "\n"
          ]
        },
        {
          "data": {
            "text/html": [
              "<div>\n",
              "<style scoped>\n",
              "    .dataframe tbody tr th:only-of-type {\n",
              "        vertical-align: middle;\n",
              "    }\n",
              "\n",
              "    .dataframe tbody tr th {\n",
              "        vertical-align: top;\n",
              "    }\n",
              "\n",
              "    .dataframe thead th {\n",
              "        text-align: right;\n",
              "    }\n",
              "</style>\n",
              "<table border=\"1\" class=\"dataframe\">\n",
              "  <thead>\n",
              "    <tr style=\"text-align: right;\">\n",
              "      <th></th>\n",
              "      <th>final.output.concentrate_ag</th>\n",
              "      <th>final.output.concentrate_pb</th>\n",
              "      <th>final.output.concentrate_sol</th>\n",
              "      <th>final.output.concentrate_au</th>\n",
              "      <th>final.output.recovery</th>\n",
              "      <th>final.output.tail_ag</th>\n",
              "      <th>final.output.tail_pb</th>\n",
              "      <th>final.output.tail_sol</th>\n",
              "      <th>final.output.tail_au</th>\n",
              "      <th>primary_cleaner.input.sulfate</th>\n",
              "      <th>...</th>\n",
              "      <th>secondary_cleaner.state.floatbank4_a_air</th>\n",
              "      <th>secondary_cleaner.state.floatbank4_a_level</th>\n",
              "      <th>secondary_cleaner.state.floatbank4_b_air</th>\n",
              "      <th>secondary_cleaner.state.floatbank4_b_level</th>\n",
              "      <th>secondary_cleaner.state.floatbank5_a_air</th>\n",
              "      <th>secondary_cleaner.state.floatbank5_a_level</th>\n",
              "      <th>secondary_cleaner.state.floatbank5_b_air</th>\n",
              "      <th>secondary_cleaner.state.floatbank5_b_level</th>\n",
              "      <th>secondary_cleaner.state.floatbank6_a_air</th>\n",
              "      <th>secondary_cleaner.state.floatbank6_a_level</th>\n",
              "    </tr>\n",
              "  </thead>\n",
              "  <tbody>\n",
              "    <tr>\n",
              "      <th>count</th>\n",
              "      <td>14148.000000</td>\n",
              "      <td>14148.000000</td>\n",
              "      <td>13938.000000</td>\n",
              "      <td>14149.000000</td>\n",
              "      <td>14149.000000</td>\n",
              "      <td>14149.000000</td>\n",
              "      <td>14049.000000</td>\n",
              "      <td>14144.000000</td>\n",
              "      <td>14149.000000</td>\n",
              "      <td>14129.000000</td>\n",
              "      <td>...</td>\n",
              "      <td>14143.000000</td>\n",
              "      <td>14148.000000</td>\n",
              "      <td>14148.000000</td>\n",
              "      <td>14148.000000</td>\n",
              "      <td>14148.000000</td>\n",
              "      <td>14148.000000</td>\n",
              "      <td>14148.000000</td>\n",
              "      <td>14148.000000</td>\n",
              "      <td>14147.000000</td>\n",
              "      <td>14148.000000</td>\n",
              "    </tr>\n",
              "    <tr>\n",
              "      <th>mean</th>\n",
              "      <td>5.142034</td>\n",
              "      <td>10.132960</td>\n",
              "      <td>9.202849</td>\n",
              "      <td>44.003792</td>\n",
              "      <td>66.518832</td>\n",
              "      <td>9.607035</td>\n",
              "      <td>2.597298</td>\n",
              "      <td>10.512122</td>\n",
              "      <td>2.918421</td>\n",
              "      <td>133.320659</td>\n",
              "      <td>...</td>\n",
              "      <td>19.985454</td>\n",
              "      <td>-478.696836</td>\n",
              "      <td>15.487065</td>\n",
              "      <td>-460.229416</td>\n",
              "      <td>16.775136</td>\n",
              "      <td>-483.956022</td>\n",
              "      <td>13.064590</td>\n",
              "      <td>-483.966564</td>\n",
              "      <td>19.577539</td>\n",
              "      <td>-506.798480</td>\n",
              "    </tr>\n",
              "    <tr>\n",
              "      <th>std</th>\n",
              "      <td>1.369586</td>\n",
              "      <td>1.654930</td>\n",
              "      <td>2.790516</td>\n",
              "      <td>4.905261</td>\n",
              "      <td>10.295402</td>\n",
              "      <td>2.319069</td>\n",
              "      <td>0.971843</td>\n",
              "      <td>3.003617</td>\n",
              "      <td>0.903712</td>\n",
              "      <td>39.431659</td>\n",
              "      <td>...</td>\n",
              "      <td>5.657723</td>\n",
              "      <td>50.736021</td>\n",
              "      <td>5.255655</td>\n",
              "      <td>58.843586</td>\n",
              "      <td>5.831906</td>\n",
              "      <td>37.892788</td>\n",
              "      <td>5.765617</td>\n",
              "      <td>39.207913</td>\n",
              "      <td>5.764417</td>\n",
              "      <td>37.079249</td>\n",
              "    </tr>\n",
              "    <tr>\n",
              "      <th>min</th>\n",
              "      <td>0.000000</td>\n",
              "      <td>0.000000</td>\n",
              "      <td>0.000000</td>\n",
              "      <td>0.000000</td>\n",
              "      <td>0.000000</td>\n",
              "      <td>0.000000</td>\n",
              "      <td>0.000000</td>\n",
              "      <td>0.000000</td>\n",
              "      <td>0.000000</td>\n",
              "      <td>0.003112</td>\n",
              "      <td>...</td>\n",
              "      <td>0.000000</td>\n",
              "      <td>-799.709069</td>\n",
              "      <td>0.000000</td>\n",
              "      <td>-799.889113</td>\n",
              "      <td>-0.372054</td>\n",
              "      <td>-797.142475</td>\n",
              "      <td>0.646208</td>\n",
              "      <td>-800.006180</td>\n",
              "      <td>0.195324</td>\n",
              "      <td>-809.398668</td>\n",
              "    </tr>\n",
              "    <tr>\n",
              "      <th>25%</th>\n",
              "      <td>4.211620</td>\n",
              "      <td>9.297355</td>\n",
              "      <td>7.484645</td>\n",
              "      <td>43.276111</td>\n",
              "      <td>62.545817</td>\n",
              "      <td>7.997429</td>\n",
              "      <td>1.905973</td>\n",
              "      <td>8.811324</td>\n",
              "      <td>2.368607</td>\n",
              "      <td>107.006651</td>\n",
              "      <td>...</td>\n",
              "      <td>14.990775</td>\n",
              "      <td>-500.628656</td>\n",
              "      <td>11.894558</td>\n",
              "      <td>-500.149000</td>\n",
              "      <td>11.083980</td>\n",
              "      <td>-500.363177</td>\n",
              "      <td>8.994405</td>\n",
              "      <td>-500.105994</td>\n",
              "      <td>14.989304</td>\n",
              "      <td>-500.745104</td>\n",
              "    </tr>\n",
              "    <tr>\n",
              "      <th>50%</th>\n",
              "      <td>4.994652</td>\n",
              "      <td>10.297144</td>\n",
              "      <td>8.845462</td>\n",
              "      <td>44.872436</td>\n",
              "      <td>67.432775</td>\n",
              "      <td>9.480270</td>\n",
              "      <td>2.592022</td>\n",
              "      <td>10.514621</td>\n",
              "      <td>2.851025</td>\n",
              "      <td>133.018328</td>\n",
              "      <td>...</td>\n",
              "      <td>20.001789</td>\n",
              "      <td>-499.681450</td>\n",
              "      <td>14.975536</td>\n",
              "      <td>-499.388738</td>\n",
              "      <td>17.932223</td>\n",
              "      <td>-499.702452</td>\n",
              "      <td>11.997547</td>\n",
              "      <td>-499.914556</td>\n",
              "      <td>19.984175</td>\n",
              "      <td>-500.061431</td>\n",
              "    </tr>\n",
              "    <tr>\n",
              "      <th>75%</th>\n",
              "      <td>5.859540</td>\n",
              "      <td>11.170603</td>\n",
              "      <td>10.487508</td>\n",
              "      <td>46.166425</td>\n",
              "      <td>72.346428</td>\n",
              "      <td>11.003707</td>\n",
              "      <td>3.241723</td>\n",
              "      <td>11.933009</td>\n",
              "      <td>3.434764</td>\n",
              "      <td>159.825396</td>\n",
              "      <td>...</td>\n",
              "      <td>24.990826</td>\n",
              "      <td>-477.472413</td>\n",
              "      <td>20.059375</td>\n",
              "      <td>-400.039008</td>\n",
              "      <td>21.346550</td>\n",
              "      <td>-487.712108</td>\n",
              "      <td>17.982903</td>\n",
              "      <td>-453.186936</td>\n",
              "      <td>24.991623</td>\n",
              "      <td>-499.536466</td>\n",
              "    </tr>\n",
              "    <tr>\n",
              "      <th>max</th>\n",
              "      <td>16.001945</td>\n",
              "      <td>17.031899</td>\n",
              "      <td>18.124851</td>\n",
              "      <td>52.756638</td>\n",
              "      <td>100.000000</td>\n",
              "      <td>19.552149</td>\n",
              "      <td>5.639565</td>\n",
              "      <td>22.317730</td>\n",
              "      <td>8.197408</td>\n",
              "      <td>250.127834</td>\n",
              "      <td>...</td>\n",
              "      <td>30.115735</td>\n",
              "      <td>-245.239184</td>\n",
              "      <td>24.007913</td>\n",
              "      <td>-145.071088</td>\n",
              "      <td>43.709931</td>\n",
              "      <td>-275.073125</td>\n",
              "      <td>27.926001</td>\n",
              "      <td>-157.396071</td>\n",
              "      <td>32.188906</td>\n",
              "      <td>-104.427459</td>\n",
              "    </tr>\n",
              "  </tbody>\n",
              "</table>\n",
              "<p>8 rows × 86 columns</p>\n",
              "</div>"
            ],
            "text/plain": [
              "       final.output.concentrate_ag  final.output.concentrate_pb  \\\n",
              "count                 14148.000000                 14148.000000   \n",
              "mean                      5.142034                    10.132960   \n",
              "std                       1.369586                     1.654930   \n",
              "min                       0.000000                     0.000000   \n",
              "25%                       4.211620                     9.297355   \n",
              "50%                       4.994652                    10.297144   \n",
              "75%                       5.859540                    11.170603   \n",
              "max                      16.001945                    17.031899   \n",
              "\n",
              "       final.output.concentrate_sol  final.output.concentrate_au  \\\n",
              "count                  13938.000000                 14149.000000   \n",
              "mean                       9.202849                    44.003792   \n",
              "std                        2.790516                     4.905261   \n",
              "min                        0.000000                     0.000000   \n",
              "25%                        7.484645                    43.276111   \n",
              "50%                        8.845462                    44.872436   \n",
              "75%                       10.487508                    46.166425   \n",
              "max                       18.124851                    52.756638   \n",
              "\n",
              "       final.output.recovery  final.output.tail_ag  final.output.tail_pb  \\\n",
              "count           14149.000000          14149.000000          14049.000000   \n",
              "mean               66.518832              9.607035              2.597298   \n",
              "std                10.295402              2.319069              0.971843   \n",
              "min                 0.000000              0.000000              0.000000   \n",
              "25%                62.545817              7.997429              1.905973   \n",
              "50%                67.432775              9.480270              2.592022   \n",
              "75%                72.346428             11.003707              3.241723   \n",
              "max               100.000000             19.552149              5.639565   \n",
              "\n",
              "       final.output.tail_sol  final.output.tail_au  \\\n",
              "count           14144.000000          14149.000000   \n",
              "mean               10.512122              2.918421   \n",
              "std                 3.003617              0.903712   \n",
              "min                 0.000000              0.000000   \n",
              "25%                 8.811324              2.368607   \n",
              "50%                10.514621              2.851025   \n",
              "75%                11.933009              3.434764   \n",
              "max                22.317730              8.197408   \n",
              "\n",
              "       primary_cleaner.input.sulfate  ...  \\\n",
              "count                   14129.000000  ...   \n",
              "mean                      133.320659  ...   \n",
              "std                        39.431659  ...   \n",
              "min                         0.003112  ...   \n",
              "25%                       107.006651  ...   \n",
              "50%                       133.018328  ...   \n",
              "75%                       159.825396  ...   \n",
              "max                       250.127834  ...   \n",
              "\n",
              "       secondary_cleaner.state.floatbank4_a_air  \\\n",
              "count                              14143.000000   \n",
              "mean                                  19.985454   \n",
              "std                                    5.657723   \n",
              "min                                    0.000000   \n",
              "25%                                   14.990775   \n",
              "50%                                   20.001789   \n",
              "75%                                   24.990826   \n",
              "max                                   30.115735   \n",
              "\n",
              "       secondary_cleaner.state.floatbank4_a_level  \\\n",
              "count                                14148.000000   \n",
              "mean                                  -478.696836   \n",
              "std                                     50.736021   \n",
              "min                                   -799.709069   \n",
              "25%                                   -500.628656   \n",
              "50%                                   -499.681450   \n",
              "75%                                   -477.472413   \n",
              "max                                   -245.239184   \n",
              "\n",
              "       secondary_cleaner.state.floatbank4_b_air  \\\n",
              "count                              14148.000000   \n",
              "mean                                  15.487065   \n",
              "std                                    5.255655   \n",
              "min                                    0.000000   \n",
              "25%                                   11.894558   \n",
              "50%                                   14.975536   \n",
              "75%                                   20.059375   \n",
              "max                                   24.007913   \n",
              "\n",
              "       secondary_cleaner.state.floatbank4_b_level  \\\n",
              "count                                14148.000000   \n",
              "mean                                  -460.229416   \n",
              "std                                     58.843586   \n",
              "min                                   -799.889113   \n",
              "25%                                   -500.149000   \n",
              "50%                                   -499.388738   \n",
              "75%                                   -400.039008   \n",
              "max                                   -145.071088   \n",
              "\n",
              "       secondary_cleaner.state.floatbank5_a_air  \\\n",
              "count                              14148.000000   \n",
              "mean                                  16.775136   \n",
              "std                                    5.831906   \n",
              "min                                   -0.372054   \n",
              "25%                                   11.083980   \n",
              "50%                                   17.932223   \n",
              "75%                                   21.346550   \n",
              "max                                   43.709931   \n",
              "\n",
              "       secondary_cleaner.state.floatbank5_a_level  \\\n",
              "count                                14148.000000   \n",
              "mean                                  -483.956022   \n",
              "std                                     37.892788   \n",
              "min                                   -797.142475   \n",
              "25%                                   -500.363177   \n",
              "50%                                   -499.702452   \n",
              "75%                                   -487.712108   \n",
              "max                                   -275.073125   \n",
              "\n",
              "       secondary_cleaner.state.floatbank5_b_air  \\\n",
              "count                              14148.000000   \n",
              "mean                                  13.064590   \n",
              "std                                    5.765617   \n",
              "min                                    0.646208   \n",
              "25%                                    8.994405   \n",
              "50%                                   11.997547   \n",
              "75%                                   17.982903   \n",
              "max                                   27.926001   \n",
              "\n",
              "       secondary_cleaner.state.floatbank5_b_level  \\\n",
              "count                                14148.000000   \n",
              "mean                                  -483.966564   \n",
              "std                                     39.207913   \n",
              "min                                   -800.006180   \n",
              "25%                                   -500.105994   \n",
              "50%                                   -499.914556   \n",
              "75%                                   -453.186936   \n",
              "max                                   -157.396071   \n",
              "\n",
              "       secondary_cleaner.state.floatbank6_a_air  \\\n",
              "count                              14147.000000   \n",
              "mean                                  19.577539   \n",
              "std                                    5.764417   \n",
              "min                                    0.195324   \n",
              "25%                                   14.989304   \n",
              "50%                                   19.984175   \n",
              "75%                                   24.991623   \n",
              "max                                   32.188906   \n",
              "\n",
              "       secondary_cleaner.state.floatbank6_a_level  \n",
              "count                                14148.000000  \n",
              "mean                                  -506.798480  \n",
              "std                                     37.079249  \n",
              "min                                   -809.398668  \n",
              "25%                                   -500.745104  \n",
              "50%                                   -500.061431  \n",
              "75%                                   -499.536466  \n",
              "max                                   -104.427459  \n",
              "\n",
              "[8 rows x 86 columns]"
            ]
          },
          "metadata": {},
          "output_type": "display_data"
        },
        {
          "name": "stdout",
          "output_type": "stream",
          "text": [
            "\u001b[32m\u001b[2m Type of signs:\n",
            "\u001b[0m\n"
          ]
        },
        {
          "data": {
            "text/plain": [
              "date                             object\n",
              "final.output.concentrate_ag     float64\n",
              "final.output.concentrate_pb     float64\n",
              "final.output.concentrate_sol    float64\n",
              "final.output.concentrate_au     float64\n",
              "dtype: object"
            ]
          },
          "metadata": {},
          "output_type": "display_data"
        },
        {
          "name": "stdout",
          "output_type": "stream",
          "text": [
            "\n",
            "\u001b[32m\u001b[2m Length:\n",
            "\u001b[0m\n",
            "None (14149, 87)\n",
            "\n",
            "\u001b[32m\u001b[2m Share of passes:\n",
            "\u001b[0m\n",
            "| Columns                                  | Missing values   |\n",
            "|------------------------------------------|------------------|\n",
            "| secondary_cleaner.output.tail_sol        | 0.113436         |\n",
            "| rougher.state.floatbank10_e_air          | 0.0308149        |\n",
            "| rougher.input.floatbank11_xanthate       | 0.0302495        |\n",
            "| primary_cleaner.output.concentrate_sol   | 0.0202134        |\n",
            "| secondary_cleaner.state.floatbank2_a_air | 0.0153368        |\n",
            "| final.output.concentrate_sol             | 0.0149127        |\n",
            "| rougher.input.feed_size                  | 0.0101774        |\n",
            "| primary_cleaner.input.xanthate           | 0.00706764       |\n",
            "| rougher.input.feed_pb                    | 0.00706764       |\n",
            "| final.output.tail_pb                     | 0.00706764       |\n",
            "| primary_cleaner.output.concentrate_pb    | 0.00607817       |\n",
            "| rougher.input.feed_sol                   | 0.00551276       |\n",
            "| primary_cleaner.output.tail_sol          | 0.00325111       |\n",
            "| rougher.input.floatbank11_sulfate        | 0.00254435       |\n",
            "| primary_cleaner.input.depressant         | 0.00226164       |\n",
            "| rougher.input.floatbank10_sulfate        | 0.00204961       |\n",
            "| rougher.output.concentrate_sol           | 0.00155488       |\n",
            "| secondary_cleaner.state.floatbank2_b_air | 0.0014842        |\n",
            "| primary_cleaner.input.sulfate            | 0.00141353       |\n",
            "| primary_cleaner.output.tail_pb           | 0.00106015       |\n",
            "\n",
            "\u001b[32m\u001b[2m Total number of passes: \n",
            "\u001b[0m\n",
            "| Columns                                  | Missing values   |\n",
            "|------------------------------------------|------------------|\n",
            "| secondary_cleaner.output.tail_sol        | 1605             |\n",
            "| rougher.state.floatbank10_e_air          | 436              |\n",
            "| rougher.input.floatbank11_xanthate       | 428              |\n",
            "| primary_cleaner.output.concentrate_sol   | 286              |\n",
            "| secondary_cleaner.state.floatbank2_a_air | 217              |\n",
            "| final.output.concentrate_sol             | 211              |\n",
            "| rougher.input.feed_size                  | 144              |\n",
            "| primary_cleaner.input.xanthate           | 100              |\n",
            "| rougher.input.feed_pb                    | 100              |\n",
            "| final.output.tail_pb                     | 100              |\n",
            "| primary_cleaner.output.concentrate_pb    | 86               |\n",
            "| rougher.input.feed_sol                   | 78               |\n",
            "| primary_cleaner.output.tail_sol          | 46               |\n",
            "| rougher.input.floatbank11_sulfate        | 36               |\n",
            "| primary_cleaner.input.depressant         | 32               |\n",
            "| rougher.input.floatbank10_sulfate        | 29               |\n",
            "| rougher.output.concentrate_sol           | 22               |\n",
            "| secondary_cleaner.state.floatbank2_b_air | 21               |\n",
            "| primary_cleaner.input.sulfate            | 20               |\n",
            "| primary_cleaner.output.tail_pb           | 15               |\n",
            "\n",
            "\u001b[32m\u001b[2m Unique values for each column:\n",
            "\u001b[0m\n",
            "| Columns                                | Unique values   |\n",
            "|----------------------------------------|-----------------|\n",
            "| date                                   | 14149           |\n",
            "| final.output.concentrate_ag            | 14064           |\n",
            "| final.output.concentrate_pb            | 14050           |\n",
            "| final.output.concentrate_sol           | 13853           |\n",
            "| final.output.concentrate_au            | 14065           |\n",
            "| final.output.recovery                  | 14008           |\n",
            "| final.output.tail_ag                   | 14062           |\n",
            "| final.output.tail_pb                   | 13962           |\n",
            "| final.output.tail_sol                  | 14057           |\n",
            "| final.output.tail_au                   | 14062           |\n",
            "| primary_cleaner.input.sulfate          | 14129           |\n",
            "| primary_cleaner.input.depressant       | 14108           |\n",
            "| primary_cleaner.input.feed_size        | 3732            |\n",
            "| primary_cleaner.input.xanthate         | 14049           |\n",
            "| primary_cleaner.output.concentrate_ag  | 13950           |\n",
            "| primary_cleaner.output.concentrate_pb  | 13856           |\n",
            "| primary_cleaner.output.concentrate_sol | 13662           |\n",
            "| primary_cleaner.output.concentrate_au  | 13950           |\n",
            "| primary_cleaner.output.tail_ag         | 14063           |\n",
            "| primary_cleaner.output.tail_pb         | 14049           |\n",
            "\n",
            "\u001b[32m\u001b[2m Number of complete duplicates: 0\u001b[0m\n"
          ]
        }
      ],
      "source": [
        "init_inspect(gold_train)"
      ]
    },
    {
      "cell_type": "markdown",
      "metadata": {
        "id": "sSWXqT0ZnCts"
      },
      "source": [
        "Наблюдаем большое количество пропусков"
      ]
    },
    {
      "cell_type": "code",
      "execution_count": null,
      "metadata": {
        "colab": {
          "base_uri": "https://localhost:8080/",
          "height": 1000
        },
        "id": "u6JCb_cpimcz",
        "outputId": "5198d2ac-aed3-4d05-c814-a60d91929aba",
        "scrolled": true
      },
      "outputs": [
        {
          "name": "stdout",
          "output_type": "stream",
          "text": [
            "\u001b[32m\u001b[2m Data:\u001b[0m\n"
          ]
        },
        {
          "data": {
            "text/html": [
              "<div>\n",
              "<style scoped>\n",
              "    .dataframe tbody tr th:only-of-type {\n",
              "        vertical-align: middle;\n",
              "    }\n",
              "\n",
              "    .dataframe tbody tr th {\n",
              "        vertical-align: top;\n",
              "    }\n",
              "\n",
              "    .dataframe thead th {\n",
              "        text-align: right;\n",
              "    }\n",
              "</style>\n",
              "<table border=\"1\" class=\"dataframe\">\n",
              "  <thead>\n",
              "    <tr style=\"text-align: right;\">\n",
              "      <th></th>\n",
              "      <th>date</th>\n",
              "      <th>primary_cleaner.input.sulfate</th>\n",
              "      <th>primary_cleaner.input.depressant</th>\n",
              "      <th>primary_cleaner.input.feed_size</th>\n",
              "      <th>primary_cleaner.input.xanthate</th>\n",
              "      <th>primary_cleaner.state.floatbank8_a_air</th>\n",
              "      <th>primary_cleaner.state.floatbank8_a_level</th>\n",
              "      <th>primary_cleaner.state.floatbank8_b_air</th>\n",
              "      <th>primary_cleaner.state.floatbank8_b_level</th>\n",
              "      <th>primary_cleaner.state.floatbank8_c_air</th>\n",
              "      <th>...</th>\n",
              "      <th>secondary_cleaner.state.floatbank4_a_air</th>\n",
              "      <th>secondary_cleaner.state.floatbank4_a_level</th>\n",
              "      <th>secondary_cleaner.state.floatbank4_b_air</th>\n",
              "      <th>secondary_cleaner.state.floatbank4_b_level</th>\n",
              "      <th>secondary_cleaner.state.floatbank5_a_air</th>\n",
              "      <th>secondary_cleaner.state.floatbank5_a_level</th>\n",
              "      <th>secondary_cleaner.state.floatbank5_b_air</th>\n",
              "      <th>secondary_cleaner.state.floatbank5_b_level</th>\n",
              "      <th>secondary_cleaner.state.floatbank6_a_air</th>\n",
              "      <th>secondary_cleaner.state.floatbank6_a_level</th>\n",
              "    </tr>\n",
              "  </thead>\n",
              "  <tbody>\n",
              "    <tr>\n",
              "      <th>0</th>\n",
              "      <td>2016-09-01 00:59:59</td>\n",
              "      <td>210.800909</td>\n",
              "      <td>14.993118</td>\n",
              "      <td>8.080000</td>\n",
              "      <td>1.005021</td>\n",
              "      <td>1398.981301</td>\n",
              "      <td>-500.225577</td>\n",
              "      <td>1399.144926</td>\n",
              "      <td>-499.919735</td>\n",
              "      <td>1400.102998</td>\n",
              "      <td>...</td>\n",
              "      <td>12.023554</td>\n",
              "      <td>-497.795834</td>\n",
              "      <td>8.016656</td>\n",
              "      <td>-501.289139</td>\n",
              "      <td>7.946562</td>\n",
              "      <td>-432.317850</td>\n",
              "      <td>4.872511</td>\n",
              "      <td>-500.037437</td>\n",
              "      <td>26.705889</td>\n",
              "      <td>-499.709414</td>\n",
              "    </tr>\n",
              "    <tr>\n",
              "      <th>1</th>\n",
              "      <td>2016-09-01 01:59:59</td>\n",
              "      <td>215.392455</td>\n",
              "      <td>14.987471</td>\n",
              "      <td>8.080000</td>\n",
              "      <td>0.990469</td>\n",
              "      <td>1398.777912</td>\n",
              "      <td>-500.057435</td>\n",
              "      <td>1398.055362</td>\n",
              "      <td>-499.778182</td>\n",
              "      <td>1396.151033</td>\n",
              "      <td>...</td>\n",
              "      <td>12.058140</td>\n",
              "      <td>-498.695773</td>\n",
              "      <td>8.130979</td>\n",
              "      <td>-499.634209</td>\n",
              "      <td>7.958270</td>\n",
              "      <td>-525.839648</td>\n",
              "      <td>4.878850</td>\n",
              "      <td>-500.162375</td>\n",
              "      <td>25.019940</td>\n",
              "      <td>-499.819438</td>\n",
              "    </tr>\n",
              "    <tr>\n",
              "      <th>2</th>\n",
              "      <td>2016-09-01 02:59:59</td>\n",
              "      <td>215.259946</td>\n",
              "      <td>12.884934</td>\n",
              "      <td>7.786667</td>\n",
              "      <td>0.996043</td>\n",
              "      <td>1398.493666</td>\n",
              "      <td>-500.868360</td>\n",
              "      <td>1398.860436</td>\n",
              "      <td>-499.764529</td>\n",
              "      <td>1398.075709</td>\n",
              "      <td>...</td>\n",
              "      <td>11.962366</td>\n",
              "      <td>-498.767484</td>\n",
              "      <td>8.096893</td>\n",
              "      <td>-500.827423</td>\n",
              "      <td>8.071056</td>\n",
              "      <td>-500.801673</td>\n",
              "      <td>4.905125</td>\n",
              "      <td>-499.828510</td>\n",
              "      <td>24.994862</td>\n",
              "      <td>-500.622559</td>\n",
              "    </tr>\n",
              "    <tr>\n",
              "      <th>3</th>\n",
              "      <td>2016-09-01 03:59:59</td>\n",
              "      <td>215.336236</td>\n",
              "      <td>12.006805</td>\n",
              "      <td>7.640000</td>\n",
              "      <td>0.863514</td>\n",
              "      <td>1399.618111</td>\n",
              "      <td>-498.863574</td>\n",
              "      <td>1397.440120</td>\n",
              "      <td>-499.211024</td>\n",
              "      <td>1400.129303</td>\n",
              "      <td>...</td>\n",
              "      <td>12.033091</td>\n",
              "      <td>-498.350935</td>\n",
              "      <td>8.074946</td>\n",
              "      <td>-499.474407</td>\n",
              "      <td>7.897085</td>\n",
              "      <td>-500.868509</td>\n",
              "      <td>4.931400</td>\n",
              "      <td>-499.963623</td>\n",
              "      <td>24.948919</td>\n",
              "      <td>-498.709987</td>\n",
              "    </tr>\n",
              "    <tr>\n",
              "      <th>4</th>\n",
              "      <td>2016-09-01 04:59:59</td>\n",
              "      <td>199.099327</td>\n",
              "      <td>10.682530</td>\n",
              "      <td>7.530000</td>\n",
              "      <td>0.805575</td>\n",
              "      <td>1401.268123</td>\n",
              "      <td>-500.808305</td>\n",
              "      <td>1398.128818</td>\n",
              "      <td>-499.504543</td>\n",
              "      <td>1402.172226</td>\n",
              "      <td>...</td>\n",
              "      <td>12.025367</td>\n",
              "      <td>-500.786497</td>\n",
              "      <td>8.054678</td>\n",
              "      <td>-500.397500</td>\n",
              "      <td>8.107890</td>\n",
              "      <td>-509.526725</td>\n",
              "      <td>4.957674</td>\n",
              "      <td>-500.360026</td>\n",
              "      <td>25.003331</td>\n",
              "      <td>-500.856333</td>\n",
              "    </tr>\n",
              "  </tbody>\n",
              "</table>\n",
              "<p>5 rows × 53 columns</p>\n",
              "</div>"
            ],
            "text/plain": [
              "                  date  primary_cleaner.input.sulfate  \\\n",
              "0  2016-09-01 00:59:59                     210.800909   \n",
              "1  2016-09-01 01:59:59                     215.392455   \n",
              "2  2016-09-01 02:59:59                     215.259946   \n",
              "3  2016-09-01 03:59:59                     215.336236   \n",
              "4  2016-09-01 04:59:59                     199.099327   \n",
              "\n",
              "   primary_cleaner.input.depressant  primary_cleaner.input.feed_size  \\\n",
              "0                         14.993118                         8.080000   \n",
              "1                         14.987471                         8.080000   \n",
              "2                         12.884934                         7.786667   \n",
              "3                         12.006805                         7.640000   \n",
              "4                         10.682530                         7.530000   \n",
              "\n",
              "   primary_cleaner.input.xanthate  primary_cleaner.state.floatbank8_a_air  \\\n",
              "0                        1.005021                             1398.981301   \n",
              "1                        0.990469                             1398.777912   \n",
              "2                        0.996043                             1398.493666   \n",
              "3                        0.863514                             1399.618111   \n",
              "4                        0.805575                             1401.268123   \n",
              "\n",
              "   primary_cleaner.state.floatbank8_a_level  \\\n",
              "0                               -500.225577   \n",
              "1                               -500.057435   \n",
              "2                               -500.868360   \n",
              "3                               -498.863574   \n",
              "4                               -500.808305   \n",
              "\n",
              "   primary_cleaner.state.floatbank8_b_air  \\\n",
              "0                             1399.144926   \n",
              "1                             1398.055362   \n",
              "2                             1398.860436   \n",
              "3                             1397.440120   \n",
              "4                             1398.128818   \n",
              "\n",
              "   primary_cleaner.state.floatbank8_b_level  \\\n",
              "0                               -499.919735   \n",
              "1                               -499.778182   \n",
              "2                               -499.764529   \n",
              "3                               -499.211024   \n",
              "4                               -499.504543   \n",
              "\n",
              "   primary_cleaner.state.floatbank8_c_air  ...  \\\n",
              "0                             1400.102998  ...   \n",
              "1                             1396.151033  ...   \n",
              "2                             1398.075709  ...   \n",
              "3                             1400.129303  ...   \n",
              "4                             1402.172226  ...   \n",
              "\n",
              "   secondary_cleaner.state.floatbank4_a_air  \\\n",
              "0                                 12.023554   \n",
              "1                                 12.058140   \n",
              "2                                 11.962366   \n",
              "3                                 12.033091   \n",
              "4                                 12.025367   \n",
              "\n",
              "   secondary_cleaner.state.floatbank4_a_level  \\\n",
              "0                                 -497.795834   \n",
              "1                                 -498.695773   \n",
              "2                                 -498.767484   \n",
              "3                                 -498.350935   \n",
              "4                                 -500.786497   \n",
              "\n",
              "   secondary_cleaner.state.floatbank4_b_air  \\\n",
              "0                                  8.016656   \n",
              "1                                  8.130979   \n",
              "2                                  8.096893   \n",
              "3                                  8.074946   \n",
              "4                                  8.054678   \n",
              "\n",
              "   secondary_cleaner.state.floatbank4_b_level  \\\n",
              "0                                 -501.289139   \n",
              "1                                 -499.634209   \n",
              "2                                 -500.827423   \n",
              "3                                 -499.474407   \n",
              "4                                 -500.397500   \n",
              "\n",
              "   secondary_cleaner.state.floatbank5_a_air  \\\n",
              "0                                  7.946562   \n",
              "1                                  7.958270   \n",
              "2                                  8.071056   \n",
              "3                                  7.897085   \n",
              "4                                  8.107890   \n",
              "\n",
              "   secondary_cleaner.state.floatbank5_a_level  \\\n",
              "0                                 -432.317850   \n",
              "1                                 -525.839648   \n",
              "2                                 -500.801673   \n",
              "3                                 -500.868509   \n",
              "4                                 -509.526725   \n",
              "\n",
              "   secondary_cleaner.state.floatbank5_b_air  \\\n",
              "0                                  4.872511   \n",
              "1                                  4.878850   \n",
              "2                                  4.905125   \n",
              "3                                  4.931400   \n",
              "4                                  4.957674   \n",
              "\n",
              "   secondary_cleaner.state.floatbank5_b_level  \\\n",
              "0                                 -500.037437   \n",
              "1                                 -500.162375   \n",
              "2                                 -499.828510   \n",
              "3                                 -499.963623   \n",
              "4                                 -500.360026   \n",
              "\n",
              "   secondary_cleaner.state.floatbank6_a_air  \\\n",
              "0                                 26.705889   \n",
              "1                                 25.019940   \n",
              "2                                 24.994862   \n",
              "3                                 24.948919   \n",
              "4                                 25.003331   \n",
              "\n",
              "   secondary_cleaner.state.floatbank6_a_level  \n",
              "0                                 -499.709414  \n",
              "1                                 -499.819438  \n",
              "2                                 -500.622559  \n",
              "3                                 -498.709987  \n",
              "4                                 -500.856333  \n",
              "\n",
              "[5 rows x 53 columns]"
            ]
          },
          "metadata": {},
          "output_type": "display_data"
        },
        {
          "name": "stdout",
          "output_type": "stream",
          "text": [
            "\n"
          ]
        },
        {
          "data": {
            "text/html": [
              "<div>\n",
              "<style scoped>\n",
              "    .dataframe tbody tr th:only-of-type {\n",
              "        vertical-align: middle;\n",
              "    }\n",
              "\n",
              "    .dataframe tbody tr th {\n",
              "        vertical-align: top;\n",
              "    }\n",
              "\n",
              "    .dataframe thead th {\n",
              "        text-align: right;\n",
              "    }\n",
              "</style>\n",
              "<table border=\"1\" class=\"dataframe\">\n",
              "  <thead>\n",
              "    <tr style=\"text-align: right;\">\n",
              "      <th></th>\n",
              "      <th>primary_cleaner.input.sulfate</th>\n",
              "      <th>primary_cleaner.input.depressant</th>\n",
              "      <th>primary_cleaner.input.feed_size</th>\n",
              "      <th>primary_cleaner.input.xanthate</th>\n",
              "      <th>primary_cleaner.state.floatbank8_a_air</th>\n",
              "      <th>primary_cleaner.state.floatbank8_a_level</th>\n",
              "      <th>primary_cleaner.state.floatbank8_b_air</th>\n",
              "      <th>primary_cleaner.state.floatbank8_b_level</th>\n",
              "      <th>primary_cleaner.state.floatbank8_c_air</th>\n",
              "      <th>primary_cleaner.state.floatbank8_c_level</th>\n",
              "      <th>...</th>\n",
              "      <th>secondary_cleaner.state.floatbank4_a_air</th>\n",
              "      <th>secondary_cleaner.state.floatbank4_a_level</th>\n",
              "      <th>secondary_cleaner.state.floatbank4_b_air</th>\n",
              "      <th>secondary_cleaner.state.floatbank4_b_level</th>\n",
              "      <th>secondary_cleaner.state.floatbank5_a_air</th>\n",
              "      <th>secondary_cleaner.state.floatbank5_a_level</th>\n",
              "      <th>secondary_cleaner.state.floatbank5_b_air</th>\n",
              "      <th>secondary_cleaner.state.floatbank5_b_level</th>\n",
              "      <th>secondary_cleaner.state.floatbank6_a_air</th>\n",
              "      <th>secondary_cleaner.state.floatbank6_a_level</th>\n",
              "    </tr>\n",
              "  </thead>\n",
              "  <tbody>\n",
              "    <tr>\n",
              "      <th>count</th>\n",
              "      <td>5286.000000</td>\n",
              "      <td>5285.000000</td>\n",
              "      <td>5290.000000</td>\n",
              "      <td>5286.000000</td>\n",
              "      <td>5.290000e+03</td>\n",
              "      <td>5290.000000</td>\n",
              "      <td>5.290000e+03</td>\n",
              "      <td>5290.000000</td>\n",
              "      <td>5.290000e+03</td>\n",
              "      <td>5290.000000</td>\n",
              "      <td>...</td>\n",
              "      <td>5.290000e+03</td>\n",
              "      <td>5290.000000</td>\n",
              "      <td>5.290000e+03</td>\n",
              "      <td>5290.000000</td>\n",
              "      <td>5290.000000</td>\n",
              "      <td>5290.000000</td>\n",
              "      <td>5290.000000</td>\n",
              "      <td>5290.000000</td>\n",
              "      <td>5290.000000</td>\n",
              "      <td>5290.000000</td>\n",
              "    </tr>\n",
              "    <tr>\n",
              "      <th>mean</th>\n",
              "      <td>174.839652</td>\n",
              "      <td>8.683596</td>\n",
              "      <td>7.266339</td>\n",
              "      <td>1.383803</td>\n",
              "      <td>1.539494e+03</td>\n",
              "      <td>-497.665883</td>\n",
              "      <td>1.545174e+03</td>\n",
              "      <td>-500.273098</td>\n",
              "      <td>1.527272e+03</td>\n",
              "      <td>-498.330680</td>\n",
              "      <td>...</td>\n",
              "      <td>1.632007e+01</td>\n",
              "      <td>-505.144570</td>\n",
              "      <td>1.373544e+01</td>\n",
              "      <td>-463.349858</td>\n",
              "      <td>12.804186</td>\n",
              "      <td>-501.329122</td>\n",
              "      <td>9.881145</td>\n",
              "      <td>-495.663398</td>\n",
              "      <td>17.304935</td>\n",
              "      <td>-501.793193</td>\n",
              "    </tr>\n",
              "    <tr>\n",
              "      <th>std</th>\n",
              "      <td>43.027080</td>\n",
              "      <td>3.072050</td>\n",
              "      <td>0.610219</td>\n",
              "      <td>0.643474</td>\n",
              "      <td>1.167979e+02</td>\n",
              "      <td>19.952431</td>\n",
              "      <td>1.222246e+02</td>\n",
              "      <td>32.968307</td>\n",
              "      <td>1.225380e+02</td>\n",
              "      <td>21.964876</td>\n",
              "      <td>...</td>\n",
              "      <td>3.493583e+00</td>\n",
              "      <td>31.427337</td>\n",
              "      <td>3.430484e+00</td>\n",
              "      <td>86.189107</td>\n",
              "      <td>3.026591</td>\n",
              "      <td>17.951495</td>\n",
              "      <td>2.868205</td>\n",
              "      <td>34.535007</td>\n",
              "      <td>4.536544</td>\n",
              "      <td>39.044215</td>\n",
              "    </tr>\n",
              "    <tr>\n",
              "      <th>min</th>\n",
              "      <td>2.566156</td>\n",
              "      <td>0.003839</td>\n",
              "      <td>5.650000</td>\n",
              "      <td>0.004984</td>\n",
              "      <td>5.445860e-32</td>\n",
              "      <td>-795.316337</td>\n",
              "      <td>6.647490e-32</td>\n",
              "      <td>-799.997015</td>\n",
              "      <td>4.033736e-32</td>\n",
              "      <td>-799.960571</td>\n",
              "      <td>...</td>\n",
              "      <td>1.079872e-16</td>\n",
              "      <td>-799.798523</td>\n",
              "      <td>2.489718e-17</td>\n",
              "      <td>-800.836914</td>\n",
              "      <td>0.069227</td>\n",
              "      <td>-797.323986</td>\n",
              "      <td>0.528083</td>\n",
              "      <td>-800.220337</td>\n",
              "      <td>-0.079426</td>\n",
              "      <td>-809.741464</td>\n",
              "    </tr>\n",
              "    <tr>\n",
              "      <th>25%</th>\n",
              "      <td>147.121401</td>\n",
              "      <td>6.489555</td>\n",
              "      <td>6.890000</td>\n",
              "      <td>0.907623</td>\n",
              "      <td>1.498936e+03</td>\n",
              "      <td>-500.357298</td>\n",
              "      <td>1.498971e+03</td>\n",
              "      <td>-500.703002</td>\n",
              "      <td>1.473230e+03</td>\n",
              "      <td>-501.018117</td>\n",
              "      <td>...</td>\n",
              "      <td>1.403618e+01</td>\n",
              "      <td>-500.868258</td>\n",
              "      <td>1.202862e+01</td>\n",
              "      <td>-500.323028</td>\n",
              "      <td>10.914838</td>\n",
              "      <td>-500.726841</td>\n",
              "      <td>8.036719</td>\n",
              "      <td>-500.194668</td>\n",
              "      <td>13.997317</td>\n",
              "      <td>-500.690984</td>\n",
              "    </tr>\n",
              "    <tr>\n",
              "      <th>50%</th>\n",
              "      <td>177.828489</td>\n",
              "      <td>8.052207</td>\n",
              "      <td>7.250000</td>\n",
              "      <td>1.197610</td>\n",
              "      <td>1.585129e+03</td>\n",
              "      <td>-499.969164</td>\n",
              "      <td>1.595622e+03</td>\n",
              "      <td>-500.028514</td>\n",
              "      <td>1.549595e+03</td>\n",
              "      <td>-500.017711</td>\n",
              "      <td>...</td>\n",
              "      <td>1.700847e+01</td>\n",
              "      <td>-500.115727</td>\n",
              "      <td>1.496486e+01</td>\n",
              "      <td>-499.576513</td>\n",
              "      <td>12.954182</td>\n",
              "      <td>-499.990332</td>\n",
              "      <td>10.004301</td>\n",
              "      <td>-499.990535</td>\n",
              "      <td>16.014935</td>\n",
              "      <td>-500.007126</td>\n",
              "    </tr>\n",
              "    <tr>\n",
              "      <th>75%</th>\n",
              "      <td>208.125438</td>\n",
              "      <td>10.027764</td>\n",
              "      <td>7.600000</td>\n",
              "      <td>1.797819</td>\n",
              "      <td>1.602077e+03</td>\n",
              "      <td>-499.568951</td>\n",
              "      <td>1.602324e+03</td>\n",
              "      <td>-499.293257</td>\n",
              "      <td>1.601144e+03</td>\n",
              "      <td>-498.994130</td>\n",
              "      <td>...</td>\n",
              "      <td>1.803862e+01</td>\n",
              "      <td>-499.404224</td>\n",
              "      <td>1.596213e+01</td>\n",
              "      <td>-400.933805</td>\n",
              "      <td>15.097528</td>\n",
              "      <td>-499.283191</td>\n",
              "      <td>11.997467</td>\n",
              "      <td>-499.719913</td>\n",
              "      <td>21.020013</td>\n",
              "      <td>-499.373018</td>\n",
              "    </tr>\n",
              "    <tr>\n",
              "      <th>max</th>\n",
              "      <td>265.983123</td>\n",
              "      <td>40.000000</td>\n",
              "      <td>15.500000</td>\n",
              "      <td>4.102454</td>\n",
              "      <td>2.103104e+03</td>\n",
              "      <td>-57.195404</td>\n",
              "      <td>1.813084e+03</td>\n",
              "      <td>-142.527229</td>\n",
              "      <td>1.715054e+03</td>\n",
              "      <td>-150.937035</td>\n",
              "      <td>...</td>\n",
              "      <td>3.005180e+01</td>\n",
              "      <td>-401.565212</td>\n",
              "      <td>3.126971e+01</td>\n",
              "      <td>-6.506986</td>\n",
              "      <td>25.258848</td>\n",
              "      <td>-244.483566</td>\n",
              "      <td>14.086866</td>\n",
              "      <td>-137.740004</td>\n",
              "      <td>26.705889</td>\n",
              "      <td>-123.307487</td>\n",
              "    </tr>\n",
              "  </tbody>\n",
              "</table>\n",
              "<p>8 rows × 52 columns</p>\n",
              "</div>"
            ],
            "text/plain": [
              "       primary_cleaner.input.sulfate  primary_cleaner.input.depressant  \\\n",
              "count                    5286.000000                       5285.000000   \n",
              "mean                      174.839652                          8.683596   \n",
              "std                        43.027080                          3.072050   \n",
              "min                         2.566156                          0.003839   \n",
              "25%                       147.121401                          6.489555   \n",
              "50%                       177.828489                          8.052207   \n",
              "75%                       208.125438                         10.027764   \n",
              "max                       265.983123                         40.000000   \n",
              "\n",
              "       primary_cleaner.input.feed_size  primary_cleaner.input.xanthate  \\\n",
              "count                      5290.000000                     5286.000000   \n",
              "mean                          7.266339                        1.383803   \n",
              "std                           0.610219                        0.643474   \n",
              "min                           5.650000                        0.004984   \n",
              "25%                           6.890000                        0.907623   \n",
              "50%                           7.250000                        1.197610   \n",
              "75%                           7.600000                        1.797819   \n",
              "max                          15.500000                        4.102454   \n",
              "\n",
              "       primary_cleaner.state.floatbank8_a_air  \\\n",
              "count                            5.290000e+03   \n",
              "mean                             1.539494e+03   \n",
              "std                              1.167979e+02   \n",
              "min                              5.445860e-32   \n",
              "25%                              1.498936e+03   \n",
              "50%                              1.585129e+03   \n",
              "75%                              1.602077e+03   \n",
              "max                              2.103104e+03   \n",
              "\n",
              "       primary_cleaner.state.floatbank8_a_level  \\\n",
              "count                               5290.000000   \n",
              "mean                                -497.665883   \n",
              "std                                   19.952431   \n",
              "min                                 -795.316337   \n",
              "25%                                 -500.357298   \n",
              "50%                                 -499.969164   \n",
              "75%                                 -499.568951   \n",
              "max                                  -57.195404   \n",
              "\n",
              "       primary_cleaner.state.floatbank8_b_air  \\\n",
              "count                            5.290000e+03   \n",
              "mean                             1.545174e+03   \n",
              "std                              1.222246e+02   \n",
              "min                              6.647490e-32   \n",
              "25%                              1.498971e+03   \n",
              "50%                              1.595622e+03   \n",
              "75%                              1.602324e+03   \n",
              "max                              1.813084e+03   \n",
              "\n",
              "       primary_cleaner.state.floatbank8_b_level  \\\n",
              "count                               5290.000000   \n",
              "mean                                -500.273098   \n",
              "std                                   32.968307   \n",
              "min                                 -799.997015   \n",
              "25%                                 -500.703002   \n",
              "50%                                 -500.028514   \n",
              "75%                                 -499.293257   \n",
              "max                                 -142.527229   \n",
              "\n",
              "       primary_cleaner.state.floatbank8_c_air  \\\n",
              "count                            5.290000e+03   \n",
              "mean                             1.527272e+03   \n",
              "std                              1.225380e+02   \n",
              "min                              4.033736e-32   \n",
              "25%                              1.473230e+03   \n",
              "50%                              1.549595e+03   \n",
              "75%                              1.601144e+03   \n",
              "max                              1.715054e+03   \n",
              "\n",
              "       primary_cleaner.state.floatbank8_c_level  ...  \\\n",
              "count                               5290.000000  ...   \n",
              "mean                                -498.330680  ...   \n",
              "std                                   21.964876  ...   \n",
              "min                                 -799.960571  ...   \n",
              "25%                                 -501.018117  ...   \n",
              "50%                                 -500.017711  ...   \n",
              "75%                                 -498.994130  ...   \n",
              "max                                 -150.937035  ...   \n",
              "\n",
              "       secondary_cleaner.state.floatbank4_a_air  \\\n",
              "count                              5.290000e+03   \n",
              "mean                               1.632007e+01   \n",
              "std                                3.493583e+00   \n",
              "min                                1.079872e-16   \n",
              "25%                                1.403618e+01   \n",
              "50%                                1.700847e+01   \n",
              "75%                                1.803862e+01   \n",
              "max                                3.005180e+01   \n",
              "\n",
              "       secondary_cleaner.state.floatbank4_a_level  \\\n",
              "count                                 5290.000000   \n",
              "mean                                  -505.144570   \n",
              "std                                     31.427337   \n",
              "min                                   -799.798523   \n",
              "25%                                   -500.868258   \n",
              "50%                                   -500.115727   \n",
              "75%                                   -499.404224   \n",
              "max                                   -401.565212   \n",
              "\n",
              "       secondary_cleaner.state.floatbank4_b_air  \\\n",
              "count                              5.290000e+03   \n",
              "mean                               1.373544e+01   \n",
              "std                                3.430484e+00   \n",
              "min                                2.489718e-17   \n",
              "25%                                1.202862e+01   \n",
              "50%                                1.496486e+01   \n",
              "75%                                1.596213e+01   \n",
              "max                                3.126971e+01   \n",
              "\n",
              "       secondary_cleaner.state.floatbank4_b_level  \\\n",
              "count                                 5290.000000   \n",
              "mean                                  -463.349858   \n",
              "std                                     86.189107   \n",
              "min                                   -800.836914   \n",
              "25%                                   -500.323028   \n",
              "50%                                   -499.576513   \n",
              "75%                                   -400.933805   \n",
              "max                                     -6.506986   \n",
              "\n",
              "       secondary_cleaner.state.floatbank5_a_air  \\\n",
              "count                               5290.000000   \n",
              "mean                                  12.804186   \n",
              "std                                    3.026591   \n",
              "min                                    0.069227   \n",
              "25%                                   10.914838   \n",
              "50%                                   12.954182   \n",
              "75%                                   15.097528   \n",
              "max                                   25.258848   \n",
              "\n",
              "       secondary_cleaner.state.floatbank5_a_level  \\\n",
              "count                                 5290.000000   \n",
              "mean                                  -501.329122   \n",
              "std                                     17.951495   \n",
              "min                                   -797.323986   \n",
              "25%                                   -500.726841   \n",
              "50%                                   -499.990332   \n",
              "75%                                   -499.283191   \n",
              "max                                   -244.483566   \n",
              "\n",
              "       secondary_cleaner.state.floatbank5_b_air  \\\n",
              "count                               5290.000000   \n",
              "mean                                   9.881145   \n",
              "std                                    2.868205   \n",
              "min                                    0.528083   \n",
              "25%                                    8.036719   \n",
              "50%                                   10.004301   \n",
              "75%                                   11.997467   \n",
              "max                                   14.086866   \n",
              "\n",
              "       secondary_cleaner.state.floatbank5_b_level  \\\n",
              "count                                 5290.000000   \n",
              "mean                                  -495.663398   \n",
              "std                                     34.535007   \n",
              "min                                   -800.220337   \n",
              "25%                                   -500.194668   \n",
              "50%                                   -499.990535   \n",
              "75%                                   -499.719913   \n",
              "max                                   -137.740004   \n",
              "\n",
              "       secondary_cleaner.state.floatbank6_a_air  \\\n",
              "count                               5290.000000   \n",
              "mean                                  17.304935   \n",
              "std                                    4.536544   \n",
              "min                                   -0.079426   \n",
              "25%                                   13.997317   \n",
              "50%                                   16.014935   \n",
              "75%                                   21.020013   \n",
              "max                                   26.705889   \n",
              "\n",
              "       secondary_cleaner.state.floatbank6_a_level  \n",
              "count                                 5290.000000  \n",
              "mean                                  -501.793193  \n",
              "std                                     39.044215  \n",
              "min                                   -809.741464  \n",
              "25%                                   -500.690984  \n",
              "50%                                   -500.007126  \n",
              "75%                                   -499.373018  \n",
              "max                                   -123.307487  \n",
              "\n",
              "[8 rows x 52 columns]"
            ]
          },
          "metadata": {},
          "output_type": "display_data"
        },
        {
          "name": "stdout",
          "output_type": "stream",
          "text": [
            "\u001b[32m\u001b[2m Type of signs:\n",
            "\u001b[0m\n"
          ]
        },
        {
          "data": {
            "text/plain": [
              "date                                 object\n",
              "primary_cleaner.input.sulfate       float64\n",
              "primary_cleaner.input.depressant    float64\n",
              "primary_cleaner.input.feed_size     float64\n",
              "primary_cleaner.input.xanthate      float64\n",
              "dtype: object"
            ]
          },
          "metadata": {},
          "output_type": "display_data"
        },
        {
          "name": "stdout",
          "output_type": "stream",
          "text": [
            "\n",
            "\u001b[32m\u001b[2m Length:\n",
            "\u001b[0m\n",
            "None (5290, 53)\n",
            "\n",
            "\u001b[32m\u001b[2m Share of passes:\n",
            "\u001b[0m\n",
            "| Columns                                    | Missing values   |\n",
            "|--------------------------------------------|------------------|\n",
            "| rougher.input.floatbank11_xanthate         | 0.0047259        |\n",
            "| rougher.input.feed_sol                     | 0.00396975       |\n",
            "| secondary_cleaner.state.floatbank3_a_air   | 0.00170132       |\n",
            "| rougher.input.floatbank11_sulfate          | 0.00151229       |\n",
            "| primary_cleaner.input.depressant           | 0.00094518       |\n",
            "| rougher.input.floatbank10_sulfate          | 0.00094518       |\n",
            "| primary_cleaner.input.xanthate             | 0.000756144      |\n",
            "| primary_cleaner.input.sulfate              | 0.000756144      |\n",
            "| rougher.input.feed_rate                    | 0.000567108      |\n",
            "| secondary_cleaner.state.floatbank2_a_air   | 0.000567108      |\n",
            "| secondary_cleaner.state.floatbank2_b_air   | 0.000378072      |\n",
            "| rougher.input.feed_size                    | 0.000189036      |\n",
            "| secondary_cleaner.state.floatbank2_b_level | 0                |\n",
            "| rougher.state.floatbank10_f_level          | 0                |\n",
            "| rougher.state.floatbank10_f_air            | 0                |\n",
            "| secondary_cleaner.state.floatbank3_a_level | 0                |\n",
            "| secondary_cleaner.state.floatbank2_a_level | 0                |\n",
            "| date                                       | 0                |\n",
            "| rougher.state.floatbank10_e_air            | 0                |\n",
            "| secondary_cleaner.state.floatbank3_b_air   | 0                |\n",
            "\n",
            "\u001b[32m\u001b[2m Total number of passes: \n",
            "\u001b[0m\n",
            "| Columns                                    | Missing values   |\n",
            "|--------------------------------------------|------------------|\n",
            "| rougher.input.floatbank11_xanthate         | 25               |\n",
            "| rougher.input.feed_sol                     | 21               |\n",
            "| secondary_cleaner.state.floatbank3_a_air   | 9                |\n",
            "| rougher.input.floatbank11_sulfate          | 8                |\n",
            "| primary_cleaner.input.depressant           | 5                |\n",
            "| rougher.input.floatbank10_sulfate          | 5                |\n",
            "| primary_cleaner.input.xanthate             | 4                |\n",
            "| primary_cleaner.input.sulfate              | 4                |\n",
            "| rougher.input.feed_rate                    | 3                |\n",
            "| secondary_cleaner.state.floatbank2_a_air   | 3                |\n",
            "| secondary_cleaner.state.floatbank2_b_air   | 2                |\n",
            "| rougher.input.feed_size                    | 1                |\n",
            "| secondary_cleaner.state.floatbank2_b_level | 0                |\n",
            "| rougher.state.floatbank10_f_level          | 0                |\n",
            "| rougher.state.floatbank10_f_air            | 0                |\n",
            "| secondary_cleaner.state.floatbank3_a_level | 0                |\n",
            "| secondary_cleaner.state.floatbank2_a_level | 0                |\n",
            "| date                                       | 0                |\n",
            "| rougher.state.floatbank10_e_air            | 0                |\n",
            "| secondary_cleaner.state.floatbank3_b_air   | 0                |\n",
            "\n",
            "\u001b[32m\u001b[2m Unique values for each column:\n",
            "\u001b[0m\n",
            "| Columns                                  | Unique values   |\n",
            "|------------------------------------------|-----------------|\n",
            "| date                                     | 5290            |\n",
            "| primary_cleaner.input.sulfate            | 5286            |\n",
            "| primary_cleaner.input.depressant         | 5285            |\n",
            "| primary_cleaner.input.feed_size          | 1537            |\n",
            "| primary_cleaner.input.xanthate           | 5286            |\n",
            "| primary_cleaner.state.floatbank8_a_air   | 5290            |\n",
            "| primary_cleaner.state.floatbank8_a_level | 5290            |\n",
            "| primary_cleaner.state.floatbank8_b_air   | 5290            |\n",
            "| primary_cleaner.state.floatbank8_b_level | 5290            |\n",
            "| primary_cleaner.state.floatbank8_c_air   | 5290            |\n",
            "| primary_cleaner.state.floatbank8_c_level | 5290            |\n",
            "| primary_cleaner.state.floatbank8_d_air   | 5290            |\n",
            "| primary_cleaner.state.floatbank8_d_level | 5290            |\n",
            "| rougher.input.feed_ag                    | 5283            |\n",
            "| rougher.input.feed_pb                    | 5282            |\n",
            "| rougher.input.feed_rate                  | 5287            |\n",
            "| rougher.input.feed_size                  | 5289            |\n",
            "| rougher.input.feed_sol                   | 5260            |\n",
            "| rougher.input.feed_au                    | 5283            |\n",
            "| rougher.input.floatbank10_sulfate        | 5285            |\n",
            "\n",
            "\u001b[32m\u001b[2m Number of complete duplicates: 0\u001b[0m\n"
          ]
        }
      ],
      "source": [
        "init_inspect(gold_test)"
      ]
    },
    {
      "cell_type": "markdown",
      "metadata": {
        "id": "GbRv5J95qc1X"
      },
      "source": [
        "Аналогичная ситуация с тестовой выборкой"
      ]
    },
    {
      "cell_type": "code",
      "execution_count": null,
      "metadata": {
        "colab": {
          "base_uri": "https://localhost:8080/",
          "height": 1000
        },
        "id": "85lufp-wqkqq",
        "outputId": "c1ea47f8-6f9f-4705-858e-f6f2ecc6f074",
        "scrolled": true
      },
      "outputs": [
        {
          "name": "stdout",
          "output_type": "stream",
          "text": [
            "\u001b[32m\u001b[2m Data:\u001b[0m\n"
          ]
        },
        {
          "data": {
            "text/html": [
              "<div>\n",
              "<style scoped>\n",
              "    .dataframe tbody tr th:only-of-type {\n",
              "        vertical-align: middle;\n",
              "    }\n",
              "\n",
              "    .dataframe tbody tr th {\n",
              "        vertical-align: top;\n",
              "    }\n",
              "\n",
              "    .dataframe thead th {\n",
              "        text-align: right;\n",
              "    }\n",
              "</style>\n",
              "<table border=\"1\" class=\"dataframe\">\n",
              "  <thead>\n",
              "    <tr style=\"text-align: right;\">\n",
              "      <th></th>\n",
              "      <th>date</th>\n",
              "      <th>final.output.concentrate_ag</th>\n",
              "      <th>final.output.concentrate_pb</th>\n",
              "      <th>final.output.concentrate_sol</th>\n",
              "      <th>final.output.concentrate_au</th>\n",
              "      <th>final.output.recovery</th>\n",
              "      <th>final.output.tail_ag</th>\n",
              "      <th>final.output.tail_pb</th>\n",
              "      <th>final.output.tail_sol</th>\n",
              "      <th>final.output.tail_au</th>\n",
              "      <th>...</th>\n",
              "      <th>secondary_cleaner.state.floatbank4_a_air</th>\n",
              "      <th>secondary_cleaner.state.floatbank4_a_level</th>\n",
              "      <th>secondary_cleaner.state.floatbank4_b_air</th>\n",
              "      <th>secondary_cleaner.state.floatbank4_b_level</th>\n",
              "      <th>secondary_cleaner.state.floatbank5_a_air</th>\n",
              "      <th>secondary_cleaner.state.floatbank5_a_level</th>\n",
              "      <th>secondary_cleaner.state.floatbank5_b_air</th>\n",
              "      <th>secondary_cleaner.state.floatbank5_b_level</th>\n",
              "      <th>secondary_cleaner.state.floatbank6_a_air</th>\n",
              "      <th>secondary_cleaner.state.floatbank6_a_level</th>\n",
              "    </tr>\n",
              "  </thead>\n",
              "  <tbody>\n",
              "    <tr>\n",
              "      <th>0</th>\n",
              "      <td>2016-01-15 00:00:00</td>\n",
              "      <td>6.055403</td>\n",
              "      <td>9.889648</td>\n",
              "      <td>5.507324</td>\n",
              "      <td>42.192020</td>\n",
              "      <td>70.541216</td>\n",
              "      <td>10.411962</td>\n",
              "      <td>0.895447</td>\n",
              "      <td>16.904297</td>\n",
              "      <td>2.143149</td>\n",
              "      <td>...</td>\n",
              "      <td>14.016835</td>\n",
              "      <td>-502.488007</td>\n",
              "      <td>12.099931</td>\n",
              "      <td>-504.715942</td>\n",
              "      <td>9.925633</td>\n",
              "      <td>-498.310211</td>\n",
              "      <td>8.079666</td>\n",
              "      <td>-500.470978</td>\n",
              "      <td>14.151341</td>\n",
              "      <td>-605.841980</td>\n",
              "    </tr>\n",
              "    <tr>\n",
              "      <th>1</th>\n",
              "      <td>2016-01-15 01:00:00</td>\n",
              "      <td>6.029369</td>\n",
              "      <td>9.968944</td>\n",
              "      <td>5.257781</td>\n",
              "      <td>42.701629</td>\n",
              "      <td>69.266198</td>\n",
              "      <td>10.462676</td>\n",
              "      <td>0.927452</td>\n",
              "      <td>16.634514</td>\n",
              "      <td>2.224930</td>\n",
              "      <td>...</td>\n",
              "      <td>13.992281</td>\n",
              "      <td>-505.503262</td>\n",
              "      <td>11.950531</td>\n",
              "      <td>-501.331529</td>\n",
              "      <td>10.039245</td>\n",
              "      <td>-500.169983</td>\n",
              "      <td>7.984757</td>\n",
              "      <td>-500.582168</td>\n",
              "      <td>13.998353</td>\n",
              "      <td>-599.787184</td>\n",
              "    </tr>\n",
              "    <tr>\n",
              "      <th>2</th>\n",
              "      <td>2016-01-15 02:00:00</td>\n",
              "      <td>6.055926</td>\n",
              "      <td>10.213995</td>\n",
              "      <td>5.383759</td>\n",
              "      <td>42.657501</td>\n",
              "      <td>68.116445</td>\n",
              "      <td>10.507046</td>\n",
              "      <td>0.953716</td>\n",
              "      <td>16.208849</td>\n",
              "      <td>2.257889</td>\n",
              "      <td>...</td>\n",
              "      <td>14.015015</td>\n",
              "      <td>-502.520901</td>\n",
              "      <td>11.912783</td>\n",
              "      <td>-501.133383</td>\n",
              "      <td>10.070913</td>\n",
              "      <td>-500.129135</td>\n",
              "      <td>8.013877</td>\n",
              "      <td>-500.517572</td>\n",
              "      <td>14.028663</td>\n",
              "      <td>-601.427363</td>\n",
              "    </tr>\n",
              "    <tr>\n",
              "      <th>3</th>\n",
              "      <td>2016-01-15 03:00:00</td>\n",
              "      <td>6.047977</td>\n",
              "      <td>9.977019</td>\n",
              "      <td>4.858634</td>\n",
              "      <td>42.689819</td>\n",
              "      <td>68.347543</td>\n",
              "      <td>10.422762</td>\n",
              "      <td>0.883763</td>\n",
              "      <td>16.532835</td>\n",
              "      <td>2.146849</td>\n",
              "      <td>...</td>\n",
              "      <td>14.036510</td>\n",
              "      <td>-500.857308</td>\n",
              "      <td>11.999550</td>\n",
              "      <td>-501.193686</td>\n",
              "      <td>9.970366</td>\n",
              "      <td>-499.201640</td>\n",
              "      <td>7.977324</td>\n",
              "      <td>-500.255908</td>\n",
              "      <td>14.005551</td>\n",
              "      <td>-599.996129</td>\n",
              "    </tr>\n",
              "    <tr>\n",
              "      <th>4</th>\n",
              "      <td>2016-01-15 04:00:00</td>\n",
              "      <td>6.148599</td>\n",
              "      <td>10.142511</td>\n",
              "      <td>4.939416</td>\n",
              "      <td>42.774141</td>\n",
              "      <td>66.927016</td>\n",
              "      <td>10.360302</td>\n",
              "      <td>0.792826</td>\n",
              "      <td>16.525686</td>\n",
              "      <td>2.055292</td>\n",
              "      <td>...</td>\n",
              "      <td>14.027298</td>\n",
              "      <td>-499.838632</td>\n",
              "      <td>11.953070</td>\n",
              "      <td>-501.053894</td>\n",
              "      <td>9.925709</td>\n",
              "      <td>-501.686727</td>\n",
              "      <td>7.894242</td>\n",
              "      <td>-500.356035</td>\n",
              "      <td>13.996647</td>\n",
              "      <td>-601.496691</td>\n",
              "    </tr>\n",
              "  </tbody>\n",
              "</table>\n",
              "<p>5 rows × 87 columns</p>\n",
              "</div>"
            ],
            "text/plain": [
              "                  date  final.output.concentrate_ag  \\\n",
              "0  2016-01-15 00:00:00                     6.055403   \n",
              "1  2016-01-15 01:00:00                     6.029369   \n",
              "2  2016-01-15 02:00:00                     6.055926   \n",
              "3  2016-01-15 03:00:00                     6.047977   \n",
              "4  2016-01-15 04:00:00                     6.148599   \n",
              "\n",
              "   final.output.concentrate_pb  final.output.concentrate_sol  \\\n",
              "0                     9.889648                      5.507324   \n",
              "1                     9.968944                      5.257781   \n",
              "2                    10.213995                      5.383759   \n",
              "3                     9.977019                      4.858634   \n",
              "4                    10.142511                      4.939416   \n",
              "\n",
              "   final.output.concentrate_au  final.output.recovery  final.output.tail_ag  \\\n",
              "0                    42.192020              70.541216             10.411962   \n",
              "1                    42.701629              69.266198             10.462676   \n",
              "2                    42.657501              68.116445             10.507046   \n",
              "3                    42.689819              68.347543             10.422762   \n",
              "4                    42.774141              66.927016             10.360302   \n",
              "\n",
              "   final.output.tail_pb  final.output.tail_sol  final.output.tail_au  ...  \\\n",
              "0              0.895447              16.904297              2.143149  ...   \n",
              "1              0.927452              16.634514              2.224930  ...   \n",
              "2              0.953716              16.208849              2.257889  ...   \n",
              "3              0.883763              16.532835              2.146849  ...   \n",
              "4              0.792826              16.525686              2.055292  ...   \n",
              "\n",
              "   secondary_cleaner.state.floatbank4_a_air  \\\n",
              "0                                 14.016835   \n",
              "1                                 13.992281   \n",
              "2                                 14.015015   \n",
              "3                                 14.036510   \n",
              "4                                 14.027298   \n",
              "\n",
              "   secondary_cleaner.state.floatbank4_a_level  \\\n",
              "0                                 -502.488007   \n",
              "1                                 -505.503262   \n",
              "2                                 -502.520901   \n",
              "3                                 -500.857308   \n",
              "4                                 -499.838632   \n",
              "\n",
              "   secondary_cleaner.state.floatbank4_b_air  \\\n",
              "0                                 12.099931   \n",
              "1                                 11.950531   \n",
              "2                                 11.912783   \n",
              "3                                 11.999550   \n",
              "4                                 11.953070   \n",
              "\n",
              "   secondary_cleaner.state.floatbank4_b_level  \\\n",
              "0                                 -504.715942   \n",
              "1                                 -501.331529   \n",
              "2                                 -501.133383   \n",
              "3                                 -501.193686   \n",
              "4                                 -501.053894   \n",
              "\n",
              "   secondary_cleaner.state.floatbank5_a_air  \\\n",
              "0                                  9.925633   \n",
              "1                                 10.039245   \n",
              "2                                 10.070913   \n",
              "3                                  9.970366   \n",
              "4                                  9.925709   \n",
              "\n",
              "   secondary_cleaner.state.floatbank5_a_level  \\\n",
              "0                                 -498.310211   \n",
              "1                                 -500.169983   \n",
              "2                                 -500.129135   \n",
              "3                                 -499.201640   \n",
              "4                                 -501.686727   \n",
              "\n",
              "   secondary_cleaner.state.floatbank5_b_air  \\\n",
              "0                                  8.079666   \n",
              "1                                  7.984757   \n",
              "2                                  8.013877   \n",
              "3                                  7.977324   \n",
              "4                                  7.894242   \n",
              "\n",
              "   secondary_cleaner.state.floatbank5_b_level  \\\n",
              "0                                 -500.470978   \n",
              "1                                 -500.582168   \n",
              "2                                 -500.517572   \n",
              "3                                 -500.255908   \n",
              "4                                 -500.356035   \n",
              "\n",
              "   secondary_cleaner.state.floatbank6_a_air  \\\n",
              "0                                 14.151341   \n",
              "1                                 13.998353   \n",
              "2                                 14.028663   \n",
              "3                                 14.005551   \n",
              "4                                 13.996647   \n",
              "\n",
              "   secondary_cleaner.state.floatbank6_a_level  \n",
              "0                                 -605.841980  \n",
              "1                                 -599.787184  \n",
              "2                                 -601.427363  \n",
              "3                                 -599.996129  \n",
              "4                                 -601.496691  \n",
              "\n",
              "[5 rows x 87 columns]"
            ]
          },
          "metadata": {},
          "output_type": "display_data"
        },
        {
          "name": "stdout",
          "output_type": "stream",
          "text": [
            "\n"
          ]
        },
        {
          "data": {
            "text/html": [
              "<div>\n",
              "<style scoped>\n",
              "    .dataframe tbody tr th:only-of-type {\n",
              "        vertical-align: middle;\n",
              "    }\n",
              "\n",
              "    .dataframe tbody tr th {\n",
              "        vertical-align: top;\n",
              "    }\n",
              "\n",
              "    .dataframe thead th {\n",
              "        text-align: right;\n",
              "    }\n",
              "</style>\n",
              "<table border=\"1\" class=\"dataframe\">\n",
              "  <thead>\n",
              "    <tr style=\"text-align: right;\">\n",
              "      <th></th>\n",
              "      <th>final.output.concentrate_ag</th>\n",
              "      <th>final.output.concentrate_pb</th>\n",
              "      <th>final.output.concentrate_sol</th>\n",
              "      <th>final.output.concentrate_au</th>\n",
              "      <th>final.output.recovery</th>\n",
              "      <th>final.output.tail_ag</th>\n",
              "      <th>final.output.tail_pb</th>\n",
              "      <th>final.output.tail_sol</th>\n",
              "      <th>final.output.tail_au</th>\n",
              "      <th>primary_cleaner.input.sulfate</th>\n",
              "      <th>...</th>\n",
              "      <th>secondary_cleaner.state.floatbank4_a_air</th>\n",
              "      <th>secondary_cleaner.state.floatbank4_a_level</th>\n",
              "      <th>secondary_cleaner.state.floatbank4_b_air</th>\n",
              "      <th>secondary_cleaner.state.floatbank4_b_level</th>\n",
              "      <th>secondary_cleaner.state.floatbank5_a_air</th>\n",
              "      <th>secondary_cleaner.state.floatbank5_a_level</th>\n",
              "      <th>secondary_cleaner.state.floatbank5_b_air</th>\n",
              "      <th>secondary_cleaner.state.floatbank5_b_level</th>\n",
              "      <th>secondary_cleaner.state.floatbank6_a_air</th>\n",
              "      <th>secondary_cleaner.state.floatbank6_a_level</th>\n",
              "    </tr>\n",
              "  </thead>\n",
              "  <tbody>\n",
              "    <tr>\n",
              "      <th>count</th>\n",
              "      <td>19438.000000</td>\n",
              "      <td>19438.000000</td>\n",
              "      <td>19228.000000</td>\n",
              "      <td>19439.000000</td>\n",
              "      <td>19439.000000</td>\n",
              "      <td>19438.000000</td>\n",
              "      <td>19338.000000</td>\n",
              "      <td>19433.000000</td>\n",
              "      <td>19439.000000</td>\n",
              "      <td>19415.000000</td>\n",
              "      <td>...</td>\n",
              "      <td>19433.000000</td>\n",
              "      <td>19438.000000</td>\n",
              "      <td>19438.000000</td>\n",
              "      <td>19438.000000</td>\n",
              "      <td>19438.000000</td>\n",
              "      <td>19438.000000</td>\n",
              "      <td>19438.000000</td>\n",
              "      <td>19438.000000</td>\n",
              "      <td>19437.000000</td>\n",
              "      <td>19438.000000</td>\n",
              "    </tr>\n",
              "    <tr>\n",
              "      <th>mean</th>\n",
              "      <td>5.168470</td>\n",
              "      <td>9.978895</td>\n",
              "      <td>9.501224</td>\n",
              "      <td>44.076513</td>\n",
              "      <td>67.050208</td>\n",
              "      <td>9.688589</td>\n",
              "      <td>2.705795</td>\n",
              "      <td>10.583728</td>\n",
              "      <td>3.042467</td>\n",
              "      <td>144.624774</td>\n",
              "      <td>...</td>\n",
              "      <td>18.987674</td>\n",
              "      <td>-485.894516</td>\n",
              "      <td>15.010366</td>\n",
              "      <td>-461.078636</td>\n",
              "      <td>15.694452</td>\n",
              "      <td>-488.684065</td>\n",
              "      <td>12.198224</td>\n",
              "      <td>-487.149827</td>\n",
              "      <td>18.959024</td>\n",
              "      <td>-505.436305</td>\n",
              "    </tr>\n",
              "    <tr>\n",
              "      <th>std</th>\n",
              "      <td>1.372348</td>\n",
              "      <td>1.669240</td>\n",
              "      <td>2.787537</td>\n",
              "      <td>5.129784</td>\n",
              "      <td>10.125840</td>\n",
              "      <td>2.328642</td>\n",
              "      <td>0.949077</td>\n",
              "      <td>2.868782</td>\n",
              "      <td>0.922808</td>\n",
              "      <td>44.464071</td>\n",
              "      <td>...</td>\n",
              "      <td>5.411058</td>\n",
              "      <td>47.758570</td>\n",
              "      <td>4.890228</td>\n",
              "      <td>67.405524</td>\n",
              "      <td>5.510974</td>\n",
              "      <td>34.533396</td>\n",
              "      <td>5.333024</td>\n",
              "      <td>38.347312</td>\n",
              "      <td>5.550498</td>\n",
              "      <td>37.689057</td>\n",
              "    </tr>\n",
              "    <tr>\n",
              "      <th>min</th>\n",
              "      <td>0.000000</td>\n",
              "      <td>0.000000</td>\n",
              "      <td>0.000000</td>\n",
              "      <td>0.000000</td>\n",
              "      <td>0.000000</td>\n",
              "      <td>0.000000</td>\n",
              "      <td>0.000000</td>\n",
              "      <td>0.000000</td>\n",
              "      <td>0.000000</td>\n",
              "      <td>0.003112</td>\n",
              "      <td>...</td>\n",
              "      <td>0.000000</td>\n",
              "      <td>-799.798523</td>\n",
              "      <td>0.000000</td>\n",
              "      <td>-800.836914</td>\n",
              "      <td>-0.372054</td>\n",
              "      <td>-797.323986</td>\n",
              "      <td>0.528083</td>\n",
              "      <td>-800.220337</td>\n",
              "      <td>-0.079426</td>\n",
              "      <td>-809.741464</td>\n",
              "    </tr>\n",
              "    <tr>\n",
              "      <th>25%</th>\n",
              "      <td>4.251240</td>\n",
              "      <td>9.137262</td>\n",
              "      <td>7.722820</td>\n",
              "      <td>43.402215</td>\n",
              "      <td>63.299712</td>\n",
              "      <td>8.062878</td>\n",
              "      <td>2.040119</td>\n",
              "      <td>8.938947</td>\n",
              "      <td>2.461138</td>\n",
              "      <td>114.107029</td>\n",
              "      <td>...</td>\n",
              "      <td>14.975734</td>\n",
              "      <td>-500.704892</td>\n",
              "      <td>11.940294</td>\n",
              "      <td>-500.187742</td>\n",
              "      <td>10.988606</td>\n",
              "      <td>-500.458467</td>\n",
              "      <td>8.971105</td>\n",
              "      <td>-500.129462</td>\n",
              "      <td>14.983037</td>\n",
              "      <td>-500.728067</td>\n",
              "    </tr>\n",
              "    <tr>\n",
              "      <th>50%</th>\n",
              "      <td>5.066094</td>\n",
              "      <td>10.102433</td>\n",
              "      <td>9.218961</td>\n",
              "      <td>45.011244</td>\n",
              "      <td>68.172738</td>\n",
              "      <td>9.743623</td>\n",
              "      <td>2.748730</td>\n",
              "      <td>10.622456</td>\n",
              "      <td>2.984909</td>\n",
              "      <td>143.232103</td>\n",
              "      <td>...</td>\n",
              "      <td>18.017481</td>\n",
              "      <td>-499.837793</td>\n",
              "      <td>14.971014</td>\n",
              "      <td>-499.459786</td>\n",
              "      <td>15.000036</td>\n",
              "      <td>-499.802605</td>\n",
              "      <td>11.019433</td>\n",
              "      <td>-499.935317</td>\n",
              "      <td>19.960541</td>\n",
              "      <td>-500.048400</td>\n",
              "    </tr>\n",
              "    <tr>\n",
              "      <th>75%</th>\n",
              "      <td>5.895527</td>\n",
              "      <td>11.035769</td>\n",
              "      <td>10.947813</td>\n",
              "      <td>46.275313</td>\n",
              "      <td>72.686642</td>\n",
              "      <td>11.134294</td>\n",
              "      <td>3.333216</td>\n",
              "      <td>12.104271</td>\n",
              "      <td>3.571351</td>\n",
              "      <td>175.075656</td>\n",
              "      <td>...</td>\n",
              "      <td>23.012470</td>\n",
              "      <td>-498.249730</td>\n",
              "      <td>19.034162</td>\n",
              "      <td>-400.118106</td>\n",
              "      <td>18.026190</td>\n",
              "      <td>-498.384187</td>\n",
              "      <td>14.019088</td>\n",
              "      <td>-499.436708</td>\n",
              "      <td>24.003170</td>\n",
              "      <td>-499.495378</td>\n",
              "    </tr>\n",
              "    <tr>\n",
              "      <th>max</th>\n",
              "      <td>16.001945</td>\n",
              "      <td>17.031899</td>\n",
              "      <td>19.615720</td>\n",
              "      <td>52.756638</td>\n",
              "      <td>100.000000</td>\n",
              "      <td>19.552149</td>\n",
              "      <td>5.804178</td>\n",
              "      <td>22.317730</td>\n",
              "      <td>8.245022</td>\n",
              "      <td>265.983123</td>\n",
              "      <td>...</td>\n",
              "      <td>30.115735</td>\n",
              "      <td>-245.239184</td>\n",
              "      <td>31.269706</td>\n",
              "      <td>-6.506986</td>\n",
              "      <td>43.709931</td>\n",
              "      <td>-244.483566</td>\n",
              "      <td>27.926001</td>\n",
              "      <td>-137.740004</td>\n",
              "      <td>32.188906</td>\n",
              "      <td>-104.427459</td>\n",
              "    </tr>\n",
              "  </tbody>\n",
              "</table>\n",
              "<p>8 rows × 86 columns</p>\n",
              "</div>"
            ],
            "text/plain": [
              "       final.output.concentrate_ag  final.output.concentrate_pb  \\\n",
              "count                 19438.000000                 19438.000000   \n",
              "mean                      5.168470                     9.978895   \n",
              "std                       1.372348                     1.669240   \n",
              "min                       0.000000                     0.000000   \n",
              "25%                       4.251240                     9.137262   \n",
              "50%                       5.066094                    10.102433   \n",
              "75%                       5.895527                    11.035769   \n",
              "max                      16.001945                    17.031899   \n",
              "\n",
              "       final.output.concentrate_sol  final.output.concentrate_au  \\\n",
              "count                  19228.000000                 19439.000000   \n",
              "mean                       9.501224                    44.076513   \n",
              "std                        2.787537                     5.129784   \n",
              "min                        0.000000                     0.000000   \n",
              "25%                        7.722820                    43.402215   \n",
              "50%                        9.218961                    45.011244   \n",
              "75%                       10.947813                    46.275313   \n",
              "max                       19.615720                    52.756638   \n",
              "\n",
              "       final.output.recovery  final.output.tail_ag  final.output.tail_pb  \\\n",
              "count           19439.000000          19438.000000          19338.000000   \n",
              "mean               67.050208              9.688589              2.705795   \n",
              "std                10.125840              2.328642              0.949077   \n",
              "min                 0.000000              0.000000              0.000000   \n",
              "25%                63.299712              8.062878              2.040119   \n",
              "50%                68.172738              9.743623              2.748730   \n",
              "75%                72.686642             11.134294              3.333216   \n",
              "max               100.000000             19.552149              5.804178   \n",
              "\n",
              "       final.output.tail_sol  final.output.tail_au  \\\n",
              "count           19433.000000          19439.000000   \n",
              "mean               10.583728              3.042467   \n",
              "std                 2.868782              0.922808   \n",
              "min                 0.000000              0.000000   \n",
              "25%                 8.938947              2.461138   \n",
              "50%                10.622456              2.984909   \n",
              "75%                12.104271              3.571351   \n",
              "max                22.317730              8.245022   \n",
              "\n",
              "       primary_cleaner.input.sulfate  ...  \\\n",
              "count                   19415.000000  ...   \n",
              "mean                      144.624774  ...   \n",
              "std                        44.464071  ...   \n",
              "min                         0.003112  ...   \n",
              "25%                       114.107029  ...   \n",
              "50%                       143.232103  ...   \n",
              "75%                       175.075656  ...   \n",
              "max                       265.983123  ...   \n",
              "\n",
              "       secondary_cleaner.state.floatbank4_a_air  \\\n",
              "count                              19433.000000   \n",
              "mean                                  18.987674   \n",
              "std                                    5.411058   \n",
              "min                                    0.000000   \n",
              "25%                                   14.975734   \n",
              "50%                                   18.017481   \n",
              "75%                                   23.012470   \n",
              "max                                   30.115735   \n",
              "\n",
              "       secondary_cleaner.state.floatbank4_a_level  \\\n",
              "count                                19438.000000   \n",
              "mean                                  -485.894516   \n",
              "std                                     47.758570   \n",
              "min                                   -799.798523   \n",
              "25%                                   -500.704892   \n",
              "50%                                   -499.837793   \n",
              "75%                                   -498.249730   \n",
              "max                                   -245.239184   \n",
              "\n",
              "       secondary_cleaner.state.floatbank4_b_air  \\\n",
              "count                              19438.000000   \n",
              "mean                                  15.010366   \n",
              "std                                    4.890228   \n",
              "min                                    0.000000   \n",
              "25%                                   11.940294   \n",
              "50%                                   14.971014   \n",
              "75%                                   19.034162   \n",
              "max                                   31.269706   \n",
              "\n",
              "       secondary_cleaner.state.floatbank4_b_level  \\\n",
              "count                                19438.000000   \n",
              "mean                                  -461.078636   \n",
              "std                                     67.405524   \n",
              "min                                   -800.836914   \n",
              "25%                                   -500.187742   \n",
              "50%                                   -499.459786   \n",
              "75%                                   -400.118106   \n",
              "max                                     -6.506986   \n",
              "\n",
              "       secondary_cleaner.state.floatbank5_a_air  \\\n",
              "count                              19438.000000   \n",
              "mean                                  15.694452   \n",
              "std                                    5.510974   \n",
              "min                                   -0.372054   \n",
              "25%                                   10.988606   \n",
              "50%                                   15.000036   \n",
              "75%                                   18.026190   \n",
              "max                                   43.709931   \n",
              "\n",
              "       secondary_cleaner.state.floatbank5_a_level  \\\n",
              "count                                19438.000000   \n",
              "mean                                  -488.684065   \n",
              "std                                     34.533396   \n",
              "min                                   -797.323986   \n",
              "25%                                   -500.458467   \n",
              "50%                                   -499.802605   \n",
              "75%                                   -498.384187   \n",
              "max                                   -244.483566   \n",
              "\n",
              "       secondary_cleaner.state.floatbank5_b_air  \\\n",
              "count                              19438.000000   \n",
              "mean                                  12.198224   \n",
              "std                                    5.333024   \n",
              "min                                    0.528083   \n",
              "25%                                    8.971105   \n",
              "50%                                   11.019433   \n",
              "75%                                   14.019088   \n",
              "max                                   27.926001   \n",
              "\n",
              "       secondary_cleaner.state.floatbank5_b_level  \\\n",
              "count                                19438.000000   \n",
              "mean                                  -487.149827   \n",
              "std                                     38.347312   \n",
              "min                                   -800.220337   \n",
              "25%                                   -500.129462   \n",
              "50%                                   -499.935317   \n",
              "75%                                   -499.436708   \n",
              "max                                   -137.740004   \n",
              "\n",
              "       secondary_cleaner.state.floatbank6_a_air  \\\n",
              "count                              19437.000000   \n",
              "mean                                  18.959024   \n",
              "std                                    5.550498   \n",
              "min                                   -0.079426   \n",
              "25%                                   14.983037   \n",
              "50%                                   19.960541   \n",
              "75%                                   24.003170   \n",
              "max                                   32.188906   \n",
              "\n",
              "       secondary_cleaner.state.floatbank6_a_level  \n",
              "count                                19438.000000  \n",
              "mean                                  -505.436305  \n",
              "std                                     37.689057  \n",
              "min                                   -809.741464  \n",
              "25%                                   -500.728067  \n",
              "50%                                   -500.048400  \n",
              "75%                                   -499.495378  \n",
              "max                                   -104.427459  \n",
              "\n",
              "[8 rows x 86 columns]"
            ]
          },
          "metadata": {},
          "output_type": "display_data"
        },
        {
          "name": "stdout",
          "output_type": "stream",
          "text": [
            "\u001b[32m\u001b[2m Type of signs:\n",
            "\u001b[0m\n"
          ]
        },
        {
          "data": {
            "text/plain": [
              "date                             object\n",
              "final.output.concentrate_ag     float64\n",
              "final.output.concentrate_pb     float64\n",
              "final.output.concentrate_sol    float64\n",
              "final.output.concentrate_au     float64\n",
              "dtype: object"
            ]
          },
          "metadata": {},
          "output_type": "display_data"
        },
        {
          "name": "stdout",
          "output_type": "stream",
          "text": [
            "\n",
            "\u001b[32m\u001b[2m Length:\n",
            "\u001b[0m\n",
            "None (19439, 87)\n",
            "\n",
            "\u001b[32m\u001b[2m Share of passes:\n",
            "\u001b[0m\n",
            "| Columns                                  | Missing values   |\n",
            "|------------------------------------------|------------------|\n",
            "| secondary_cleaner.output.tail_sol        | 0.0899223        |\n",
            "| rougher.input.floatbank11_xanthate       | 0.0233037        |\n",
            "| rougher.state.floatbank10_e_air          | 0.0224291        |\n",
            "| primary_cleaner.output.concentrate_sol   | 0.0190339        |\n",
            "| secondary_cleaner.state.floatbank2_a_air | 0.0113175        |\n",
            "| final.output.concentrate_sol             | 0.0108545        |\n",
            "| rougher.input.feed_size                  | 0.00745923       |\n",
            "| primary_cleaner.output.concentrate_pb    | 0.00596739       |\n",
            "| primary_cleaner.input.xanthate           | 0.00535007       |\n",
            "| final.output.tail_pb                     | 0.00519574       |\n",
            "| rougher.input.feed_pb                    | 0.0051443        |\n",
            "| rougher.input.feed_sol                   | 0.00509285       |\n",
            "| primary_cleaner.output.tail_sol          | 0.00318946       |\n",
            "| rougher.input.floatbank11_sulfate        | 0.00226349       |\n",
            "| primary_cleaner.input.depressant         | 0.00190339       |\n",
            "| rougher.input.floatbank10_sulfate        | 0.00174906       |\n",
            "| primary_cleaner.input.sulfate            | 0.00123463       |\n",
            "| rougher.output.concentrate_sol           | 0.00118319       |\n",
            "| secondary_cleaner.state.floatbank2_b_air | 0.00118319       |\n",
            "| primary_cleaner.output.tail_pb           | 0.0010803        |\n",
            "\n",
            "\u001b[32m\u001b[2m Total number of passes: \n",
            "\u001b[0m\n",
            "| Columns                                  | Missing values   |\n",
            "|------------------------------------------|------------------|\n",
            "| secondary_cleaner.output.tail_sol        | 1748             |\n",
            "| rougher.input.floatbank11_xanthate       | 453              |\n",
            "| rougher.state.floatbank10_e_air          | 436              |\n",
            "| primary_cleaner.output.concentrate_sol   | 370              |\n",
            "| secondary_cleaner.state.floatbank2_a_air | 220              |\n",
            "| final.output.concentrate_sol             | 211              |\n",
            "| rougher.input.feed_size                  | 145              |\n",
            "| primary_cleaner.output.concentrate_pb    | 116              |\n",
            "| primary_cleaner.input.xanthate           | 104              |\n",
            "| final.output.tail_pb                     | 101              |\n",
            "| rougher.input.feed_pb                    | 100              |\n",
            "| rougher.input.feed_sol                   | 99               |\n",
            "| primary_cleaner.output.tail_sol          | 62               |\n",
            "| rougher.input.floatbank11_sulfate        | 44               |\n",
            "| primary_cleaner.input.depressant         | 37               |\n",
            "| rougher.input.floatbank10_sulfate        | 34               |\n",
            "| primary_cleaner.input.sulfate            | 24               |\n",
            "| rougher.output.concentrate_sol           | 23               |\n",
            "| secondary_cleaner.state.floatbank2_b_air | 23               |\n",
            "| primary_cleaner.output.tail_pb           | 21               |\n",
            "\n",
            "\u001b[32m\u001b[2m Unique values for each column:\n",
            "\u001b[0m\n",
            "| Columns                                | Unique values   |\n",
            "|----------------------------------------|-----------------|\n",
            "| date                                   | 19439           |\n",
            "| final.output.concentrate_ag            | 19307           |\n",
            "| final.output.concentrate_pb            | 19276           |\n",
            "| final.output.concentrate_sol           | 19093           |\n",
            "| final.output.concentrate_au            | 19308           |\n",
            "| final.output.recovery                  | 19235           |\n",
            "| final.output.tail_ag                   | 19328           |\n",
            "| final.output.tail_pb                   | 19228           |\n",
            "| final.output.tail_sol                  | 19322           |\n",
            "| final.output.tail_au                   | 19329           |\n",
            "| primary_cleaner.input.sulfate          | 19415           |\n",
            "| primary_cleaner.input.depressant       | 19393           |\n",
            "| primary_cleaner.input.feed_size        | 5022            |\n",
            "| primary_cleaner.input.xanthate         | 19335           |\n",
            "| primary_cleaner.output.concentrate_ag  | 19199           |\n",
            "| primary_cleaner.output.concentrate_pb  | 19055           |\n",
            "| primary_cleaner.output.concentrate_sol | 18826           |\n",
            "| primary_cleaner.output.concentrate_au  | 19199           |\n",
            "| primary_cleaner.output.tail_ag         | 19287           |\n",
            "| primary_cleaner.output.tail_pb         | 19270           |\n",
            "\n",
            "\u001b[32m\u001b[2m Number of complete duplicates: 0\u001b[0m\n"
          ]
        }
      ],
      "source": [
        "init_inspect(gold_full)"
      ]
    },
    {
      "cell_type": "code",
      "execution_count": null,
      "metadata": {
        "id": "vw0OZz8MrUxk"
      },
      "outputs": [],
      "source": [
        "# calculation of the percentage of losses after deleting all the omissions\n",
        "def percent_loss(data):\n",
        "  return round((1 - data.dropna().shape[0] / data.shape[0]) * 100, 2)"
      ]
    },
    {
      "cell_type": "code",
      "execution_count": null,
      "metadata": {
        "colab": {
          "base_uri": "https://localhost:8080/"
        },
        "id": "U8xNp_wtrdKl",
        "outputId": "f8865d7d-e6e0-427d-81a5-aac3d220168b"
      },
      "outputs": [
        {
          "data": {
            "text/plain": [
              "22.14"
            ]
          },
          "execution_count": 10,
          "metadata": {},
          "output_type": "execute_result"
        }
      ],
      "source": [
        "# percentage of training sample losses\n",
        "percent_loss(gold_train)"
      ]
    },
    {
      "cell_type": "code",
      "execution_count": null,
      "metadata": {
        "colab": {
          "base_uri": "https://localhost:8080/"
        },
        "id": "tLsp9S_cCsj1",
        "outputId": "7975fbff-6b3c-427e-fc14-1ca17659f27d"
      },
      "outputs": [
        {
          "data": {
            "text/plain": [
              "1.15"
            ]
          },
          "execution_count": 11,
          "metadata": {},
          "output_type": "execute_result"
        }
      ],
      "source": [
        "# percentage of test sample losses\n",
        "percent_loss(gold_test)"
      ]
    },
    {
      "cell_type": "code",
      "execution_count": null,
      "metadata": {
        "colab": {
          "base_uri": "https://localhost:8080/"
        },
        "id": "smEMGIljrm7B",
        "outputId": "4c559b58-f443-44e0-ee1a-c9bd21737a26"
      },
      "outputs": [
        {
          "data": {
            "text/plain": [
              "17.21"
            ]
          },
          "execution_count": 12,
          "metadata": {},
          "output_type": "execute_result"
        }
      ],
      "source": [
        "# percentage of full dataset losses\n",
        "percent_loss(gold_full)"
      ]
    },
    {
      "cell_type": "markdown",
      "metadata": {
        "id": "HDaRcp4qGjAT"
      },
      "source": [
        "Большое количество пропусков, видим также, что медиана и среднее не сильно отличаются по признакам, также стандартное отклонение достаточно маленькое, можем сделать вывод, что для заполнения пропусков нам подойдет метод ближайших соседей\n",
        "\n",
        "---\n",
        "\n",
        "Признак date имеет формат object, передем его в формат DateTime и сделаем индексом всех выборок для удобства манипулирования данными"
      ]
    },
    {
      "cell_type": "code",
      "execution_count": null,
      "metadata": {
        "id": "WJbQjJVD3Sh6"
      },
      "outputs": [],
      "source": [
        "def process_dates(*dataframes, col: str):\n",
        "    '''Function for converting date columns to datetime format and setting them as the index.\n",
        "\n",
        "    Args:\n",
        "        dataframes (tuple): A variable-length argument list of DataFrames to process.\n",
        "        col (str): The name of the date column to be converted.\n",
        "\n",
        "    Returns:\n",
        "        list: A list of new DataFrames with the date column converted to\n",
        "              datetime format and set as the index.\n",
        "\n",
        "    Raises:\n",
        "        TypeError: If any of the input arguments is not a DataFrame.\n",
        "\n",
        "    Example:\n",
        "        df1, df2 = process_dates(df1, df2, col='date_column')\n",
        "    '''\n",
        "    try:\n",
        "        # Create copies of the passed dataframes\n",
        "        dataframes_new = [dataframe.copy() for dataframe in dataframes]\n",
        "\n",
        "        # Convert the 'col' column to datetime format\n",
        "        for data in dataframes_new:\n",
        "            if not isinstance(data, pd.DataFrame):\n",
        "                raise TypeError(f'{data} is not a DataFrame')\n",
        "\n",
        "            data[col] = pd.to_datetime(data[col], format='%Y-%m-%d %H:%M:%S')\n",
        "\n",
        "            # Set the 'col' column as the index\n",
        "            data.set_index(col, inplace=True)\n",
        "\n",
        "        return dataframes_new\n",
        "\n",
        "    except Exception as e:\n",
        "        print(f'\\033[31m\\033[2m🚨 Error: {e}\\033[0m')\n",
        "        return None\n"
      ]
    },
    {
      "cell_type": "code",
      "execution_count": null,
      "metadata": {
        "id": "-wjFKOSe2Lr-"
      },
      "outputs": [],
      "source": [
        "# Creating new modified data\n",
        "df_train, df_test, df_full = process_dates(gold_train, gold_test, gold_full, col='date')"
      ]
    },
    {
      "cell_type": "code",
      "execution_count": null,
      "metadata": {
        "colab": {
          "base_uri": "https://localhost:8080/",
          "height": 218
        },
        "id": "EBt9EbvO6Mhn",
        "outputId": "3073fbe8-5917-4772-fe90-0064aef37ee7"
      },
      "outputs": [
        {
          "data": {
            "text/html": [
              "<div>\n",
              "<style scoped>\n",
              "    .dataframe tbody tr th:only-of-type {\n",
              "        vertical-align: middle;\n",
              "    }\n",
              "\n",
              "    .dataframe tbody tr th {\n",
              "        vertical-align: top;\n",
              "    }\n",
              "\n",
              "    .dataframe thead th {\n",
              "        text-align: right;\n",
              "    }\n",
              "</style>\n",
              "<table border=\"1\" class=\"dataframe\">\n",
              "  <thead>\n",
              "    <tr style=\"text-align: right;\">\n",
              "      <th></th>\n",
              "      <th>final.output.concentrate_ag</th>\n",
              "      <th>final.output.concentrate_pb</th>\n",
              "      <th>final.output.concentrate_sol</th>\n",
              "      <th>final.output.concentrate_au</th>\n",
              "      <th>final.output.recovery</th>\n",
              "      <th>final.output.tail_ag</th>\n",
              "      <th>final.output.tail_pb</th>\n",
              "      <th>final.output.tail_sol</th>\n",
              "      <th>final.output.tail_au</th>\n",
              "      <th>primary_cleaner.input.sulfate</th>\n",
              "      <th>...</th>\n",
              "      <th>secondary_cleaner.state.floatbank4_a_air</th>\n",
              "      <th>secondary_cleaner.state.floatbank4_a_level</th>\n",
              "      <th>secondary_cleaner.state.floatbank4_b_air</th>\n",
              "      <th>secondary_cleaner.state.floatbank4_b_level</th>\n",
              "      <th>secondary_cleaner.state.floatbank5_a_air</th>\n",
              "      <th>secondary_cleaner.state.floatbank5_a_level</th>\n",
              "      <th>secondary_cleaner.state.floatbank5_b_air</th>\n",
              "      <th>secondary_cleaner.state.floatbank5_b_level</th>\n",
              "      <th>secondary_cleaner.state.floatbank6_a_air</th>\n",
              "      <th>secondary_cleaner.state.floatbank6_a_level</th>\n",
              "    </tr>\n",
              "    <tr>\n",
              "      <th>date</th>\n",
              "      <th></th>\n",
              "      <th></th>\n",
              "      <th></th>\n",
              "      <th></th>\n",
              "      <th></th>\n",
              "      <th></th>\n",
              "      <th></th>\n",
              "      <th></th>\n",
              "      <th></th>\n",
              "      <th></th>\n",
              "      <th></th>\n",
              "      <th></th>\n",
              "      <th></th>\n",
              "      <th></th>\n",
              "      <th></th>\n",
              "      <th></th>\n",
              "      <th></th>\n",
              "      <th></th>\n",
              "      <th></th>\n",
              "      <th></th>\n",
              "      <th></th>\n",
              "    </tr>\n",
              "  </thead>\n",
              "  <tbody>\n",
              "    <tr>\n",
              "      <th>2016-01-15</th>\n",
              "      <td>6.055403</td>\n",
              "      <td>9.889648</td>\n",
              "      <td>5.507324</td>\n",
              "      <td>42.19202</td>\n",
              "      <td>70.541216</td>\n",
              "      <td>10.411962</td>\n",
              "      <td>0.895447</td>\n",
              "      <td>16.904297</td>\n",
              "      <td>2.143149</td>\n",
              "      <td>127.092003</td>\n",
              "      <td>...</td>\n",
              "      <td>14.016835</td>\n",
              "      <td>-502.488007</td>\n",
              "      <td>12.099931</td>\n",
              "      <td>-504.715942</td>\n",
              "      <td>9.925633</td>\n",
              "      <td>-498.310211</td>\n",
              "      <td>8.079666</td>\n",
              "      <td>-500.470978</td>\n",
              "      <td>14.151341</td>\n",
              "      <td>-605.84198</td>\n",
              "    </tr>\n",
              "  </tbody>\n",
              "</table>\n",
              "<p>1 rows × 86 columns</p>\n",
              "</div>"
            ],
            "text/plain": [
              "            final.output.concentrate_ag  final.output.concentrate_pb  \\\n",
              "date                                                                   \n",
              "2016-01-15                     6.055403                     9.889648   \n",
              "\n",
              "            final.output.concentrate_sol  final.output.concentrate_au  \\\n",
              "date                                                                    \n",
              "2016-01-15                      5.507324                     42.19202   \n",
              "\n",
              "            final.output.recovery  final.output.tail_ag  final.output.tail_pb  \\\n",
              "date                                                                            \n",
              "2016-01-15              70.541216             10.411962              0.895447   \n",
              "\n",
              "            final.output.tail_sol  final.output.tail_au  \\\n",
              "date                                                      \n",
              "2016-01-15              16.904297              2.143149   \n",
              "\n",
              "            primary_cleaner.input.sulfate  ...  \\\n",
              "date                                       ...   \n",
              "2016-01-15                     127.092003  ...   \n",
              "\n",
              "            secondary_cleaner.state.floatbank4_a_air  \\\n",
              "date                                                   \n",
              "2016-01-15                                 14.016835   \n",
              "\n",
              "            secondary_cleaner.state.floatbank4_a_level  \\\n",
              "date                                                     \n",
              "2016-01-15                                 -502.488007   \n",
              "\n",
              "            secondary_cleaner.state.floatbank4_b_air  \\\n",
              "date                                                   \n",
              "2016-01-15                                 12.099931   \n",
              "\n",
              "            secondary_cleaner.state.floatbank4_b_level  \\\n",
              "date                                                     \n",
              "2016-01-15                                 -504.715942   \n",
              "\n",
              "            secondary_cleaner.state.floatbank5_a_air  \\\n",
              "date                                                   \n",
              "2016-01-15                                  9.925633   \n",
              "\n",
              "            secondary_cleaner.state.floatbank5_a_level  \\\n",
              "date                                                     \n",
              "2016-01-15                                 -498.310211   \n",
              "\n",
              "            secondary_cleaner.state.floatbank5_b_air  \\\n",
              "date                                                   \n",
              "2016-01-15                                  8.079666   \n",
              "\n",
              "            secondary_cleaner.state.floatbank5_b_level  \\\n",
              "date                                                     \n",
              "2016-01-15                                 -500.470978   \n",
              "\n",
              "            secondary_cleaner.state.floatbank6_a_air  \\\n",
              "date                                                   \n",
              "2016-01-15                                 14.151341   \n",
              "\n",
              "            secondary_cleaner.state.floatbank6_a_level  \n",
              "date                                                    \n",
              "2016-01-15                                  -605.84198  \n",
              "\n",
              "[1 rows x 86 columns]"
            ]
          },
          "execution_count": 15,
          "metadata": {},
          "output_type": "execute_result"
        }
      ],
      "source": [
        "# Overwriting check\n",
        "df_full.head(1)"
      ]
    },
    {
      "cell_type": "code",
      "execution_count": null,
      "metadata": {
        "colab": {
          "base_uri": "https://localhost:8080/",
          "height": 204
        },
        "id": "3y1gDa082kFj",
        "outputId": "60074744-5bf7-479d-cb07-08439d25d45d"
      },
      "outputs": [
        {
          "data": {
            "text/html": [
              "<div>\n",
              "<style scoped>\n",
              "    .dataframe tbody tr th:only-of-type {\n",
              "        vertical-align: middle;\n",
              "    }\n",
              "\n",
              "    .dataframe tbody tr th {\n",
              "        vertical-align: top;\n",
              "    }\n",
              "\n",
              "    .dataframe thead th {\n",
              "        text-align: right;\n",
              "    }\n",
              "</style>\n",
              "<table border=\"1\" class=\"dataframe\">\n",
              "  <thead>\n",
              "    <tr style=\"text-align: right;\">\n",
              "      <th></th>\n",
              "      <th>date</th>\n",
              "      <th>final.output.concentrate_ag</th>\n",
              "      <th>final.output.concentrate_pb</th>\n",
              "      <th>final.output.concentrate_sol</th>\n",
              "      <th>final.output.concentrate_au</th>\n",
              "      <th>final.output.recovery</th>\n",
              "      <th>final.output.tail_ag</th>\n",
              "      <th>final.output.tail_pb</th>\n",
              "      <th>final.output.tail_sol</th>\n",
              "      <th>final.output.tail_au</th>\n",
              "      <th>...</th>\n",
              "      <th>secondary_cleaner.state.floatbank4_a_air</th>\n",
              "      <th>secondary_cleaner.state.floatbank4_a_level</th>\n",
              "      <th>secondary_cleaner.state.floatbank4_b_air</th>\n",
              "      <th>secondary_cleaner.state.floatbank4_b_level</th>\n",
              "      <th>secondary_cleaner.state.floatbank5_a_air</th>\n",
              "      <th>secondary_cleaner.state.floatbank5_a_level</th>\n",
              "      <th>secondary_cleaner.state.floatbank5_b_air</th>\n",
              "      <th>secondary_cleaner.state.floatbank5_b_level</th>\n",
              "      <th>secondary_cleaner.state.floatbank6_a_air</th>\n",
              "      <th>secondary_cleaner.state.floatbank6_a_level</th>\n",
              "    </tr>\n",
              "  </thead>\n",
              "  <tbody>\n",
              "    <tr>\n",
              "      <th>0</th>\n",
              "      <td>2016-01-15 00:00:00</td>\n",
              "      <td>6.055403</td>\n",
              "      <td>9.889648</td>\n",
              "      <td>5.507324</td>\n",
              "      <td>42.19202</td>\n",
              "      <td>70.541216</td>\n",
              "      <td>10.411962</td>\n",
              "      <td>0.895447</td>\n",
              "      <td>16.904297</td>\n",
              "      <td>2.143149</td>\n",
              "      <td>...</td>\n",
              "      <td>14.016835</td>\n",
              "      <td>-502.488007</td>\n",
              "      <td>12.099931</td>\n",
              "      <td>-504.715942</td>\n",
              "      <td>9.925633</td>\n",
              "      <td>-498.310211</td>\n",
              "      <td>8.079666</td>\n",
              "      <td>-500.470978</td>\n",
              "      <td>14.151341</td>\n",
              "      <td>-605.84198</td>\n",
              "    </tr>\n",
              "  </tbody>\n",
              "</table>\n",
              "<p>1 rows × 87 columns</p>\n",
              "</div>"
            ],
            "text/plain": [
              "                  date  final.output.concentrate_ag  \\\n",
              "0  2016-01-15 00:00:00                     6.055403   \n",
              "\n",
              "   final.output.concentrate_pb  final.output.concentrate_sol  \\\n",
              "0                     9.889648                      5.507324   \n",
              "\n",
              "   final.output.concentrate_au  final.output.recovery  final.output.tail_ag  \\\n",
              "0                     42.19202              70.541216             10.411962   \n",
              "\n",
              "   final.output.tail_pb  final.output.tail_sol  final.output.tail_au  ...  \\\n",
              "0              0.895447              16.904297              2.143149  ...   \n",
              "\n",
              "   secondary_cleaner.state.floatbank4_a_air  \\\n",
              "0                                 14.016835   \n",
              "\n",
              "   secondary_cleaner.state.floatbank4_a_level  \\\n",
              "0                                 -502.488007   \n",
              "\n",
              "   secondary_cleaner.state.floatbank4_b_air  \\\n",
              "0                                 12.099931   \n",
              "\n",
              "   secondary_cleaner.state.floatbank4_b_level  \\\n",
              "0                                 -504.715942   \n",
              "\n",
              "   secondary_cleaner.state.floatbank5_a_air  \\\n",
              "0                                  9.925633   \n",
              "\n",
              "   secondary_cleaner.state.floatbank5_a_level  \\\n",
              "0                                 -498.310211   \n",
              "\n",
              "   secondary_cleaner.state.floatbank5_b_air  \\\n",
              "0                                  8.079666   \n",
              "\n",
              "   secondary_cleaner.state.floatbank5_b_level  \\\n",
              "0                                 -500.470978   \n",
              "\n",
              "   secondary_cleaner.state.floatbank6_a_air  \\\n",
              "0                                 14.151341   \n",
              "\n",
              "   secondary_cleaner.state.floatbank6_a_level  \n",
              "0                                  -605.84198  \n",
              "\n",
              "[1 rows x 87 columns]"
            ]
          },
          "execution_count": 16,
          "metadata": {},
          "output_type": "execute_result"
        }
      ],
      "source": [
        "# Looking at the main dataset\n",
        "gold_full.head(1)"
      ]
    },
    {
      "cell_type": "markdown",
      "metadata": {
        "id": "01lmA0h7L5O5"
      },
      "source": [
        "Все отлично\n",
        "\n",
        "---\n",
        "\n",
        "Проверим, что эффективность обогащения на этапе флотации рассчитана верно."
      ]
    },
    {
      "cell_type": "markdown",
      "metadata": {
        "id": "UNzT1YOlYNV4"
      },
      "source": [
        "Нам нужно смоделировать процесс восстановления золота из золотосодержащей  руды.   \n",
        "Эффективность обогащения рассчитываем по формуле:   \n",
        "  \n",
        "Recovery = (С * (F - T) / F * (С - T)) * 100.  \n",
        "  \n",
        "где:   \n",
        "+ C — доля золота в концентрате после флотации/очистки;  \n",
        "+ F — доля золота в сырье/концентрате до флотации/очистки;  \n",
        "+ T — доля золота в отвальных хвостах после флотации/очистки.  \n",
        "\n",
        "Для прогноза коэффициента нужно найти долю золота в концентратах и хвостах.  \n",
        "Причём важен не только финальный продукт, но и черновой концентрат.  "
      ]
    },
    {
      "cell_type": "code",
      "execution_count": null,
      "metadata": {
        "colab": {
          "base_uri": "https://localhost:8080/"
        },
        "id": "f-GAU9I6sl0t",
        "outputId": "bbe930dd-d9a6-42ec-9344-9831fada2d0a"
      },
      "outputs": [
        {
          "data": {
            "text/plain": [
              "Index(['rougher.output.concentrate_ag', 'rougher.output.concentrate_pb',\n",
              "       'rougher.output.concentrate_sol', 'rougher.output.concentrate_au',\n",
              "       'rougher.output.recovery', 'rougher.output.tail_ag',\n",
              "       'rougher.output.tail_pb', 'rougher.output.tail_sol',\n",
              "       'rougher.output.tail_au'],\n",
              "      dtype='object')"
            ]
          },
          "execution_count": 17,
          "metadata": {},
          "output_type": "execute_result"
        }
      ],
      "source": [
        "# For convenience, we will output the columns of the flotation stage\n",
        "rougher_output_train = df_train.filter(regex='^rougher.output')\n",
        "rougher_output_train.columns.unique()"
      ]
    },
    {
      "cell_type": "code",
      "execution_count": null,
      "metadata": {
        "id": "JS38enSLsxuf"
      },
      "outputs": [],
      "source": [
        "# Calculation of enrichment efficiency\n",
        "def recovery(C, F, T):\n",
        "  recovery_value = ((C * (F - T))/ (F * (C - T)) )* 100\n",
        "  return recovery_value\n",
        "\n",
        "# Variables required to calculate the enrichment efficiency at the flotation stage\n",
        "C = df_train['rougher.output.concentrate_au']\n",
        "F = df_train['rougher.input.feed_au']\n",
        "T = df_train['rougher.output.tail_au']"
      ]
    },
    {
      "cell_type": "code",
      "execution_count": null,
      "metadata": {
        "colab": {
          "base_uri": "https://localhost:8080/"
        },
        "id": "uZRqV5IF7oeS",
        "outputId": "1c8d7a2b-c743-4166-c20e-342967e04314"
      },
      "outputs": [
        {
          "name": "stdout",
          "output_type": "stream",
          "text": [
            "0.0\n",
            "0.0\n",
            "0.0\n"
          ]
        }
      ],
      "source": [
        "# Omissions in necessary attributes\n",
        "print(C.isna().mean())\n",
        "print(F.isna().mean())\n",
        "print(T.isna().mean())"
      ]
    },
    {
      "cell_type": "code",
      "execution_count": null,
      "metadata": {
        "colab": {
          "base_uri": "https://localhost:8080/"
        },
        "id": "NPadGuG9Wq0L",
        "outputId": "d260480e-eafa-4c5b-d59e-fec17be9720c"
      },
      "outputs": [
        {
          "data": {
            "text/plain": [
              "date\n",
              "2016-01-15 00:00:00    87.107763\n",
              "2016-01-15 01:00:00    86.843261\n",
              "2016-01-15 02:00:00    86.842308\n",
              "2016-01-15 03:00:00    87.226430\n",
              "2016-01-15 04:00:00    86.688794\n",
              "                         ...    \n",
              "2018-08-18 06:59:59    89.574376\n",
              "2018-08-18 07:59:59    87.724007\n",
              "2018-08-18 08:59:59    88.890579\n",
              "2018-08-18 09:59:59    89.858126\n",
              "2018-08-18 10:59:59    89.514960\n",
              "Length: 14149, dtype: float64"
            ]
          },
          "execution_count": 20,
          "metadata": {},
          "output_type": "execute_result"
        }
      ],
      "source": [
        "# Calculation of enrichment at the flotation stage\n",
        "recovery_rought = recovery(C, F, T)\n",
        "recovery_rought"
      ]
    },
    {
      "cell_type": "code",
      "execution_count": null,
      "metadata": {
        "colab": {
          "base_uri": "https://localhost:8080/"
        },
        "id": "rKuzQli0UlsZ",
        "outputId": "ef1c2b8c-617b-451a-a761-a2130bf2aaab"
      },
      "outputs": [
        {
          "data": {
            "text/plain": [
              "date\n",
              "2016-01-15 00:00:00    87.107763\n",
              "2016-01-15 03:00:00    87.226430\n",
              "2016-01-15 04:00:00    86.688794\n",
              "2016-01-15 07:00:00    87.668336\n",
              "2016-01-15 12:00:00    89.299981\n",
              "                         ...    \n",
              "2018-08-18 03:59:59    87.684717\n",
              "2018-08-18 04:59:59    90.677361\n",
              "2018-08-18 06:59:59    89.574376\n",
              "2018-08-18 07:59:59    87.724007\n",
              "2018-08-18 09:59:59    89.858126\n",
              "Name: rougher.output.recovery, Length: 6712, dtype: float64"
            ]
          },
          "execution_count": 21,
          "metadata": {},
          "output_type": "execute_result"
        }
      ],
      "source": [
        "# Data that is completely duplicated\n",
        "df_train['rougher.output.recovery'][df_train['rougher.output.recovery'] == recovery_rought]"
      ]
    },
    {
      "cell_type": "markdown",
      "metadata": {
        "id": "z6A8V3k-WjIV"
      },
      "source": [
        "Полных совпадений мы имеем 47%"
      ]
    },
    {
      "cell_type": "code",
      "execution_count": null,
      "metadata": {
        "colab": {
          "base_uri": "https://localhost:8080/"
        },
        "id": "38-xcnSq3PnF",
        "outputId": "99850e67-6170-40ce-82be-4da8ce7c0185"
      },
      "outputs": [
        {
          "name": "stdout",
          "output_type": "stream",
          "text": [
            "Средняя абсолютная ошибка: 9.73512347450521e-15\n"
          ]
        }
      ],
      "source": [
        "print(f'Средняя абсолютная ошибка: \\\n",
        "   {mean_absolute_error(df_train[\"rougher.output.recovery\"], recovery_rought)}')"
      ]
    },
    {
      "cell_type": "markdown",
      "metadata": {
        "id": "V-sIxUWxOEau"
      },
      "source": [
        "Ошибка не сильно большая, можем сделать вывод, что расчет изначально был произведен верно\n",
        "\n",
        "---\n",
        "\n",
        "Изучим признаки, которые отсутсвуют в тестовой выборке"
      ]
    },
    {
      "cell_type": "code",
      "execution_count": null,
      "metadata": {
        "colab": {
          "base_uri": "https://localhost:8080/"
        },
        "id": "lFVCcgwkZjzL",
        "outputId": "28ae8c0a-86e1-464c-8bc3-f620530d06f9"
      },
      "outputs": [
        {
          "data": {
            "text/plain": [
              "{'final.output.concentrate_ag',\n",
              " 'final.output.concentrate_au',\n",
              " 'final.output.concentrate_pb',\n",
              " 'final.output.concentrate_sol',\n",
              " 'final.output.recovery',\n",
              " 'final.output.tail_ag',\n",
              " 'final.output.tail_au',\n",
              " 'final.output.tail_pb',\n",
              " 'final.output.tail_sol',\n",
              " 'primary_cleaner.output.concentrate_ag',\n",
              " 'primary_cleaner.output.concentrate_au',\n",
              " 'primary_cleaner.output.concentrate_pb',\n",
              " 'primary_cleaner.output.concentrate_sol',\n",
              " 'primary_cleaner.output.tail_ag',\n",
              " 'primary_cleaner.output.tail_au',\n",
              " 'primary_cleaner.output.tail_pb',\n",
              " 'primary_cleaner.output.tail_sol',\n",
              " 'rougher.calculation.au_pb_ratio',\n",
              " 'rougher.calculation.floatbank10_sulfate_to_au_feed',\n",
              " 'rougher.calculation.floatbank11_sulfate_to_au_feed',\n",
              " 'rougher.calculation.sulfate_to_au_concentrate',\n",
              " 'rougher.output.concentrate_ag',\n",
              " 'rougher.output.concentrate_au',\n",
              " 'rougher.output.concentrate_pb',\n",
              " 'rougher.output.concentrate_sol',\n",
              " 'rougher.output.recovery',\n",
              " 'rougher.output.tail_ag',\n",
              " 'rougher.output.tail_au',\n",
              " 'rougher.output.tail_pb',\n",
              " 'rougher.output.tail_sol',\n",
              " 'secondary_cleaner.output.tail_ag',\n",
              " 'secondary_cleaner.output.tail_au',\n",
              " 'secondary_cleaner.output.tail_pb',\n",
              " 'secondary_cleaner.output.tail_sol'}"
            ]
          },
          "execution_count": 23,
          "metadata": {},
          "output_type": "execute_result"
        }
      ],
      "source": [
        "# Difference in features between test and training samples\n",
        "missing_cols = set(df_train.columns).difference(set(df_test.columns))\n",
        "missing_cols"
      ]
    },
    {
      "cell_type": "code",
      "execution_count": null,
      "metadata": {
        "colab": {
          "base_uri": "https://localhost:8080/"
        },
        "id": "qRPqXyhQeRoU",
        "outputId": "83624bae-44b6-4fcd-e119-90c7f003ce7b"
      },
      "outputs": [
        {
          "name": "stdout",
          "output_type": "stream",
          "text": [
            "\u001b[32m\u001b[2m Количество признаков в train: 86\n",
            "\u001b[0m\n",
            "\u001b[32m\u001b[2m Количество признаков в test: 52\n",
            "\u001b[0m\n",
            "\u001b[32m\u001b[2m Признаков отсутствующих в train: 34\u001b[0m\n"
          ]
        }
      ],
      "source": [
        "out_g(f'Количество признаков в train: {df_train.columns.nunique()}\\n')\n",
        "out_g(f'Количество признаков в test: {df_test.columns.nunique()}\\n')\n",
        "out_g(f'Признаков отсутствующих в train: {len(missing_cols)}')"
      ]
    },
    {
      "cell_type": "markdown",
      "metadata": {
        "id": "vymiBSelNnq-"
      },
      "source": [
        "Видим, что в тестовой выборке отсутсвуют:\n",
        "\n",
        "+ финальные концентрации металлов продукта и финальные хвосты\n",
        "\n",
        "+ эффективность обогащения финального продукта\n",
        "\n",
        "+ концентрации металлов после первичной очистки и их хвосты\n",
        "\n",
        "+ на этапе флотации расчетные характеристики соотношения золота к свинцу\n",
        "\n",
        "+ расчетные характеристики подачи сульфата в золото на флотационной установоке 10 и 11\n",
        "\n",
        "+ содержание концентрата металлов в продукте после этапа флотации\n",
        "\n",
        "+ эффективность обогащения продукта после флотации\n",
        "\n",
        "+ концентрация металлов продукта после флотации\n",
        "\n",
        "+ хвосты после вторичной очистки\n",
        "\n",
        "Все признаки относятся к продукту на различных этапах, 4 из них относятся к признакам характеристик и 2 к оценке обогащения продукта\n",
        "\n",
        "---\n",
        "\n",
        "\n",
        "Необходимо разобраться с пропусками в данных и целевыми признаками в тестовых данных, будем использовать KNNImputer так как для интерполяцции, слишком много имеем пропущенных значений"
      ]
    },
    {
      "cell_type": "code",
      "execution_count": null,
      "metadata": {
        "id": "aVOVzq3uz6GM"
      },
      "outputs": [],
      "source": [
        "def impute_knn(data: pd.DataFrame, n_neighbors: int):\n",
        "    '''\n",
        "    Impute missing values using the K-Nearest Neighbors (KNN) imputation method.\n",
        "\n",
        "    Args:\n",
        "        data (pd.DataFrame): The DataFrame containing missing values to be imputed.\n",
        "        n_neighbors (int): The number of nearest neighbors to consider during imputation.\n",
        "\n",
        "    Returns:\n",
        "        pd.DataFrame: A new DataFrame with missing values imputed using KNN imputation.\n",
        "\n",
        "    Example:\n",
        "        imputed_data = impute_knn(data, n_neighbors=5)\n",
        "    '''\n",
        "\n",
        "    imputer = KNNImputer(n_neighbors=n_neighbors)\n",
        "\n",
        "    df_imputed = pd.DataFrame(imputer.fit_transform(data),\n",
        "                              columns=data.columns, index=data.index)\n",
        "    return df_imputed\n"
      ]
    },
    {
      "cell_type": "code",
      "execution_count": null,
      "metadata": {
        "colab": {
          "base_uri": "https://localhost:8080/"
        },
        "id": "2gUeYpqyvntv",
        "outputId": "b48a1bdf-a7e6-48d6-88e1-ebe31789c2b9"
      },
      "outputs": [
        {
          "name": "stdout",
          "output_type": "stream",
          "text": [
            "final.output.concentrate_ag          0.0\n",
            "rougher.state.floatbank10_b_air      0.0\n",
            "rougher.state.floatbank10_f_air      0.0\n",
            "rougher.state.floatbank10_e_level    0.0\n",
            "rougher.state.floatbank10_e_air      0.0\n",
            "dtype: float64\n",
            "primary_cleaner.input.sulfate               0.0\n",
            "secondary_cleaner.state.floatbank3_b_air    0.0\n",
            "rougher.state.floatbank10_d_level           0.0\n",
            "rougher.state.floatbank10_e_air             0.0\n",
            "rougher.state.floatbank10_e_level           0.0\n",
            "dtype: float64\n"
          ]
        }
      ],
      "source": [
        "# Adding columns final.output.recovery and rougher.output.recovery\n",
        "df_test = df_test.merge(df_full[['final.output.recovery',\n",
        "                                 'rougher.output.recovery']],\n",
        "                        left_index=True, right_index=True, how='left')\n",
        "\n",
        "# Filling in the gaps in the training and test sample\n",
        "df_train = impute_knn(df_train, 5)\n",
        "df_test = impute_knn(df_test, 5)\n",
        "\n",
        "print(df_train.isna().mean().sort_values(ascending=False).head())\n",
        "print(df_test.isna().mean().sort_values(ascending=False).head())"
      ]
    },
    {
      "cell_type": "code",
      "execution_count": null,
      "metadata": {
        "colab": {
          "base_uri": "https://localhost:8080/",
          "height": 231
        },
        "id": "VSTSnz2bxmKJ",
        "outputId": "33e9c75d-5600-4bbb-bdf1-38b8be04fad6"
      },
      "outputs": [
        {
          "data": {
            "text/html": [
              "<div>\n",
              "<style scoped>\n",
              "    .dataframe tbody tr th:only-of-type {\n",
              "        vertical-align: middle;\n",
              "    }\n",
              "\n",
              "    .dataframe tbody tr th {\n",
              "        vertical-align: top;\n",
              "    }\n",
              "\n",
              "    .dataframe thead th {\n",
              "        text-align: right;\n",
              "    }\n",
              "</style>\n",
              "<table border=\"1\" class=\"dataframe\">\n",
              "  <thead>\n",
              "    <tr style=\"text-align: right;\">\n",
              "      <th></th>\n",
              "      <th>final.output.recovery</th>\n",
              "      <th>rougher.output.recovery</th>\n",
              "    </tr>\n",
              "    <tr>\n",
              "      <th>date</th>\n",
              "      <th></th>\n",
              "      <th></th>\n",
              "    </tr>\n",
              "  </thead>\n",
              "  <tbody>\n",
              "    <tr>\n",
              "      <th>2016-09-01 00:59:59</th>\n",
              "      <td>70.273583</td>\n",
              "      <td>89.993421</td>\n",
              "    </tr>\n",
              "    <tr>\n",
              "      <th>2016-09-01 01:59:59</th>\n",
              "      <td>68.910432</td>\n",
              "      <td>88.089657</td>\n",
              "    </tr>\n",
              "    <tr>\n",
              "      <th>2016-09-01 02:59:59</th>\n",
              "      <td>68.143213</td>\n",
              "      <td>88.412756</td>\n",
              "    </tr>\n",
              "    <tr>\n",
              "      <th>2016-09-01 03:59:59</th>\n",
              "      <td>67.776393</td>\n",
              "      <td>87.360133</td>\n",
              "    </tr>\n",
              "    <tr>\n",
              "      <th>2016-09-01 04:59:59</th>\n",
              "      <td>61.467078</td>\n",
              "      <td>83.236367</td>\n",
              "    </tr>\n",
              "  </tbody>\n",
              "</table>\n",
              "</div>"
            ],
            "text/plain": [
              "                     final.output.recovery  rougher.output.recovery\n",
              "date                                                               \n",
              "2016-09-01 00:59:59              70.273583                89.993421\n",
              "2016-09-01 01:59:59              68.910432                88.089657\n",
              "2016-09-01 02:59:59              68.143213                88.412756\n",
              "2016-09-01 03:59:59              67.776393                87.360133\n",
              "2016-09-01 04:59:59              61.467078                83.236367"
            ]
          },
          "execution_count": 27,
          "metadata": {},
          "output_type": "execute_result"
        }
      ],
      "source": [
        "df_test[['final.output.recovery', 'rougher.output.recovery']].head()"
      ]
    },
    {
      "cell_type": "markdown",
      "metadata": {
        "id": "Cs1aXgSE1kPJ"
      },
      "source": [
        "Все снова отлично, пропуски заполнены, целевые признаки в выборки добавлены"
      ]
    },
    {
      "cell_type": "markdown",
      "metadata": {
        "id": "5oDdwzpBSv2C"
      },
      "source": [
        "## Анализ данных"
      ]
    },
    {
      "cell_type": "markdown",
      "metadata": {
        "id": "z13AhIvr1z4M"
      },
      "source": [
        "Посмотрим, как меняется концентрация металлов (Au, Ag, Pb) на различных этапах очистки"
      ]
    },
    {
      "cell_type": "code",
      "execution_count": null,
      "metadata": {
        "colab": {
          "base_uri": "https://localhost:8080/"
        },
        "id": "ulE5NjVHxOOJ",
        "outputId": "9ba24d97-32eb-4e46-a66e-fde75bfd040e"
      },
      "outputs": [
        {
          "data": {
            "text/plain": [
              "Index(['final.output.concentrate_au', 'primary_cleaner.output.concentrate_au',\n",
              "       'rougher.output.concentrate_au'],\n",
              "      dtype='object')"
            ]
          },
          "execution_count": 28,
          "metadata": {},
          "output_type": "execute_result"
        }
      ],
      "source": [
        "# For convenience, we will output the columns of the stages\n",
        "df_train.filter(regex='concentrate_au$').columns.unique()"
      ]
    },
    {
      "cell_type": "code",
      "execution_count": null,
      "metadata": {
        "colab": {
          "base_uri": "https://localhost:8080/",
          "height": 187
        },
        "id": "oETGolgX263r",
        "outputId": "b65ae0e6-65cb-4aee-ac9a-6eb0b4102850"
      },
      "outputs": [
        {
          "name": "stdout",
          "output_type": "stream",
          "text": [
            "\u001b[32m\u001b[2m Концентрация металлов по этапам обработки:\u001b[0m\n"
          ]
        },
        {
          "data": {
            "text/html": [
              "<style  type=\"text/css\" >\n",
              "#T_925ce_row0_col1{\n",
              "            background-color:  #571157;\n",
              "            color:  #f1f1f1;\n",
              "        }#T_925ce_row0_col2,#T_925ce_row0_col3,#T_925ce_row3_col1{\n",
              "            background-color:  #2b232b;\n",
              "            color:  #f1f1f1;\n",
              "        }#T_925ce_row1_col1,#T_925ce_row3_col2,#T_925ce_row3_col3{\n",
              "            background-color:  #800080;\n",
              "            color:  #f1f1f1;\n",
              "        }#T_925ce_row1_col2{\n",
              "            background-color:  #600d60;\n",
              "            color:  #f1f1f1;\n",
              "        }#T_925ce_row1_col3{\n",
              "            background-color:  #461846;\n",
              "            color:  #f1f1f1;\n",
              "        }#T_925ce_row2_col1{\n",
              "            background-color:  #521352;\n",
              "            color:  #f1f1f1;\n",
              "        }#T_925ce_row2_col2{\n",
              "            background-color:  #790379;\n",
              "            color:  #f1f1f1;\n",
              "        }#T_925ce_row2_col3{\n",
              "            background-color:  #650b65;\n",
              "            color:  #f1f1f1;\n",
              "        }</style><table id=\"T_925ce_\" ><thead>    <tr>        <th class=\"blank level0\" ></th>        <th class=\"col_heading level0 col0\" >Этап</th>        <th class=\"col_heading level0 col1\" >Серебро</th>        <th class=\"col_heading level0 col2\" >Свинец</th>        <th class=\"col_heading level0 col3\" >Золото</th>    </tr></thead><tbody>\n",
              "                <tr>\n",
              "                        <th id=\"T_925ce_level0_row0\" class=\"row_heading level0 row0\" >0</th>\n",
              "                        <td id=\"T_925ce_row0_col0\" class=\"data row0 col0\" >Исходное сырье</td>\n",
              "                        <td id=\"T_925ce_row0_col1\" class=\"data row0 col1\" >8.579195</td>\n",
              "                        <td id=\"T_925ce_row0_col2\" class=\"data row0 col2\" >3.518402</td>\n",
              "                        <td id=\"T_925ce_row0_col3\" class=\"data row0 col3\" >7.866577</td>\n",
              "            </tr>\n",
              "            <tr>\n",
              "                        <th id=\"T_925ce_level0_row1\" class=\"row_heading level0 row1\" >1</th>\n",
              "                        <td id=\"T_925ce_row1_col0\" class=\"data row1 col0\" >После флотации</td>\n",
              "                        <td id=\"T_925ce_row1_col1\" class=\"data row1 col1\" >11.775812</td>\n",
              "                        <td id=\"T_925ce_row1_col2\" class=\"data row1 col2\" >7.664555</td>\n",
              "                        <td id=\"T_925ce_row1_col3\" class=\"data row1 col3\" >19.439958</td>\n",
              "            </tr>\n",
              "            <tr>\n",
              "                        <th id=\"T_925ce_level0_row2\" class=\"row_heading level0 row2\" >2</th>\n",
              "                        <td id=\"T_925ce_row2_col0\" class=\"data row2 col0\" >После первичной очистки</td>\n",
              "                        <td id=\"T_925ce_row2_col1\" class=\"data row2 col1\" >8.200916</td>\n",
              "                        <td id=\"T_925ce_row2_col2\" class=\"data row2 col2\" >9.579227</td>\n",
              "                        <td id=\"T_925ce_row2_col3\" class=\"data row2 col3\" >32.386836</td>\n",
              "            </tr>\n",
              "            <tr>\n",
              "                        <th id=\"T_925ce_level0_row3\" class=\"row_heading level0 row3\" >3</th>\n",
              "                        <td id=\"T_925ce_row3_col0\" class=\"data row3 col0\" >После вторичной очистки</td>\n",
              "                        <td id=\"T_925ce_row3_col1\" class=\"data row3 col1\" >5.141966</td>\n",
              "                        <td id=\"T_925ce_row3_col2\" class=\"data row3 col2\" >10.132968</td>\n",
              "                        <td id=\"T_925ce_row3_col3\" class=\"data row3 col3\" >44.003792</td>\n",
              "            </tr>\n",
              "    </tbody></table>"
            ],
            "text/plain": [
              "<pandas.io.formats.style.Styler at 0x7f585d726490>"
            ]
          },
          "execution_count": 29,
          "metadata": {},
          "output_type": "execute_result"
        }
      ],
      "source": [
        "out_g('Концентрация металлов по этапам обработки:')\n",
        "\n",
        "# Creating a dict with data\n",
        "data = {\n",
        "    'Этап': ['Исходное сырье', 'После флотации', 'После первичной очистки', 'После вторичной очистки'],\n",
        "    'Серебро': [\n",
        "        df_train['rougher.input.feed_ag'].mean(),\n",
        "        df_train['rougher.output.concentrate_ag'].mean(),\n",
        "        df_train['primary_cleaner.output.concentrate_ag'].mean(),\n",
        "        df_train['final.output.concentrate_ag'].mean()\n",
        "    ],\n",
        "    'Свинец': [\n",
        "        df_train['rougher.input.feed_pb'].mean(),\n",
        "        df_train['rougher.output.concentrate_pb'].mean(),\n",
        "        df_train['primary_cleaner.output.concentrate_pb'].mean(),\n",
        "        df_train['final.output.concentrate_pb'].mean()\n",
        "    ],\n",
        "    'Золото': [\n",
        "        df_train['rougher.input.feed_au'].mean(),\n",
        "        df_train['rougher.output.concentrate_au'].mean(),\n",
        "        df_train['primary_cleaner.output.concentrate_au'].mean(),\n",
        "        df_train['final.output.concentrate_au'].mean()\n",
        "    ]\n",
        "}\n",
        "\n",
        "# Create DataFrame\n",
        "df = pd.DataFrame(data)\n",
        "\n",
        "# Output DataFrame\n",
        "df.style.background_gradient(cmap=cm)"
      ]
    },
    {
      "cell_type": "markdown",
      "metadata": {
        "id": "ybFL2ck77fQy"
      },
      "source": [
        "Как мы видим, концентрация серебра уменьшается к финальному продукту, концентрация свинца увеличивается примерно на 288%, концентрация золота больше изначального на 460% в конечном продукте\n",
        "\n",
        "---\n",
        "\n",
        "Сравним распределения размеров гранул сырья на обучающей и тестовой выборках."
      ]
    },
    {
      "cell_type": "code",
      "execution_count": null,
      "metadata": {
        "colab": {
          "base_uri": "https://localhost:8080/",
          "height": 640
        },
        "id": "JvxxylBv4t0t",
        "outputId": "40e169cb-9c5d-413f-b4c7-cfd7ea409264"
      },
      "outputs": [
        {
          "data": {
            "image/png": "[encoded data removed]",
            "text/plain": [
              "<Figure size 1080x504 with 1 Axes>"
            ]
          },
          "metadata": {},
          "output_type": "display_data"
        }
      ],
      "source": [
        "# graph of the density distribution of the size of pellets of raw materials\n",
        "plt.figure(figsize=(15, 7))\n",
        "\n",
        "# Plotting a density graph for a training sample\n",
        "df_train['rougher.input.feed_size'].plot(kind='kde', label='Train')\n",
        "\n",
        "# Plotting the density graph for the test sample\n",
        "df_test['rougher.input.feed_size'].plot(kind='kde', label='Test')\n",
        "\n",
        "# Adding axis title and captions\n",
        "plt.title('Распределение размера зерна')\n",
        "plt.xlabel('Размер зерна')\n",
        "plt.ylabel('Плотность значений')\n",
        "plt.legend()\n",
        "plt.show()"
      ]
    },
    {
      "cell_type": "markdown",
      "metadata": {
        "id": "IKdh30b_N3PR"
      },
      "source": [
        "Распределения немного отличаются, но основыные объемы расположены примерно одинаково и присутствуют хвосты\n",
        "\n",
        "---\n",
        "\n",
        "Исследуем суммарную концентрацию всех веществ на разных стадиях: в сырье, в черновом и финальном концентратах."
      ]
    },
    {
      "cell_type": "code",
      "execution_count": null,
      "metadata": {
        "id": "_f5xzgPcPW07"
      },
      "outputs": [],
      "source": [
        "# Select of columns with the concentration of substances on the source material\n",
        "input_cols = df_train.filter(regex='^rougher\\.input\\.feed_(ag|pb|sol|au)$').columns\n",
        "\n",
        "# Select of columns with the concentration of substances at the rougher stage\n",
        "rougher_cols = df_train.filter(regex='rougher\\.output\\..*concentrate').columns\n",
        "\n",
        "# Select of columns with the concentration of substances at the primary_cleaner\n",
        "primary_cleaner_cols = df_train.filter(regex='primary_cleaner\\.output\\..*concentrate').columns\n",
        "\n",
        "# Select of columns with the concentration of substances at the final stage\n",
        "final_cols = df_train.filter(regex='final\\.output\\..*concentrate').columns\n",
        "\n",
        "# Calculation of the total concentration of substances at different stages\n",
        "input_total_concentrate = df_train[input_cols].sum(axis=1)\n",
        "\n",
        "rougher_total_concentrate = df_train[rougher_cols].sum(axis=1)\n",
        "\n",
        "primary_cleaner_total_concentrate = df_train[primary_cleaner_cols].sum(axis=1)\n",
        "\n",
        "final_total_concentrate = df_train[final_cols].sum(axis=1)"
      ]
    },
    {
      "cell_type": "code",
      "execution_count": null,
      "metadata": {
        "colab": {
          "base_uri": "https://localhost:8080/",
          "height": 640
        },
        "id": "aEjX037rPluA",
        "outputId": "498c21cc-71a1-4752-fb50-e7995dc4823c"
      },
      "outputs": [
        {
          "data": {
            "image/png": "[encoded data removed]",
            "text/plain": [
              "<Figure size 1080x504 with 1 Axes>"
            ]
          },
          "metadata": {},
          "output_type": "display_data"
        }
      ],
      "source": [
        "# Graph of the density of the distribution of the total concentration by stages\n",
        "plt.figure(figsize=(15, 7))\n",
        "\n",
        "input_total_concentrate.plot(kind='kde', label='Исходный материал')\n",
        "\n",
        "# Plotting density for rougher\n",
        "rougher_total_concentrate.plot(kind='kde', label='Флотация')\n",
        "\n",
        "# Plotting the density graph for primary_cleaner\n",
        "primary_cleaner_total_concentrate.plot(kind='kde', label='Первичная очистка')\n",
        "\n",
        "# Plotting the density graph for final\n",
        "final_total_concentrate.plot(kind='kde', label='Финальный продукт')\n",
        "\n",
        "# Adding axis title and captions\n",
        "plt.title('Суммарная концентрация металлов по этапам')\n",
        "plt.xlabel('Суммарные значения')\n",
        "plt.ylabel('Плотность значений')\n",
        "\n",
        "# Add a legend\n",
        "plt.legend()\n",
        "\n",
        "plt.show()"
      ]
    },
    {
      "cell_type": "markdown",
      "metadata": {
        "id": "ngZNzvNoQ9ms"
      },
      "source": [
        "Присутствуют выбросы с всплеском на нулевом значении, необходимо почистить признаки для лучшего обучения модели"
      ]
    },
    {
      "cell_type": "code",
      "execution_count": null,
      "metadata": {
        "colab": {
          "base_uri": "https://localhost:8080/",
          "height": 548
        },
        "id": "OPh1yPIZgQ7c",
        "outputId": "8fa48535-fae1-47f7-84d0-fed6ebf602dd"
      },
      "outputs": [
        {
          "data": {
            "image/png": "[encoded data removed]",
            "text/plain": [
              "<Figure size 1440x432 with 1 Axes>"
            ]
          },
          "metadata": {},
          "output_type": "display_data"
        }
      ],
      "source": [
        "# Building stage boxplots\n",
        "plt.figure(figsize=(20, 6))\n",
        "df_train[input_cols].boxplot()\n",
        "plt.title('Концентрация веществ на стадии чернового материала')\n",
        "plt.xlabel('Стадия input')\n",
        "plt.ylabel('Концентрация веществ')\n",
        "plt.show()"
      ]
    },
    {
      "cell_type": "code",
      "execution_count": null,
      "metadata": {
        "colab": {
          "base_uri": "https://localhost:8080/",
          "height": 548
        },
        "id": "MnBvscdFYuEO",
        "outputId": "013068e1-d301-480e-fccb-e43ce9c8783b"
      },
      "outputs": [
        {
          "data": {
            "image/png": "[encoded data removed]",
            "text/plain": [
              "<Figure size 1440x432 with 1 Axes>"
            ]
          },
          "metadata": {},
          "output_type": "display_data"
        }
      ],
      "source": [
        "# Building stage boxplots\n",
        "plt.figure(figsize=(20, 6))\n",
        "df_train[rougher_cols].boxplot()\n",
        "plt.title('Концентрация веществ на стадии rougher')\n",
        "plt.xlabel('Стадия rougher')\n",
        "plt.ylabel('Концентрация веществ')\n",
        "plt.show()"
      ]
    },
    {
      "cell_type": "code",
      "execution_count": null,
      "metadata": {
        "colab": {
          "base_uri": "https://localhost:8080/",
          "height": 548
        },
        "id": "wQmhJhaIajPv",
        "outputId": "28af4992-d0c2-4578-9721-06619ab2b50d"
      },
      "outputs": [
        {
          "data": {
            "image/png": "[encoded data removed]",
            "text/plain": [
              "<Figure size 1440x432 with 1 Axes>"
            ]
          },
          "metadata": {},
          "output_type": "display_data"
        }
      ],
      "source": [
        "# Building stage boxplots\n",
        "plt.figure(figsize=(20, 6))\n",
        "df_train[primary_cleaner_cols].boxplot()\n",
        "plt.title('Концентрация веществ на стадии primary_cleaner')\n",
        "plt.xlabel('Стадия primary_cleaner')\n",
        "plt.ylabel('Концентрация веществ')\n",
        "plt.show()"
      ]
    },
    {
      "cell_type": "code",
      "execution_count": null,
      "metadata": {
        "colab": {
          "base_uri": "https://localhost:8080/",
          "height": 548
        },
        "id": "F0UcYxkea6RL",
        "outputId": "5b4900a9-52da-41c0-a50d-4180efa964b7"
      },
      "outputs": [
        {
          "data": {
            "image/png": "[encoded data removed]",
            "text/plain": [
              "<Figure size 1440x432 with 1 Axes>"
            ]
          },
          "metadata": {},
          "output_type": "display_data"
        }
      ],
      "source": [
        "# Building stage boxplots\n",
        "plt.figure(figsize=(20, 6))\n",
        "df_train[final_cols].boxplot()\n",
        "plt.title('Концентрация веществ на стадии final')\n",
        "plt.xlabel('Стадия final')\n",
        "plt.ylabel('Концентрация веществ')\n",
        "plt.show()"
      ]
    },
    {
      "cell_type": "code",
      "execution_count": null,
      "metadata": {
        "id": "V9yqrYiudF4l"
      },
      "outputs": [],
      "source": [
        "def remove_outliers(df: pd.DataFrame, columns: List[str]) -> pd.DataFrame:\n",
        "    '''\n",
        "    Remove outliers using the interquartile range (IQR) method.\n",
        "\n",
        "    Args:\n",
        "        df (pd.DataFrame): The DataFrame containing the data with potential outliers.\n",
        "        columns (List[str]): A list of column names to check for outliers.\n",
        "\n",
        "    Returns:\n",
        "        pd.DataFrame: A new DataFrame with outliers removed.\n",
        "\n",
        "    Example:\n",
        "        cleaned_data = remove_outliers(data, columns=['feature1', 'feature2'])\n",
        "    '''\n",
        "    df_clean = df.copy()\n",
        "\n",
        "    # Iterate through each column provided\n",
        "    for col in columns:\n",
        "        # Calculate quartiles\n",
        "        q1 = df_clean[col].quantile(0.25)\n",
        "        q3 = df_clean[col].quantile(0.75)\n",
        "        # Calculate the interquartile range (IQR)\n",
        "        iqr = q3 - q1\n",
        "        # Calculate lower and upper bounds\n",
        "        lower_bound = q1 - 1.5 * iqr\n",
        "        upper_bound = q3 + 1.5 * iqr\n",
        "\n",
        "        # Create a new DataFrame without outliers\n",
        "        df_clean = df_clean[(df_clean[col] >= lower_bound) &\n",
        "                            (df_clean[col] <= upper_bound)].copy()\n",
        "    return df_clean"
      ]
    },
    {
      "cell_type": "code",
      "execution_count": null,
      "metadata": {
        "colab": {
          "base_uri": "https://localhost:8080/",
          "height": 544
        },
        "id": "wCCjJR3BdKmN",
        "outputId": "ed62d253-4313-49a6-85cd-36baca5f58c9"
      },
      "outputs": [
        {
          "data": {
            "image/png": "[encoded data removed]",
            "text/plain": [
              "<Figure size 864x432 with 1 Axes>"
            ]
          },
          "metadata": {},
          "output_type": "display_data"
        }
      ],
      "source": [
        "# List of process stages\n",
        "stages = ['rougher', 'primary_cleaner', 'final']\n",
        "\n",
        "df_train_clean = df_train.copy()\n",
        "\n",
        "# Loop for data cleaning at each stage\n",
        "for stage in stages:\n",
        "    # Get columns related to concentration for the current stage\n",
        "    cols = df_train.filter(regex=stage + '\\.output\\..*concentrate').columns\n",
        "\n",
        "    # If the current stage is 'rougher', add input columns as well\n",
        "    if stage == 'rougher':\n",
        "        cols = cols.append(input_cols)\n",
        "\n",
        "    # Clean the data by removing outliers\n",
        "    df_train_clean = remove_outliers(df_train_clean, cols)\n",
        "\n",
        "# Create boxplots\n",
        "fig, ax = plt.subplots(figsize=(12, 6))\n",
        "df_train_clean[input_cols].plot(kind='box', ax=ax)\n",
        "ax.set_title('Rougher input features')\n",
        "plt.show()\n"
      ]
    },
    {
      "cell_type": "code",
      "execution_count": null,
      "metadata": {
        "id": "brBC31_lVrk7"
      },
      "outputs": [],
      "source": [
        "# Сalculation of the total concentration of substances at different stages\n",
        "input_total_concentrate_clean = df_train_clean[input_cols].sum(axis=1)\n",
        "rougher_total_concentrate_clean = df_train_clean[rougher_cols].sum(axis=1)\n",
        "primary_cleaner_total_concentrate_clean = df_train_clean[primary_cleaner_cols].sum(axis=1)\n",
        "final_total_concentrate_clean = df_train_clean[final_cols].sum(axis=1)"
      ]
    },
    {
      "cell_type": "code",
      "execution_count": null,
      "metadata": {
        "colab": {
          "base_uri": "https://localhost:8080/"
        },
        "id": "GVVQV1ccbjcF",
        "outputId": "578fac8d-bc99-4a1f-caee-ec1f8d61b692"
      },
      "outputs": [
        {
          "data": {
            "text/plain": [
              "final.output.concentrate_ag          0.0\n",
              "rougher.state.floatbank10_b_air      0.0\n",
              "rougher.state.floatbank10_f_air      0.0\n",
              "rougher.state.floatbank10_e_level    0.0\n",
              "rougher.state.floatbank10_e_air      0.0\n",
              "dtype: float64"
            ]
          },
          "execution_count": 40,
          "metadata": {},
          "output_type": "execute_result"
        }
      ],
      "source": [
        "df_train_clean.isna().mean().sort_values(ascending=False).head()"
      ]
    },
    {
      "cell_type": "code",
      "execution_count": null,
      "metadata": {
        "colab": {
          "base_uri": "https://localhost:8080/",
          "height": 640
        },
        "id": "zon20TlkVl8N",
        "outputId": "8593f818-42fb-449e-b4ed-2e732a98f69e"
      },
      "outputs": [
        {
          "data": {
            "image/png": "[encoded data removed]",
            "text/plain": [
              "<Figure size 1080x504 with 1 Axes>"
            ]
          },
          "metadata": {},
          "output_type": "display_data"
        }
      ],
      "source": [
        "# Plot of the density distribution of the total concentration by stages\n",
        "plt.figure(figsize=(15, 7))\n",
        "\n",
        "# Plot density for the initial material\n",
        "input_total_concentrate_clean.plot(kind='kde', label='Initial Material')\n",
        "\n",
        "# Plot density for the rougher stage\n",
        "rougher_total_concentrate_clean.plot(kind='kde', label='Flotation')\n",
        "\n",
        "# Plot density for the primary cleaner stage\n",
        "primary_cleaner_total_concentrate_clean.plot(kind='kde', label='Primary Cleaning')\n",
        "\n",
        "# Plot density for the final stage\n",
        "final_total_concentrate_clean.plot(kind='kde', label='Final Product')\n",
        "\n",
        "# Add title and axis labels\n",
        "plt.title('Total Concentration of Metals by Stages')\n",
        "plt.xlabel('Total Values')\n",
        "plt.ylabel('Value Density')\n",
        "\n",
        "# Add legend\n",
        "plt.legend()\n",
        "\n",
        "# Show the plot\n",
        "plt.show()"
      ]
    },
    {
      "cell_type": "markdown",
      "metadata": {
        "id": "o4WGTIiudzhJ"
      },
      "source": [
        "Теперь данные распределены замечательно и можем заметить, что суммарная концентрация исходных материалов гораздо ниже остальных этапов, на этапе флотации находится примерно в тех же значениях что и финальны продукт, на первичной очистке есть большое пересечение с исходными и флотационными значениями"
      ]
    },
    {
      "cell_type": "markdown",
      "metadata": {
        "id": "golcp94kSv2D"
      },
      "source": [
        "## Модель"
      ]
    },
    {
      "cell_type": "markdown",
      "metadata": {
        "id": "HsODHIgSnp0L"
      },
      "source": [
        "Напишем функцию для вычисления sMAPE и итоговой sMAPE"
      ]
    },
    {
      "cell_type": "code",
      "execution_count": null,
      "metadata": {
        "id": "ZQHK3zd3Sv2D"
      },
      "outputs": [],
      "source": [
        "# Function to calculate the SMAPE (Symmetric Mean Absolute Percentage Error) metric\n",
        "def smape(A, B):\n",
        "    return 100/len(A) * np.sum(2 * np.abs(B - A) / (np.abs(A) + np.abs(B)))\n",
        "\n",
        "# Function to calculate the final SMAPE\n",
        "def final_smape(rougher, final):\n",
        "    metrics = 0.25 * rougher + 0.75 * final\n",
        "    return metrics\n"
      ]
    },
    {
      "cell_type": "markdown",
      "metadata": {
        "id": "yOxAd8kZnuTt"
      },
      "source": [
        "---\n",
        "\n",
        "Обучим разные модели и оценим их качество кросс-валидацией.  \n",
        "Необходимо отобрать признаки без утечки, для этапа флотации и для финальной очистки"
      ]
    },
    {
      "cell_type": "code",
      "execution_count": null,
      "metadata": {
        "id": "iiHGwSSjn1cG"
      },
      "outputs": [],
      "source": [
        "# Feeatures for the first model\n",
        "X1 = df_train_clean.filter(regex='^rougher\\.(input|state)').columns\n",
        "y1 = ['rougher.output.recovery']\n",
        "\n",
        "# Features for the second model for the final product\n",
        "X2 = df_test.columns.drop(['final.output.recovery', 'rougher.output.recovery'])\n",
        "y2 = ['final.output.recovery']"
      ]
    },
    {
      "cell_type": "code",
      "execution_count": null,
      "metadata": {
        "colab": {
          "base_uri": "https://localhost:8080/",
          "height": 298
        },
        "id": "GJEBUUQAvUML",
        "outputId": "400ba257-fa5c-42a1-8573-c3e60706ca5e"
      },
      "outputs": [
        {
          "data": {
            "text/html": [
              "<div>\n",
              "<style scoped>\n",
              "    .dataframe tbody tr th:only-of-type {\n",
              "        vertical-align: middle;\n",
              "    }\n",
              "\n",
              "    .dataframe tbody tr th {\n",
              "        vertical-align: top;\n",
              "    }\n",
              "\n",
              "    .dataframe thead th {\n",
              "        text-align: right;\n",
              "    }\n",
              "</style>\n",
              "<table border=\"1\" class=\"dataframe\">\n",
              "  <thead>\n",
              "    <tr style=\"text-align: right;\">\n",
              "      <th></th>\n",
              "      <th>rougher.input.feed_ag</th>\n",
              "      <th>rougher.input.feed_pb</th>\n",
              "      <th>rougher.input.feed_rate</th>\n",
              "      <th>rougher.input.feed_size</th>\n",
              "      <th>rougher.input.feed_sol</th>\n",
              "      <th>rougher.input.feed_au</th>\n",
              "      <th>rougher.input.floatbank10_sulfate</th>\n",
              "      <th>rougher.input.floatbank10_xanthate</th>\n",
              "      <th>rougher.input.floatbank11_sulfate</th>\n",
              "      <th>rougher.input.floatbank11_xanthate</th>\n",
              "      <th>...</th>\n",
              "      <th>rougher.state.floatbank10_b_air</th>\n",
              "      <th>rougher.state.floatbank10_b_level</th>\n",
              "      <th>rougher.state.floatbank10_c_air</th>\n",
              "      <th>rougher.state.floatbank10_c_level</th>\n",
              "      <th>rougher.state.floatbank10_d_air</th>\n",
              "      <th>rougher.state.floatbank10_d_level</th>\n",
              "      <th>rougher.state.floatbank10_e_air</th>\n",
              "      <th>rougher.state.floatbank10_e_level</th>\n",
              "      <th>rougher.state.floatbank10_f_air</th>\n",
              "      <th>rougher.state.floatbank10_f_level</th>\n",
              "    </tr>\n",
              "    <tr>\n",
              "      <th>date</th>\n",
              "      <th></th>\n",
              "      <th></th>\n",
              "      <th></th>\n",
              "      <th></th>\n",
              "      <th></th>\n",
              "      <th></th>\n",
              "      <th></th>\n",
              "      <th></th>\n",
              "      <th></th>\n",
              "      <th></th>\n",
              "      <th></th>\n",
              "      <th></th>\n",
              "      <th></th>\n",
              "      <th></th>\n",
              "      <th></th>\n",
              "      <th></th>\n",
              "      <th></th>\n",
              "      <th></th>\n",
              "      <th></th>\n",
              "      <th></th>\n",
              "      <th></th>\n",
              "    </tr>\n",
              "  </thead>\n",
              "  <tbody>\n",
              "    <tr>\n",
              "      <th>2016-01-15 00:00:00</th>\n",
              "      <td>6.100378</td>\n",
              "      <td>2.284912</td>\n",
              "      <td>523.546326</td>\n",
              "      <td>55.486599</td>\n",
              "      <td>36.808594</td>\n",
              "      <td>6.486150</td>\n",
              "      <td>11.986616</td>\n",
              "      <td>6.007990</td>\n",
              "      <td>11.836743</td>\n",
              "      <td>6.005818</td>\n",
              "      <td>...</td>\n",
              "      <td>1603.011353</td>\n",
              "      <td>-434.715027</td>\n",
              "      <td>1602.37500</td>\n",
              "      <td>-442.204468</td>\n",
              "      <td>1598.937256</td>\n",
              "      <td>-451.294128</td>\n",
              "      <td>1404.472046</td>\n",
              "      <td>-455.462982</td>\n",
              "      <td>1416.354980</td>\n",
              "      <td>-451.939636</td>\n",
              "    </tr>\n",
              "    <tr>\n",
              "      <th>2016-01-15 01:00:00</th>\n",
              "      <td>6.161113</td>\n",
              "      <td>2.266033</td>\n",
              "      <td>525.290581</td>\n",
              "      <td>57.278666</td>\n",
              "      <td>35.753385</td>\n",
              "      <td>6.478583</td>\n",
              "      <td>11.971193</td>\n",
              "      <td>6.005766</td>\n",
              "      <td>11.996163</td>\n",
              "      <td>6.012594</td>\n",
              "      <td>...</td>\n",
              "      <td>1600.754587</td>\n",
              "      <td>-449.953435</td>\n",
              "      <td>1600.47958</td>\n",
              "      <td>-449.830646</td>\n",
              "      <td>1600.527589</td>\n",
              "      <td>-449.953649</td>\n",
              "      <td>1399.227084</td>\n",
              "      <td>-450.869848</td>\n",
              "      <td>1399.719514</td>\n",
              "      <td>-450.119001</td>\n",
              "    </tr>\n",
              "  </tbody>\n",
              "</table>\n",
              "<p>2 rows × 22 columns</p>\n",
              "</div>"
            ],
            "text/plain": [
              "                     rougher.input.feed_ag  rougher.input.feed_pb  \\\n",
              "date                                                                \n",
              "2016-01-15 00:00:00               6.100378               2.284912   \n",
              "2016-01-15 01:00:00               6.161113               2.266033   \n",
              "\n",
              "                     rougher.input.feed_rate  rougher.input.feed_size  \\\n",
              "date                                                                    \n",
              "2016-01-15 00:00:00               523.546326                55.486599   \n",
              "2016-01-15 01:00:00               525.290581                57.278666   \n",
              "\n",
              "                     rougher.input.feed_sol  rougher.input.feed_au  \\\n",
              "date                                                                 \n",
              "2016-01-15 00:00:00               36.808594               6.486150   \n",
              "2016-01-15 01:00:00               35.753385               6.478583   \n",
              "\n",
              "                     rougher.input.floatbank10_sulfate  \\\n",
              "date                                                     \n",
              "2016-01-15 00:00:00                          11.986616   \n",
              "2016-01-15 01:00:00                          11.971193   \n",
              "\n",
              "                     rougher.input.floatbank10_xanthate  \\\n",
              "date                                                      \n",
              "2016-01-15 00:00:00                            6.007990   \n",
              "2016-01-15 01:00:00                            6.005766   \n",
              "\n",
              "                     rougher.input.floatbank11_sulfate  \\\n",
              "date                                                     \n",
              "2016-01-15 00:00:00                          11.836743   \n",
              "2016-01-15 01:00:00                          11.996163   \n",
              "\n",
              "                     rougher.input.floatbank11_xanthate  ...  \\\n",
              "date                                                     ...   \n",
              "2016-01-15 00:00:00                            6.005818  ...   \n",
              "2016-01-15 01:00:00                            6.012594  ...   \n",
              "\n",
              "                     rougher.state.floatbank10_b_air  \\\n",
              "date                                                   \n",
              "2016-01-15 00:00:00                      1603.011353   \n",
              "2016-01-15 01:00:00                      1600.754587   \n",
              "\n",
              "                     rougher.state.floatbank10_b_level  \\\n",
              "date                                                     \n",
              "2016-01-15 00:00:00                        -434.715027   \n",
              "2016-01-15 01:00:00                        -449.953435   \n",
              "\n",
              "                     rougher.state.floatbank10_c_air  \\\n",
              "date                                                   \n",
              "2016-01-15 00:00:00                       1602.37500   \n",
              "2016-01-15 01:00:00                       1600.47958   \n",
              "\n",
              "                     rougher.state.floatbank10_c_level  \\\n",
              "date                                                     \n",
              "2016-01-15 00:00:00                        -442.204468   \n",
              "2016-01-15 01:00:00                        -449.830646   \n",
              "\n",
              "                     rougher.state.floatbank10_d_air  \\\n",
              "date                                                   \n",
              "2016-01-15 00:00:00                      1598.937256   \n",
              "2016-01-15 01:00:00                      1600.527589   \n",
              "\n",
              "                     rougher.state.floatbank10_d_level  \\\n",
              "date                                                     \n",
              "2016-01-15 00:00:00                        -451.294128   \n",
              "2016-01-15 01:00:00                        -449.953649   \n",
              "\n",
              "                     rougher.state.floatbank10_e_air  \\\n",
              "date                                                   \n",
              "2016-01-15 00:00:00                      1404.472046   \n",
              "2016-01-15 01:00:00                      1399.227084   \n",
              "\n",
              "                     rougher.state.floatbank10_e_level  \\\n",
              "date                                                     \n",
              "2016-01-15 00:00:00                        -455.462982   \n",
              "2016-01-15 01:00:00                        -450.869848   \n",
              "\n",
              "                     rougher.state.floatbank10_f_air  \\\n",
              "date                                                   \n",
              "2016-01-15 00:00:00                      1416.354980   \n",
              "2016-01-15 01:00:00                      1399.719514   \n",
              "\n",
              "                     rougher.state.floatbank10_f_level  \n",
              "date                                                    \n",
              "2016-01-15 00:00:00                        -451.939636  \n",
              "2016-01-15 01:00:00                        -450.119001  \n",
              "\n",
              "[2 rows x 22 columns]"
            ]
          },
          "execution_count": 44,
          "metadata": {},
          "output_type": "execute_result"
        }
      ],
      "source": [
        "# Checking features for the first model\n",
        "df_train_clean[X1].head(2)"
      ]
    },
    {
      "cell_type": "code",
      "execution_count": null,
      "metadata": {
        "colab": {
          "base_uri": "https://localhost:8080/",
          "height": 298
        },
        "id": "tLtsjXFKvrei",
        "outputId": "1a16fada-12f1-47df-b993-f66ebd5e9fda"
      },
      "outputs": [
        {
          "data": {
            "text/html": [
              "<div>\n",
              "<style scoped>\n",
              "    .dataframe tbody tr th:only-of-type {\n",
              "        vertical-align: middle;\n",
              "    }\n",
              "\n",
              "    .dataframe tbody tr th {\n",
              "        vertical-align: top;\n",
              "    }\n",
              "\n",
              "    .dataframe thead th {\n",
              "        text-align: right;\n",
              "    }\n",
              "</style>\n",
              "<table border=\"1\" class=\"dataframe\">\n",
              "  <thead>\n",
              "    <tr style=\"text-align: right;\">\n",
              "      <th></th>\n",
              "      <th>primary_cleaner.input.sulfate</th>\n",
              "      <th>primary_cleaner.input.depressant</th>\n",
              "      <th>primary_cleaner.input.feed_size</th>\n",
              "      <th>primary_cleaner.input.xanthate</th>\n",
              "      <th>primary_cleaner.state.floatbank8_a_air</th>\n",
              "      <th>primary_cleaner.state.floatbank8_a_level</th>\n",
              "      <th>primary_cleaner.state.floatbank8_b_air</th>\n",
              "      <th>primary_cleaner.state.floatbank8_b_level</th>\n",
              "      <th>primary_cleaner.state.floatbank8_c_air</th>\n",
              "      <th>primary_cleaner.state.floatbank8_c_level</th>\n",
              "      <th>...</th>\n",
              "      <th>secondary_cleaner.state.floatbank4_a_air</th>\n",
              "      <th>secondary_cleaner.state.floatbank4_a_level</th>\n",
              "      <th>secondary_cleaner.state.floatbank4_b_air</th>\n",
              "      <th>secondary_cleaner.state.floatbank4_b_level</th>\n",
              "      <th>secondary_cleaner.state.floatbank5_a_air</th>\n",
              "      <th>secondary_cleaner.state.floatbank5_a_level</th>\n",
              "      <th>secondary_cleaner.state.floatbank5_b_air</th>\n",
              "      <th>secondary_cleaner.state.floatbank5_b_level</th>\n",
              "      <th>secondary_cleaner.state.floatbank6_a_air</th>\n",
              "      <th>secondary_cleaner.state.floatbank6_a_level</th>\n",
              "    </tr>\n",
              "    <tr>\n",
              "      <th>date</th>\n",
              "      <th></th>\n",
              "      <th></th>\n",
              "      <th></th>\n",
              "      <th></th>\n",
              "      <th></th>\n",
              "      <th></th>\n",
              "      <th></th>\n",
              "      <th></th>\n",
              "      <th></th>\n",
              "      <th></th>\n",
              "      <th></th>\n",
              "      <th></th>\n",
              "      <th></th>\n",
              "      <th></th>\n",
              "      <th></th>\n",
              "      <th></th>\n",
              "      <th></th>\n",
              "      <th></th>\n",
              "      <th></th>\n",
              "      <th></th>\n",
              "      <th></th>\n",
              "    </tr>\n",
              "  </thead>\n",
              "  <tbody>\n",
              "    <tr>\n",
              "      <th>2016-01-15 00:00:00</th>\n",
              "      <td>127.092003</td>\n",
              "      <td>10.128295</td>\n",
              "      <td>7.25</td>\n",
              "      <td>0.988759</td>\n",
              "      <td>1549.775757</td>\n",
              "      <td>-498.912140</td>\n",
              "      <td>1551.434204</td>\n",
              "      <td>-516.403442</td>\n",
              "      <td>1549.873901</td>\n",
              "      <td>-498.666595</td>\n",
              "      <td>...</td>\n",
              "      <td>14.016835</td>\n",
              "      <td>-502.488007</td>\n",
              "      <td>12.099931</td>\n",
              "      <td>-504.715942</td>\n",
              "      <td>9.925633</td>\n",
              "      <td>-498.310211</td>\n",
              "      <td>8.079666</td>\n",
              "      <td>-500.470978</td>\n",
              "      <td>14.151341</td>\n",
              "      <td>-605.841980</td>\n",
              "    </tr>\n",
              "    <tr>\n",
              "      <th>2016-01-15 01:00:00</th>\n",
              "      <td>125.629232</td>\n",
              "      <td>10.296251</td>\n",
              "      <td>7.25</td>\n",
              "      <td>1.002663</td>\n",
              "      <td>1576.166671</td>\n",
              "      <td>-500.904965</td>\n",
              "      <td>1575.950626</td>\n",
              "      <td>-499.865889</td>\n",
              "      <td>1575.994189</td>\n",
              "      <td>-499.315107</td>\n",
              "      <td>...</td>\n",
              "      <td>13.992281</td>\n",
              "      <td>-505.503262</td>\n",
              "      <td>11.950531</td>\n",
              "      <td>-501.331529</td>\n",
              "      <td>10.039245</td>\n",
              "      <td>-500.169983</td>\n",
              "      <td>7.984757</td>\n",
              "      <td>-500.582168</td>\n",
              "      <td>13.998353</td>\n",
              "      <td>-599.787184</td>\n",
              "    </tr>\n",
              "  </tbody>\n",
              "</table>\n",
              "<p>2 rows × 52 columns</p>\n",
              "</div>"
            ],
            "text/plain": [
              "                     primary_cleaner.input.sulfate  \\\n",
              "date                                                 \n",
              "2016-01-15 00:00:00                     127.092003   \n",
              "2016-01-15 01:00:00                     125.629232   \n",
              "\n",
              "                     primary_cleaner.input.depressant  \\\n",
              "date                                                    \n",
              "2016-01-15 00:00:00                         10.128295   \n",
              "2016-01-15 01:00:00                         10.296251   \n",
              "\n",
              "                     primary_cleaner.input.feed_size  \\\n",
              "date                                                   \n",
              "2016-01-15 00:00:00                             7.25   \n",
              "2016-01-15 01:00:00                             7.25   \n",
              "\n",
              "                     primary_cleaner.input.xanthate  \\\n",
              "date                                                  \n",
              "2016-01-15 00:00:00                        0.988759   \n",
              "2016-01-15 01:00:00                        1.002663   \n",
              "\n",
              "                     primary_cleaner.state.floatbank8_a_air  \\\n",
              "date                                                          \n",
              "2016-01-15 00:00:00                             1549.775757   \n",
              "2016-01-15 01:00:00                             1576.166671   \n",
              "\n",
              "                     primary_cleaner.state.floatbank8_a_level  \\\n",
              "date                                                            \n",
              "2016-01-15 00:00:00                               -498.912140   \n",
              "2016-01-15 01:00:00                               -500.904965   \n",
              "\n",
              "                     primary_cleaner.state.floatbank8_b_air  \\\n",
              "date                                                          \n",
              "2016-01-15 00:00:00                             1551.434204   \n",
              "2016-01-15 01:00:00                             1575.950626   \n",
              "\n",
              "                     primary_cleaner.state.floatbank8_b_level  \\\n",
              "date                                                            \n",
              "2016-01-15 00:00:00                               -516.403442   \n",
              "2016-01-15 01:00:00                               -499.865889   \n",
              "\n",
              "                     primary_cleaner.state.floatbank8_c_air  \\\n",
              "date                                                          \n",
              "2016-01-15 00:00:00                             1549.873901   \n",
              "2016-01-15 01:00:00                             1575.994189   \n",
              "\n",
              "                     primary_cleaner.state.floatbank8_c_level  ...  \\\n",
              "date                                                           ...   \n",
              "2016-01-15 00:00:00                               -498.666595  ...   \n",
              "2016-01-15 01:00:00                               -499.315107  ...   \n",
              "\n",
              "                     secondary_cleaner.state.floatbank4_a_air  \\\n",
              "date                                                            \n",
              "2016-01-15 00:00:00                                 14.016835   \n",
              "2016-01-15 01:00:00                                 13.992281   \n",
              "\n",
              "                     secondary_cleaner.state.floatbank4_a_level  \\\n",
              "date                                                              \n",
              "2016-01-15 00:00:00                                 -502.488007   \n",
              "2016-01-15 01:00:00                                 -505.503262   \n",
              "\n",
              "                     secondary_cleaner.state.floatbank4_b_air  \\\n",
              "date                                                            \n",
              "2016-01-15 00:00:00                                 12.099931   \n",
              "2016-01-15 01:00:00                                 11.950531   \n",
              "\n",
              "                     secondary_cleaner.state.floatbank4_b_level  \\\n",
              "date                                                              \n",
              "2016-01-15 00:00:00                                 -504.715942   \n",
              "2016-01-15 01:00:00                                 -501.331529   \n",
              "\n",
              "                     secondary_cleaner.state.floatbank5_a_air  \\\n",
              "date                                                            \n",
              "2016-01-15 00:00:00                                  9.925633   \n",
              "2016-01-15 01:00:00                                 10.039245   \n",
              "\n",
              "                     secondary_cleaner.state.floatbank5_a_level  \\\n",
              "date                                                              \n",
              "2016-01-15 00:00:00                                 -498.310211   \n",
              "2016-01-15 01:00:00                                 -500.169983   \n",
              "\n",
              "                     secondary_cleaner.state.floatbank5_b_air  \\\n",
              "date                                                            \n",
              "2016-01-15 00:00:00                                  8.079666   \n",
              "2016-01-15 01:00:00                                  7.984757   \n",
              "\n",
              "                     secondary_cleaner.state.floatbank5_b_level  \\\n",
              "date                                                              \n",
              "2016-01-15 00:00:00                                 -500.470978   \n",
              "2016-01-15 01:00:00                                 -500.582168   \n",
              "\n",
              "                     secondary_cleaner.state.floatbank6_a_air  \\\n",
              "date                                                            \n",
              "2016-01-15 00:00:00                                 14.151341   \n",
              "2016-01-15 01:00:00                                 13.998353   \n",
              "\n",
              "                     secondary_cleaner.state.floatbank6_a_level  \n",
              "date                                                             \n",
              "2016-01-15 00:00:00                                 -605.841980  \n",
              "2016-01-15 01:00:00                                 -599.787184  \n",
              "\n",
              "[2 rows x 52 columns]"
            ]
          },
          "execution_count": 45,
          "metadata": {},
          "output_type": "execute_result"
        }
      ],
      "source": [
        "# Checking features for the second model\n",
        "df_train_clean[X2].head(2)"
      ]
    },
    {
      "cell_type": "code",
      "execution_count": null,
      "metadata": {
        "id": "dqK3g8-SIQSe",
        "outputId": "63faefe1-0055-45b1-8137-375a5eda94f3"
      },
      "outputs": [
        {
          "data": {
            "text/plain": [
              "Index(['rougher.input.feed_ag', 'rougher.input.feed_pb',\n",
              "       'rougher.input.feed_rate', 'rougher.input.feed_size',\n",
              "       'rougher.input.feed_sol', 'rougher.input.feed_au',\n",
              "       'rougher.input.floatbank10_sulfate',\n",
              "       'rougher.input.floatbank10_xanthate',\n",
              "       'rougher.input.floatbank11_sulfate',\n",
              "       'rougher.input.floatbank11_xanthate', 'rougher.state.floatbank10_a_air',\n",
              "       'rougher.state.floatbank10_a_level', 'rougher.state.floatbank10_b_air',\n",
              "       'rougher.state.floatbank10_b_level', 'rougher.state.floatbank10_c_air',\n",
              "       'rougher.state.floatbank10_c_level', 'rougher.state.floatbank10_d_air',\n",
              "       'rougher.state.floatbank10_d_level', 'rougher.state.floatbank10_e_air',\n",
              "       'rougher.state.floatbank10_e_level', 'rougher.state.floatbank10_f_air',\n",
              "       'rougher.state.floatbank10_f_level'],\n",
              "      dtype='object')"
            ]
          },
          "execution_count": 46,
          "metadata": {},
          "output_type": "execute_result"
        }
      ],
      "source": [
        "df_train_clean[X1].columns"
      ]
    },
    {
      "cell_type": "code",
      "execution_count": null,
      "metadata": {
        "id": "aUDVJ6rNIQSe",
        "outputId": "65f088bb-8b14-4e58-9f63-8b8509386393"
      },
      "outputs": [
        {
          "data": {
            "text/plain": [
              "Index(['primary_cleaner.input.sulfate', 'primary_cleaner.input.depressant',\n",
              "       'primary_cleaner.input.feed_size', 'primary_cleaner.input.xanthate',\n",
              "       'primary_cleaner.state.floatbank8_a_air',\n",
              "       'primary_cleaner.state.floatbank8_a_level',\n",
              "       'primary_cleaner.state.floatbank8_b_air',\n",
              "       'primary_cleaner.state.floatbank8_b_level',\n",
              "       'primary_cleaner.state.floatbank8_c_air',\n",
              "       'primary_cleaner.state.floatbank8_c_level',\n",
              "       'primary_cleaner.state.floatbank8_d_air',\n",
              "       'primary_cleaner.state.floatbank8_d_level', 'rougher.input.feed_ag',\n",
              "       'rougher.input.feed_pb', 'rougher.input.feed_rate',\n",
              "       'rougher.input.feed_size', 'rougher.input.feed_sol',\n",
              "       'rougher.input.feed_au', 'rougher.input.floatbank10_sulfate',\n",
              "       'rougher.input.floatbank10_xanthate',\n",
              "       'rougher.input.floatbank11_sulfate',\n",
              "       'rougher.input.floatbank11_xanthate', 'rougher.state.floatbank10_a_air',\n",
              "       'rougher.state.floatbank10_a_level', 'rougher.state.floatbank10_b_air',\n",
              "       'rougher.state.floatbank10_b_level', 'rougher.state.floatbank10_c_air',\n",
              "       'rougher.state.floatbank10_c_level', 'rougher.state.floatbank10_d_air',\n",
              "       'rougher.state.floatbank10_d_level', 'rougher.state.floatbank10_e_air',\n",
              "       'rougher.state.floatbank10_e_level', 'rougher.state.floatbank10_f_air',\n",
              "       'rougher.state.floatbank10_f_level',\n",
              "       'secondary_cleaner.state.floatbank2_a_air',\n",
              "       'secondary_cleaner.state.floatbank2_a_level',\n",
              "       'secondary_cleaner.state.floatbank2_b_air',\n",
              "       'secondary_cleaner.state.floatbank2_b_level',\n",
              "       'secondary_cleaner.state.floatbank3_a_air',\n",
              "       'secondary_cleaner.state.floatbank3_a_level',\n",
              "       'secondary_cleaner.state.floatbank3_b_air',\n",
              "       'secondary_cleaner.state.floatbank3_b_level',\n",
              "       'secondary_cleaner.state.floatbank4_a_air',\n",
              "       'secondary_cleaner.state.floatbank4_a_level',\n",
              "       'secondary_cleaner.state.floatbank4_b_air',\n",
              "       'secondary_cleaner.state.floatbank4_b_level',\n",
              "       'secondary_cleaner.state.floatbank5_a_air',\n",
              "       'secondary_cleaner.state.floatbank5_a_level',\n",
              "       'secondary_cleaner.state.floatbank5_b_air',\n",
              "       'secondary_cleaner.state.floatbank5_b_level',\n",
              "       'secondary_cleaner.state.floatbank6_a_air',\n",
              "       'secondary_cleaner.state.floatbank6_a_level'],\n",
              "      dtype='object')"
            ]
          },
          "execution_count": 47,
          "metadata": {},
          "output_type": "execute_result"
        }
      ],
      "source": [
        "df_train_clean[X2].columns"
      ]
    },
    {
      "cell_type": "markdown",
      "metadata": {
        "id": "HQJzV3z-yQXq"
      },
      "source": [
        "### Baseline\n",
        "\n",
        "Для оценки адекватности наших моделей объявим бейзлайн модель, которая будет предсказывать медианное значения для всех объектов"
      ]
    },
    {
      "cell_type": "code",
      "execution_count": null,
      "metadata": {
        "id": "W7AXDITaP0I4"
      },
      "outputs": [],
      "source": [
        "# Parameters for cross-validation folds\n",
        "skf = KFold(n_splits=5, shuffle=True, random_state=RANDOM_STATE)\n",
        "\n",
        "# Function to obtain the best model using GridSearchCV\n",
        "def pretty_model_rs(X, y, transformer, model, parametrs, plot=True):\n",
        "    \"\"\"\n",
        "    Function to obtain the best model using RandomizedSearchCV\n",
        "\n",
        "    Args:\n",
        "        X: pd.DataFrame, input features\n",
        "        y: pd.Series, target variable\n",
        "        transformer: sklearn transformer, data preprocessing transformer\n",
        "        model: sklearn estimator, machine learning model\n",
        "        parametrs: dict, hyperparameters to search over\n",
        "        plot: bool, whether to plot the learning curve or not\n",
        "\n",
        "    Returns:\n",
        "        rs_model: sklearn estimator, best fitted model\n",
        "        best_score: float, best sMAPE score\n",
        "        best_params: dict, best hyperparameters\n",
        "\n",
        "    This function creates a pipeline with a transformer and a model,\n",
        "    then performs hyperparameter tuning using RandomizedSearchCV.\n",
        "    It trains and evaluates models using cross-validation with\n",
        "    F1-score as the scoring metric. The best model, best score,\n",
        "    and best hyperparameters are returned.\n",
        "\n",
        "    \"\"\"\n",
        "\n",
        "    # Create a pipeline\n",
        "    pipeline_rs = make_pipeline(transformer, model)\n",
        "    # Scoring metric\n",
        "    scoring = {'sMAPE': make_scorer(smape, greater_is_better=False)}\n",
        "\n",
        "    # Perform hyperparameter tuning using RandomizedSearchCV\n",
        "    rs_model = RandomizedSearchCV(\n",
        "        estimator=pipeline_rs,\n",
        "        param_distributions=parametrs,\n",
        "        verbose=1,\n",
        "        return_train_score=True,\n",
        "        error_score='raise',\n",
        "        scoring=scoring,\n",
        "        refit='sMAPE',\n",
        "        cv=skf,\n",
        "        n_jobs=-1,\n",
        "        random_state=RANDOM_STATE\n",
        "    )\n",
        "\n",
        "    # Train the model on the training dataset\n",
        "    rs_model.fit(X, y.values.ravel())\n",
        "\n",
        "    # Visualize the learning curve if plot is True\n",
        "    if plot:\n",
        "        plt.figure(figsize=(13,6))\n",
        "        plt.plot(rs_model.cv_results_['mean_train_sMAPE'], '-o',\n",
        "                 label='train score sMape',\n",
        "                 alpha=0.5, markersize=3\n",
        "                )\n",
        "        plt.plot(rs_model.cv_results_['mean_test_sMAPE'], '-o',\n",
        "                 label='test score sMape',\n",
        "                 alpha=0.5, markersize=3\n",
        "                )\n",
        "        plt.legend()\n",
        "        plt.grid(alpha=0.5)\n",
        "        plt.title(str(model)[:-2])\n",
        "        plt.xlabel('Steps')\n",
        "        plt.ylabel('sMape')\n",
        "        plt.show()\n",
        "\n",
        "    print()\n",
        "    print('Best sMAPE:', rs_model.best_score_)\n",
        "\n",
        "    return rs_model, rs_model.best_score_, rs_model.best_params_"
      ]
    },
    {
      "cell_type": "code",
      "execution_count": null,
      "metadata": {
        "colab": {
          "base_uri": "https://localhost:8080/"
        },
        "id": "SFXx5TwUyPq0",
        "outputId": "09bb0f41-647e-4064-d243-d66731b05d47"
      },
      "outputs": [
        {
          "data": {
            "text/plain": [
              "(-6.504267304912379, -8.540218681835574)"
            ]
          },
          "execution_count": 49,
          "metadata": {},
          "output_type": "execute_result"
        }
      ],
      "source": [
        "# Creating a baseline model\n",
        "baseline_model1 = DummyRegressor(strategy='median')\n",
        "\n",
        "# Training the dummy model\n",
        "baseline_model1.fit(df_train_clean[X1], df_train_clean[y1])\n",
        "# Making predictions\n",
        "baseline_pred1 = baseline_model1.predict(df_train_clean[X1])\n",
        "baseline_test_pred1 = baseline_model1.predict(df_test[X1])\n",
        "# Calculating the score\n",
        "baseline_score1 = -1 * smape(df_train_clean[y1].values.ravel(), baseline_pred1)\n",
        "baseline_test_score1 = -1 * smape(df_test[y1].values.ravel(), baseline_test_pred1)\n",
        "baseline_score1, baseline_test_score1"
      ]
    },
    {
      "cell_type": "code",
      "execution_count": null,
      "metadata": {
        "colab": {
          "base_uri": "https://localhost:8080/"
        },
        "id": "kerA0_ps627D",
        "outputId": "2c659dbf-5dd7-4ab8-b4ba-ecd8aa5e99a6"
      },
      "outputs": [
        {
          "data": {
            "text/plain": [
              "(-8.742820320769752, -23.452130094573846)"
            ]
          },
          "execution_count": 50,
          "metadata": {},
          "output_type": "execute_result"
        }
      ],
      "source": [
        "# Creating a baseline model\n",
        "baseline_model2 = DummyRegressor(strategy='median')\n",
        "\n",
        "# Training the dummy model\n",
        "baseline_model2.fit(df_train_clean[X2], df_train_clean[y2])\n",
        "# Making predictions\n",
        "baseline_pred2 = baseline_model2.predict(df_train_clean[X2])\n",
        "baseline_test_pred2 = baseline_model1.predict(df_test[X2])\n",
        "# Calculating the score\n",
        "baseline_score2 = -1 * smape(df_train_clean[y2].values.ravel(), baseline_pred2)\n",
        "baseline_test_score2 = -1 * smape(df_test[y2].values.ravel(), baseline_test_pred2)\n",
        "baseline_score2, baseline_test_score2"
      ]
    },
    {
      "cell_type": "markdown",
      "metadata": {
        "id": "vbkCpOYMPXIz"
      },
      "source": [
        "Модели со значениями метрики хуже бейзлайна не будут иметь для нас смысла"
      ]
    },
    {
      "cell_type": "markdown",
      "metadata": {
        "id": "UvmaTC-W_pfM"
      },
      "source": [
        "Отлично, от этого уровня будем отталкиваться\n",
        "\n",
        "---\n",
        "\n",
        "Начнем с модели линейной регрессии"
      ]
    },
    {
      "cell_type": "code",
      "execution_count": null,
      "metadata": {
        "colab": {
          "base_uri": "https://localhost:8080/",
          "height": 665
        },
        "id": "2X9SVc5KBkOP",
        "outputId": "67fb0056-3932-47f0-a7de-09fcc60487a3"
      },
      "outputs": [
        {
          "name": "stdout",
          "output_type": "stream",
          "text": [
            "Fitting 5 folds for each of 2 candidates, totalling 10 fits\n"
          ]
        },
        {
          "data": {
            "image/png": "[encoded data removed]",
            "text/plain": [
              "<Figure size 936x432 with 1 Axes>"
            ]
          },
          "metadata": {},
          "output_type": "display_data"
        },
        {
          "name": "stdout",
          "output_type": "stream",
          "text": [
            "\n",
            "Best sMAPE: -4.539519092308014\n"
          ]
        }
      ],
      "source": [
        "# Parameters for linear regression for the product after flotation\n",
        "params = {\n",
        "    'linearregression__fit_intercept': [True, False],\n",
        "}\n",
        "\n",
        "# Model\n",
        "model = LinearRegression()\n",
        "\n",
        "# Transformer\n",
        "transformer = StandardScaler()\n",
        "\n",
        "# Get variables from the function\n",
        "(lin_model1,\n",
        " lin_best_score1,\n",
        " lin_best_param1) = pretty_model_rs(\n",
        "    df_train_clean[X1], df_train_clean[y1], transformer, model, params\n",
        ")"
      ]
    },
    {
      "cell_type": "code",
      "execution_count": null,
      "metadata": {
        "colab": {
          "base_uri": "https://localhost:8080/",
          "height": 665
        },
        "id": "kI5VgDhOMNll",
        "outputId": "a019885b-b572-4155-b540-255825868a28"
      },
      "outputs": [
        {
          "name": "stdout",
          "output_type": "stream",
          "text": [
            "Fitting 5 folds for each of 2 candidates, totalling 10 fits\n"
          ]
        },
        {
          "data": {
            "image/png": "[encoded data removed]",
            "text/plain": [
              "<Figure size 936x432 with 1 Axes>"
            ]
          },
          "metadata": {},
          "output_type": "display_data"
        },
        {
          "name": "stdout",
          "output_type": "stream",
          "text": [
            "\n",
            "Best sMAPE: -6.682675790908031\n"
          ]
        }
      ],
      "source": [
        "# Parameters for linear regression\n",
        "params = {\n",
        "    'linearregression__fit_intercept': [True, False],\n",
        "}\n",
        "\n",
        "# Get variables from the function\n",
        "(lin_model2,\n",
        " lin_best_score2,\n",
        " lin_best_param2) = pretty_model_rs(\n",
        "    df_train_clean[X2], df_train_clean[y2], transformer, model, params\n",
        ")\n"
      ]
    },
    {
      "cell_type": "markdown",
      "metadata": {
        "id": "swdXP8hAMtQf"
      },
      "source": [
        "Линейная регрессия превзошла бейзлайн, но до хороших результатов еще далеко\n",
        "\n",
        "---\n",
        "\n",
        "Рассмотрим модель случайного леса"
      ]
    },
    {
      "cell_type": "code",
      "execution_count": null,
      "metadata": {
        "colab": {
          "base_uri": "https://localhost:8080/",
          "height": 612
        },
        "id": "GpxPznU6QD-5",
        "outputId": "15750b88-48dd-4a8f-a619-2e80aa52bf33"
      },
      "outputs": [
        {
          "name": "stdout",
          "output_type": "stream",
          "text": [
            "Fitting 5 folds for each of 10 candidates, totalling 50 fits\n"
          ]
        },
        {
          "data": {
            "image/png": "[encoded data removed]",
            "text/plain": [
              "<Figure size 936x432 with 1 Axes>"
            ]
          },
          "metadata": {},
          "output_type": "display_data"
        },
        {
          "name": "stdout",
          "output_type": "stream",
          "text": [
            "\n",
            "Best sMAPE: -2.401661530083577\n"
          ]
        }
      ],
      "source": [
        "# Parameters for hyperparameter tuning\n",
        "params = {\n",
        "    'randomforestregressor__random_state': [RANDOM_STATE],\n",
        "    'randomforestregressor__n_estimators': range(10, 50, 2),\n",
        "    'randomforestregressor__max_depth': range(1, 18),\n",
        "    'randomforestregressor__min_samples_leaf': range(1, 8),\n",
        "    'randomforestregressor__min_samples_split': range(2, 9)\n",
        "}\n",
        "\n",
        "# Random forest model\n",
        "model = RandomForestRegressor()\n",
        "\n",
        "# Get variables from the function\n",
        "(rf_model1,\n",
        " rf_best_score1,\n",
        " rf_best_params1) = pretty_model_rs(\n",
        "    df_train_clean[X1], df_train_clean[y1], transformer, model, params\n",
        ")\n"
      ]
    },
    {
      "cell_type": "code",
      "execution_count": null,
      "metadata": {
        "colab": {
          "base_uri": "https://localhost:8080/",
          "height": 612
        },
        "id": "0AGpLeBdUV0n",
        "outputId": "90c287c9-64d8-4b41-ae7c-55deffdc0342"
      },
      "outputs": [
        {
          "name": "stdout",
          "output_type": "stream",
          "text": [
            "Fitting 5 folds for each of 10 candidates, totalling 50 fits\n"
          ]
        },
        {
          "data": {
            "image/png": "[encoded data removed]",
            "text/plain": [
              "<Figure size 936x432 with 1 Axes>"
            ]
          },
          "metadata": {},
          "output_type": "display_data"
        },
        {
          "name": "stdout",
          "output_type": "stream",
          "text": [
            "\n",
            "Best sMAPE: -4.828375487634134\n"
          ]
        }
      ],
      "source": [
        "# Parameters for grid search\n",
        "params = {\n",
        "    'randomforestregressor__random_state': [RANDOM_STATE],\n",
        "    'randomforestregressor__n_estimators': range(10, 50, 2),\n",
        "    'randomforestregressor__max_depth': range(1, 18),\n",
        "    'randomforestregressor__min_samples_leaf': range(1, 8),\n",
        "    'randomforestregressor__min_samples_split': range(2, 9)\n",
        "}\n",
        "\n",
        "# Random forest model\n",
        "model = RandomForestRegressor()\n",
        "\n",
        "# Get variables from the function\n",
        "(rf_model2,\n",
        " rf_best_score2,\n",
        " rf_best_params2) = pretty_model_rs(\n",
        "      df_train_clean[X2], df_train_clean[y2], transformer, model, params\n",
        ")"
      ]
    },
    {
      "cell_type": "markdown",
      "metadata": {
        "id": "oNdLB8rh1aqq"
      },
      "source": [
        "---\n",
        "\n",
        "Перейдем к модели гребневой регрессии"
      ]
    },
    {
      "cell_type": "code",
      "execution_count": null,
      "metadata": {
        "colab": {
          "base_uri": "https://localhost:8080/",
          "height": 612
        },
        "id": "4_h_pIcOzCWk",
        "outputId": "005dcb29-e154-4677-deae-cb0693aeafe2"
      },
      "outputs": [
        {
          "name": "stdout",
          "output_type": "stream",
          "text": [
            "Fitting 5 folds for each of 10 candidates, totalling 50 fits\n"
          ]
        },
        {
          "data": {
            "image/png": "[encoded data removed]",
            "text/plain": [
              "<Figure size 936x432 with 1 Axes>"
            ]
          },
          "metadata": {},
          "output_type": "display_data"
        },
        {
          "name": "stdout",
          "output_type": "stream",
          "text": [
            "\n",
            "Best sMAPE: -4.537091405400964\n"
          ]
        }
      ],
      "source": [
        "# Parameters for grid search\n",
        "params = {\n",
        "    'ridge__random_state': [RANDOM_STATE],\n",
        "    'ridge__alpha': np.logspace(-4, 4, 1000),  # Regularization parameter\n",
        "    'ridge__fit_intercept': [True, False],  # Include the intercept in the equation\n",
        "    # 'ridge__normalize': [True, False]  # Feature normalization\n",
        "}\n",
        "\n",
        "# Ridge regression model\n",
        "model = Ridge()\n",
        "\n",
        "# Get variables from the function\n",
        "(ridge_model1,\n",
        " ridge_best_score1,\n",
        " ridge_best_param1) = pretty_model_rs(\n",
        "      df_train_clean[X1], df_train_clean[y1], transformer, model, params\n",
        "      )\n"
      ]
    },
    {
      "cell_type": "code",
      "execution_count": null,
      "metadata": {
        "colab": {
          "base_uri": "https://localhost:8080/",
          "height": 612
        },
        "id": "xSwgxVlz0-Cl",
        "outputId": "c3cb633e-e05d-4191-ae1b-c004a9e5331b"
      },
      "outputs": [
        {
          "name": "stdout",
          "output_type": "stream",
          "text": [
            "Fitting 5 folds for each of 10 candidates, totalling 50 fits\n"
          ]
        },
        {
          "data": {
            "image/png": "[encoded data removed]",
            "text/plain": [
              "<Figure size 936x432 with 1 Axes>"
            ]
          },
          "metadata": {},
          "output_type": "display_data"
        },
        {
          "name": "stdout",
          "output_type": "stream",
          "text": [
            "\n",
            "Best sMAPE: -6.682184887779218\n"
          ]
        }
      ],
      "source": [
        "# Parameters for grid search\n",
        "params ={\n",
        "    'ridge__random_state': [RANDOM_STATE],\n",
        "    'ridge__alpha': np.logspace(-4, 4, 1000),  # Regularization parameter\n",
        "    'ridge__fit_intercept': [True, False],  # Include the intercept in the equation\n",
        "}\n",
        "\n",
        "# Ridge regression model\n",
        "model = Ridge()\n",
        "\n",
        "# Get variables from the function\n",
        "(ridge_model2,\n",
        " ridge_best_score2,\n",
        " ridge_best_param2) = pretty_model_rs(\n",
        "      df_train_clean[X2], df_train_clean[y2], transformer, model, params\n",
        "      )"
      ]
    },
    {
      "cell_type": "markdown",
      "metadata": {
        "id": "iHaRNRcd1HV5"
      },
      "source": [
        "Модель ридж-регресси показала себя хуже случайного леса\n",
        "\n",
        "---\n",
        "\n",
        "Попробуем модель ElasticNet"
      ]
    },
    {
      "cell_type": "code",
      "execution_count": null,
      "metadata": {
        "colab": {
          "base_uri": "https://localhost:8080/",
          "height": 612
        },
        "id": "PxcnKm992KwN",
        "outputId": "5e85565e-4305-4fb9-e684-ff6112fb0410",
        "scrolled": false
      },
      "outputs": [
        {
          "name": "stdout",
          "output_type": "stream",
          "text": [
            "Fitting 5 folds for each of 10 candidates, totalling 50 fits\n"
          ]
        },
        {
          "data": {
            "image/png": "[encoded data removed]",
            "text/plain": [
              "<Figure size 936x432 with 1 Axes>"
            ]
          },
          "metadata": {},
          "output_type": "display_data"
        },
        {
          "name": "stdout",
          "output_type": "stream",
          "text": [
            "\n",
            "Best sMAPE: -4.550363333383988\n"
          ]
        }
      ],
      "source": [
        "# Parameters for grid search\n",
        "params = {\n",
        "    'elasticnetcv__random_state': [RANDOM_STATE],\n",
        "    'elasticnetcv__l1_ratio': [0.01, 0.1, 0.5, 0.7, 0.9, 0.95, 0.99],\n",
        "    'elasticnetcv__alphas': [np.logspace(-4, 0, 100)],\n",
        "    'elasticnetcv__max_iter': [1000, 5000, 10000],\n",
        "    'elasticnetcv__tol': [0.0001, 0.001, 0.01]\n",
        "}\n",
        "\n",
        "# Elastic Net regression model\n",
        "model = ElasticNetCV()\n",
        "\n",
        "# Get variables from the function\n",
        "(EN_model1,\n",
        " EN_best_score1,\n",
        " EN_best_param1) = pretty_model_rs(\n",
        "      df_train_clean[X1], df_train_clean[y1], transformer, model, params\n",
        "      )"
      ]
    },
    {
      "cell_type": "code",
      "execution_count": null,
      "metadata": {
        "colab": {
          "base_uri": "https://localhost:8080/",
          "height": 612
        },
        "id": "EqE23SVZ4oPz",
        "outputId": "91deb340-3c08-418c-c4ee-ab84be453a87"
      },
      "outputs": [
        {
          "name": "stdout",
          "output_type": "stream",
          "text": [
            "Fitting 5 folds for each of 10 candidates, totalling 50 fits\n"
          ]
        },
        {
          "data": {
            "image/png": "[encoded data removed]",
            "text/plain": [
              "<Figure size 936x432 with 1 Axes>"
            ]
          },
          "metadata": {},
          "output_type": "display_data"
        },
        {
          "name": "stdout",
          "output_type": "stream",
          "text": [
            "\n",
            "Best sMAPE: -7.020353723602833\n"
          ]
        }
      ],
      "source": [
        "# Parameters for grid search\n",
        "params = {\n",
        "    'elasticnetcv__random_state': [RANDOM_STATE],\n",
        "    'elasticnetcv__l1_ratio': [0.01, 0.1, 0.5, 0.7, 0.9, 0.95, 0.99],\n",
        "    'elasticnetcv__alphas': [np.logspace(-4, 0, 100)],\n",
        "    'elasticnetcv__max_iter': [1000, 5000, 10000],\n",
        "    'elasticnetcv__tol': [0.0001, 0.001, 0.01]\n",
        "}\n",
        "\n",
        "# Elastic Net regression model\n",
        "model = ElasticNetCV()\n",
        "\n",
        "# Get variables from the function\n",
        "(EN_model2,\n",
        " EN_best_score2,\n",
        " EN_best_param2) = pretty_model_rs(\n",
        "      df_train_clean[X2], df_train_clean[y2], transformer, model, params\n",
        "      )"
      ]
    },
    {
      "cell_type": "markdown",
      "metadata": {
        "id": "o0kKm95p45mt"
      },
      "source": [
        "ElasticNet также показала себя не очень хорошо в этой задаче\n",
        "\n",
        "---\n",
        "\n",
        "Теперь предскажем параметры на тестовой выборке по нашим лучшим моделям"
      ]
    },
    {
      "cell_type": "code",
      "execution_count": null,
      "metadata": {
        "id": "_nMUPl5pBccg"
      },
      "outputs": [],
      "source": [
        "def predict_and_score(model: str) -> float:\n",
        "    \"\"\"\n",
        "    Predict on the test set and calculate the sMAPE score.\n",
        "\n",
        "    This function takes a model name as input, makes predictions on the test set using\n",
        "    two different versions of the model, and calculates the sMAPE (symmetric Mean Absolute\n",
        "    Percentage Error) metric for each version.\n",
        "\n",
        "    Args:\n",
        "        model (str): The name of the model to use for prediction. This should be a string\n",
        "                     that matches the model variable names in the global namespace,\n",
        "                     e.g., 'lin_model' or 'rf_model'.\n",
        "\n",
        "    Returns:\n",
        "        float: The sMAPE score for the first and second versions of the model on the test set.\n",
        "    \"\"\"\n",
        "    model1 = globals()[model + '1']\n",
        "    model2 = globals()[model + '2']\n",
        "\n",
        "    # Make predictions\n",
        "    test_pred1 = model1.predict(df_test[X1])\n",
        "    test_pred2 = model2.predict(df_test[X2])\n",
        "\n",
        "    # Calculate the sMAPE metric\n",
        "    test_score1 = -1 * smape(df_test[y1].values.ravel(), test_pred1)\n",
        "    test_score2 = -1 * smape(df_test[y2].values.ravel(), test_pred2)\n",
        "\n",
        "    # Return the results\n",
        "    return test_score1, test_score2\n"
      ]
    },
    {
      "cell_type": "markdown",
      "metadata": {
        "id": "X8j0ventBbTP"
      },
      "source": [
        "Изучим метрики наших моделей"
      ]
    },
    {
      "cell_type": "code",
      "execution_count": null,
      "metadata": {
        "colab": {
          "base_uri": "https://localhost:8080/",
          "height": 201
        },
        "id": "jzScScJL5X6D",
        "outputId": "2567a106-26a6-4a25-f5a1-6b52384604fd"
      },
      "outputs": [
        {
          "data": {
            "text/html": [
              "<style  type=\"text/css\" >\n",
              "#T_968bb_row0_col1,#T_968bb_row0_col2{\n",
              "            background-color:  #2b232b;\n",
              "            color:  #f1f1f1;\n",
              "        }#T_968bb_row1_col1,#T_968bb_row3_col1{\n",
              "            background-color:  #541254;\n",
              "            color:  #f1f1f1;\n",
              "        }#T_968bb_row1_col2,#T_968bb_row3_col2{\n",
              "            background-color:  #581158;\n",
              "            color:  #f1f1f1;\n",
              "        }#T_968bb_row2_col1,#T_968bb_row2_col2{\n",
              "            background-color:  #800080;\n",
              "            color:  #f1f1f1;\n",
              "        }#T_968bb_row4_col1{\n",
              "            background-color:  #531353;\n",
              "            color:  #f1f1f1;\n",
              "        }#T_968bb_row4_col2{\n",
              "            background-color:  #501450;\n",
              "            color:  #f1f1f1;\n",
              "        }</style><table id=\"T_968bb_\" ><thead>    <tr>        <th class=\"blank level0\" ></th>        <th class=\"col_heading level0 col0\" >Model</th>        <th class=\"col_heading level0 col1\" >train_score_rougher</th>        <th class=\"col_heading level0 col2\" >train_score_final</th>    </tr></thead><tbody>\n",
              "                <tr>\n",
              "                        <th id=\"T_968bb_level0_row0\" class=\"row_heading level0 row0\" >0</th>\n",
              "                        <td id=\"T_968bb_row0_col0\" class=\"data row0 col0\" >Dummy_model</td>\n",
              "                        <td id=\"T_968bb_row0_col1\" class=\"data row0 col1\" >-6.504267</td>\n",
              "                        <td id=\"T_968bb_row0_col2\" class=\"data row0 col2\" >-8.742820</td>\n",
              "            </tr>\n",
              "            <tr>\n",
              "                        <th id=\"T_968bb_level0_row1\" class=\"row_heading level0 row1\" >1</th>\n",
              "                        <td id=\"T_968bb_row1_col0\" class=\"data row1 col0\" >LinearRegression</td>\n",
              "                        <td id=\"T_968bb_row1_col1\" class=\"data row1 col1\" >-4.539519</td>\n",
              "                        <td id=\"T_968bb_row1_col2\" class=\"data row1 col2\" >-6.682676</td>\n",
              "            </tr>\n",
              "            <tr>\n",
              "                        <th id=\"T_968bb_level0_row2\" class=\"row_heading level0 row2\" >2</th>\n",
              "                        <td id=\"T_968bb_row2_col0\" class=\"data row2 col0\" >RandomForestRegressor</td>\n",
              "                        <td id=\"T_968bb_row2_col1\" class=\"data row2 col1\" >-2.401662</td>\n",
              "                        <td id=\"T_968bb_row2_col2\" class=\"data row2 col2\" >-4.828375</td>\n",
              "            </tr>\n",
              "            <tr>\n",
              "                        <th id=\"T_968bb_level0_row3\" class=\"row_heading level0 row3\" >3</th>\n",
              "                        <td id=\"T_968bb_row3_col0\" class=\"data row3 col0\" >Ridge</td>\n",
              "                        <td id=\"T_968bb_row3_col1\" class=\"data row3 col1\" >-4.537091</td>\n",
              "                        <td id=\"T_968bb_row3_col2\" class=\"data row3 col2\" >-6.682185</td>\n",
              "            </tr>\n",
              "            <tr>\n",
              "                        <th id=\"T_968bb_level0_row4\" class=\"row_heading level0 row4\" >4</th>\n",
              "                        <td id=\"T_968bb_row4_col0\" class=\"data row4 col0\" >ElasticNet</td>\n",
              "                        <td id=\"T_968bb_row4_col1\" class=\"data row4 col1\" >-4.550363</td>\n",
              "                        <td id=\"T_968bb_row4_col2\" class=\"data row4 col2\" >-7.020354</td>\n",
              "            </tr>\n",
              "    </tbody></table>"
            ],
            "text/plain": [
              "<pandas.io.formats.style.Styler at 0x7f585db01ee0>"
            ]
          },
          "execution_count": 60,
          "metadata": {},
          "output_type": "execute_result"
        }
      ],
      "source": [
        "# Create a DataFrame to store model results\n",
        "columns = ['Model', 'train_score_rougher', 'train_score_final']\n",
        "results_final = pd.DataFrame(columns=columns)\n",
        "\n",
        "# Add results for different models\n",
        "\n",
        "# Baseline model\n",
        "results_final.loc[0] = ['Dummy_model', baseline_score1, baseline_score2]\n",
        "\n",
        "# Linear regression\n",
        "results_final.loc[1] = ['LinearRegression', lin_best_score1, lin_best_score2]\n",
        "\n",
        "# Random Forest\n",
        "results_final.loc[2] = ['RandomForestRegressor', rf_best_score1, rf_best_score2]\n",
        "\n",
        "# Ridge regression\n",
        "results_final.loc[3] = ['Ridge', ridge_best_score1, ridge_best_score2]\n",
        "\n",
        "# ElasticNetCV\n",
        "results_final.loc[4] = ['ElasticNet', EN_best_score1, EN_best_score2]\n",
        "\n",
        "# Apply background gradient to style the DataFrame\n",
        "results_final.style.background_gradient(cmap=cm)"
      ]
    },
    {
      "cell_type": "markdown",
      "metadata": {
        "id": "tk-OY0yfHjIZ"
      },
      "source": [
        "Все модели показали результат лучше бейзлайн модели"
      ]
    },
    {
      "cell_type": "markdown",
      "metadata": {
        "id": "d41ekZ6S96gM"
      },
      "source": [
        "Минимальный скор показала модель случайного леса, остальные модели показали примерно одинаковое качество на тренировочной выборке  \n",
        " Мы выберем модель случайного леса для финальной оценки на тестовой выборке и расчета\n",
        "  \n"
      ]
    },
    {
      "cell_type": "code",
      "execution_count": null,
      "metadata": {
        "id": "i46fUuPYIQSk"
      },
      "outputs": [],
      "source": [
        "# Prediction of a random forest on a theoretical sample\n",
        "rf_test_score1, rf_test_score2 = predict_and_score('rf_model')"
      ]
    },
    {
      "cell_type": "code",
      "execution_count": null,
      "metadata": {
        "id": "MFdp01ZQIQSk",
        "outputId": "a385827c-5deb-4bf3-f4b3-4e65c8ff8aae"
      },
      "outputs": [
        {
          "data": {
            "text/html": [
              "<style  type=\"text/css\" >\n",
              "#T_ff0ce_row0_col1,#T_ff0ce_row0_col2,#T_ff0ce_row0_col3,#T_ff0ce_row0_col4{\n",
              "            background-color:  #2b232b;\n",
              "            color:  #f1f1f1;\n",
              "        }#T_ff0ce_row1_col1,#T_ff0ce_row1_col2,#T_ff0ce_row1_col3,#T_ff0ce_row1_col4{\n",
              "            background-color:  #800080;\n",
              "            color:  #f1f1f1;\n",
              "        }</style><table id=\"T_ff0ce_\" ><thead>    <tr>        <th class=\"blank level0\" ></th>        <th class=\"col_heading level0 col0\" >Model</th>        <th class=\"col_heading level0 col1\" >train_score_rougher</th>        <th class=\"col_heading level0 col2\" >train_score_final</th>        <th class=\"col_heading level0 col3\" >test_score_rougher</th>        <th class=\"col_heading level0 col4\" >test_score_final</th>    </tr></thead><tbody>\n",
              "                <tr>\n",
              "                        <th id=\"T_ff0ce_level0_row0\" class=\"row_heading level0 row0\" >0</th>\n",
              "                        <td id=\"T_ff0ce_row0_col0\" class=\"data row0 col0\" >Dummy_model</td>\n",
              "                        <td id=\"T_ff0ce_row0_col1\" class=\"data row0 col1\" >-6.504267</td>\n",
              "                        <td id=\"T_ff0ce_row0_col2\" class=\"data row0 col2\" >-8.742820</td>\n",
              "                        <td id=\"T_ff0ce_row0_col3\" class=\"data row0 col3\" >-8.540219</td>\n",
              "                        <td id=\"T_ff0ce_row0_col4\" class=\"data row0 col4\" >-23.452130</td>\n",
              "            </tr>\n",
              "            <tr>\n",
              "                        <th id=\"T_ff0ce_level0_row1\" class=\"row_heading level0 row1\" >2</th>\n",
              "                        <td id=\"T_ff0ce_row1_col0\" class=\"data row1 col0\" >RandomForestRegressor</td>\n",
              "                        <td id=\"T_ff0ce_row1_col1\" class=\"data row1 col1\" >-2.401662</td>\n",
              "                        <td id=\"T_ff0ce_row1_col2\" class=\"data row1 col2\" >-4.828375</td>\n",
              "                        <td id=\"T_ff0ce_row1_col3\" class=\"data row1 col3\" >-8.278536</td>\n",
              "                        <td id=\"T_ff0ce_row1_col4\" class=\"data row1 col4\" >-9.671090</td>\n",
              "            </tr>\n",
              "    </tbody></table>"
            ],
            "text/plain": [
              "<pandas.io.formats.style.Styler at 0x7f585d9a4c10>"
            ]
          },
          "execution_count": 63,
          "metadata": {},
          "output_type": "execute_result"
        }
      ],
      "source": [
        "# Create a DataFrame to store model results\n",
        "columns = ['Model', 'train_score_rougher', 'train_score_final',\n",
        "           'test_score_rougher', 'test_score_final']\n",
        "results_final = pd.DataFrame(columns=columns)\n",
        "\n",
        "# Add results for different models\n",
        "\n",
        "# Baseline model\n",
        "results_final.loc[0] = ['Dummy_model', baseline_score1, baseline_score2,\n",
        "                        baseline_test_score1, baseline_test_score2]\n",
        "\n",
        "# Random Forest\n",
        "results_final.loc[2] = ['RandomForestRegressor', rf_best_score1, rf_best_score2,\n",
        "                        rf_test_score1, rf_test_score2]\n",
        "\n",
        "# Apply background gradient to style the DataFrame\n",
        "results_final.style.background_gradient(cmap=cm)"
      ]
    },
    {
      "cell_type": "code",
      "execution_count": null,
      "metadata": {
        "colab": {
          "base_uri": "https://localhost:8080/"
        },
        "id": "MAeQAU1DI_Li",
        "outputId": "26e3ff4b-1c65-4d7a-c766-49221b570122"
      },
      "outputs": [
        {
          "data": {
            "text/plain": [
              "-4.221696998246495"
            ]
          },
          "execution_count": 64,
          "metadata": {},
          "output_type": "execute_result"
        }
      ],
      "source": [
        "# The final metric of the training sample of the random forest model\n",
        "final_smape(rf_best_score1, rf_best_score2)"
      ]
    },
    {
      "cell_type": "code",
      "execution_count": null,
      "metadata": {
        "colab": {
          "base_uri": "https://localhost:8080/"
        },
        "id": "nnO1XSKFJcTp",
        "outputId": "e5bb0be6-2b07-49fa-c727-f26e0579dd25"
      },
      "outputs": [
        {
          "data": {
            "text/plain": [
              "-9.322951159597874"
            ]
          },
          "execution_count": 65,
          "metadata": {},
          "output_type": "execute_result"
        }
      ],
      "source": [
        "# The final metric of the random forest model test sample\n",
        "final_smape(rf_test_score1, rf_test_score2)"
      ]
    },
    {
      "cell_type": "markdown",
      "metadata": {
        "id": "RH-zleXxJw5k"
      },
      "source": [
        "---\n",
        "\n",
        "## Вывод  \n",
        "  \n",
        "Мы проделали большую работу на сырых данных, с малым количеством информации о них, а именно:  \n",
        "\n",
        "+ провели первичный анализ данных, вявили недостатки  \n",
        "+ проверили корректность расчета эффективности обогащения после этапа флотации\n",
        "+ изучили отсутствующие признаки в тестовой выборке и поняли что все отсутствующие признаки относятся к продукту на различных этапах, 4 из них относятся к признакам характеристик и 2 к оценке обогащения продукта\n",
        "+ множество отсутсвующих значений заполнили методом ближайших соседей(медианным значением ближайших 5 объектов)\n",
        "+ изучили изменение концентрации металлов на различных этапах очистки и поняли, что концентрация серебра уменьшается к финальному продукту, концентрация свинца увеличивается примерно на 288%, концентрация золота больше изначального на 460% в конечном продукте\n",
        "+ сравнили размер гранул сырья на тренировочной и тестовой выборках и различия были минимальны\n",
        "+ изучили суммарные объемы концентрации металлов на различных этапах и выяснили, что суммарная концентрация исходных материалов гораздо ниже остальных этапов, на этапе флотации находится примерно в тех же значениях что и финальны продукт, на первичной очистке есть большое пересечение с исходными и флотационными значениями\n",
        "+ изучили несколько моделей и пришли к выводу, что модель случайного леса подходит для решения этой задачи, на тренировочной выборке она показала лучший результат(-2.4, -4.8), на тестовом предсказании (-8.28\t, -9.67) финальная метрика: -9.32"
      ]
    }
  ],
  "metadata": {
    "ExecuteTimeLog": [
      {
        "duration": 51,
        "start_time": "2023-04-14T14:52:31.463Z"
      },
      {
        "duration": 0,
        "start_time": "2023-04-14T14:52:31.516Z"
      },
      {
        "duration": 0,
        "start_time": "2023-04-14T14:52:31.518Z"
      },
      {
        "duration": 0,
        "start_time": "2023-04-14T14:52:31.519Z"
      },
      {
        "duration": 0,
        "start_time": "2023-04-14T14:52:31.521Z"
      },
      {
        "duration": 0,
        "start_time": "2023-04-14T14:52:31.522Z"
      },
      {
        "duration": 0,
        "start_time": "2023-04-14T14:52:31.523Z"
      },
      {
        "duration": 0,
        "start_time": "2023-04-14T14:52:31.524Z"
      },
      {
        "duration": 0,
        "start_time": "2023-04-14T14:52:31.525Z"
      },
      {
        "duration": 0,
        "start_time": "2023-04-14T14:52:31.526Z"
      },
      {
        "duration": 0,
        "start_time": "2023-04-14T14:52:31.534Z"
      },
      {
        "duration": 0,
        "start_time": "2023-04-14T14:52:31.535Z"
      },
      {
        "duration": 0,
        "start_time": "2023-04-14T14:52:31.536Z"
      },
      {
        "duration": 0,
        "start_time": "2023-04-14T14:52:31.537Z"
      },
      {
        "duration": 0,
        "start_time": "2023-04-14T14:52:31.538Z"
      },
      {
        "duration": 0,
        "start_time": "2023-04-14T14:52:31.539Z"
      },
      {
        "duration": 0,
        "start_time": "2023-04-14T14:52:31.540Z"
      },
      {
        "duration": 0,
        "start_time": "2023-04-14T14:52:31.541Z"
      },
      {
        "duration": 0,
        "start_time": "2023-04-14T14:52:31.542Z"
      },
      {
        "duration": 0,
        "start_time": "2023-04-14T14:52:31.545Z"
      },
      {
        "duration": 0,
        "start_time": "2023-04-14T14:52:31.546Z"
      },
      {
        "duration": 0,
        "start_time": "2023-04-14T14:52:31.548Z"
      },
      {
        "duration": 0,
        "start_time": "2023-04-14T14:52:31.549Z"
      },
      {
        "duration": 0,
        "start_time": "2023-04-14T14:52:31.550Z"
      },
      {
        "duration": 0,
        "start_time": "2023-04-14T14:52:31.552Z"
      },
      {
        "duration": 0,
        "start_time": "2023-04-14T14:52:31.553Z"
      },
      {
        "duration": 0,
        "start_time": "2023-04-14T14:52:31.555Z"
      },
      {
        "duration": 0,
        "start_time": "2023-04-14T14:52:31.556Z"
      },
      {
        "duration": 0,
        "start_time": "2023-04-14T14:52:31.557Z"
      },
      {
        "duration": 1,
        "start_time": "2023-04-14T14:52:31.558Z"
      },
      {
        "duration": 0,
        "start_time": "2023-04-14T14:52:31.560Z"
      },
      {
        "duration": 71,
        "start_time": "2023-04-14T14:52:31.566Z"
      },
      {
        "duration": 0,
        "start_time": "2023-04-14T14:52:31.640Z"
      },
      {
        "duration": 0,
        "start_time": "2023-04-14T14:52:31.641Z"
      },
      {
        "duration": 0,
        "start_time": "2023-04-14T14:52:31.643Z"
      },
      {
        "duration": 0,
        "start_time": "2023-04-14T14:52:31.644Z"
      },
      {
        "duration": 0,
        "start_time": "2023-04-14T14:52:31.645Z"
      },
      {
        "duration": 0,
        "start_time": "2023-04-14T14:52:31.646Z"
      },
      {
        "duration": 0,
        "start_time": "2023-04-14T14:52:31.647Z"
      },
      {
        "duration": 1,
        "start_time": "2023-04-14T14:52:31.648Z"
      },
      {
        "duration": 0,
        "start_time": "2023-04-14T14:52:31.649Z"
      },
      {
        "duration": 0,
        "start_time": "2023-04-14T14:52:31.651Z"
      },
      {
        "duration": 0,
        "start_time": "2023-04-14T14:52:31.652Z"
      },
      {
        "duration": 0,
        "start_time": "2023-04-14T14:52:31.653Z"
      },
      {
        "duration": 0,
        "start_time": "2023-04-14T14:52:31.654Z"
      },
      {
        "duration": 0,
        "start_time": "2023-04-14T14:52:31.656Z"
      },
      {
        "duration": 0,
        "start_time": "2023-04-14T14:52:31.657Z"
      },
      {
        "duration": 0,
        "start_time": "2023-04-14T14:52:31.658Z"
      },
      {
        "duration": 0,
        "start_time": "2023-04-14T14:52:31.659Z"
      },
      {
        "duration": 0,
        "start_time": "2023-04-14T14:52:31.660Z"
      },
      {
        "duration": 0,
        "start_time": "2023-04-14T14:52:31.661Z"
      },
      {
        "duration": 0,
        "start_time": "2023-04-14T14:52:31.662Z"
      },
      {
        "duration": 0,
        "start_time": "2023-04-14T14:52:31.663Z"
      },
      {
        "duration": 0,
        "start_time": "2023-04-14T14:52:31.664Z"
      },
      {
        "duration": 0,
        "start_time": "2023-04-14T14:52:31.665Z"
      },
      {
        "duration": 0,
        "start_time": "2023-04-14T14:52:31.666Z"
      },
      {
        "duration": 0,
        "start_time": "2023-04-14T14:52:31.667Z"
      },
      {
        "duration": 0,
        "start_time": "2023-04-14T14:52:31.668Z"
      },
      {
        "duration": 0,
        "start_time": "2023-04-14T14:52:31.669Z"
      },
      {
        "duration": 0,
        "start_time": "2023-04-14T14:52:31.670Z"
      },
      {
        "duration": 0,
        "start_time": "2023-04-14T14:52:31.671Z"
      },
      {
        "duration": 0,
        "start_time": "2023-04-14T14:52:31.672Z"
      },
      {
        "duration": 0,
        "start_time": "2023-04-14T14:52:31.672Z"
      },
      {
        "duration": 1676,
        "start_time": "2023-04-14T14:53:11.996Z"
      },
      {
        "duration": 0,
        "start_time": "2023-04-14T14:53:13.676Z"
      },
      {
        "duration": 0,
        "start_time": "2023-04-14T14:53:13.677Z"
      },
      {
        "duration": 0,
        "start_time": "2023-04-14T14:53:13.679Z"
      },
      {
        "duration": 0,
        "start_time": "2023-04-14T14:53:13.680Z"
      },
      {
        "duration": 0,
        "start_time": "2023-04-14T14:53:13.680Z"
      },
      {
        "duration": 0,
        "start_time": "2023-04-14T14:53:13.681Z"
      },
      {
        "duration": 1,
        "start_time": "2023-04-14T14:53:13.682Z"
      },
      {
        "duration": 0,
        "start_time": "2023-04-14T14:53:13.684Z"
      },
      {
        "duration": 0,
        "start_time": "2023-04-14T14:53:13.684Z"
      },
      {
        "duration": 0,
        "start_time": "2023-04-14T14:53:13.685Z"
      },
      {
        "duration": 0,
        "start_time": "2023-04-14T14:53:13.686Z"
      },
      {
        "duration": 0,
        "start_time": "2023-04-14T14:53:13.687Z"
      },
      {
        "duration": 0,
        "start_time": "2023-04-14T14:53:13.689Z"
      },
      {
        "duration": 0,
        "start_time": "2023-04-14T14:53:13.690Z"
      },
      {
        "duration": 0,
        "start_time": "2023-04-14T14:53:13.691Z"
      },
      {
        "duration": 0,
        "start_time": "2023-04-14T14:53:13.692Z"
      },
      {
        "duration": 0,
        "start_time": "2023-04-14T14:53:13.693Z"
      },
      {
        "duration": 0,
        "start_time": "2023-04-14T14:53:13.694Z"
      },
      {
        "duration": 0,
        "start_time": "2023-04-14T14:53:13.695Z"
      },
      {
        "duration": 0,
        "start_time": "2023-04-14T14:53:13.696Z"
      },
      {
        "duration": 0,
        "start_time": "2023-04-14T14:53:13.696Z"
      },
      {
        "duration": 0,
        "start_time": "2023-04-14T14:53:13.697Z"
      },
      {
        "duration": 0,
        "start_time": "2023-04-14T14:53:13.734Z"
      },
      {
        "duration": 0,
        "start_time": "2023-04-14T14:53:13.735Z"
      },
      {
        "duration": 0,
        "start_time": "2023-04-14T14:53:13.736Z"
      },
      {
        "duration": 0,
        "start_time": "2023-04-14T14:53:13.737Z"
      },
      {
        "duration": 0,
        "start_time": "2023-04-14T14:53:13.738Z"
      },
      {
        "duration": 0,
        "start_time": "2023-04-14T14:53:13.739Z"
      },
      {
        "duration": 0,
        "start_time": "2023-04-14T14:53:13.741Z"
      },
      {
        "duration": 0,
        "start_time": "2023-04-14T14:53:13.742Z"
      },
      {
        "duration": 0,
        "start_time": "2023-04-14T14:53:13.743Z"
      },
      {
        "duration": 0,
        "start_time": "2023-04-14T14:53:13.744Z"
      },
      {
        "duration": 0,
        "start_time": "2023-04-14T14:53:13.745Z"
      },
      {
        "duration": 0,
        "start_time": "2023-04-14T14:53:13.747Z"
      },
      {
        "duration": 0,
        "start_time": "2023-04-14T14:53:13.748Z"
      },
      {
        "duration": 0,
        "start_time": "2023-04-14T14:53:13.749Z"
      },
      {
        "duration": 0,
        "start_time": "2023-04-14T14:53:13.750Z"
      },
      {
        "duration": 0,
        "start_time": "2023-04-14T14:53:13.751Z"
      },
      {
        "duration": 0,
        "start_time": "2023-04-14T14:53:13.752Z"
      },
      {
        "duration": 0,
        "start_time": "2023-04-14T14:53:13.754Z"
      },
      {
        "duration": 0,
        "start_time": "2023-04-14T14:53:13.755Z"
      },
      {
        "duration": 0,
        "start_time": "2023-04-14T14:53:13.756Z"
      },
      {
        "duration": 0,
        "start_time": "2023-04-14T14:53:13.757Z"
      },
      {
        "duration": 0,
        "start_time": "2023-04-14T14:53:13.758Z"
      },
      {
        "duration": 0,
        "start_time": "2023-04-14T14:53:13.759Z"
      },
      {
        "duration": 0,
        "start_time": "2023-04-14T14:53:13.760Z"
      },
      {
        "duration": 0,
        "start_time": "2023-04-14T14:53:13.761Z"
      },
      {
        "duration": 0,
        "start_time": "2023-04-14T14:53:13.762Z"
      },
      {
        "duration": 0,
        "start_time": "2023-04-14T14:53:13.763Z"
      },
      {
        "duration": 0,
        "start_time": "2023-04-14T14:53:13.764Z"
      },
      {
        "duration": 0,
        "start_time": "2023-04-14T14:53:13.765Z"
      },
      {
        "duration": 0,
        "start_time": "2023-04-14T14:53:13.766Z"
      },
      {
        "duration": 0,
        "start_time": "2023-04-14T14:53:13.767Z"
      },
      {
        "duration": 0,
        "start_time": "2023-04-14T14:53:13.768Z"
      },
      {
        "duration": 0,
        "start_time": "2023-04-14T14:53:13.769Z"
      },
      {
        "duration": 0,
        "start_time": "2023-04-14T14:53:13.770Z"
      },
      {
        "duration": 0,
        "start_time": "2023-04-14T14:53:13.771Z"
      },
      {
        "duration": 0,
        "start_time": "2023-04-14T14:53:13.835Z"
      },
      {
        "duration": 0,
        "start_time": "2023-04-14T14:53:13.836Z"
      },
      {
        "duration": 0,
        "start_time": "2023-04-14T14:53:13.837Z"
      },
      {
        "duration": 0,
        "start_time": "2023-04-14T14:53:13.838Z"
      },
      {
        "duration": 2883,
        "start_time": "2023-04-14T14:53:46.319Z"
      },
      {
        "duration": 3850,
        "start_time": "2023-04-14T14:53:59.411Z"
      },
      {
        "duration": 3,
        "start_time": "2023-04-14T14:54:03.263Z"
      },
      {
        "duration": 2957,
        "start_time": "2023-04-14T14:54:03.267Z"
      },
      {
        "duration": 3,
        "start_time": "2023-04-14T14:54:06.225Z"
      },
      {
        "duration": 30,
        "start_time": "2023-04-14T14:54:06.230Z"
      },
      {
        "duration": 502,
        "start_time": "2023-04-14T14:54:06.262Z"
      },
      {
        "duration": 196,
        "start_time": "2023-04-14T14:54:06.765Z"
      },
      {
        "duration": 440,
        "start_time": "2023-04-14T14:54:06.963Z"
      },
      {
        "duration": 3,
        "start_time": "2023-04-14T14:54:07.404Z"
      },
      {
        "duration": 20,
        "start_time": "2023-04-14T14:54:07.408Z"
      },
      {
        "duration": 9,
        "start_time": "2023-04-14T14:54:07.435Z"
      },
      {
        "duration": 42,
        "start_time": "2023-04-14T14:54:07.446Z"
      },
      {
        "duration": 18,
        "start_time": "2023-04-14T14:54:07.490Z"
      },
      {
        "duration": 67,
        "start_time": "2023-04-14T14:54:07.510Z"
      },
      {
        "duration": 16,
        "start_time": "2023-04-14T14:54:07.579Z"
      },
      {
        "duration": 38,
        "start_time": "2023-04-14T14:54:07.597Z"
      },
      {
        "duration": 21,
        "start_time": "2023-04-14T14:54:07.636Z"
      },
      {
        "duration": 17,
        "start_time": "2023-04-14T14:54:07.659Z"
      },
      {
        "duration": 21,
        "start_time": "2023-04-14T14:54:07.677Z"
      },
      {
        "duration": 19,
        "start_time": "2023-04-14T14:54:07.699Z"
      },
      {
        "duration": 7,
        "start_time": "2023-04-14T14:54:07.719Z"
      },
      {
        "duration": 13,
        "start_time": "2023-04-14T14:54:07.728Z"
      },
      {
        "duration": 14,
        "start_time": "2023-04-14T14:54:07.742Z"
      },
      {
        "duration": 26,
        "start_time": "2023-04-14T14:54:07.757Z"
      },
      {
        "duration": 14,
        "start_time": "2023-04-14T14:54:07.785Z"
      },
      {
        "duration": 11064,
        "start_time": "2023-04-14T14:54:07.800Z"
      },
      {
        "duration": 8,
        "start_time": "2023-04-14T14:54:18.865Z"
      },
      {
        "duration": 26,
        "start_time": "2023-04-14T14:54:18.874Z"
      },
      {
        "duration": 71,
        "start_time": "2023-04-14T14:54:18.901Z"
      },
      {
        "duration": 551,
        "start_time": "2023-04-14T14:54:18.973Z"
      },
      {
        "duration": 13,
        "start_time": "2023-04-14T14:54:19.525Z"
      },
      {
        "duration": 1776,
        "start_time": "2023-04-14T14:54:19.540Z"
      },
      {
        "duration": 288,
        "start_time": "2023-04-14T14:54:21.318Z"
      },
      {
        "duration": 230,
        "start_time": "2023-04-14T14:54:21.607Z"
      },
      {
        "duration": 211,
        "start_time": "2023-04-14T14:54:21.838Z"
      },
      {
        "duration": 212,
        "start_time": "2023-04-14T14:54:22.051Z"
      },
      {
        "duration": 4,
        "start_time": "2023-04-14T14:54:22.264Z"
      },
      {
        "duration": 235,
        "start_time": "2023-04-14T14:54:22.270Z"
      },
      {
        "duration": 8,
        "start_time": "2023-04-14T14:54:22.506Z"
      },
      {
        "duration": 24,
        "start_time": "2023-04-14T14:54:22.515Z"
      },
      {
        "duration": 785,
        "start_time": "2023-04-14T14:54:22.542Z"
      },
      {
        "duration": 8,
        "start_time": "2023-04-14T14:54:23.328Z"
      },
      {
        "duration": 15,
        "start_time": "2023-04-14T14:54:23.337Z"
      },
      {
        "duration": 25,
        "start_time": "2023-04-14T14:54:23.354Z"
      },
      {
        "duration": 28,
        "start_time": "2023-04-14T14:54:23.380Z"
      },
      {
        "duration": 8,
        "start_time": "2023-04-14T14:54:23.410Z"
      },
      {
        "duration": 17,
        "start_time": "2023-04-14T14:54:23.419Z"
      },
      {
        "duration": 18,
        "start_time": "2023-04-14T14:54:23.438Z"
      },
      {
        "duration": 2617,
        "start_time": "2023-04-14T14:54:23.458Z"
      },
      {
        "duration": 3699,
        "start_time": "2023-04-14T14:54:26.077Z"
      },
      {
        "duration": 82316,
        "start_time": "2023-04-14T14:54:29.777Z"
      },
      {
        "duration": 209465,
        "start_time": "2023-04-14T14:55:52.094Z"
      },
      {
        "duration": 8339,
        "start_time": "2023-04-14T14:59:21.560Z"
      },
      {
        "duration": 11187,
        "start_time": "2023-04-14T14:59:29.901Z"
      },
      {
        "duration": 64311,
        "start_time": "2023-04-14T14:59:41.089Z"
      },
      {
        "duration": 79635,
        "start_time": "2023-04-14T15:00:45.401Z"
      },
      {
        "duration": 4,
        "start_time": "2023-04-14T15:02:05.038Z"
      },
      {
        "duration": 391,
        "start_time": "2023-04-14T15:02:05.044Z"
      },
      {
        "duration": 119,
        "start_time": "2023-04-14T15:02:05.439Z"
      },
      {
        "duration": 31,
        "start_time": "2023-04-14T15:02:05.559Z"
      },
      {
        "duration": 14,
        "start_time": "2023-04-14T15:02:05.592Z"
      },
      {
        "duration": 28,
        "start_time": "2023-04-14T15:02:05.608Z"
      },
      {
        "duration": 2157,
        "start_time": "2023-04-14T15:06:23.922Z"
      },
      {
        "duration": 3644,
        "start_time": "2023-04-14T15:07:42.563Z"
      },
      {
        "duration": 3,
        "start_time": "2023-04-14T15:07:46.209Z"
      },
      {
        "duration": 713,
        "start_time": "2023-04-14T15:07:46.213Z"
      },
      {
        "duration": 6,
        "start_time": "2023-04-14T15:07:46.928Z"
      },
      {
        "duration": 8,
        "start_time": "2023-04-14T15:07:46.936Z"
      },
      {
        "duration": 498,
        "start_time": "2023-04-14T15:07:46.945Z"
      },
      {
        "duration": 194,
        "start_time": "2023-04-14T15:07:47.444Z"
      },
      {
        "duration": 452,
        "start_time": "2023-04-14T15:07:47.640Z"
      },
      {
        "duration": 3,
        "start_time": "2023-04-14T15:07:48.094Z"
      },
      {
        "duration": 17,
        "start_time": "2023-04-14T15:07:48.100Z"
      },
      {
        "duration": 6,
        "start_time": "2023-04-14T15:07:48.118Z"
      },
      {
        "duration": 12,
        "start_time": "2023-04-14T15:07:48.134Z"
      },
      {
        "duration": 11,
        "start_time": "2023-04-14T15:07:48.147Z"
      },
      {
        "duration": 54,
        "start_time": "2023-04-14T15:07:48.159Z"
      },
      {
        "duration": 24,
        "start_time": "2023-04-14T15:07:48.214Z"
      },
      {
        "duration": 18,
        "start_time": "2023-04-14T15:07:48.240Z"
      },
      {
        "duration": 9,
        "start_time": "2023-04-14T15:07:48.259Z"
      },
      {
        "duration": 11,
        "start_time": "2023-04-14T15:07:48.269Z"
      },
      {
        "duration": 11,
        "start_time": "2023-04-14T15:07:48.281Z"
      },
      {
        "duration": 7,
        "start_time": "2023-04-14T15:07:48.294Z"
      },
      {
        "duration": 6,
        "start_time": "2023-04-14T15:07:48.302Z"
      },
      {
        "duration": 4,
        "start_time": "2023-04-14T15:07:48.309Z"
      },
      {
        "duration": 21,
        "start_time": "2023-04-14T15:07:48.315Z"
      },
      {
        "duration": 13,
        "start_time": "2023-04-14T15:07:48.338Z"
      },
      {
        "duration": 5,
        "start_time": "2023-04-14T15:07:48.353Z"
      },
      {
        "duration": 10410,
        "start_time": "2023-04-14T15:07:48.360Z"
      },
      {
        "duration": 8,
        "start_time": "2023-04-14T15:07:58.772Z"
      },
      {
        "duration": 25,
        "start_time": "2023-04-14T15:07:58.783Z"
      },
      {
        "duration": 52,
        "start_time": "2023-04-14T15:07:58.810Z"
      },
      {
        "duration": 600,
        "start_time": "2023-04-14T15:07:58.864Z"
      },
      {
        "duration": 14,
        "start_time": "2023-04-14T15:07:59.466Z"
      },
      {
        "duration": 1863,
        "start_time": "2023-04-14T15:07:59.482Z"
      },
      {
        "duration": 301,
        "start_time": "2023-04-14T15:08:01.347Z"
      },
      {
        "duration": 246,
        "start_time": "2023-04-14T15:08:01.650Z"
      },
      {
        "duration": 251,
        "start_time": "2023-04-14T15:08:01.898Z"
      },
      {
        "duration": 229,
        "start_time": "2023-04-14T15:08:02.151Z"
      },
      {
        "duration": 5,
        "start_time": "2023-04-14T15:08:02.382Z"
      },
      {
        "duration": 277,
        "start_time": "2023-04-14T15:08:02.389Z"
      },
      {
        "duration": 8,
        "start_time": "2023-04-14T15:08:02.668Z"
      },
      {
        "duration": 19,
        "start_time": "2023-04-14T15:08:02.677Z"
      },
      {
        "duration": 848,
        "start_time": "2023-04-14T15:08:02.697Z"
      },
      {
        "duration": 3,
        "start_time": "2023-04-14T15:08:03.546Z"
      },
      {
        "duration": 85,
        "start_time": "2023-04-14T15:08:03.551Z"
      },
      {
        "duration": 23,
        "start_time": "2023-04-14T15:08:03.638Z"
      },
      {
        "duration": 29,
        "start_time": "2023-04-14T15:08:03.662Z"
      },
      {
        "duration": 9,
        "start_time": "2023-04-14T15:08:03.692Z"
      },
      {
        "duration": 28,
        "start_time": "2023-04-14T15:08:03.702Z"
      },
      {
        "duration": 18,
        "start_time": "2023-04-14T15:08:03.731Z"
      },
      {
        "duration": 2638,
        "start_time": "2023-04-14T15:08:03.750Z"
      },
      {
        "duration": 3931,
        "start_time": "2023-04-14T15:08:06.389Z"
      },
      {
        "duration": 82284,
        "start_time": "2023-04-14T15:08:10.322Z"
      },
      {
        "duration": 213538,
        "start_time": "2023-04-14T15:09:32.608Z"
      },
      {
        "duration": 7594,
        "start_time": "2023-04-14T15:13:06.148Z"
      },
      {
        "duration": 11253,
        "start_time": "2023-04-14T15:13:13.744Z"
      },
      {
        "duration": 64187,
        "start_time": "2023-04-14T15:13:24.998Z"
      },
      {
        "duration": 78481,
        "start_time": "2023-04-14T15:14:29.186Z"
      },
      {
        "duration": 5,
        "start_time": "2023-04-14T15:15:47.669Z"
      },
      {
        "duration": 370,
        "start_time": "2023-04-14T15:15:47.675Z"
      },
      {
        "duration": 117,
        "start_time": "2023-04-14T15:15:48.136Z"
      },
      {
        "duration": 13,
        "start_time": "2023-04-14T15:15:48.255Z"
      },
      {
        "duration": 16,
        "start_time": "2023-04-14T15:15:48.269Z"
      },
      {
        "duration": 13,
        "start_time": "2023-04-14T15:15:48.287Z"
      },
      {
        "duration": 5,
        "start_time": "2023-04-14T15:25:35.842Z"
      },
      {
        "duration": 20,
        "start_time": "2023-04-15T14:22:38.061Z"
      },
      {
        "duration": 209,
        "start_time": "2023-04-15T14:23:55.508Z"
      },
      {
        "duration": 12,
        "start_time": "2023-04-15T14:23:58.306Z"
      },
      {
        "duration": 16,
        "start_time": "2023-04-15T14:24:16.573Z"
      },
      {
        "duration": 36,
        "start_time": "2023-04-15T14:30:15.298Z"
      },
      {
        "duration": 16,
        "start_time": "2023-04-15T14:41:47.716Z"
      },
      {
        "duration": 12,
        "start_time": "2023-04-15T14:41:54.024Z"
      },
      {
        "duration": 11,
        "start_time": "2023-04-15T14:42:10.705Z"
      },
      {
        "duration": 50,
        "start_time": "2023-04-15T15:02:07.498Z"
      },
      {
        "duration": 5109,
        "start_time": "2023-04-15T15:02:16.585Z"
      },
      {
        "duration": 2,
        "start_time": "2023-04-15T15:02:21.697Z"
      },
      {
        "duration": 3979,
        "start_time": "2023-04-15T15:02:21.701Z"
      },
      {
        "duration": 3,
        "start_time": "2023-04-15T15:02:25.682Z"
      },
      {
        "duration": 20,
        "start_time": "2023-04-15T15:02:25.688Z"
      },
      {
        "duration": 614,
        "start_time": "2023-04-15T15:02:25.710Z"
      },
      {
        "duration": 258,
        "start_time": "2023-04-15T15:02:26.326Z"
      },
      {
        "duration": 578,
        "start_time": "2023-04-15T15:02:26.586Z"
      },
      {
        "duration": 3,
        "start_time": "2023-04-15T15:02:27.166Z"
      },
      {
        "duration": 47,
        "start_time": "2023-04-15T15:02:27.171Z"
      },
      {
        "duration": 13,
        "start_time": "2023-04-15T15:02:27.220Z"
      },
      {
        "duration": 48,
        "start_time": "2023-04-15T15:02:27.235Z"
      },
      {
        "duration": 6,
        "start_time": "2023-04-15T15:02:27.285Z"
      },
      {
        "duration": 54,
        "start_time": "2023-04-15T15:02:27.295Z"
      },
      {
        "duration": 45,
        "start_time": "2023-04-15T15:02:27.351Z"
      },
      {
        "duration": 29,
        "start_time": "2023-04-15T15:02:27.398Z"
      },
      {
        "duration": 45,
        "start_time": "2023-04-15T15:02:27.429Z"
      },
      {
        "duration": 8,
        "start_time": "2023-04-15T15:02:27.476Z"
      },
      {
        "duration": 8,
        "start_time": "2023-04-15T15:02:27.486Z"
      },
      {
        "duration": 9,
        "start_time": "2023-04-15T15:02:27.496Z"
      },
      {
        "duration": 8,
        "start_time": "2023-04-15T15:02:27.506Z"
      },
      {
        "duration": 6,
        "start_time": "2023-04-15T15:02:27.516Z"
      },
      {
        "duration": 7,
        "start_time": "2023-04-15T15:02:27.524Z"
      },
      {
        "duration": 39,
        "start_time": "2023-04-15T15:02:27.533Z"
      },
      {
        "duration": 7,
        "start_time": "2023-04-15T15:02:27.574Z"
      },
      {
        "duration": 18893,
        "start_time": "2023-04-15T15:02:27.583Z"
      },
      {
        "duration": 9,
        "start_time": "2023-04-15T15:02:46.478Z"
      },
      {
        "duration": 12,
        "start_time": "2023-04-15T15:02:46.488Z"
      },
      {
        "duration": 94,
        "start_time": "2023-04-15T15:02:46.501Z"
      },
      {
        "duration": 864,
        "start_time": "2023-04-15T15:02:46.597Z"
      },
      {
        "duration": 14,
        "start_time": "2023-04-15T15:02:47.464Z"
      },
      {
        "duration": 1806,
        "start_time": "2023-04-15T15:02:47.480Z"
      },
      {
        "duration": 283,
        "start_time": "2023-04-15T15:02:49.288Z"
      },
      {
        "duration": 266,
        "start_time": "2023-04-15T15:02:49.573Z"
      },
      {
        "duration": 246,
        "start_time": "2023-04-15T15:02:49.843Z"
      },
      {
        "duration": 252,
        "start_time": "2023-04-15T15:02:50.091Z"
      },
      {
        "duration": 8,
        "start_time": "2023-04-15T15:02:50.351Z"
      },
      {
        "duration": 263,
        "start_time": "2023-04-15T15:02:50.364Z"
      },
      {
        "duration": 17,
        "start_time": "2023-04-15T15:02:50.629Z"
      },
      {
        "duration": 35,
        "start_time": "2023-04-15T15:02:50.648Z"
      },
      {
        "duration": 953,
        "start_time": "2023-04-15T15:02:50.687Z"
      },
      {
        "duration": 5,
        "start_time": "2023-04-15T15:02:51.642Z"
      },
      {
        "duration": 9,
        "start_time": "2023-04-15T15:02:51.649Z"
      },
      {
        "duration": 29,
        "start_time": "2023-04-15T15:02:51.668Z"
      },
      {
        "duration": 27,
        "start_time": "2023-04-15T15:02:51.699Z"
      },
      {
        "duration": 38,
        "start_time": "2023-04-15T15:02:51.728Z"
      },
      {
        "duration": 5,
        "start_time": "2023-04-15T15:11:14.977Z"
      },
      {
        "duration": 9,
        "start_time": "2023-04-15T15:12:04.961Z"
      },
      {
        "duration": 146,
        "start_time": "2023-04-15T15:20:27.290Z"
      },
      {
        "duration": 4565,
        "start_time": "2023-04-15T15:21:24.740Z"
      },
      {
        "duration": 4,
        "start_time": "2023-04-15T15:21:29.308Z"
      },
      {
        "duration": 893,
        "start_time": "2023-04-15T15:21:29.314Z"
      },
      {
        "duration": 4,
        "start_time": "2023-04-15T15:21:30.209Z"
      },
      {
        "duration": 17,
        "start_time": "2023-04-15T15:21:30.216Z"
      },
      {
        "duration": 619,
        "start_time": "2023-04-15T15:21:30.234Z"
      },
      {
        "duration": 270,
        "start_time": "2023-04-15T15:21:30.855Z"
      },
      {
        "duration": 550,
        "start_time": "2023-04-15T15:21:31.127Z"
      },
      {
        "duration": 3,
        "start_time": "2023-04-15T15:21:31.679Z"
      },
      {
        "duration": 28,
        "start_time": "2023-04-15T15:21:31.683Z"
      },
      {
        "duration": 7,
        "start_time": "2023-04-15T15:21:31.713Z"
      },
      {
        "duration": 23,
        "start_time": "2023-04-15T15:21:31.721Z"
      },
      {
        "duration": 31,
        "start_time": "2023-04-15T15:21:31.747Z"
      },
      {
        "duration": 26,
        "start_time": "2023-04-15T15:21:31.782Z"
      },
      {
        "duration": 18,
        "start_time": "2023-04-15T15:21:31.810Z"
      },
      {
        "duration": 63,
        "start_time": "2023-04-15T15:21:31.830Z"
      },
      {
        "duration": 8,
        "start_time": "2023-04-15T15:21:31.895Z"
      },
      {
        "duration": 17,
        "start_time": "2023-04-15T15:21:31.904Z"
      },
      {
        "duration": 7,
        "start_time": "2023-04-15T15:21:31.923Z"
      },
      {
        "duration": 36,
        "start_time": "2023-04-15T15:21:31.932Z"
      },
      {
        "duration": 22,
        "start_time": "2023-04-15T15:21:31.970Z"
      },
      {
        "duration": 11,
        "start_time": "2023-04-15T15:21:31.994Z"
      },
      {
        "duration": 19,
        "start_time": "2023-04-15T15:21:32.006Z"
      },
      {
        "duration": 43,
        "start_time": "2023-04-15T15:21:32.026Z"
      },
      {
        "duration": 22,
        "start_time": "2023-04-15T15:21:32.071Z"
      },
      {
        "duration": 22544,
        "start_time": "2023-04-15T15:21:32.094Z"
      },
      {
        "duration": 12,
        "start_time": "2023-04-15T15:21:54.639Z"
      },
      {
        "duration": 33,
        "start_time": "2023-04-15T15:21:54.654Z"
      },
      {
        "duration": 93,
        "start_time": "2023-04-15T15:21:54.692Z"
      },
      {
        "duration": 981,
        "start_time": "2023-04-15T15:21:54.788Z"
      },
      {
        "duration": 20,
        "start_time": "2023-04-15T15:21:55.771Z"
      },
      {
        "duration": 2366,
        "start_time": "2023-04-15T15:21:55.795Z"
      },
      {
        "duration": 287,
        "start_time": "2023-04-15T15:21:58.164Z"
      },
      {
        "duration": 300,
        "start_time": "2023-04-15T15:21:58.453Z"
      },
      {
        "duration": 279,
        "start_time": "2023-04-15T15:21:58.755Z"
      },
      {
        "duration": 277,
        "start_time": "2023-04-15T15:21:59.037Z"
      },
      {
        "duration": 4,
        "start_time": "2023-04-15T15:21:59.316Z"
      },
      {
        "duration": 307,
        "start_time": "2023-04-15T15:21:59.322Z"
      },
      {
        "duration": 9,
        "start_time": "2023-04-15T15:21:59.631Z"
      },
      {
        "duration": 60,
        "start_time": "2023-04-15T15:21:59.641Z"
      },
      {
        "duration": 1158,
        "start_time": "2023-04-15T15:21:59.705Z"
      },
      {
        "duration": 6,
        "start_time": "2023-04-15T15:22:00.865Z"
      },
      {
        "duration": 45,
        "start_time": "2023-04-15T15:22:00.885Z"
      },
      {
        "duration": 107,
        "start_time": "2023-04-15T15:22:00.931Z"
      },
      {
        "duration": 62,
        "start_time": "2023-04-15T15:22:01.040Z"
      },
      {
        "duration": 26,
        "start_time": "2023-04-15T15:22:01.104Z"
      },
      {
        "duration": 85,
        "start_time": "2023-04-15T15:22:01.132Z"
      },
      {
        "duration": 93,
        "start_time": "2023-04-15T15:22:01.220Z"
      },
      {
        "duration": 86,
        "start_time": "2023-04-15T15:22:01.315Z"
      },
      {
        "duration": 57,
        "start_time": "2023-04-15T15:22:01.403Z"
      },
      {
        "duration": 3381,
        "start_time": "2023-04-15T15:22:01.472Z"
      },
      {
        "duration": 6190,
        "start_time": "2023-04-15T15:22:04.855Z"
      },
      {
        "duration": 98004,
        "start_time": "2023-04-15T15:22:11.047Z"
      },
      {
        "duration": 224030,
        "start_time": "2023-04-15T15:23:49.057Z"
      },
      {
        "duration": 7193,
        "start_time": "2023-04-15T15:27:33.089Z"
      },
      {
        "duration": 10508,
        "start_time": "2023-04-15T15:27:40.283Z"
      },
      {
        "duration": 63892,
        "start_time": "2023-04-15T15:27:50.792Z"
      },
      {
        "duration": 78505,
        "start_time": "2023-04-15T15:28:54.686Z"
      },
      {
        "duration": 5,
        "start_time": "2023-04-15T15:30:13.193Z"
      },
      {
        "duration": 55,
        "start_time": "2023-04-15T15:30:13.201Z"
      },
      {
        "duration": 41,
        "start_time": "2023-04-15T15:30:13.258Z"
      },
      {
        "duration": 65,
        "start_time": "2023-04-15T15:30:13.301Z"
      },
      {
        "duration": 21,
        "start_time": "2023-04-15T15:30:13.368Z"
      },
      {
        "duration": 15,
        "start_time": "2023-04-15T15:30:13.390Z"
      },
      {
        "duration": 12,
        "start_time": "2023-04-15T15:30:13.407Z"
      },
      {
        "duration": 57,
        "start_time": "2023-04-15T15:33:02.069Z"
      }
    ],
    "colab": {
      "provenance": []
    },
    "kernelspec": {
      "display_name": "Python 3 (ipykernel)",
      "language": "python",
      "name": "python3"
    },
    "language_info": {
      "codemirror_mode": {
        "name": "ipython",
        "version": 3
      },
      "file_extension": ".py",
      "mimetype": "text/x-python",
      "name": "python",
      "nbconvert_exporter": "python",
      "pygments_lexer": "ipython3",
      "version": "3.9.5"
    },
    "toc": {
      "base_numbering": 1,
      "nav_menu": {},
      "number_sections": true,
      "sideBar": true,
      "skip_h1_title": true,
      "title_cell": "Содержание",
      "title_sidebar": "Contents",
      "toc_cell": true,
      "toc_position": {
        "height": "calc(100% - 180px)",
        "left": "10px",
        "top": "150px",
        "width": "165px"
      },
      "toc_section_display": true,
      "toc_window_display": true
    }
  },
  "nbformat": 4,
  "nbformat_minor": 0
}
